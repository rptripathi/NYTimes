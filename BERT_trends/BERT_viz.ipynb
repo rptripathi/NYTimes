{
 "cells": [
  {
   "cell_type": "code",
   "execution_count": 1,
   "metadata": {},
   "outputs": [],
   "source": [
    "# Import some common libraries\n",
    "import pandas as pd\n",
    "from bertopic import BERTopic\n",
    "# Load the model\n",
    "model = BERTopic.load(\"model_dir\")\n",
    "# Load the dataframe\n",
    "df = pd.read_csv('reduced_df.csv')\n",
    "# Load the docs\n",
    "docs = pd.read_csv('docs.csv')\n",
    "docs_list = docs['cleaned_docs'].tolist()\n",
    "docs_list = [str(doc) if not isinstance(doc, str) else doc for doc in docs_list]\n",
    "# Load the timestamps\n",
    "timestamps = df.pub_date.to_list()\n",
    "# Load the labels\n",
    "with open(\"short_ollama_labels.txt\", \"r\") as file:\n",
    "    ollama_labels = file.read().splitlines()\n",
    "# Set the topic labels from Ollama in the model\n",
    "topic_dict = dict(zip(model.get_topic_info().Topic, ollama_labels))\n",
    "model.set_topic_labels(topic_dict)\n",
    "# Load the topics_over_time data from the CSV file\n",
    "topics_over_time_df = pd.read_csv(\"topics_over_time.csv\")"
   ]
  },
  {
   "cell_type": "code",
   "execution_count": 5,
   "metadata": {},
   "outputs": [
    {
     "data": {
      "application/vnd.plotly.v1+json": {
       "config": {
        "plotlyServerURL": "https://plot.ly"
       },
       "data": [
        {
         "hoverinfo": "text",
         "hovertext": [
          "<b>Topic 8</b><br>Words: ukraine, ukrainian, russian, counteroffensive, kyiv",
          "<b>Topic 8</b><br>Words: ukraine, fighter, russian, seizing, divert",
          "<b>Topic 8</b><br>Words: russian, ukraine, kyiv, ukrainian, assault",
          "<b>Topic 8</b><br>Words: counteroffensive, ukrainian, donetsk, ukraine, milatovic",
          "<b>Topic 8</b><br>Words: ukraine, counteroffensive, russian, ukrainian, recapture",
          "<b>Topic 8</b><br>Words: counteroffensive, kyiv, ukraine, dispense, minefield",
          "<b>Topic 8</b><br>Words: idling, gernot, addario, lynsey, ukrainian",
          "<b>Topic 8</b><br>Words: ukraine, ukrainian, troop, russian, fencer",
          "<b>Topic 8</b><br>Words: ukrainian, ukraine, counteroffensive, battlefield, russian",
          "<b>Topic 8</b><br>Words: ukraine, ukrainian, obstacle, shapovalova, shapovalov",
          "<b>Topic 8</b><br>Words: russian, ukraine, kyiv, counteroffensive, ukrainian",
          "<b>Topic 8</b><br>Words: ukraine, normality, reverted, nadia, donetsk",
          "<b>Topic 8</b><br>Words: ukraine, kupiansk, ukrainian, airfield, anticorruption",
          "<b>Topic 8</b><br>Words: ukrainian, counteroffensive, ukraine, misallocated, troop",
          "<b>Topic 8</b><br>Words: ukrainian, ukraine, russia, russian, invasion",
          "<b>Topic 8</b><br>Words: ukraine, ukrainian, russia, kyiv, invasion",
          "<b>Topic 8</b><br>Words: ukraine, mesquite, precipitated, wrench, disorganization",
          "<b>Topic 8</b><br>Words: ukraine, ukrainian, russian, mufti, klishchiivka",
          "<b>Topic 8</b><br>Words: ukrainian, ukraine, darnytsia, saki, atrophy",
          "<b>Topic 8</b><br>Words: ukraine, kyiv, russia, nonlethal, workaround",
          "<b>Topic 8</b><br>Words: annexed, ukrainian, intensifying, seize, region",
          "<b>Topic 8</b><br>Words: ukraine, initiative, ukrainian, atacms, memento",
          "<b>Topic 8</b><br>Words: nepali, bridgehead, ferocity, ukraine, lured",
          "<b>Topic 8</b><br>Words: dagestan, makhachkala, russian, avdiivka, predominantly",
          "<b>Topic 8</b><br>Words: ukrainian, refilling, hinging, infantilized, army",
          "<b>Topic 8</b><br>Words: naval, seipel, ukrainian, russian, ukraine",
          "<b>Topic 8</b><br>Words: tatar, jamala, continual, annexed, sliver",
          "<b>Topic 8</b><br>Words: revitalize, olaf, scholz, chancellor, promised",
          "<b>Topic 8</b><br>Words: dnipro, posing, battlefield, dominance, hopeful",
          "<b>Topic 8</b><br>Words: softening, outlasting, urgently, aggression, stronger",
          "<b>Topic 8</b><br>Words: ukraine, renewal, recruitment, footing, reservation",
          "<b>Topic 8</b><br>Words: ukrainian, ukraine, sneaked, azovstal, trustworthy",
          "<b>Topic 8</b><br>Words: rommel, ukraine, sahara, guerrilla, belgorod",
          "<b>Topic 8</b><br>Words: kyiv, trofimov, yaroslav, ukrainian, outnumbered",
          "<b>Topic 8</b><br>Words: megaphone, boiling, kharkiv, bombardment, serf",
          "<b>Topic 8</b><br>Words: ramic, mirza, bosnian, electronic, refuge",
          "<b>Topic 8</b><br>Words: expanse, shrubby, mikkelsen, outmanned, mads",
          "<b>Topic 8</b><br>Words: sabotaged, kyiv, zaluzhny, valery, rampant",
          "<b>Topic 8</b><br>Words: avdiivka, ukrainian, ukraine, force, encircle",
          "<b>Topic 8</b><br>Words: ukrainian, ukraine, troop, kyiv, seleznyova",
          "<b>Topic 8</b><br>Words: expend, transnistria, onslaught, acceptable, avdiivka",
          "<b>Topic 8</b><br>Words: ukraine, propagandist, pomerantsev, russian, volunteering",
          "<b>Topic 8</b><br>Words: debunk, russian, refocus, horrifying, ukraine",
          "<b>Topic 8</b><br>Words: underline, avdiivka, backer, elusive, bloc",
          "<b>Topic 8</b><br>Words: froze, tolerance, czech, circulated, battlefield",
          "<b>Topic 8</b><br>Words: ukraine, nonstarter, hunkered, exiled, admitting",
          "<b>Topic 8</b><br>Words: kiosk, replenishing, conscription, draconian, mobilizing",
          "<b>Topic 8</b><br>Words: moldova, cautionary, ignore, zone, considers",
          "<b>Topic 8</b><br>Words: atacms, ukraine, russian, ukrainian, russia",
          "<b>Topic 8</b><br>Words: ukrainian, kharkiv, stretched, ukraine, russian"
         ],
         "marker": {
          "color": "#E69F00"
         },
         "mode": "lines",
         "name": "Ukraine-Russia War",
         "type": "scatter",
         "x": [
          "2023-05-14 16:37:44.952999936+00:00",
          "2023-05-22 05:37:04.098039296+00:00",
          "2023-05-29 09:49:26.196078336+00:00",
          "2023-06-05 14:01:48.294117632+00:00",
          "2023-06-12 18:14:10.392156928+00:00",
          "2023-06-19 22:26:32.490195968+00:00",
          "2023-06-27 02:38:54.588235264+00:00",
          "2023-07-04 06:51:16.686274560+00:00",
          "2023-07-11 11:03:38.784313600+00:00",
          "2023-07-18 15:16:00.882352896+00:00",
          "2023-07-25 19:28:22.980392192+00:00",
          "2023-08-01 23:40:45.078431488+00:00",
          "2023-08-09 03:53:07.176470528+00:00",
          "2023-08-16 08:05:29.274509824+00:00",
          "2023-08-23 12:17:51.372549120+00:00",
          "2023-08-30 16:30:13.470588160+00:00",
          "2023-09-06 20:42:35.568627456+00:00",
          "2023-09-14 00:54:57.666666752+00:00",
          "2023-09-21 05:07:19.764705792+00:00",
          "2023-09-28 09:19:41.862745088+00:00",
          "2023-10-05 13:32:03.960784384+00:00",
          "2023-10-12 17:44:26.058823424+00:00",
          "2023-10-19 21:56:48.156862720+00:00",
          "2023-10-27 02:09:10.254902016+00:00",
          "2023-11-03 06:21:32.352941056+00:00",
          "2023-11-10 10:33:54.450980352+00:00",
          "2023-11-17 14:46:16.549019648+00:00",
          "2023-11-24 18:58:38.647058944+00:00",
          "2023-12-01 23:11:00.745097984+00:00",
          "2023-12-09 03:23:22.843137280+00:00",
          "2023-12-16 07:35:44.941176576+00:00",
          "2023-12-23 11:48:07.039215616+00:00",
          "2023-12-30 16:00:29.137254912+00:00",
          "2024-01-06 20:12:51.235294208+00:00",
          "2024-01-14 00:25:13.333333248+00:00",
          "2024-01-21 04:37:35.431372544+00:00",
          "2024-01-28 08:49:57.529411840+00:00",
          "2024-02-04 13:02:19.627450880+00:00",
          "2024-02-11 17:14:41.725490176+00:00",
          "2024-02-18 21:27:03.823529472+00:00",
          "2024-02-26 01:39:25.921568512+00:00",
          "2024-03-04 05:51:48.019607808+00:00",
          "2024-03-11 10:04:10.117647104+00:00",
          "2024-03-18 14:16:32.215686144+00:00",
          "2024-03-25 18:28:54.313725440+00:00",
          "2024-04-01 22:41:16.411764736+00:00",
          "2024-04-09 02:53:38.509804032+00:00",
          "2024-04-16 07:06:00.607843072+00:00",
          "2024-04-23 11:18:22.705882368+00:00",
          "2024-05-07 19:43:06.901960704+00:00"
         ],
         "y": [
          12,
          11,
          13,
          9,
          16,
          6,
          6,
          13,
          13,
          7,
          9,
          6,
          7,
          7,
          15,
          13,
          7,
          8,
          9,
          9,
          2,
          6,
          4,
          5,
          4,
          5,
          3,
          1,
          2,
          2,
          4,
          6,
          5,
          6,
          1,
          1,
          3,
          3,
          9,
          11,
          3,
          6,
          5,
          4,
          3,
          4,
          3,
          2,
          9,
          7
         ]
        },
        {
         "hoverinfo": "text",
         "hovertext": [
          "<b>Topic 18</b><br>Words: omar, assad, punished, involved, army",
          "<b>Topic 18</b><br>Words: militancy, reprisal, hotbed, absent, extremist",
          "<b>Topic 18</b><br>Words: jenin, ministry, militant, palestinian, refugee",
          "<b>Topic 18</b><br>Words: jenin, incursion, palestinian, least, dead",
          "<b>Topic 18</b><br>Words: abbas, mahmoud, jenin, relic, ruler",
          "<b>Topic 18</b><br>Words: yom, kippur, aviv, tel, weaken",
          "<b>Topic 18</b><br>Words: hamas, israel, militant, gaza, israeli",
          "<b>Topic 18</b><br>Words: hamas, demolishing, gaza, capacity, israel",
          "<b>Topic 18</b><br>Words: gaza, hamas, israel, israeli, palestinian",
          "<b>Topic 18</b><br>Words: gaza, hamas, israeli, settler, oct",
          "<b>Topic 18</b><br>Words: gaza, hamas, israel, oct, palestinian",
          "<b>Topic 18</b><br>Words: gaza, hamas, israel, militant, palestinian",
          "<b>Topic 18</b><br>Words: gaza, hamas, shin, unattainable, wiping",
          "<b>Topic 18</b><br>Words: gaza, israel, militant, hamas, military",
          "<b>Topic 18</b><br>Words: targeted, gaza, restrain, hamas, worsen",
          "<b>Topic 18</b><br>Words: gaza, israel, nearing, hamas, surpassed",
          "<b>Topic 18</b><br>Words: gaza, israel, hamas, israeli, nur",
          "<b>Topic 18</b><br>Words: hamas, arouri, saleh, gaza, israel",
          "<b>Topic 18</b><br>Words: bureij, dahdouh, hamza, al, fleeting",
          "<b>Topic 18</b><br>Words: eased, forged, revived, partnership, northern",
          "<b>Topic 18</b><br>Words: gaza, strip, fortress, statehood, insisting",
          "<b>Topic 18</b><br>Words: hostile, spilling, grind, fatality, reservist",
          "<b>Topic 18</b><br>Words: straining, relationship, nation, gaza, war",
          "<b>Topic 18</b><br>Words: toll, bernie, sander, gaza, gazan",
          "<b>Topic 18</b><br>Words: southernmost, embodies, tel, aviv, plaza",
          "<b>Topic 18</b><br>Words: gaza, palestinian, israel, undercount, deflect",
          "<b>Topic 18</b><br>Words: bitterly, odds, strip, inquiry, allegation",
          "<b>Topic 18</b><br>Words: targeted, gaza, hamas, israel, marwan",
          "<b>Topic 18</b><br>Words: issa, gaza, planner, presumed, wherever",
          "<b>Topic 18</b><br>Words: sorely, retake, destructive, farther, resilience",
          "<b>Topic 18</b><br>Words: protocol, kitchen, suggest, organization, seven",
          "<b>Topic 18</b><br>Words: disjointed, ismail, haniyeh, operative, climbed",
          "<b>Topic 18</b><br>Words: archnemesis, erodes, restless, eliminate, voiced",
          "<b>Topic 18</b><br>Words: polin, grievously, gaza, degraded, capability",
          "<b>Topic 18</b><br>Words: conduit, kerem, shalom, mortar, badly",
          "<b>Topic 18</b><br>Words: gaza, withhold, israel, hamas, sinwar"
         ],
         "marker": {
          "color": "#56B4E9"
         },
         "mode": "lines",
         "name": "Gaza War & Hamas Attack",
         "type": "scatter",
         "x": [
          "2023-06-12 18:14:10.392156928+00:00",
          "2023-06-19 22:26:32.490195968+00:00",
          "2023-06-27 02:38:54.588235264+00:00",
          "2023-07-04 06:51:16.686274560+00:00",
          "2023-07-11 11:03:38.784313600+00:00",
          "2023-09-28 09:19:41.862745088+00:00",
          "2023-10-05 13:32:03.960784384+00:00",
          "2023-10-12 17:44:26.058823424+00:00",
          "2023-10-19 21:56:48.156862720+00:00",
          "2023-10-27 02:09:10.254902016+00:00",
          "2023-11-03 06:21:32.352941056+00:00",
          "2023-11-10 10:33:54.450980352+00:00",
          "2023-11-24 18:58:38.647058944+00:00",
          "2023-12-01 23:11:00.745097984+00:00",
          "2023-12-09 03:23:22.843137280+00:00",
          "2023-12-16 07:35:44.941176576+00:00",
          "2023-12-23 11:48:07.039215616+00:00",
          "2023-12-30 16:00:29.137254912+00:00",
          "2024-01-06 20:12:51.235294208+00:00",
          "2024-01-14 00:25:13.333333248+00:00",
          "2024-01-21 04:37:35.431372544+00:00",
          "2024-01-28 08:49:57.529411840+00:00",
          "2024-02-04 13:02:19.627450880+00:00",
          "2024-02-11 17:14:41.725490176+00:00",
          "2024-02-18 21:27:03.823529472+00:00",
          "2024-02-26 01:39:25.921568512+00:00",
          "2024-03-04 05:51:48.019607808+00:00",
          "2024-03-11 10:04:10.117647104+00:00",
          "2024-03-18 14:16:32.215686144+00:00",
          "2024-03-25 18:28:54.313725440+00:00",
          "2024-04-01 22:41:16.411764736+00:00",
          "2024-04-09 02:53:38.509804032+00:00",
          "2024-04-16 07:06:00.607843072+00:00",
          "2024-04-23 11:18:22.705882368+00:00",
          "2024-04-30 15:30:44.803921664+00:00",
          "2024-05-07 19:43:06.901960704+00:00"
         ],
         "y": [
          1,
          1,
          1,
          2,
          1,
          1,
          8,
          9,
          16,
          11,
          15,
          11,
          7,
          9,
          7,
          6,
          10,
          16,
          3,
          2,
          8,
          4,
          1,
          4,
          5,
          9,
          1,
          7,
          5,
          3,
          1,
          2,
          3,
          5,
          1,
          10
         ]
        }
       ],
       "layout": {
        "height": 450,
        "hoverlabel": {
         "bgcolor": "white",
         "font": {
          "family": "Rockwell",
          "size": 16
         }
        },
        "legend": {
         "title": {
          "text": "<b>Global Topic Representation"
         }
        },
        "template": {
         "data": {
          "bar": [
           {
            "error_x": {
             "color": "rgb(36,36,36)"
            },
            "error_y": {
             "color": "rgb(36,36,36)"
            },
            "marker": {
             "line": {
              "color": "white",
              "width": 0.5
             },
             "pattern": {
              "fillmode": "overlay",
              "size": 10,
              "solidity": 0.2
             }
            },
            "type": "bar"
           }
          ],
          "barpolar": [
           {
            "marker": {
             "line": {
              "color": "white",
              "width": 0.5
             },
             "pattern": {
              "fillmode": "overlay",
              "size": 10,
              "solidity": 0.2
             }
            },
            "type": "barpolar"
           }
          ],
          "carpet": [
           {
            "aaxis": {
             "endlinecolor": "rgb(36,36,36)",
             "gridcolor": "white",
             "linecolor": "white",
             "minorgridcolor": "white",
             "startlinecolor": "rgb(36,36,36)"
            },
            "baxis": {
             "endlinecolor": "rgb(36,36,36)",
             "gridcolor": "white",
             "linecolor": "white",
             "minorgridcolor": "white",
             "startlinecolor": "rgb(36,36,36)"
            },
            "type": "carpet"
           }
          ],
          "choropleth": [
           {
            "colorbar": {
             "outlinewidth": 1,
             "tickcolor": "rgb(36,36,36)",
             "ticks": "outside"
            },
            "type": "choropleth"
           }
          ],
          "contour": [
           {
            "colorbar": {
             "outlinewidth": 1,
             "tickcolor": "rgb(36,36,36)",
             "ticks": "outside"
            },
            "colorscale": [
             [
              0,
              "#440154"
             ],
             [
              0.1111111111111111,
              "#482878"
             ],
             [
              0.2222222222222222,
              "#3e4989"
             ],
             [
              0.3333333333333333,
              "#31688e"
             ],
             [
              0.4444444444444444,
              "#26828e"
             ],
             [
              0.5555555555555556,
              "#1f9e89"
             ],
             [
              0.6666666666666666,
              "#35b779"
             ],
             [
              0.7777777777777778,
              "#6ece58"
             ],
             [
              0.8888888888888888,
              "#b5de2b"
             ],
             [
              1,
              "#fde725"
             ]
            ],
            "type": "contour"
           }
          ],
          "contourcarpet": [
           {
            "colorbar": {
             "outlinewidth": 1,
             "tickcolor": "rgb(36,36,36)",
             "ticks": "outside"
            },
            "type": "contourcarpet"
           }
          ],
          "heatmap": [
           {
            "colorbar": {
             "outlinewidth": 1,
             "tickcolor": "rgb(36,36,36)",
             "ticks": "outside"
            },
            "colorscale": [
             [
              0,
              "#440154"
             ],
             [
              0.1111111111111111,
              "#482878"
             ],
             [
              0.2222222222222222,
              "#3e4989"
             ],
             [
              0.3333333333333333,
              "#31688e"
             ],
             [
              0.4444444444444444,
              "#26828e"
             ],
             [
              0.5555555555555556,
              "#1f9e89"
             ],
             [
              0.6666666666666666,
              "#35b779"
             ],
             [
              0.7777777777777778,
              "#6ece58"
             ],
             [
              0.8888888888888888,
              "#b5de2b"
             ],
             [
              1,
              "#fde725"
             ]
            ],
            "type": "heatmap"
           }
          ],
          "heatmapgl": [
           {
            "colorbar": {
             "outlinewidth": 1,
             "tickcolor": "rgb(36,36,36)",
             "ticks": "outside"
            },
            "colorscale": [
             [
              0,
              "#440154"
             ],
             [
              0.1111111111111111,
              "#482878"
             ],
             [
              0.2222222222222222,
              "#3e4989"
             ],
             [
              0.3333333333333333,
              "#31688e"
             ],
             [
              0.4444444444444444,
              "#26828e"
             ],
             [
              0.5555555555555556,
              "#1f9e89"
             ],
             [
              0.6666666666666666,
              "#35b779"
             ],
             [
              0.7777777777777778,
              "#6ece58"
             ],
             [
              0.8888888888888888,
              "#b5de2b"
             ],
             [
              1,
              "#fde725"
             ]
            ],
            "type": "heatmapgl"
           }
          ],
          "histogram": [
           {
            "marker": {
             "line": {
              "color": "white",
              "width": 0.6
             }
            },
            "type": "histogram"
           }
          ],
          "histogram2d": [
           {
            "colorbar": {
             "outlinewidth": 1,
             "tickcolor": "rgb(36,36,36)",
             "ticks": "outside"
            },
            "colorscale": [
             [
              0,
              "#440154"
             ],
             [
              0.1111111111111111,
              "#482878"
             ],
             [
              0.2222222222222222,
              "#3e4989"
             ],
             [
              0.3333333333333333,
              "#31688e"
             ],
             [
              0.4444444444444444,
              "#26828e"
             ],
             [
              0.5555555555555556,
              "#1f9e89"
             ],
             [
              0.6666666666666666,
              "#35b779"
             ],
             [
              0.7777777777777778,
              "#6ece58"
             ],
             [
              0.8888888888888888,
              "#b5de2b"
             ],
             [
              1,
              "#fde725"
             ]
            ],
            "type": "histogram2d"
           }
          ],
          "histogram2dcontour": [
           {
            "colorbar": {
             "outlinewidth": 1,
             "tickcolor": "rgb(36,36,36)",
             "ticks": "outside"
            },
            "colorscale": [
             [
              0,
              "#440154"
             ],
             [
              0.1111111111111111,
              "#482878"
             ],
             [
              0.2222222222222222,
              "#3e4989"
             ],
             [
              0.3333333333333333,
              "#31688e"
             ],
             [
              0.4444444444444444,
              "#26828e"
             ],
             [
              0.5555555555555556,
              "#1f9e89"
             ],
             [
              0.6666666666666666,
              "#35b779"
             ],
             [
              0.7777777777777778,
              "#6ece58"
             ],
             [
              0.8888888888888888,
              "#b5de2b"
             ],
             [
              1,
              "#fde725"
             ]
            ],
            "type": "histogram2dcontour"
           }
          ],
          "mesh3d": [
           {
            "colorbar": {
             "outlinewidth": 1,
             "tickcolor": "rgb(36,36,36)",
             "ticks": "outside"
            },
            "type": "mesh3d"
           }
          ],
          "parcoords": [
           {
            "line": {
             "colorbar": {
              "outlinewidth": 1,
              "tickcolor": "rgb(36,36,36)",
              "ticks": "outside"
             }
            },
            "type": "parcoords"
           }
          ],
          "pie": [
           {
            "automargin": true,
            "type": "pie"
           }
          ],
          "scatter": [
           {
            "fillpattern": {
             "fillmode": "overlay",
             "size": 10,
             "solidity": 0.2
            },
            "type": "scatter"
           }
          ],
          "scatter3d": [
           {
            "line": {
             "colorbar": {
              "outlinewidth": 1,
              "tickcolor": "rgb(36,36,36)",
              "ticks": "outside"
             }
            },
            "marker": {
             "colorbar": {
              "outlinewidth": 1,
              "tickcolor": "rgb(36,36,36)",
              "ticks": "outside"
             }
            },
            "type": "scatter3d"
           }
          ],
          "scattercarpet": [
           {
            "marker": {
             "colorbar": {
              "outlinewidth": 1,
              "tickcolor": "rgb(36,36,36)",
              "ticks": "outside"
             }
            },
            "type": "scattercarpet"
           }
          ],
          "scattergeo": [
           {
            "marker": {
             "colorbar": {
              "outlinewidth": 1,
              "tickcolor": "rgb(36,36,36)",
              "ticks": "outside"
             }
            },
            "type": "scattergeo"
           }
          ],
          "scattergl": [
           {
            "marker": {
             "colorbar": {
              "outlinewidth": 1,
              "tickcolor": "rgb(36,36,36)",
              "ticks": "outside"
             }
            },
            "type": "scattergl"
           }
          ],
          "scattermapbox": [
           {
            "marker": {
             "colorbar": {
              "outlinewidth": 1,
              "tickcolor": "rgb(36,36,36)",
              "ticks": "outside"
             }
            },
            "type": "scattermapbox"
           }
          ],
          "scatterpolar": [
           {
            "marker": {
             "colorbar": {
              "outlinewidth": 1,
              "tickcolor": "rgb(36,36,36)",
              "ticks": "outside"
             }
            },
            "type": "scatterpolar"
           }
          ],
          "scatterpolargl": [
           {
            "marker": {
             "colorbar": {
              "outlinewidth": 1,
              "tickcolor": "rgb(36,36,36)",
              "ticks": "outside"
             }
            },
            "type": "scatterpolargl"
           }
          ],
          "scatterternary": [
           {
            "marker": {
             "colorbar": {
              "outlinewidth": 1,
              "tickcolor": "rgb(36,36,36)",
              "ticks": "outside"
             }
            },
            "type": "scatterternary"
           }
          ],
          "surface": [
           {
            "colorbar": {
             "outlinewidth": 1,
             "tickcolor": "rgb(36,36,36)",
             "ticks": "outside"
            },
            "colorscale": [
             [
              0,
              "#440154"
             ],
             [
              0.1111111111111111,
              "#482878"
             ],
             [
              0.2222222222222222,
              "#3e4989"
             ],
             [
              0.3333333333333333,
              "#31688e"
             ],
             [
              0.4444444444444444,
              "#26828e"
             ],
             [
              0.5555555555555556,
              "#1f9e89"
             ],
             [
              0.6666666666666666,
              "#35b779"
             ],
             [
              0.7777777777777778,
              "#6ece58"
             ],
             [
              0.8888888888888888,
              "#b5de2b"
             ],
             [
              1,
              "#fde725"
             ]
            ],
            "type": "surface"
           }
          ],
          "table": [
           {
            "cells": {
             "fill": {
              "color": "rgb(237,237,237)"
             },
             "line": {
              "color": "white"
             }
            },
            "header": {
             "fill": {
              "color": "rgb(217,217,217)"
             },
             "line": {
              "color": "white"
             }
            },
            "type": "table"
           }
          ]
         },
         "layout": {
          "annotationdefaults": {
           "arrowhead": 0,
           "arrowwidth": 1
          },
          "autotypenumbers": "strict",
          "coloraxis": {
           "colorbar": {
            "outlinewidth": 1,
            "tickcolor": "rgb(36,36,36)",
            "ticks": "outside"
           }
          },
          "colorscale": {
           "diverging": [
            [
             0,
             "rgb(103,0,31)"
            ],
            [
             0.1,
             "rgb(178,24,43)"
            ],
            [
             0.2,
             "rgb(214,96,77)"
            ],
            [
             0.3,
             "rgb(244,165,130)"
            ],
            [
             0.4,
             "rgb(253,219,199)"
            ],
            [
             0.5,
             "rgb(247,247,247)"
            ],
            [
             0.6,
             "rgb(209,229,240)"
            ],
            [
             0.7,
             "rgb(146,197,222)"
            ],
            [
             0.8,
             "rgb(67,147,195)"
            ],
            [
             0.9,
             "rgb(33,102,172)"
            ],
            [
             1,
             "rgb(5,48,97)"
            ]
           ],
           "sequential": [
            [
             0,
             "#440154"
            ],
            [
             0.1111111111111111,
             "#482878"
            ],
            [
             0.2222222222222222,
             "#3e4989"
            ],
            [
             0.3333333333333333,
             "#31688e"
            ],
            [
             0.4444444444444444,
             "#26828e"
            ],
            [
             0.5555555555555556,
             "#1f9e89"
            ],
            [
             0.6666666666666666,
             "#35b779"
            ],
            [
             0.7777777777777778,
             "#6ece58"
            ],
            [
             0.8888888888888888,
             "#b5de2b"
            ],
            [
             1,
             "#fde725"
            ]
           ],
           "sequentialminus": [
            [
             0,
             "#440154"
            ],
            [
             0.1111111111111111,
             "#482878"
            ],
            [
             0.2222222222222222,
             "#3e4989"
            ],
            [
             0.3333333333333333,
             "#31688e"
            ],
            [
             0.4444444444444444,
             "#26828e"
            ],
            [
             0.5555555555555556,
             "#1f9e89"
            ],
            [
             0.6666666666666666,
             "#35b779"
            ],
            [
             0.7777777777777778,
             "#6ece58"
            ],
            [
             0.8888888888888888,
             "#b5de2b"
            ],
            [
             1,
             "#fde725"
            ]
           ]
          },
          "colorway": [
           "#1F77B4",
           "#FF7F0E",
           "#2CA02C",
           "#D62728",
           "#9467BD",
           "#8C564B",
           "#E377C2",
           "#7F7F7F",
           "#BCBD22",
           "#17BECF"
          ],
          "font": {
           "color": "rgb(36,36,36)"
          },
          "geo": {
           "bgcolor": "white",
           "lakecolor": "white",
           "landcolor": "white",
           "showlakes": true,
           "showland": true,
           "subunitcolor": "white"
          },
          "hoverlabel": {
           "align": "left"
          },
          "hovermode": "closest",
          "mapbox": {
           "style": "light"
          },
          "paper_bgcolor": "white",
          "plot_bgcolor": "white",
          "polar": {
           "angularaxis": {
            "gridcolor": "rgb(232,232,232)",
            "linecolor": "rgb(36,36,36)",
            "showgrid": false,
            "showline": true,
            "ticks": "outside"
           },
           "bgcolor": "white",
           "radialaxis": {
            "gridcolor": "rgb(232,232,232)",
            "linecolor": "rgb(36,36,36)",
            "showgrid": false,
            "showline": true,
            "ticks": "outside"
           }
          },
          "scene": {
           "xaxis": {
            "backgroundcolor": "white",
            "gridcolor": "rgb(232,232,232)",
            "gridwidth": 2,
            "linecolor": "rgb(36,36,36)",
            "showbackground": true,
            "showgrid": false,
            "showline": true,
            "ticks": "outside",
            "zeroline": false,
            "zerolinecolor": "rgb(36,36,36)"
           },
           "yaxis": {
            "backgroundcolor": "white",
            "gridcolor": "rgb(232,232,232)",
            "gridwidth": 2,
            "linecolor": "rgb(36,36,36)",
            "showbackground": true,
            "showgrid": false,
            "showline": true,
            "ticks": "outside",
            "zeroline": false,
            "zerolinecolor": "rgb(36,36,36)"
           },
           "zaxis": {
            "backgroundcolor": "white",
            "gridcolor": "rgb(232,232,232)",
            "gridwidth": 2,
            "linecolor": "rgb(36,36,36)",
            "showbackground": true,
            "showgrid": false,
            "showline": true,
            "ticks": "outside",
            "zeroline": false,
            "zerolinecolor": "rgb(36,36,36)"
           }
          },
          "shapedefaults": {
           "fillcolor": "black",
           "line": {
            "width": 0
           },
           "opacity": 0.3
          },
          "ternary": {
           "aaxis": {
            "gridcolor": "rgb(232,232,232)",
            "linecolor": "rgb(36,36,36)",
            "showgrid": false,
            "showline": true,
            "ticks": "outside"
           },
           "baxis": {
            "gridcolor": "rgb(232,232,232)",
            "linecolor": "rgb(36,36,36)",
            "showgrid": false,
            "showline": true,
            "ticks": "outside"
           },
           "bgcolor": "white",
           "caxis": {
            "gridcolor": "rgb(232,232,232)",
            "linecolor": "rgb(36,36,36)",
            "showgrid": false,
            "showline": true,
            "ticks": "outside"
           }
          },
          "title": {
           "x": 0.05
          },
          "xaxis": {
           "automargin": true,
           "gridcolor": "rgb(232,232,232)",
           "linecolor": "rgb(36,36,36)",
           "showgrid": false,
           "showline": true,
           "ticks": "outside",
           "title": {
            "standoff": 15
           },
           "zeroline": false,
           "zerolinecolor": "rgb(36,36,36)"
          },
          "yaxis": {
           "automargin": true,
           "gridcolor": "rgb(232,232,232)",
           "linecolor": "rgb(36,36,36)",
           "showgrid": false,
           "showline": true,
           "ticks": "outside",
           "title": {
            "standoff": 15
           },
           "zeroline": false,
           "zerolinecolor": "rgb(36,36,36)"
          }
         }
        },
        "title": {
         "font": {
          "color": "Black",
          "size": 22
         },
         "text": "<b>Topics over Time</b>",
         "x": 0.4,
         "xanchor": "center",
         "y": 0.95,
         "yanchor": "top"
        },
        "width": 1250,
        "xaxis": {
         "showgrid": true
        },
        "yaxis": {
         "showgrid": true,
         "title": {
          "text": "Frequency"
         }
        }
       }
      }
     },
     "metadata": {},
     "output_type": "display_data"
    }
   ],
   "source": [
    "model.visualize_topics_over_time(topics_over_time_df, topics=[8, 18], custom_labels=True)"
   ]
  },
  {
   "cell_type": "code",
   "execution_count": 3,
   "metadata": {},
   "outputs": [
    {
     "data": {
      "text/plain": [
       "{-1: 'Political News',\n",
       " 0: 'Recipe for Chicken Dish',\n",
       " 1: 'Art Exhibition in Brooklyn',\n",
       " 2: 'China-US Relations',\n",
       " 3: 'Novels by Irish Author',\n",
       " 4: 'Director Wes Ball Narrates Sequence Film',\n",
       " 5: 'Fashion Designer Dies',\n",
       " 6: 'Feeling Stuck Today Puzzle Help',\n",
       " 7: 'Puzzle Help Needed',\n",
       " 8: 'Ukraine-Russia War',\n",
       " 9: 'Shootings and Police Encounters',\n",
       " 10: 'Heavy rain and flooding in southern California',\n",
       " 11: 'Marriage Perspectives',\n",
       " 12: 'TV Series',\n",
       " 13: 'Moon Exploration',\n",
       " 14: 'Fossil Fuels and Climate Change',\n",
       " 15: 'Presidential Primary Candidates',\n",
       " 16: 'Nytimes articles from past year',\n",
       " 17: 'Iranian commander killed in Israeli strike',\n",
       " 18: 'Gaza War & Hamas Attack',\n",
       " 19: 'Donald Trump Fraud Trial',\n",
       " 20: 'Three-bedroom home in Los Angeles',\n",
       " 21: 'Solving Weekend Puzzles',\n",
       " 22: 'Dance in New York',\n",
       " 23: 'Federal Reserve Interest Rate',\n",
       " 24: 'Broadway Musical Revival',\n",
       " 25: 'Artificial Intelligence',\n",
       " 26: 'Day Puzzle Warning Contains Spoiler',\n",
       " 27: 'Billboard Chart Toppers',\n",
       " 28: 'Mayor Eric Adam',\n",
       " 29: 'Social Media Platform',\n",
       " 30: 'Housing Rent Regulation',\n",
       " 31: 'Biden Addresses American Public',\n",
       " 32: 'Asylum Seekers at Southern Border',\n",
       " 33: 'Electric Vehicles',\n",
       " 34: 'Pope Francis and Catholic Church',\n",
       " 35: 'Palestinian protest on campus',\n",
       " 36: 'Heat Wave Alert',\n",
       " 37: 'Climate Change Ethics',\n",
       " 38: 'Microsoft Google Face Antitrust Probe',\n",
       " 39: 'Dating App Success Stories',\n",
       " 40: 'Sexual Assault Allegations',\n",
       " 41: 'Supreme Court Cases',\n",
       " 42: 'Yankees vs Mets Baseball Rivalry',\n",
       " 43: 'Florida Governor Presidential Campaign',\n",
       " 44: 'Dog Care Industry',\n",
       " 45: 'Ron Desantis Presidential Run',\n",
       " 46: 'Orchestra Conductor Life',\n",
       " 47: 'Heartrack',\n",
       " 48: 'Exclusive NY Time Audio App',\n",
       " 49: 'Speaker Vote Challenge',\n",
       " 50: 'Abortion Rights in Ohio',\n",
       " 51: 'Video Game',\n",
       " 52: 'Alaska Airline Flight Incident',\n",
       " 53: \"Nikki Haley's Presidential Campaign\",\n",
       " 54: 'White House Politics',\n",
       " 55: 'Union Negotiations',\n",
       " 56: 'FTX Founder Arrested',\n",
       " 57: \"This Month's Pick Include\",\n",
       " 58: 'West African regional bloc presidency',\n",
       " 59: 'Streaming Service Revenue',\n",
       " 60: 'Reptile Evolution in Australia',\n",
       " 61: 'Netanyahu in Israel',\n",
       " 62: 'Carlos Alcaraz vs Novak Djokovic at Wimbledon',\n",
       " 63: 'World Cup',\n",
       " 64: 'Taylor Swift',\n",
       " 65: 'Nordic Summit on NATO Expansion',\n",
       " 66: 'Wine and Diversity',\n",
       " 67: 'Abortion Rights Topic',\n",
       " 68: 'New York Times Crossword Debuts',\n",
       " 69: 'Cartel Violence in Mexico and Colombia',\n",
       " 70: 'Wildfire smoke impacts air quality',\n",
       " 71: 'Menendez Bribery Scandal',\n",
       " 72: 'Economic Resilience in Face of Recession',\n",
       " 73: 'Recommendations from Magazine',\n",
       " 74: \"Chatbots Race: Tech Giants' Own Dangerous Creations\",\n",
       " 75: 'Weight Loss Drug',\n",
       " 76: \"President Biden's Israel Trip\",\n",
       " 77: 'New York City Diary',\n",
       " 78: 'Preparing for Trial: Juror Selection and Evidence Preparation',\n",
       " 79: 'Climate Change Solutions',\n",
       " 80: 'Hollywood Actor Strike',\n",
       " 81: \"Israeli raid on Gaza's Al Shifa Hospital\",\n",
       " 82: 'Political Polarization in America',\n",
       " 83: 'Train Accident in Ohio',\n",
       " 84: 'Antisemitism at Columbia University',\n",
       " 85: 'Hostage Crisis in Gaza',\n",
       " 86: 'Fitness Exercise Workout Habits',\n",
       " 87: 'Want to hear',\n",
       " 88: 'Republican Party Disarray',\n",
       " 89: \"Aleksei Navalny's Death in Russian Prison\",\n",
       " 90: 'Medicaid Coverage',\n",
       " 91: 'Opera Premiere at Metropolitan Opera',\n",
       " 92: 'Royal Family Health Crisis',\n",
       " 93: 'Gaza Ceasefire Efforts',\n",
       " 94: 'Marriage Relationship Wonders',\n",
       " 95: 'Carolina Governors',\n",
       " 96: 'Congestion Pricing in NYC',\n",
       " 97: 'Student protest at university',\n",
       " 98: 'College Admissions and Financial Aid',\n",
       " 99: 'Homelessness in Cities',\n",
       " 100: 'Pop Superstar Conversation',\n",
       " 101: 'Bedroom Property',\n",
       " 102: 'Property in Manhattan',\n",
       " 103: 'Fulton County District Attorney',\n",
       " 104: 'Ousting Speaker Kevin McCarthy',\n",
       " 105: 'Experts Say Sleep Essential for Better Health',\n",
       " 106: 'Modern Love Miniature Featuring Reader Submitted Stories',\n",
       " 107: 'Colorado Supreme Court Rulings',\n",
       " 108: 'Attorney General Ken Paxton',\n",
       " 109: 'Suggested Reading in New York Times',\n",
       " 110: 'New York Real Estate Settlement',\n",
       " 111: 'North Korea Leadership',\n",
       " 112: 'Correction Appeared in Print on Monday',\n",
       " 113: 'Robert Kennedy Jr. Presidential Bid',\n",
       " 114: 'President Biden Son Impeachment Inquiry',\n",
       " 115: 'Mental Health Crisis in Adolescents',\n",
       " 116: 'Missing Submersible Titanic Wreckage',\n",
       " 117: 'Alabama Voting Map Dispute',\n",
       " 118: 'Earthquake in Morocco',\n",
       " 119: 'Southern Gaza Under Threat Of Israeli Invasion',\n",
       " 120: 'Transgender minor transition care ban',\n",
       " 121: 'Middle East Conflict',\n",
       " 122: 'Hawaii Wildfire Devastates Lahaina',\n",
       " 123: 'Barbie-themed movie with dark twist',\n",
       " 124: 'Father-Mother Relationship',\n",
       " 125: 'Birding in New York',\n",
       " 126: 'Vaccine Shot for Covid and Flu',\n",
       " 127: 'Collapse of Francis Scott Key Bridge in Baltimore',\n",
       " 128: 'Editor Newsroom Leadership',\n",
       " 129: 'Social Media Regulation',\n",
       " 130: 'Golf in Saudi Arabia',\n",
       " 131: 'World War II Holocaust Survivor',\n",
       " 132: 'President Volodymyr Zelensky',\n",
       " 133: 'Real Inspired Image Stories',\n",
       " 134: 'Cannabis Legalization Efforts',\n",
       " 135: 'Black Sea Grain Export',\n",
       " 136: 'New Jersey Political Scene',\n",
       " 137: 'First Amendment Censorship Debate',\n",
       " 138: \"Putin's Russia\",\n",
       " 139: 'Olympic Gold Medal Dispute',\n",
       " 140: 'Suozzi vs Pilip in NY Special House Election',\n",
       " 141: 'Speaker Mike Johnson Avoids Shutdown',\n",
       " 142: 'Affirmative Action College Admission',\n",
       " 143: 'New Hampshire Primary',\n",
       " 144: 'Debt Ceiling Negotiation',\n",
       " 145: 'Gene Therapy for Disease Treatment',\n",
       " 146: 'Reveal Hints Today',\n",
       " 147: 'Climate Change Impact on Water Supply',\n",
       " 148: 'Antony Blinken Middle East Tensions',\n",
       " 149: 'Audio Journalism Weekly Roundup',\n",
       " 150: 'Insect Colony Dynamics',\n",
       " 151: 'Government Shutdown Showdown',\n",
       " 152: 'New York City News',\n",
       " 153: 'Fox News Committee',\n",
       " 154: 'Linguistic Thought and Identity',\n",
       " 155: 'Quotation Day Monday',\n",
       " 156: 'Corrections in Print on Sunday',\n",
       " 157: 'Correction Appeared in Print on Wednesday',\n",
       " 158: 'Federal Prosecutor Says',\n",
       " 159: 'Documentary Explores Transmasculine Experience',\n",
       " 160: 'Poetry Anthology',\n",
       " 161: 'Fire in Johannesburg kills at least 3 people',\n",
       " 162: 'Yevgeny Prigozhin',\n",
       " 163: 'Venezuela Presidential Election',\n",
       " 164: 'Iowa Caucus',\n",
       " 165: 'Communicating Thoughts',\n",
       " 166: 'Consumer Price Index Rose 1% Last Month',\n",
       " 167: \"Maximizing Leisure Year's Value\",\n",
       " 168: 'West Bank conflict',\n",
       " 169: 'Drone Attack Moscow',\n",
       " 170: 'Stock Market Outlook',\n",
       " 171: 'Guantánamo Bay bombing detainee',\n",
       " 172: 'Ezra Klein Show',\n",
       " 173: 'Rudolph Giuliani Defamed in Georgia Election',\n",
       " 174: 'Climate Change Impact on Agriculture',\n",
       " 175: 'Sam Altman AI Regulation',\n",
       " 176: 'Judge Aileen Cannon Trial',\n",
       " 177: 'New York City charter schools addressing poverty and segregation',\n",
       " 178: 'Red Sea Houthi Attack',\n",
       " 179: \"Feinstein's Senate Seat\",\n",
       " 180: 'Aid Package for Ukraine',\n",
       " 181: 'Fundraising in Political Campaigns',\n",
       " 182: 'Originally Published',\n",
       " 183: 'Investor Activist Peltz Disney Earnings',\n",
       " 184: 'Whale Endangerment',\n",
       " 185: 'Student See Moderated Conversation',\n",
       " 186: 'Five-Minute News',\n",
       " 187: 'Crossword Puzzle Help',\n",
       " 188: 'Argentina Far-Right Politics',\n",
       " 189: 'TV Critic Recommends',\n",
       " 190: 'Farmworkers exposed to bird flu',\n",
       " 191: 'Latest End Dates',\n",
       " 192: 'South Korean Culture & Society',\n",
       " 193: 'Time Narrated Articles',\n",
       " 194: 'Interviews with Showrunners',\n",
       " 195: 'Student Editorial Contest Winners',\n",
       " 196: 'Horse Racing News',\n",
       " 197: 'Tlaib criticized for anti-Israel remarks',\n",
       " 198: 'Wall Street Bank Earnings',\n",
       " 199: 'Reader Wonder',\n",
       " 200: 'TikTok Ban',\n",
       " 201: 'Psychedelics and Addiction',\n",
       " 202: 'Pulitzer Prize Winners',\n",
       " 203: 'Palestinian Protest in Jerusalem',\n",
       " 204: 'New York Subway Budget',\n",
       " 205: 'Correction Appeared in Print on Thursday',\n",
       " 206: 'Narendra Modi Seeks Third Term as Prime Minister of India',\n",
       " 207: 'Print Corrections',\n",
       " 208: 'Our Critic Writes',\n",
       " 209: 'Russian journalist jailed',\n",
       " 210: 'Inflation Debate',\n",
       " 211: 'Wagner Mercenary Mutiny',\n",
       " 212: 'David Balton & Jane Stewart Puzzle',\n",
       " 213: 'Architectural Design in New York',\n",
       " 214: 'Sudanese Paramilitary Causes Humanitarian Crisis in Darfur',\n",
       " 215: 'South Africa accuses Israel of genocide in Gaza',\n",
       " 216: 'New Memoir by Shane McCrae',\n",
       " 217: 'Paris Olympics Preparation',\n",
       " 218: 'Jazz Musicians',\n",
       " 219: 'Haiti gang violence',\n",
       " 220: 'Kimmel vs Trump',\n",
       " 221: 'Taliban Threat in Afghanistan',\n",
       " 222: 'Student Loan Repayment',\n",
       " 223: \"Coach Tara Vanderveer's Success\",\n",
       " 224: 'Recent Book Releases',\n",
       " 225: 'George Santos Expulsion',\n",
       " 226: 'Ezra Klein Show',\n",
       " 227: 'Siena College Poll',\n",
       " 228: 'Organ Transplant',\n",
       " 229: 'Reveal Letter Conversation',\n",
       " 230: 'Hip Hop Anniversary Evolution',\n",
       " 231: 'Turkish Elections Runoff',\n",
       " 232: 'Island Getaway',\n",
       " 233: 'Destruction of Kakhovka Dam',\n",
       " 234: 'Unconventional Wedding Celebration',\n",
       " 235: 'Carroll Sexual Assault Case',\n",
       " 236: 'Texas Border Immigration',\n",
       " 237: 'Climbing Mount Everest',\n",
       " 238: 'Quotation Day Monday November',\n",
       " 239: \"Carrie & Aidan's Unexpected News\",\n",
       " 240: 'Sikh Separatist Killed in Canada',\n",
       " 241: 'Quotation Day Thursday July',\n",
       " 242: 'First Lady Jimmy Carter',\n",
       " 243: 'Silicon Valley Disruption',\n",
       " 244: 'Defense Secretary Lloyd Austin III Hospitalized',\n",
       " 245: 'Political Figures Meet',\n",
       " 246: 'Volcanic Eruption',\n",
       " 247: 'Toughest Word This Week',\n",
       " 248: 'Invite Student Contest',\n",
       " 249: 'Corrections in Print on Tuesday',\n",
       " 250: 'Rishi Sunak UK Poll',\n",
       " 251: 'Gun Regulation Supreme Court Ruling',\n",
       " 252: 'Special Counsel Jack Smith Investigation',\n",
       " 253: 'Corrections in Print on March 27th',\n",
       " 254: 'Famine in Gaza',\n",
       " 255: 'Roe v Wade Overturn',\n",
       " 256: 'Correction Appeared in Print on Wednesday',\n",
       " 257: 'Twitter vs Instagram App Battle',\n",
       " 258: 'Quotation Day Thursday January',\n",
       " 259: 'Investigation into Soccer Federation',\n",
       " 260: 'Correction Appeared in Print on Saturday Oct',\n",
       " 261: 'Library Attacks and Book Bans',\n",
       " 262: 'Our Columnist Reviews New Book',\n",
       " 263: 'Richest Sport Competition in Luton',\n",
       " 264: 'Guilty Pleas in Georgia',\n",
       " 265: 'New York City Marathon',\n",
       " 266: 'Fentanyl-Laced Heroin Overdoses',\n",
       " 267: 'Box Office Smash',\n",
       " 268: 'Corrections in Print on Saturday',\n",
       " 269: 'Pakistan political crisis',\n",
       " 270: 'Covid Surge in China',\n",
       " 271: 'Correction Appeared in Print on Tuesday Aug',\n",
       " 272: 'Profit Growth Report',\n",
       " 273: 'State Legislature Activity',\n",
       " 274: 'French Riots Over Police Brutality',\n",
       " 275: 'Debt Crisis in Europe',\n",
       " 276: 'Quotation Day Friday February',\n",
       " 277: 'Collapse of Building in Bronx',\n",
       " 278: 'Claudine Gay Harvard Plagiarism Debate',\n",
       " 279: 'Boris Johnson quits parliament',\n",
       " 280: 'Look Back at History',\n",
       " 281: 'Jeffrey Epstein Sex Trafficking',\n",
       " 282: 'Minimum Wage Increase',\n",
       " 283: 'Privacy Concerns with Security Technology',\n",
       " 284: 'Quotation Day Wednesday June',\n",
       " 285: 'Quotation Day Friday June',\n",
       " 286: 'Tony Awards',\n",
       " 287: 'Indigenous sovereignty and adoption',\n",
       " 288: 'Alumnus Donation University Admission',\n",
       " 289: 'Memory Impairment',\n",
       " 290: 'This Word in Sentences',\n",
       " 291: 'Civil Rights Legacy',\n",
       " 292: 'Easy Cycling Adventure on Cobbled Road',\n",
       " 293: 'Rubiales kissed Hermoso at Spanish federation hearing.',\n",
       " 294: 'Narges Mohammadi Jailed in Iran',\n",
       " 295: 'Appeal Court Decisions',\n",
       " 296: 'Quotation Day Tuesday April',\n",
       " 297: 'Denver Nuggets vs Miami Heat Championship',\n",
       " 298: 'Goodbye Small Screen Silver Age',\n",
       " 299: 'Rescued boat people sink',\n",
       " 300: 'School shutdown in district',\n",
       " 301: 'New York City Council Election',\n",
       " 302: 'Painful Dental Work Leads to Suffering',\n",
       " 303: 'Missile strike in Ukraine',\n",
       " 304: 'Texas Immigration Law Dispute',\n",
       " 305: 'Correction Appeared in Print on Thursday Aug',\n",
       " 306: 'Global Warming',\n",
       " 307: 'True Crime Podcasts',\n",
       " 308: 'Correction Appeared in Print on Sunday',\n",
       " 309: 'Saudi Arabia Oil Production Cuts',\n",
       " 310: 'Homeland Security Impeachment',\n",
       " 311: 'Travel Cost Control',\n",
       " 312: 'Hair Evolution & Styling',\n",
       " 313: 'Quotation Day Sunday March',\n",
       " 314: 'Quotation Day Tuesday September',\n",
       " 315: 'Diversity Initiatives Under Fire',\n",
       " 316: 'Sorry vs Lie',\n",
       " 317: 'Quotation Day Monday December',\n",
       " 318: 'Sag Aftra Strike Agreement',\n",
       " 319: 'Blistering Trump Trial',\n",
       " 320: 'Yellowstone wildlife encounters',\n",
       " 321: \"Jennifer Crumbley's Son Killed 4 in School Shooting\",\n",
       " 322: 'Scarce cancer drugs spark industry concern',\n",
       " 323: 'Retirement Savings',\n",
       " 324: \"Sotheby's Auction Controversy\",\n",
       " 325: 'Eastern Week Winner Announcement',\n",
       " 326: 'Apple VR Headset',\n",
       " 327: 'Macron in France',\n",
       " 328: 'Dating App User Seeks Unusual Romantic Partner',\n",
       " 329: 'Ezra Klein Show - March Episode',\n",
       " 330: 'Quotation Day Friday September',\n",
       " 331: 'Quotation Day Saturday March',\n",
       " 332: 'Human rights abuses in armed forces',\n",
       " 333: 'Entry Week May',\n",
       " 334: 'Holiday Season',\n",
       " 335: 'Tax Policy Debate',\n",
       " 336: 'Frozen Embryo Legal Battle in Alabama',\n",
       " 337: 'Robert Oppenheimer and the Development of the Atomic Bomb',\n",
       " 338: 'Apollo-Sony Merger Talks',\n",
       " 339: 'Pandemic-related passport backlog',\n",
       " 340: 'Student-centered hyperchecking in education',\n",
       " 341: 'Itchy skin relief',\n",
       " 342: 'Young woman grapples with sorrow in play',\n",
       " 343: 'Avian Flu Outbreak',\n",
       " 344: 'Vivek Ramaswamy Presidential Candidate',\n",
       " 345: 'New Zealand Indigenous Issues',\n",
       " 346: 'Los Angeles Gentrification',\n",
       " 347: 'San Francisco Weed Empire',\n",
       " 348: 'Central Park Properties',\n",
       " 349: 'Azerbaijan-Nagorno Karabakh Stalemate',\n",
       " 350: 'Super Bowl Shooting',\n",
       " 351: 'Airplane Crashes',\n",
       " 352: 'Reelection Economic Performance',\n",
       " 353: 'Urban gardening',\n",
       " 354: 'Video App Faces Ban in United States',\n",
       " 355: 'Need Know Here',\n",
       " 356: 'Quotation Day Friday December',\n",
       " 357: 'Gender Governance Astonishes Elsewhere',\n",
       " 358: 'Young woman in danger',\n",
       " 359: 'Protecting Environments from Pollution',\n",
       " 360: 'Wrongful Conviction of Yusef Salaam',\n",
       " 361: 'Quotation Day Thursday November',\n",
       " 362: 'Defamation Lawsuit Against Scientology',\n",
       " 363: 'Hungarian Prime Minister Viktor Orban',\n",
       " 364: 'Prison Inmate Escape in Arizona',\n",
       " 365: 'Corrections in Print on Friday, June',\n",
       " 366: 'Counselor Recommendations for Depression and Anxiety',\n",
       " 367: 'Missing teenager in Portugal',\n",
       " 368: 'Elon Musk on Twitter',\n",
       " 369: 'Correction Appeared in Print on Friday',\n",
       " 370: 'Mosquito-borne Diseases',\n",
       " 371: 'This word appeared in NYT articles past year',\n",
       " 372: 'Quotation Day Sunday July',\n",
       " 373: 'Poisoned Apple Sauce',\n",
       " 374: 'Quotation Day Thursday August',\n",
       " 375: 'Evan Gershkovich Reporter Wall Street Journal',\n",
       " 376: 'Best Audio App Discovered',\n",
       " 377: \"St. Patrick's Day Parade\",\n",
       " 378: 'Traumatic Brain Injury from Blast Exposure',\n",
       " 379: 'Opioid Epidemic in Baltimore',\n",
       " 380: 'Pedro Sánchez inquiry',\n",
       " 381: 'Employer Job Growth',\n",
       " 382: 'Quotation Day Tuesday January',\n",
       " 383: 'Doping in Sports',\n",
       " 384: 'OpenAI ChatGPT Copyright Dispute',\n",
       " 385: 'Federal Reserve',\n",
       " 386: 'Colorado Ski Resort',\n",
       " 387: 'Ex-officers plead guilty to charges',\n",
       " 388: \"Grieving Daughters' Empathy\",\n",
       " 389: 'Quotation Day Friday April',\n",
       " 390: 'Inauguration Celebration',\n",
       " 391: 'Third Party Candidates',\n",
       " 392: 'Donation Tax Deductible Philanthropy',\n",
       " 393: 'Distrust and Worry in the Workplace',\n",
       " 394: 'Police Theft Car Stolen Crime Department',\n",
       " 395: 'Population Growth Plateau',\n",
       " 396: 'Beijing Real Estate Sector',\n",
       " 397: 'Quotation Day Friday October',\n",
       " 398: \"Carlee Russell's Death\",\n",
       " 399: 'Prince Harry Hacking Lawsuit',\n",
       " 400: 'Correction Appeared in Print on Friday',\n",
       " 401: 'Former President Faces Federal Trial',\n",
       " 402: 'Good News Persuasion',\n",
       " 403: 'Bank Regulation',\n",
       " 404: 'Wildfires Burn Homes in Tenerife and Skamania',\n",
       " 405: 'Crawford vs Spence Boxing Matchup',\n",
       " 406: 'Social medium offering',\n",
       " 407: 'Corrections in Print on April Days',\n",
       " 408: 'Maryland politics primary race',\n",
       " 409: 'New Book Explores Existential Questions',\n",
       " 410: 'College Athletes Unionize',\n",
       " 411: 'Special Counsel Robert Hur Accused President Last Month',\n",
       " 412: 'Podcasts in the 2000s',\n",
       " 413: \"Black Women's Health Breakthrough\",\n",
       " 414: 'Anxiety in Women',\n",
       " 415: 'Defender of Donald Trump',\n",
       " 416: 'Favorite Things Your Faves',\n",
       " 417: 'Waarrested High School Director',\n",
       " 418: 'Betting in Sports',\n",
       " 419: 'Hamas Social Media Moderation',\n",
       " 420: 'Chief Executives'}"
      ]
     },
     "execution_count": 3,
     "metadata": {},
     "output_type": "execute_result"
    }
   ],
   "source": [
    "# Execute this line to get a list of the topics to graph\n",
    "topic_dict"
   ]
  },
  {
   "cell_type": "code",
   "execution_count": null,
   "metadata": {},
   "outputs": [],
   "source": []
  }
 ],
 "metadata": {
  "kernelspec": {
   "display_name": "nytimes",
   "language": "python",
   "name": "python3"
  },
  "language_info": {
   "codemirror_mode": {
    "name": "ipython",
    "version": 3
   },
   "file_extension": ".py",
   "mimetype": "text/x-python",
   "name": "python",
   "nbconvert_exporter": "python",
   "pygments_lexer": "ipython3",
   "version": "3.8.19"
  }
 },
 "nbformat": 4,
 "nbformat_minor": 2
}
