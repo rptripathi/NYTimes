{
 "cells": [
  {
   "cell_type": "markdown",
   "metadata": {},
   "source": [
    "# Data scraping, preparation, exploration, and pre-processing"
   ]
  },
  {
   "cell_type": "markdown",
   "metadata": {},
   "source": [
    "## Data scraping\n",
    "\n",
    "We scrape article metadata using the New York Times API. For our project we will analyze articles published between May 15th, 2023 and May 14th, 2024. We start by importing a few libraries and setting up the API.  \n",
    "> **Note:** In order to run the following code you will need to create an account on (https://developer.nytimes.com) and obtain your own API key. You will then need to create a file `keys.py` in your local repo directory, and save your API key as a string under the variable name `NYT_API_KEY`.  "
   ]
  },
  {
   "cell_type": "code",
   "execution_count": 2,
   "metadata": {},
   "outputs": [
    {
     "ename": "SyntaxError",
     "evalue": "invalid syntax (1573505936.py, line 2)",
     "output_type": "error",
     "traceback": [
      "\u001b[0;36m  Cell \u001b[0;32mIn[2], line 2\u001b[0;36m\u001b[0m\n\u001b[0;31m    channels:\u001b[0m\n\u001b[0m             ^\u001b[0m\n\u001b[0;31mSyntaxError\u001b[0m\u001b[0;31m:\u001b[0m invalid syntax\n"
     ]
    }
   ],
   "source": [
    "name: NYTimes\n",
    "channels:\n",
    "  - conda-forge\n",
    "  - defaults\n",
    "dependencies:\n",
    "  - appnope=0.1.4=pyhd8ed1ab_0\n",
    "  - asttokens=2.4.1=pyhd8ed1ab_0\n",
    "  - bzip2=1.0.8=h6c40b1e_6\n",
    "  - ca-certificates=2024.3.11=hecd8cb5_0\n",
    "  - comm=0.2.2=pyhd8ed1ab_0\n",
    "  - debugpy=1.6.7=py312hcec6c5f_0\n",
    "  - decorator=5.1.1=pyhd8ed1ab_0\n",
    "  - exceptiongroup=1.2.0=pyhd8ed1ab_2\n",
    "  - executing=2.0.1=pyhd8ed1ab_0\n",
    "  - expat=2.6.2=hcec6c5f_0\n",
    "  - importlib-metadata=7.1.0=pyha770c72_0\n",
    "  - importlib_metadata=7.1.0=hd8ed1ab_0\n",
    "  - ipykernel=6.29.3=pyh3cd1d5f_0\n",
    "  - ipython=8.24.0=pyh707e725_0\n",
    "  - jedi=0.19.1=pyhd8ed1ab_0\n",
    "  - jupyter_client=8.6.1=pyhd8ed1ab_0\n",
    "  - jupyter_core=5.5.0=py312hecd8cb5_0\n",
    "  - libcxx=14.0.6=h9765a3e_0\n",
    "  - libffi=3.4.4=hecd8cb5_1\n",
    "  - libsodium=1.0.18=hbcb3906_1\n",
    "  - matplotlib-inline=0.1.7=pyhd8ed1ab_0\n",
    "  - ncurses=6.4=hcec6c5f_0\n",
    "  - nest-asyncio=1.6.0=pyhd8ed1ab_0\n",
    "  - openssl=3.3.0=h87427d6_2\n",
    "  - packaging=24.0=pyhd8ed1ab_0\n",
    "  - parso=0.8.4=pyhd8ed1ab_0\n",
    "  - pexpect=4.9.0=pyhd8ed1ab_0\n",
    "  - pickleshare=0.7.5=py_1003\n",
    "  - pip=24.0=py312hecd8cb5_0\n",
    "  - platformdirs=4.2.2=pyhd8ed1ab_0\n",
    "  - prompt-toolkit=3.0.42=pyha770c72_0\n",
    "  - psutil=5.9.0=py312h6c40b1e_0\n",
    "  - ptyprocess=0.7.0=pyhd3deb0d_0\n",
    "  - pure_eval=0.2.2=pyhd8ed1ab_0\n",
    "  - pygments=2.18.0=pyhd8ed1ab_0\n",
    "  - python=3.12.2=hd58486a_0\n",
    "  - pyzmq=25.1.2=py312hcec6c5f_0\n",
    "  - readline=8.2=hca72f7f_0\n",
    "  - setuptools=69.5.1=py312hecd8cb5_0\n",
    "  - six=1.16.0=pyh6c4a22f_0\n",
    "  - sqlite=3.45.3=h6c40b1e_0\n",
    "  - stack_data=0.6.2=pyhd8ed1ab_0\n",
    "  - tk=8.6.14=h4d00af3_0\n",
    "  - tornado=6.3.3=py312h6c40b1e_0\n",
    "  - traitlets=5.14.3=pyhd8ed1ab_0\n",
    "  - typing_extensions=4.11.0=pyha770c72_0\n",
    "  - wcwidth=0.2.13=pyhd8ed1ab_0\n",
    "  - wheel=0.43.0=py312hecd8cb5_0\n",
    "  - xz=5.4.6=h6c40b1e_1\n",
    "  - zeromq=4.3.5=hcec6c5f_0\n",
    "  - zipp=3.17.0=pyhd8ed1ab_0\n",
    "  - zlib=1.2.13=h4b97444_1\n",
    "  - pip:\n",
    "      - numpy==1.26.4\n",
    "      - pandas==2.2.2\n",
    "      - python-dateutil==2.9.0.post0\n",
    "      - pytz==2024.1\n",
    "      - tzdata==2024.1\n",
    "prefix: /opt/miniconda3/envs/NYTimes"
   ]
  },
  {
   "cell_type": "code",
   "execution_count": 1,
   "metadata": {},
   "outputs": [
    {
     "ename": "ModuleNotFoundError",
     "evalue": "No module named 'pynytimes'",
     "output_type": "error",
     "traceback": [
      "\u001b[0;31m---------------------------------------------------------------------------\u001b[0m",
      "\u001b[0;31mModuleNotFoundError\u001b[0m                       Traceback (most recent call last)",
      "Cell \u001b[0;32mIn[1], line 2\u001b[0m\n\u001b[1;32m      1\u001b[0m \u001b[38;5;28;01mimport\u001b[39;00m \u001b[38;5;21;01mpandas\u001b[39;00m \u001b[38;5;28;01mas\u001b[39;00m \u001b[38;5;21;01mpd\u001b[39;00m\n\u001b[0;32m----> 2\u001b[0m \u001b[38;5;28;01mfrom\u001b[39;00m \u001b[38;5;21;01mpynytimes\u001b[39;00m \u001b[38;5;28;01mimport\u001b[39;00m NYTAPI\n\u001b[1;32m      3\u001b[0m \u001b[38;5;28;01mfrom\u001b[39;00m \u001b[38;5;21;01mdatetime\u001b[39;00m \u001b[38;5;28;01mimport\u001b[39;00m datetime\n\u001b[1;32m      4\u001b[0m \u001b[38;5;28;01mfrom\u001b[39;00m \u001b[38;5;21;01mkeys\u001b[39;00m \u001b[38;5;28;01mimport\u001b[39;00m NYT_API_KEY\n",
      "\u001b[0;31mModuleNotFoundError\u001b[0m: No module named 'pynytimes'"
     ]
    }
   ],
   "source": [
    "import pandas as pd\n",
    "from pynytimes import NYTAPI\n",
    "from datetime import datetime\n",
    "from keys import NYT_API_KEY\n",
    "\n",
    "nyt_api = NYTAPI(NYT_API_KEY, parse_dates=True)\n"
   ]
  },
  {
   "cell_type": "markdown",
   "metadata": {},
   "source": [
    "We then fetch the data one month at a time and store in a new `.csv` file. Note that the API has a limit of 5 calls per minute (see the API [FAQ's](https://developer.nytimes.com/faq#a11)), so we need to make sure to wait until 12 seconds between consecutive calls. Note that there is also a limit of 500 calls a day.  \n",
    "We wrap the process in a function so we can easily adjust the start and end date or change the path of the destination file. The function will also check whether the file already exists, and in that case give a warning before executing the procedure. This will help control the risk of restarting the relatively time-consuming process and limit unnecessary calls to the NYT servers.  \n",
    "Since we are only interested in articles, we also filter out all other document types during the process.  "
   ]
  },
  {
   "cell_type": "code",
   "execution_count": 52,
   "metadata": {},
   "outputs": [],
   "source": [
    "from os import listdir\n",
    "from dateutil.rrule import rrule, MONTHLY\n",
    "from time import sleep\n",
    "\n",
    "def scrape(start_date: datetime, end_date: datetime, dest: str='data/nyt_metadata.csv') -> None:\n",
    "    # Avoid restarting the process if the .csv already exists...\n",
    "    execute = dest.split('/')[-1] not in listdir(''.join(dest.split('/')[:-1]))\n",
    "    # ...unless the user confirms otherwise.\n",
    "    if not execute:\n",
    "        execute = input(f'A file already exists at `{dest}`. Do you want to continue?').lower() in ['y', 'yes']\n",
    "    \n",
    "    if execute:\n",
    "        df = pd.DataFrame()\n",
    "        for month in rrule(MONTHLY, dtstart=start_date, until=end_date):\n",
    "            print(f'Working on the month of {month}')\n",
    "            monthly_df = pd.DataFrame(nyt_api.archive_metadata(date=month))\n",
    "            monthly_df = monthly_df.loc[monthly_df.pub_date.apply(lambda x: str(x)) >= str(start_date)]\n",
    "            monthly_df = monthly_df.loc[monthly_df.pub_date.apply(lambda x: str(x)) < str(end_date)]\n",
    "            monthly_df = monthly_df.loc[monthly_df.document_type=='article']\n",
    "            if not monthly_df.empty:\n",
    "                df = pd.concat([df, monthly_df]) if not df.empty else monthly_df\n",
    "            sleep(12)   # The NYT servers have a limit of 5 calls per minute.\n",
    "        \n",
    "        df.to_csv(dest)"
   ]
  },
  {
   "cell_type": "code",
   "execution_count": 54,
   "metadata": {},
   "outputs": [
    {
     "name": "stdout",
     "output_type": "stream",
     "text": [
      "Working on the month of 2023-05-15 00:00:00\n",
      "Working on the month of 2023-06-15 00:00:00\n",
      "Working on the month of 2023-07-15 00:00:00\n",
      "Working on the month of 2023-08-15 00:00:00\n",
      "Working on the month of 2023-09-15 00:00:00\n",
      "Working on the month of 2023-10-15 00:00:00\n",
      "Working on the month of 2023-11-15 00:00:00\n",
      "Working on the month of 2023-12-15 00:00:00\n",
      "Working on the month of 2024-01-15 00:00:00\n",
      "Working on the month of 2024-02-15 00:00:00\n",
      "Working on the month of 2024-03-15 00:00:00\n",
      "Working on the month of 2024-04-15 00:00:00\n",
      "Working on the month of 2024-05-15 00:00:00\n"
     ]
    }
   ],
   "source": [
    "scrape(datetime(2023, 5, 15), datetime(2024, 5, 15))"
   ]
  }
 ],
 "metadata": {
  "kernelspec": {
   "display_name": "Python 3 (ipykernel)",
   "language": "python",
   "name": "python3"
  },
  "language_info": {
   "codemirror_mode": {
    "name": "ipython",
    "version": 3
   },
   "file_extension": ".py",
   "mimetype": "text/x-python",
   "name": "python",
   "nbconvert_exporter": "python",
   "pygments_lexer": "ipython3",
   "version": "3.11.5"
  }
 },
 "nbformat": 4,
 "nbformat_minor": 2
}
