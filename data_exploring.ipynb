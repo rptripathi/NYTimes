{
 "cells": [
  {
   "cell_type": "markdown",
   "metadata": {},
   "source": [
    "Output of this notebook is all data from 2023 05 01 to 2024 05 01\n",
    "There are around 7000 data points.\n",
    "\n"
   ]
  },
  {
   "cell_type": "code",
   "execution_count": 2,
   "metadata": {},
   "outputs": [],
   "source": [
    "import pandas as pd\n",
    "import numpy as np\n",
    "import matplotlib as plt\n"
   ]
  },
  {
   "cell_type": "code",
   "execution_count": 3,
   "metadata": {},
   "outputs": [],
   "source": [
    "df = pd.read_csv('out.csv',parse_dates=['pub_date'], low_memory=False)\n",
    "\n"
   ]
  },
  {
   "cell_type": "code",
   "execution_count": 4,
   "metadata": {},
   "outputs": [],
   "source": [
    "# position 4152 has wrong value\n",
    "# how do I make this automate?\n",
    "df = df.drop(4152)"
   ]
  },
  {
   "cell_type": "code",
   "execution_count": 5,
   "metadata": {},
   "outputs": [],
   "source": [
    "df['date'] = pd.to_datetime(df['pub_date'])"
   ]
  },
  {
   "cell_type": "code",
   "execution_count": 6,
   "metadata": {},
   "outputs": [],
   "source": [
    "\n",
    "def last_year (x):\n",
    "    if x.year<2023:\n",
    "        return False\n",
    "    elif x.year == 2023 and x.month<5:\n",
    "        return False\n",
    "    \n",
    "    return True"
   ]
  },
  {
   "cell_type": "code",
   "execution_count": 63,
   "metadata": {},
   "outputs": [],
   "source": [
    "df2 = df.loc[df.date.apply(last_year)]"
   ]
  },
  {
   "cell_type": "code",
   "execution_count": 8,
   "metadata": {},
   "outputs": [],
   "source": [
    "df2.to_csv('last_year.csv')"
   ]
  },
  {
   "cell_type": "markdown",
   "metadata": {},
   "source": [
    "Below we explore the structure of data, including:\n",
    "- max and min length of abstract (can be adapted to other string)\n",
    "- look at sample of "
   ]
  },
  {
   "cell_type": "code",
   "execution_count": 64,
   "metadata": {},
   "outputs": [
    {
     "data": {
      "text/plain": [
       "Index(['abstract', 'web_url', 'snippet', 'lead_paragraph', 'print_section',\n",
       "       'print_page', 'source', 'multimedia', 'headline', 'keywords',\n",
       "       'pub_date', 'document_type', 'news_desk', 'section_name', 'byline',\n",
       "       'type_of_material', '_id', 'word_count', 'uri', 'subsection_name',\n",
       "       'date'],\n",
       "      dtype='object')"
      ]
     },
     "execution_count": 64,
     "metadata": {},
     "output_type": "execute_result"
    }
   ],
   "source": [
    "df2.columns"
   ]
  },
  {
   "cell_type": "code",
   "execution_count": 14,
   "metadata": {},
   "outputs": [
    {
     "name": "stdout",
     "output_type": "stream",
     "text": [
      "Players who show up at the N.F.L. draft for Round 1 get measured in advance so that they can wear a properly fitting cap when their name is called.\n",
      "Players who show up at the N.F.L. draft for Round 1 get measured in advance so that they can wear a properly fitting cap when their name is called.\n",
      "nan\n",
      "The election of Santiago Peña keeps the right-wing Colorado Party in control of Paraguay, which it has run for all but five of the past 76 years.\n",
      "The election of Santiago Peña keeps the right-wing Colorado Party in control of Paraguay, which it has run for all but five of the past 76 years.\n",
      "POZO COLORADO, Paraguay — Paraguayans elected Santiago Peña, a 44-year-old conservative economist, as their new president on Sunday, keeping the South American nation in the control of the right-wing Colorado Party that has run the country for all but five of the past 76 years.\n",
      "This week, Kendall, Roman and Shiv are on a mission to impress the grown-ups watching them in what amounts to their public debut as the stewards of Logan’s legacy.\n",
      "This week, Kendall, Roman and Shiv are on a mission to impress the grown-ups watching them in what amounts to their public debut as the stewards of Logan’s legacy.\n",
      "The “Succession” world tour stops in Los Angeles this week, where the Waystar power-players are gathering at their Hollywood studio for Investor Day. The plan is to show off a line of state-of-the-art retirement communities called “Living+,” which Logan signed off on before he died. But secretly, Kendall and Roman are hoping their pitch will bump the stock price up so high before the GoJo acquisition that Lukas Matsson backs out of the deal.\n",
      "Barefoot on the tarmac, Matsson continues to shock. Shiv bares her neck and Kendall tries a flight jacket.\n",
      "Barefoot on the tarmac, Matsson continues to shock. Shiv bares her neck and Kendall tries a flight jacket.\n",
      "This article contains spoilers for Episode 6 of the final season of “Succession.”\n",
      "The Bruins had won an N.H.L.-best 65 games in the regular season and taken a 3-1 series lead, but the Panthers stunned them in Game 7 to eliminate Boston in the first round.\n",
      "The Bruins had won an N.H.L.-best 65 games in the regular season and taken a 3-1 series lead, but the Panthers stunned them in Game 7 to eliminate Boston in the first round.\n",
      "These Boston Bruins have not been accustomed to losing streaks.\n",
      "Sudan’s health system on the brink.\n",
      "Sudan’s health system on the brink.\n",
      "In the third week of brutal fighting in Sudan, health care services are rapidly unraveling in the nation’s capital, Khartoum. Hospitals have been shelled, and two-thirds of those in Khartoum have closed, according to the W.H.O. More than a dozen health care workers have been killed, officials say, and basic medical services have become scarce.\n",
      "New York’s affordability crisis has worsened since the pandemic, a report finds.\n",
      "New York’s affordability crisis has worsened since the pandemic, a report finds.\n",
      "Good morning. We’ll take a look at a troubling report on a problem that affects everyone in New York City — affordability.\n",
      "No corrections appeared in print on Monday, May 1, 2023.\n",
      "No corrections appeared in print on Monday, May 1, 2023.\n",
      "Errors are corrected during the press run whenever possible, so some errors noted here may not have appeared in all editions.\n",
      "Quotation of the Day for Monday, May 1, 2023.\n",
      "Quotation of the Day for Monday, May 1, 2023.\n",
      "“I don’t mind. But I also don’t care.”\n",
      "A new series about the woman who hid Anne Frank and her family premieres on National Geographic, and E! streams “the party of the year.”\n",
      "A new series about the woman who hid Anne Frank and her family premieres on National Geographic, and E! streams “the party of the year.”\n",
      "Between network, cable and streaming, the modern television landscape is a vast one. Here are some of the shows, specials and movies coming to TV this week, May 1-7. Details and times are subject to change.\n"
     ]
    }
   ],
   "source": [
    "for i in range(10):\n",
    "    print(df2.abstract.iloc[i])\n",
    "    print(df2.snippet.iloc[i])\n",
    "    print(df2.lead_paragraph.iloc[i])"
   ]
  },
  {
   "cell_type": "markdown",
   "metadata": {},
   "source": [
    "Above piece shows  that abstract and snippet are likely the same\n",
    "\n",
    "leading paragraph might not be useful in analysing the theme"
   ]
  },
  {
   "cell_type": "code",
   "execution_count": 66,
   "metadata": {},
   "outputs": [],
   "source": [
    "df3 = df2.dropna(subset = 'abstract',inplace= False)"
   ]
  },
  {
   "cell_type": "code",
   "execution_count": 84,
   "metadata": {},
   "outputs": [
    {
     "name": "stdout",
     "output_type": "stream",
     "text": [
      "Nearly 13 years after his civil service in Senegal, Paul Drey questions his role as a volunteer in the German system of development aid.\n"
     ]
    }
   ],
   "source": [
    "#for i in range (10):\n",
    "print(df2.abstract.value_counts().index[20])"
   ]
  },
  {
   "cell_type": "code",
   "execution_count": 21,
   "metadata": {},
   "outputs": [],
   "source": [
    "from collections import *\n",
    "import re"
   ]
  },
  {
   "cell_type": "code",
   "execution_count": 51,
   "metadata": {},
   "outputs": [],
   "source": [
    "#len(df2.abstract.iloc[2].strip().split())\n",
    "def sen_len(sentence):\n",
    "    return len(re.findall(r\"[\\w]+\",str(sentence)))\n"
   ]
  },
  {
   "cell_type": "code",
   "execution_count": 69,
   "metadata": {},
   "outputs": [
    {
     "data": {
      "text/plain": [
       "4151     31\n",
       "53162    28\n",
       "53163    31\n",
       "53164    18\n",
       "53165    37\n",
       "         ..\n",
       "59995    29\n",
       "59996    19\n",
       "59997    24\n",
       "59998    19\n",
       "59999    30\n",
       "Name: abstract, Length: 6813, dtype: int64"
      ]
     },
     "execution_count": 69,
     "metadata": {},
     "output_type": "execute_result"
    }
   ],
   "source": [
    "df3.abstract.apply(sen_len)"
   ]
  },
  {
   "cell_type": "code",
   "execution_count": 61,
   "metadata": {},
   "outputs": [
    {
     "ename": "AttributeError",
     "evalue": "'NoneType' object has no attribute 'abstract'",
     "output_type": "error",
     "traceback": [
      "\u001b[1;31m---------------------------------------------------------------------------\u001b[0m",
      "\u001b[1;31mAttributeError\u001b[0m                            Traceback (most recent call last)",
      "Cell \u001b[1;32mIn[61], line 1\u001b[0m\n\u001b[1;32m----> 1\u001b[0m longest_abstract \u001b[38;5;241m=\u001b[39m [df2\u001b[38;5;241m.\u001b[39mabstract\u001b[38;5;241m.\u001b[39miloc[np\u001b[38;5;241m.\u001b[39margmax(df2\u001b[38;5;241m.\u001b[39mabstract\u001b[38;5;241m.\u001b[39mapply(sen_len))], np\u001b[38;5;241m.\u001b[39mmax(df2\u001b[38;5;241m.\u001b[39mabstract\u001b[38;5;241m.\u001b[39mapply(sen_len))]\n\u001b[0;32m      2\u001b[0m shortest_abstract \u001b[38;5;241m=\u001b[39m [df2\u001b[38;5;241m.\u001b[39mabstract\u001b[38;5;241m.\u001b[39miloc[np\u001b[38;5;241m.\u001b[39margmin(df2\u001b[38;5;241m.\u001b[39mabstract\u001b[38;5;241m.\u001b[39mapply(sen_len))], np\u001b[38;5;241m.\u001b[39mmin(df2\u001b[38;5;241m.\u001b[39mabstract\u001b[38;5;241m.\u001b[39mapply(sen_len))]\n",
      "\u001b[1;31mAttributeError\u001b[0m: 'NoneType' object has no attribute 'abstract'"
     ]
    }
   ],
   "source": [
    "longest_abstract = [df2.abstract.iloc[np.argmax(df2.abstract.apply(sen_len))], np.max(df2.abstract.apply(sen_len))]\n",
    "shortest_abstract = [df2.abstract.iloc[np.argmin(df2.abstract.apply(sen_len))], np.min(df2.abstract.apply(sen_len))]\n",
    "\n"
   ]
  },
  {
   "cell_type": "code",
   "execution_count": 57,
   "metadata": {},
   "outputs": [
    {
     "name": "stdout",
     "output_type": "stream",
     "text": [
      "['Four C-130 military transport planes towered over the tarmac at the international airport in Austin, Texas, idling with the doors open as the sun rose over a news conference called by the state’s governor, Greg Abbott. As Mr. Abbott began speaking on Monday at a lectern emblazoned with the words “Securing the Border,” about 200 soldiers from the National Guard hustled onto the planes.', 66]\n",
      "[nan, 1]\n"
     ]
    }
   ],
   "source": [
    "print(longest_abstract)\n",
    "print(shortest_abstract)"
   ]
  }
 ],
 "metadata": {
  "kernelspec": {
   "display_name": "base",
   "language": "python",
   "name": "python3"
  },
  "language_info": {
   "codemirror_mode": {
    "name": "ipython",
    "version": 3
   },
   "file_extension": ".py",
   "mimetype": "text/x-python",
   "name": "python",
   "nbconvert_exporter": "python",
   "pygments_lexer": "ipython3",
   "version": "3.11.5"
  }
 },
 "nbformat": 4,
 "nbformat_minor": 2
}
