{
 "cells": [
  {
   "cell_type": "markdown",
   "metadata": {},
   "source": [
    "# Implementing LDA using Gensim package"
   ]
  },
  {
   "cell_type": "code",
   "execution_count": 1,
   "metadata": {},
   "outputs": [],
   "source": [
    "import numpy as np\n",
    "import pandas as pd\n",
    "import ast\n",
    "import json\n",
    "import os\n",
    "#os.environ['KMP_WARNINGS'] = '0'\n",
    "#os.environ['OMP_NUM_THREADS'] = '1'"
   ]
  },
  {
   "cell_type": "code",
   "execution_count": 2,
   "metadata": {},
   "outputs": [
    {
     "data": {
      "text/html": [
       "<div>\n",
       "<style scoped>\n",
       "    .dataframe tbody tr th:only-of-type {\n",
       "        vertical-align: middle;\n",
       "    }\n",
       "\n",
       "    .dataframe tbody tr th {\n",
       "        vertical-align: top;\n",
       "    }\n",
       "\n",
       "    .dataframe thead th {\n",
       "        text-align: right;\n",
       "    }\n",
       "</style>\n",
       "<table border=\"1\" class=\"dataframe\">\n",
       "  <thead>\n",
       "    <tr style=\"text-align: right;\">\n",
       "      <th></th>\n",
       "      <th>Unnamed: 0.1</th>\n",
       "      <th>Unnamed: 0</th>\n",
       "      <th>abstract</th>\n",
       "      <th>web_url</th>\n",
       "      <th>snippet</th>\n",
       "      <th>lead_paragraph</th>\n",
       "      <th>print_section</th>\n",
       "      <th>print_page</th>\n",
       "      <th>source</th>\n",
       "      <th>multimedia</th>\n",
       "      <th>...</th>\n",
       "      <th>news_desk</th>\n",
       "      <th>section_name</th>\n",
       "      <th>subsection_name</th>\n",
       "      <th>byline</th>\n",
       "      <th>type_of_material</th>\n",
       "      <th>_id</th>\n",
       "      <th>word_count</th>\n",
       "      <th>uri</th>\n",
       "      <th>tokenized_abstract</th>\n",
       "      <th>tokenized_lead_par</th>\n",
       "    </tr>\n",
       "  </thead>\n",
       "  <tbody>\n",
       "    <tr>\n",
       "      <th>0</th>\n",
       "      <td>0</td>\n",
       "      <td>1813</td>\n",
       "      <td>economic hardship climate change political ins...</td>\n",
       "      <td>https://www.nytimes.com/2023/05/14/us/migrants...</td>\n",
       "      <td>Economic hardship, climate change, political i...</td>\n",
       "      <td>relative quiet has prevailed along the souther...</td>\n",
       "      <td>A</td>\n",
       "      <td>14.0</td>\n",
       "      <td>The New York Times</td>\n",
       "      <td>[{'rank': 0, 'subtype': 'xlarge', 'caption': N...</td>\n",
       "      <td>...</td>\n",
       "      <td>National</td>\n",
       "      <td>U.S.</td>\n",
       "      <td>NaN</td>\n",
       "      <td>{'original': 'By Miriam Jordan', 'person': [{'...</td>\n",
       "      <td>News</td>\n",
       "      <td>nyt://article/3d95da14-0c64-59c6-bae2-02b151ad...</td>\n",
       "      <td>1217</td>\n",
       "      <td>nyt://article/3d95da14-0c64-59c6-bae2-02b151ad...</td>\n",
       "      <td>['economic', 'hardship', 'climate', 'change', ...</td>\n",
       "      <td>['relative', 'quiet', 'has', 'prevailed', 'alo...</td>\n",
       "    </tr>\n",
       "    <tr>\n",
       "      <th>1</th>\n",
       "      <td>1</td>\n",
       "      <td>1814</td>\n",
       "      <td>election night america stay away from the bode...</td>\n",
       "      <td>https://www.nytimes.com/2023/05/14/arts/televi...</td>\n",
       "      <td>It’s election night in America. Stay away from...</td>\n",
       "      <td>the day before logan roy died delivered fiery ...</td>\n",
       "      <td>NaN</td>\n",
       "      <td>NaN</td>\n",
       "      <td>The New York Times</td>\n",
       "      <td>[{'rank': 0, 'subtype': 'xlarge', 'caption': N...</td>\n",
       "      <td>...</td>\n",
       "      <td>Culture</td>\n",
       "      <td>Arts</td>\n",
       "      <td>Television</td>\n",
       "      <td>{'original': 'By Noel Murray', 'person': [{'fi...</td>\n",
       "      <td>News</td>\n",
       "      <td>nyt://article/17f6f628-2939-541b-a0e8-5c503fa6...</td>\n",
       "      <td>1495</td>\n",
       "      <td>nyt://article/17f6f628-2939-541b-a0e8-5c503fa6...</td>\n",
       "      <td>['election', 'night', 'america', 'stay', 'away...</td>\n",
       "      <td>['the', 'day', 'before', 'logan', 'roy', 'died...</td>\n",
       "    </tr>\n",
       "    <tr>\n",
       "      <th>2</th>\n",
       "      <td>2</td>\n",
       "      <td>1815</td>\n",
       "      <td>tom stressed dress shoes shiv hides beneath la...</td>\n",
       "      <td>https://www.nytimes.com/2023/05/14/style/succe...</td>\n",
       "      <td>Tom is stressed in dress shoes, Shiv hides ben...</td>\n",
       "      <td>this article contains spoilers for episode the...</td>\n",
       "      <td>NaN</td>\n",
       "      <td>NaN</td>\n",
       "      <td>The New York Times</td>\n",
       "      <td>[{'rank': 0, 'subtype': 'xlarge', 'caption': N...</td>\n",
       "      <td>...</td>\n",
       "      <td>Styles</td>\n",
       "      <td>Style</td>\n",
       "      <td>NaN</td>\n",
       "      <td>{'original': 'By The Styles Desk', 'person': [...</td>\n",
       "      <td>News</td>\n",
       "      <td>nyt://article/70773662-4815-5d40-8460-b438aa44...</td>\n",
       "      <td>665</td>\n",
       "      <td>nyt://article/70773662-4815-5d40-8460-b438aa44...</td>\n",
       "      <td>['tom', 'stressed', 'dress', 'shoes', 'shiv', ...</td>\n",
       "      <td>['this', 'article', 'contains', 'spoilers', 'f...</td>\n",
       "    </tr>\n",
       "    <tr>\n",
       "      <th>3</th>\n",
       "      <td>3</td>\n",
       "      <td>1816</td>\n",
       "      <td>corrections appeared print monday may 2023</td>\n",
       "      <td>https://www.nytimes.com/2023/05/14/pageoneplus...</td>\n",
       "      <td>No corrections appeared in print on Monday, Ma...</td>\n",
       "      <td>errors are corrected during the press run when...</td>\n",
       "      <td>NaN</td>\n",
       "      <td>NaN</td>\n",
       "      <td>The New York Times</td>\n",
       "      <td>[]</td>\n",
       "      <td>...</td>\n",
       "      <td>Corrections</td>\n",
       "      <td>Corrections</td>\n",
       "      <td>NaN</td>\n",
       "      <td>{'original': '', 'person': [], 'organization':...</td>\n",
       "      <td>News</td>\n",
       "      <td>nyt://article/199d026e-1372-51a3-adf0-c82abeeb...</td>\n",
       "      <td>52</td>\n",
       "      <td>nyt://article/199d026e-1372-51a3-adf0-c82abeeb...</td>\n",
       "      <td>['corrections', 'appeared', 'print', 'monday',...</td>\n",
       "      <td>['errors', 'are', 'corrected', 'during', 'the'...</td>\n",
       "    </tr>\n",
       "    <tr>\n",
       "      <th>4</th>\n",
       "      <td>5</td>\n",
       "      <td>1818</td>\n",
       "      <td>the year old french basketball star the most h...</td>\n",
       "      <td>https://www.nytimes.com/2023/05/15/sports/bask...</td>\n",
       "      <td>The 19-year-old French basketball star is the ...</td>\n",
       "      <td>boris diaw was passing through paris late sept...</td>\n",
       "      <td>D</td>\n",
       "      <td>1.0</td>\n",
       "      <td>The New York Times</td>\n",
       "      <td>[{'rank': 0, 'subtype': 'xlarge', 'caption': N...</td>\n",
       "      <td>...</td>\n",
       "      <td>Sports</td>\n",
       "      <td>Sports</td>\n",
       "      <td>Pro Basketball</td>\n",
       "      <td>{'original': 'By Tania Ganguli', 'person': [{'...</td>\n",
       "      <td>News</td>\n",
       "      <td>nyt://article/26a856ce-3d2c-5df2-baa9-0bd6e29f...</td>\n",
       "      <td>1904</td>\n",
       "      <td>nyt://article/26a856ce-3d2c-5df2-baa9-0bd6e29f...</td>\n",
       "      <td>['the', 'year', 'old', 'french', 'basketball',...</td>\n",
       "      <td>['boris', 'diaw', 'was', 'passing', 'through',...</td>\n",
       "    </tr>\n",
       "  </tbody>\n",
       "</table>\n",
       "<p>5 rows × 24 columns</p>\n",
       "</div>"
      ],
      "text/plain": [
       "   Unnamed: 0.1  Unnamed: 0  \\\n",
       "0             0        1813   \n",
       "1             1        1814   \n",
       "2             2        1815   \n",
       "3             3        1816   \n",
       "4             5        1818   \n",
       "\n",
       "                                            abstract  \\\n",
       "0  economic hardship climate change political ins...   \n",
       "1  election night america stay away from the bode...   \n",
       "2  tom stressed dress shoes shiv hides beneath la...   \n",
       "3         corrections appeared print monday may 2023   \n",
       "4  the year old french basketball star the most h...   \n",
       "\n",
       "                                             web_url  \\\n",
       "0  https://www.nytimes.com/2023/05/14/us/migrants...   \n",
       "1  https://www.nytimes.com/2023/05/14/arts/televi...   \n",
       "2  https://www.nytimes.com/2023/05/14/style/succe...   \n",
       "3  https://www.nytimes.com/2023/05/14/pageoneplus...   \n",
       "4  https://www.nytimes.com/2023/05/15/sports/bask...   \n",
       "\n",
       "                                             snippet  \\\n",
       "0  Economic hardship, climate change, political i...   \n",
       "1  It’s election night in America. Stay away from...   \n",
       "2  Tom is stressed in dress shoes, Shiv hides ben...   \n",
       "3  No corrections appeared in print on Monday, Ma...   \n",
       "4  The 19-year-old French basketball star is the ...   \n",
       "\n",
       "                                      lead_paragraph print_section  \\\n",
       "0  relative quiet has prevailed along the souther...             A   \n",
       "1  the day before logan roy died delivered fiery ...           NaN   \n",
       "2  this article contains spoilers for episode the...           NaN   \n",
       "3  errors are corrected during the press run when...           NaN   \n",
       "4  boris diaw was passing through paris late sept...             D   \n",
       "\n",
       "   print_page              source  \\\n",
       "0        14.0  The New York Times   \n",
       "1         NaN  The New York Times   \n",
       "2         NaN  The New York Times   \n",
       "3         NaN  The New York Times   \n",
       "4         1.0  The New York Times   \n",
       "\n",
       "                                          multimedia  ...    news_desk  \\\n",
       "0  [{'rank': 0, 'subtype': 'xlarge', 'caption': N...  ...     National   \n",
       "1  [{'rank': 0, 'subtype': 'xlarge', 'caption': N...  ...      Culture   \n",
       "2  [{'rank': 0, 'subtype': 'xlarge', 'caption': N...  ...       Styles   \n",
       "3                                                 []  ...  Corrections   \n",
       "4  [{'rank': 0, 'subtype': 'xlarge', 'caption': N...  ...       Sports   \n",
       "\n",
       "  section_name subsection_name  \\\n",
       "0         U.S.             NaN   \n",
       "1         Arts      Television   \n",
       "2        Style             NaN   \n",
       "3  Corrections             NaN   \n",
       "4       Sports  Pro Basketball   \n",
       "\n",
       "                                              byline type_of_material  \\\n",
       "0  {'original': 'By Miriam Jordan', 'person': [{'...             News   \n",
       "1  {'original': 'By Noel Murray', 'person': [{'fi...             News   \n",
       "2  {'original': 'By The Styles Desk', 'person': [...             News   \n",
       "3  {'original': '', 'person': [], 'organization':...             News   \n",
       "4  {'original': 'By Tania Ganguli', 'person': [{'...             News   \n",
       "\n",
       "                                                 _id word_count  \\\n",
       "0  nyt://article/3d95da14-0c64-59c6-bae2-02b151ad...       1217   \n",
       "1  nyt://article/17f6f628-2939-541b-a0e8-5c503fa6...       1495   \n",
       "2  nyt://article/70773662-4815-5d40-8460-b438aa44...        665   \n",
       "3  nyt://article/199d026e-1372-51a3-adf0-c82abeeb...         52   \n",
       "4  nyt://article/26a856ce-3d2c-5df2-baa9-0bd6e29f...       1904   \n",
       "\n",
       "                                                 uri  \\\n",
       "0  nyt://article/3d95da14-0c64-59c6-bae2-02b151ad...   \n",
       "1  nyt://article/17f6f628-2939-541b-a0e8-5c503fa6...   \n",
       "2  nyt://article/70773662-4815-5d40-8460-b438aa44...   \n",
       "3  nyt://article/199d026e-1372-51a3-adf0-c82abeeb...   \n",
       "4  nyt://article/26a856ce-3d2c-5df2-baa9-0bd6e29f...   \n",
       "\n",
       "                                  tokenized_abstract  \\\n",
       "0  ['economic', 'hardship', 'climate', 'change', ...   \n",
       "1  ['election', 'night', 'america', 'stay', 'away...   \n",
       "2  ['tom', 'stressed', 'dress', 'shoes', 'shiv', ...   \n",
       "3  ['corrections', 'appeared', 'print', 'monday',...   \n",
       "4  ['the', 'year', 'old', 'french', 'basketball',...   \n",
       "\n",
       "                                  tokenized_lead_par  \n",
       "0  ['relative', 'quiet', 'has', 'prevailed', 'alo...  \n",
       "1  ['the', 'day', 'before', 'logan', 'roy', 'died...  \n",
       "2  ['this', 'article', 'contains', 'spoilers', 'f...  \n",
       "3  ['errors', 'are', 'corrected', 'during', 'the'...  \n",
       "4  ['boris', 'diaw', 'was', 'passing', 'through',...  \n",
       "\n",
       "[5 rows x 24 columns]"
      ]
     },
     "execution_count": 2,
     "metadata": {},
     "output_type": "execute_result"
    }
   ],
   "source": [
    "# Read the CSV file\n",
    "df = pd.read_csv('NYTimes/data/nyt_metadata_cleaned.csv', low_memory=False)\n",
    "df.head()"
   ]
  },
  {
   "cell_type": "markdown",
   "metadata": {},
   "source": [
    "# Cleaning"
   ]
  },
  {
   "cell_type": "code",
   "execution_count": 3,
   "metadata": {},
   "outputs": [],
   "source": [
    "# Drop columns that are not needed\n",
    "columns_to_drop = ['web_url', \n",
    "                   'snippet', \n",
    "                   'lead_paragraph', \n",
    "                   'print_section', \n",
    "                   'print_page', \n",
    "                   'source', \n",
    "                   'multimedia', \n",
    "                   'news_desk',\n",
    "                   'byline',\n",
    "                   '_id',\n",
    "                   'uri',\n",
    "                   'subsection_name',\n",
    "                   'word_count']\n",
    "#                    'keywords'\n",
    "df.drop(columns=columns_to_drop, inplace=True)\n",
    "\n",
    "# Drop rows with missing abstracts\n",
    "drop_rows = df[df['abstract'].isnull()].index\n",
    "df.drop(drop_rows, inplace=True)\n",
    "\n",
    "# Change the date column to datetime\n",
    "df['pub_date'] = pd.to_datetime(df['pub_date'])\n",
    "\n",
    "# Change the abstract column to string\n",
    "df['abstract'] = df['abstract'].astype(str)"
   ]
  },
  {
   "cell_type": "code",
   "execution_count": 4,
   "metadata": {},
   "outputs": [],
   "source": [
    "# Function to extract the 'main' value from JSON-like strings\n",
    "def extract_main(headline_str):\n",
    "    try:\n",
    "        # Safely evaluate the string to convert it to a dictionary\n",
    "        json_dict = ast.literal_eval(headline_str)\n",
    "        # Access and return the 'main' key\n",
    "        return json_dict.get('main', None)\n",
    "    except (ValueError, SyntaxError):\n",
    "        return None\n",
    "\n",
    "# Apply the function to the 'headline' column\n",
    "df['headline'] = df['headline'].apply(extract_main)"
   ]
  },
  {
   "cell_type": "code",
   "execution_count": 5,
   "metadata": {},
   "outputs": [
    {
     "data": {
      "text/plain": [
       "\"[{'name': 'subject', 'value': 'Illegal Immigration', 'rank': 1, 'major': 'N'}, {'name': 'subject', 'value': 'Border Barriers', 'rank': 2, 'major': 'N'}, {'name': 'subject', 'value': 'Asylum, Right of', 'rank': 3, 'major': 'N'}, {'name': 'subject', 'value': 'Refugees and Displaced Persons', 'rank': 4, 'major': 'N'}, {'name': 'subject', 'value': 'Immigration and Emigration', 'rank': 5, 'major': 'N'}, {'name': 'subject', 'value': 'Immigration Detention', 'rank': 6, 'major': 'N'}, {'name': 'organizations', 'value': 'Border Patrol (US)', 'rank': 7, 'major': 'N'}, {'name': 'glocations', 'value': 'United States', 'rank': 8, 'major': 'N'}, {'name': 'glocations', 'value': 'Mexico', 'rank': 9, 'major': 'N'}]\""
      ]
     },
     "execution_count": 5,
     "metadata": {},
     "output_type": "execute_result"
    }
   ],
   "source": [
    "df.keywords[0]"
   ]
  },
  {
   "cell_type": "code",
   "execution_count": 6,
   "metadata": {},
   "outputs": [],
   "source": [
    "# Use 2000 of the abstracts for the analysis\n",
    "abstracts = df['abstract']\n",
    "docs = abstracts.to_list()"
   ]
  },
  {
   "cell_type": "code",
   "execution_count": 7,
   "metadata": {},
   "outputs": [
    {
     "data": {
      "text/plain": [
       "41045"
      ]
     },
     "execution_count": 7,
     "metadata": {},
     "output_type": "execute_result"
    }
   ],
   "source": [
    "len(docs)"
   ]
  },
  {
   "cell_type": "code",
   "execution_count": 8,
   "metadata": {},
   "outputs": [],
   "source": [
    "# Tokenize the documents.\n",
    "\n",
    "from nltk.tokenize import RegexpTokenizer\n",
    "\n",
    "# Split the documents into tokens.\n",
    "tokenizer = RegexpTokenizer(r'\\w+')\n",
    "for idx in range(len(docs)):\n",
    "    docs[idx] = docs[idx].lower()  # Convert to lowercase.\n",
    "    docs[idx] = tokenizer.tokenize(docs[idx])  # Split into words.\n",
    "\n",
    "# Remove numbers, but not words that contain numbers.\n",
    "docs = [[token for token in doc if not token.isnumeric()] for doc in docs]\n",
    "\n",
    "# Remove words that are only one character.\n",
    "docs = [[token for token in doc if len(token) > 1] for doc in docs]"
   ]
  },
  {
   "cell_type": "code",
   "execution_count": 9,
   "metadata": {},
   "outputs": [
    {
     "data": {
      "text/plain": [
       "[['economic',\n",
       "  'hardship',\n",
       "  'climate',\n",
       "  'change',\n",
       "  'political',\n",
       "  'instability',\n",
       "  'and',\n",
       "  'gang',\n",
       "  'violence',\n",
       "  'will',\n",
       "  'continue',\n",
       "  'spur',\n",
       "  'emigration',\n",
       "  'from',\n",
       "  'many',\n",
       "  'corners',\n",
       "  'the',\n",
       "  'world'],\n",
       " ['election',\n",
       "  'night',\n",
       "  'america',\n",
       "  'stay',\n",
       "  'away',\n",
       "  'from',\n",
       "  'the',\n",
       "  'bodega',\n",
       "  'sushi']]"
      ]
     },
     "execution_count": 9,
     "metadata": {},
     "output_type": "execute_result"
    }
   ],
   "source": [
    "docs[:2]"
   ]
  },
  {
   "cell_type": "code",
   "execution_count": 10,
   "metadata": {},
   "outputs": [
    {
     "name": "stderr",
     "output_type": "stream",
     "text": [
      "[nltk_data] Downloading package wordnet to\n",
      "[nltk_data]     /Users/ravitripathi/nltk_data...\n",
      "[nltk_data]   Package wordnet is already up-to-date!\n"
     ]
    }
   ],
   "source": [
    "# Lemmatize the documents.\n",
    "\n",
    "import nltk\n",
    "nltk.download('wordnet')\n",
    "from nltk.stem.wordnet import WordNetLemmatizer"
   ]
  },
  {
   "cell_type": "code",
   "execution_count": 11,
   "metadata": {},
   "outputs": [],
   "source": [
    "# Lemmatize all words in documents.\n",
    "lemmatizer = WordNetLemmatizer()\n",
    "docs = [[lemmatizer.lemmatize(token) for token in doc] for doc in docs]"
   ]
  },
  {
   "cell_type": "code",
   "execution_count": 12,
   "metadata": {},
   "outputs": [
    {
     "data": {
      "text/plain": [
       "41045"
      ]
     },
     "execution_count": 12,
     "metadata": {},
     "output_type": "execute_result"
    }
   ],
   "source": [
    "len(docs)"
   ]
  },
  {
   "cell_type": "code",
   "execution_count": 13,
   "metadata": {},
   "outputs": [],
   "source": [
    "# Compute bigrams.\n",
    "\n",
    "from gensim.models import Phrases\n",
    "\n",
    "# Add bigrams and trigrams to docs (only ones that appear 20 times or more).\n",
    "bigram = Phrases(docs, min_count=20)\n",
    "for idx in range(len(docs)):\n",
    "    for token in bigram[docs[idx]]:\n",
    "        if '_' in token:\n",
    "            # Token is a bigram, add to document.\n",
    "            docs[idx].append(token)"
   ]
  },
  {
   "cell_type": "code",
   "execution_count": 14,
   "metadata": {},
   "outputs": [
    {
     "data": {
      "text/plain": [
       "['election',\n",
       " 'night',\n",
       " 'america',\n",
       " 'stay',\n",
       " 'away',\n",
       " 'from',\n",
       " 'the',\n",
       " 'bodega',\n",
       " 'sushi',\n",
       " 'away_from']"
      ]
     },
     "execution_count": 14,
     "metadata": {},
     "output_type": "execute_result"
    }
   ],
   "source": [
    "docs[1]"
   ]
  },
  {
   "cell_type": "code",
   "execution_count": 15,
   "metadata": {},
   "outputs": [],
   "source": [
    "# Remove rare and common tokens.\n",
    "\n",
    "from gensim.corpora import Dictionary\n",
    "\n",
    "# Create a dictionary representation of the documents.\n",
    "dictionary = Dictionary(docs)\n",
    "\n",
    "# Filter out words that occur less than 20 documents, or more than 50% of the documents.\n",
    "dictionary.filter_extremes(no_below=20, no_above=0.5)"
   ]
  },
  {
   "cell_type": "code",
   "execution_count": 16,
   "metadata": {},
   "outputs": [
    {
     "data": {
      "text/plain": [
       "[['economic',\n",
       "  'hardship',\n",
       "  'climate',\n",
       "  'change',\n",
       "  'political',\n",
       "  'instability',\n",
       "  'and',\n",
       "  'gang',\n",
       "  'violence',\n",
       "  'will',\n",
       "  'continue',\n",
       "  'spur',\n",
       "  'emigration',\n",
       "  'from',\n",
       "  'many',\n",
       "  'corner',\n",
       "  'the',\n",
       "  'world',\n",
       "  'climate_change']]"
      ]
     },
     "execution_count": 16,
     "metadata": {},
     "output_type": "execute_result"
    }
   ],
   "source": [
    "docs[:1]"
   ]
  },
  {
   "cell_type": "code",
   "execution_count": 17,
   "metadata": {},
   "outputs": [
    {
     "name": "stderr",
     "output_type": "stream",
     "text": [
      "[nltk_data] Downloading package stopwords to\n",
      "[nltk_data]     /Users/ravitripathi/nltk_data...\n",
      "[nltk_data]   Package stopwords is already up-to-date!\n"
     ]
    }
   ],
   "source": [
    "import nltk\n",
    "from nltk.corpus import stopwords\n",
    "\n",
    "# Download stopwords if not already downloaded\n",
    "nltk.download('stopwords')\n",
    "\n",
    "# Define the stopwords\n",
    "stop_words = set(stopwords.words('english'))\n",
    "\n",
    "# Remove stopwords from each document\n",
    "filtered_docs = [[word for word in doc if word not in stop_words] for doc in docs]"
   ]
  },
  {
   "cell_type": "code",
   "execution_count": 18,
   "metadata": {},
   "outputs": [
    {
     "data": {
      "text/plain": [
       "[['economic',\n",
       "  'hardship',\n",
       "  'climate',\n",
       "  'change',\n",
       "  'political',\n",
       "  'instability',\n",
       "  'gang',\n",
       "  'violence',\n",
       "  'continue',\n",
       "  'spur',\n",
       "  'emigration',\n",
       "  'many',\n",
       "  'corner',\n",
       "  'world',\n",
       "  'climate_change']]"
      ]
     },
     "execution_count": 18,
     "metadata": {},
     "output_type": "execute_result"
    }
   ],
   "source": [
    "filtered_docs[:1]"
   ]
  },
  {
   "cell_type": "code",
   "execution_count": 19,
   "metadata": {},
   "outputs": [],
   "source": [
    "## Concatenate each entry into a single string after removing stopwords\n",
    "#cleaned_docs = [' '.join(doc) for doc in filtered_docs]\n",
    "\n",
    "## Example of how to print the filtered and concatenated result for the first document\n",
    "#print(cleaned_docs[3])"
   ]
  },
  {
   "cell_type": "code",
   "execution_count": 20,
   "metadata": {},
   "outputs": [],
   "source": [
    "# Vectorize data.\n",
    "\n",
    "# Bag-of-words representation of the documents.\n",
    "corpus = [dictionary.doc2bow(doc) for doc in docs]"
   ]
  },
  {
   "cell_type": "code",
   "execution_count": 21,
   "metadata": {},
   "outputs": [
    {
     "data": {
      "text/plain": [
       "[[(0, 1),\n",
       "  (1, 1),\n",
       "  (2, 1),\n",
       "  (3, 1),\n",
       "  (4, 1),\n",
       "  (5, 1),\n",
       "  (6, 1),\n",
       "  (7, 1),\n",
       "  (8, 1),\n",
       "  (9, 1),\n",
       "  (10, 1),\n",
       "  (11, 1),\n",
       "  (12, 1),\n",
       "  (13, 1)],\n",
       " [(7, 1), (14, 1), (15, 1), (16, 1), (17, 1), (18, 1), (19, 1)]]"
      ]
     },
     "execution_count": 21,
     "metadata": {},
     "output_type": "execute_result"
    }
   ],
   "source": [
    "corpus[:2]"
   ]
  },
  {
   "cell_type": "code",
   "execution_count": 22,
   "metadata": {},
   "outputs": [],
   "source": [
    "import gensim\n",
    "import gensim.corpora as corpora\n",
    "from gensim.utils import simple_preprocess\n",
    "from gensim.models import CoherenceModel"
   ]
  },
  {
   "cell_type": "code",
   "execution_count": 23,
   "metadata": {},
   "outputs": [],
   "source": [
    "# Create Dictionary\n",
    "id2word = corpora.Dictionary(filtered_docs)\n",
    "\n",
    "# Create Corpus\n",
    "texts = filtered_docs"
   ]
  },
  {
   "cell_type": "code",
   "execution_count": 24,
   "metadata": {},
   "outputs": [
    {
     "data": {
      "text/plain": [
       "[[('change', 1),\n",
       "  ('climate', 1),\n",
       "  ('climate_change', 1),\n",
       "  ('continue', 1),\n",
       "  ('corner', 1),\n",
       "  ('economic', 1),\n",
       "  ('emigration', 1),\n",
       "  ('gang', 1),\n",
       "  ('hardship', 1),\n",
       "  ('instability', 1),\n",
       "  ('many', 1),\n",
       "  ('political', 1),\n",
       "  ('spur', 1),\n",
       "  ('violence', 1)]]"
      ]
     },
     "execution_count": 24,
     "metadata": {},
     "output_type": "execute_result"
    }
   ],
   "source": [
    "# Human readable format of corpus (term-frequency)\n",
    "[[(id2word[id], freq) for id, freq in cp] for cp in corpus[:1]]"
   ]
  },
  {
   "cell_type": "code",
   "execution_count": 44,
   "metadata": {},
   "outputs": [],
   "source": [
    "lda_model = gensim.models.ldamodel.LdaModel(corpus=corpus,\n",
    "                                           id2word=id2word,\n",
    "                                           num_topics=10, \n",
    "                                           random_state=100,\n",
    "                                           update_every=1,\n",
    "                                           chunksize=100,\n",
    "                                           passes=10,\n",
    "                                           alpha='auto',\n",
    "                                           per_word_topics=True)"
   ]
  },
  {
   "cell_type": "code",
   "execution_count": 45,
   "metadata": {},
   "outputs": [
    {
     "name": "stdout",
     "output_type": "stream",
     "text": [
      "[(0,\n",
      "  '0.042*\"church\" + 0.039*\"ha\" + 0.026*\"violated\" + 0.023*\"method\" + '\n",
      "  '0.020*\"play\" + 0.019*\"governor\" + 0.017*\"com\" + 0.016*\"reality\" + '\n",
      "  '0.016*\"protection\" + 0.015*\"paid\" + 0.014*\"europe\" + 0.014*\"hansol\" + '\n",
      "  '0.014*\"wooed\" + 0.013*\"democratic\" + 0.013*\"article_nytimes\" + '\n",
      "  '0.012*\"federal_reserve\" + 0.011*\"ha_appeared\" + 0.011*\"biden\" + '\n",
      "  '0.011*\"unanimous\" + 0.010*\"ambassador\" + 0.010*\"tobago\" + 0.010*\"nation\" + '\n",
      "  '0.009*\"number\" + 0.009*\"access\" + 0.009*\"lebron\" + 0.009*\"car\" + '\n",
      "  '0.009*\"giant\" + 0.009*\"layer\" + 0.008*\"attitude\" + 0.008*\"ultimate\"'),\n",
      " (1,\n",
      "  '0.086*\"american\" + 0.042*\"light\" + 0.042*\"offered\" + 0.030*\"tilted\" + '\n",
      "  '0.024*\"veteran\" + 0.018*\"post\" + 0.017*\"connor\" + 0.015*\"position\" + '\n",
      "  '0.014*\"looking\" + 0.014*\"drab\" + 0.013*\"bed\" + 0.013*\"reintroduce\" + '\n",
      "  '0.013*\"confront\" + 0.012*\"northwest\" + 0.012*\"print_monday\" + '\n",
      "  '0.011*\"reader_wonder\" + 0.010*\"immunity\" + 0.010*\"green\" + 0.010*\"follows\" '\n",
      "  '+ 0.010*\"microsoft\" + 0.009*\"selected\" + 0.009*\"pacific\" + 0.009*\"bloc\" + '\n",
      "  '0.009*\"intelligence\" + 0.008*\"blood\" + 0.008*\"volodymyr_zelensky\" + '\n",
      "  '0.008*\"thing\" + 0.007*\"racket\" + 0.007*\"public\" + 0.007*\"nba\"'),\n",
      " (2,\n",
      "  '0.047*\"old\" + 0.034*\"gas\" + 0.031*\"legislature\" + 0.028*\"week\" + '\n",
      "  '0.024*\"spur\" + 0.020*\"hundred\" + 0.016*\"made\" + 0.015*\"digital\" + '\n",
      "  '0.014*\"sadder\" + 0.012*\"part\" + 0.012*\"aircraft\" + 0.010*\"berest\" + '\n",
      "  '0.010*\"violence\" + 0.010*\"amazing\" + 0.010*\"diner\" + 0.009*\"truck\" + '\n",
      "  '0.009*\"board\" + 0.009*\"pondered\" + 0.008*\"result\" + 0.008*\"drone\" + '\n",
      "  '0.008*\"child\" + 0.008*\"airbus\" + 0.008*\"roys\" + 0.007*\"many\" + 0.007*\"led\" '\n",
      "  '+ 0.007*\"council\" + 0.007*\"trying\" + 0.006*\"honored\" + 0.006*\"edition\" + '\n",
      "  '0.006*\"reporting\"'),\n",
      " (3,\n",
      "  '0.041*\"hong_kong\" + 0.040*\"wooed\" + 0.031*\"monrovia\" + 0.022*\"instability\" '\n",
      "  '+ 0.021*\"time\" + 0.019*\"archaeologist\" + 0.015*\"come\" + 0.015*\"festival\" + '\n",
      "  '0.013*\"incite\" + 0.012*\"climate\" + 0.012*\"hong\" + 0.011*\"citizen\" + '\n",
      "  '0.010*\"union\" + 0.010*\"said\" + 0.010*\"significant\" + 0.010*\"christie\" + '\n",
      "  '0.008*\"biggest\" + 0.008*\"brandishing\" + 0.008*\"edged\" + 0.008*\"bank\" + '\n",
      "  '0.008*\"chef\" + 0.008*\"fossil_fuel\" + 0.008*\"consumption\" + 0.007*\"wa\" + '\n",
      "  '0.007*\"principal\" + 0.007*\"journalist\" + 0.006*\"colonization\" + '\n",
      "  '0.006*\"california\" + 0.006*\"relationship\" + 0.006*\"sprung\"'),\n",
      " (4,\n",
      "  '0.046*\"poker\" + 0.029*\"sea\" + 0.028*\"error\" + 0.023*\"use_sentence\" + '\n",
      "  '0.020*\"magee\" + 0.018*\"book\" + 0.017*\"fight\" + 0.016*\"textile\" + '\n",
      "  '0.013*\"ten\" + 0.013*\"undercut\" + 0.012*\"success\" + 0.011*\"killed\" + '\n",
      "  '0.011*\"episode\" + 0.010*\"began\" + 0.010*\"lucrative\" + 0.009*\"beautifully\" + '\n",
      "  '0.009*\"cooked\" + 0.009*\"love\" + 0.009*\"expression\" + 0.009*\"fun\" + '\n",
      "  '0.008*\"act\" + 0.008*\"would\" + 0.008*\"kenner\" + 0.008*\"claim\" + '\n",
      "  '0.007*\"counsel\" + 0.007*\"diabetes\" + 0.007*\"dylan\" + 0.006*\"beyond\" + '\n",
      "  '0.006*\"announcement\" + 0.006*\"rican\"'),\n",
      " (5,\n",
      "  '0.049*\"appeared\" + 0.048*\"day\" + 0.022*\"visceral\" + 0.019*\"french\" + '\n",
      "  '0.016*\"fx\" + 0.016*\"ha_appeared\" + 0.014*\"exactly\" + 0.014*\"deal\" + '\n",
      "  '0.012*\"competition\" + 0.012*\"island\" + 0.011*\"try\" + 0.010*\"study\" + '\n",
      "  '0.010*\"frosting\" + 0.010*\"scorsese\" + 0.010*\"away_from\" + 0.009*\"ukraine\" + '\n",
      "  '0.008*\"gessen\" + 0.008*\"advantage\" + 0.008*\"back\" + 0.008*\"drawing\" + '\n",
      "  '0.008*\"age\" + 0.008*\"shop\" + 0.007*\"writer\" + 0.007*\"shonov\" + '\n",
      "  '0.006*\"safety\" + 0.006*\"show\" + 0.006*\"martin\" + 0.006*\"raised\" + '\n",
      "  '0.006*\"featured\" + 0.006*\"response\"'),\n",
      " (6,\n",
      "  '0.037*\"iceland\" + 0.036*\"opposition\" + 0.026*\"ruben\" + 0.022*\"manuel\" + '\n",
      "  '0.019*\"handle\" + 0.017*\"hand\" + 0.017*\"decide\" + 0.017*\"kentucky\" + '\n",
      "  '0.016*\"showtime\" + 0.015*\"layer\" + 0.014*\"bound\" + 0.014*\"domestic\" + '\n",
      "  '0.014*\"immediate\" + 0.013*\"economy\" + 0.013*\"stranger\" + 0.012*\"lie\" + '\n",
      "  '0.012*\"tom\" + 0.012*\"cap\" + 0.012*\"doctor\" + 0.012*\"earthquake\" + '\n",
      "  '0.011*\"publicly\" + 0.011*\"courted\" + 0.011*\"let\" + 0.010*\"disclosure\" + '\n",
      "  '0.010*\"inhibition\" + 0.010*\"cleaning\" + 0.009*\"high_school\" + 0.009*\"high\" '\n",
      "  '+ 0.009*\"homeless\" + 0.009*\"disastrous\"'),\n",
      " (7,\n",
      "  '0.031*\"draft\" + 0.025*\"give\" + 0.022*\"chief_executive\" + 0.020*\"pet\" + '\n",
      "  '0.019*\"michael\" + 0.016*\"diplomatic\" + 0.016*\"effort\" + '\n",
      "  '0.016*\"implausibility\" + 0.015*\"military\" + 0.014*\"environmental\" + '\n",
      "  '0.013*\"pastor\" + 0.013*\"people\" + 0.012*\"spy\" + 0.010*\"dollar\" + '\n",
      "  '0.010*\"ruined\" + 0.010*\"speaker_kevin\" + 0.009*\"shooter\" + '\n",
      "  '0.009*\"propelled\" + 0.009*\"legged\" + 0.008*\"fatally\" + 0.008*\"help\" + '\n",
      "  '0.007*\"identify\" + 0.007*\"police\" + 0.007*\"sense\" + 0.007*\"maddening\" + '\n",
      "  '0.007*\"homeowner\" + 0.007*\"physical\" + 0.006*\"symptom\" + 0.006*\"research\" + '\n",
      "  '0.006*\"chad\"'),\n",
      " (8,\n",
      "  '0.122*\"change\" + 0.058*\"long\" + 0.043*\"new_york\" + 0.033*\"quickly\" + '\n",
      "  '0.027*\"since\" + 0.026*\"earth\" + 0.026*\"gang\" + 0.025*\"german\" + '\n",
      "  '0.024*\"reflect\" + 0.021*\"minister\" + 0.016*\"nytimes\" + 0.015*\"move\" + '\n",
      "  '0.014*\"lebron\" + 0.012*\"swallow\" + 0.010*\"rage\" + 0.010*\"discovered\" + '\n",
      "  '0.009*\"happiness\" + 0.009*\"headed\" + 0.008*\"cheaper\" + 0.008*\"star\" + '\n",
      "  '0.008*\"rollout\" + 0.008*\"sushi\" + 0.007*\"pressure\" + 0.007*\"several\" + '\n",
      "  '0.006*\"member\" + 0.006*\"friend\" + 0.006*\"shoe\" + 0.005*\"monday\" + '\n",
      "  '0.005*\"house\" + 0.005*\"james\"'),\n",
      " (9,\n",
      "  '0.043*\"block\" + 0.040*\"fossil\" + 0.038*\"district\" + 0.036*\"scandal\" + '\n",
      "  '0.028*\"silicon\" + 0.028*\"silicon_valley\" + 0.027*\"override\" + '\n",
      "  '0.023*\"jeopardizes\" + 0.018*\"attack\" + 0.014*\"nicklaus\" + 0.013*\"festering\" '\n",
      "  '+ 0.013*\"future\" + 0.011*\"farmington\" + 0.010*\"liquefied\" + 0.010*\"vetoed\" '\n",
      "  '+ 0.010*\"died\" + 0.009*\"resume\" + 0.008*\"debut\" + 0.007*\"company\" + '\n",
      "  '0.007*\"feature\" + 0.007*\"assault\" + 0.006*\"regional\" + 0.006*\"translates\" + '\n",
      "  '0.006*\"making\" + 0.006*\"common\" + 0.006*\"kim\" + 0.006*\"attacked\" + '\n",
      "  '0.006*\"shelter\" + 0.006*\"trapping\" + 0.006*\"crypto\"')]\n"
     ]
    }
   ],
   "source": [
    "# Print the keyword in the 10 topics\n",
    "from pprint import pprint\n",
    "pprint(lda_model.print_topics(num_topics=10, num_words=30))\n",
    "doc_lda = lda_model[corpus]"
   ]
  },
  {
   "cell_type": "code",
   "execution_count": 46,
   "metadata": {},
   "outputs": [
    {
     "name": "stdout",
     "output_type": "stream",
     "text": [
      "\n",
      "Perplexity:  -7.671147479058828\n"
     ]
    }
   ],
   "source": [
    "# Compute Perplexity\n",
    "print('\\nPerplexity: ', lda_model.log_perplexity(corpus))  # a measure of how good the model is. lower the better.\n",
    "\n",
    "# Compute Coherence Score"
   ]
  },
  {
   "cell_type": "code",
   "execution_count": 47,
   "metadata": {},
   "outputs": [
    {
     "name": "stdout",
     "output_type": "stream",
     "text": [
      "\n",
      "Coherence Score:  0.602715867706146\n"
     ]
    }
   ],
   "source": [
    "# Compute Coherence Score\n",
    "coherence_model_lda = CoherenceModel(model=lda_model, texts=docs, dictionary=id2word, coherence='c_v')\n",
    "coherence_lda = coherence_model_lda.get_coherence()\n",
    "print('\\nCoherence Score: ', coherence_lda)"
   ]
  },
  {
   "cell_type": "code",
   "execution_count": 48,
   "metadata": {},
   "outputs": [],
   "source": [
    "# Plotting tools\n",
    "import pyLDAvis\n",
    "import pyLDAvis.gensim  # don't skip this\n",
    "import matplotlib.pyplot as plt\n",
    "%matplotlib inline"
   ]
  },
  {
   "cell_type": "code",
   "execution_count": 49,
   "metadata": {},
   "outputs": [
    {
     "data": {
      "text/html": [
       "\n",
       "<link rel=\"stylesheet\" type=\"text/css\" href=\"https://cdn.jsdelivr.net/gh/bmabey/pyLDAvis@3.4.0/pyLDAvis/js/ldavis.v1.0.0.css\">\n",
       "\n",
       "\n",
       "<div id=\"ldavis_el73179541270537649694738\" style=\"background-color:white;\"></div>\n",
       "<script type=\"text/javascript\">\n",
       "\n",
       "var ldavis_el73179541270537649694738_data = {\"mdsDat\": {\"x\": [0.4476031362532396, -0.005922377040800108, -0.02730856993702725, -0.034204971450543055, -0.07454789071469585, -0.06539930242004727, -0.07719067059387229, 0.009415423110894728, -0.08304258906285121, -0.0894021881442981], \"y\": [0.03183366207260912, -0.4109190624887526, 0.08734505493534594, -0.08574397349589695, 0.01993739211487764, 0.11009623645024114, 0.025551308580357784, 0.13219562385609615, 0.03204581308620633, 0.057657944888915], \"topics\": [1, 2, 3, 4, 5, 6, 7, 8, 9, 10], \"cluster\": [1, 1, 1, 1, 1, 1, 1, 1, 1, 1], \"Freq\": [27.748792745336914, 13.300906282758934, 12.571508398749629, 9.966823558517316, 7.932832807981326, 7.662784444336948, 6.751002794741709, 5.582129630449445, 4.934495541281522, 3.5487237958462585]}, \"tinfo\": {\"Term\": [\"change\", \"long\", \"new_york\", \"american\", \"appeared\", \"old\", \"day\", \"quickly\", \"block\", \"since\", \"gas\", \"fossil\", \"earth\", \"gang\", \"german\", \"district\", \"poker\", \"scandal\", \"legislature\", \"hong_kong\", \"wooed\", \"reflect\", \"week\", \"minister\", \"church\", \"silicon\", \"spur\", \"silicon_valley\", \"light\", \"offered\", \"change\", \"long\", \"new_york\", \"quickly\", \"since\", \"earth\", \"gang\", \"german\", \"minister\", \"nytimes\", \"move\", \"swallow\", \"rage\", \"discovered\", \"happiness\", \"headed\", \"cheaper\", \"star\", \"rollout\", \"sushi\", \"pressure\", \"several\", \"member\", \"friend\", \"shoe\", \"monday\", \"house\", \"james\", \"memoir\", \"anomalous\", \"reflect\", \"lebron\", \"old\", \"gas\", \"legislature\", \"week\", \"spur\", \"hundred\", \"made\", \"digital\", \"sadder\", \"part\", \"aircraft\", \"berest\", \"violence\", \"amazing\", \"diner\", \"truck\", \"board\", \"pondered\", \"result\", \"drone\", \"child\", \"airbus\", \"roys\", \"many\", \"led\", \"council\", \"trying\", \"edition\", \"honored\", \"system\", \"reporting\", \"appeared\", \"day\", \"visceral\", \"french\", \"fx\", \"exactly\", \"deal\", \"competition\", \"island\", \"try\", \"study\", \"frosting\", \"scorsese\", \"away_from\", \"ukraine\", \"gessen\", \"advantage\", \"back\", \"drawing\", \"age\", \"shop\", \"writer\", \"shonov\", \"safety\", \"show\", \"martin\", \"raised\", \"featured\", \"response\", \"violent\", \"ha_appeared\", \"block\", \"fossil\", \"district\", \"scandal\", \"silicon\", \"silicon_valley\", \"override\", \"jeopardizes\", \"attack\", \"nicklaus\", \"festering\", \"future\", \"farmington\", \"liquefied\", \"vetoed\", \"died\", \"resume\", \"debut\", \"company\", \"feature\", \"assault\", \"regional\", \"translates\", \"making\", \"kim\", \"common\", \"attacked\", \"shelter\", \"trapping\", \"crypto\", \"draft\", \"give\", \"chief_executive\", \"pet\", \"michael\", \"diplomatic\", \"effort\", \"implausibility\", \"military\", \"environmental\", \"pastor\", \"people\", \"spy\", \"dollar\", \"ruined\", \"speaker_kevin\", \"shooter\", \"propelled\", \"legged\", \"fatally\", \"help\", \"identify\", \"police\", \"sense\", \"maddening\", \"homeowner\", \"physical\", \"symptom\", \"research\", \"chad\", \"hong_kong\", \"monrovia\", \"instability\", \"time\", \"archaeologist\", \"come\", \"festival\", \"incite\", \"climate\", \"hong\", \"citizen\", \"union\", \"said\", \"significant\", \"christie\", \"biggest\", \"brandishing\", \"edged\", \"bank\", \"chef\", \"fossil_fuel\", \"consumption\", \"wa\", \"principal\", \"journalist\", \"colonization\", \"california\", \"relationship\", \"sprung\", \"laden\", \"wooed\", \"poker\", \"sea\", \"error\", \"use_sentence\", \"magee\", \"book\", \"fight\", \"textile\", \"ten\", \"undercut\", \"success\", \"killed\", \"episode\", \"began\", \"lucrative\", \"beautifully\", \"cooked\", \"love\", \"expression\", \"fun\", \"act\", \"would\", \"kenner\", \"claim\", \"counsel\", \"diabetes\", \"dylan\", \"beyond\", \"announcement\", \"rican\", \"church\", \"violated\", \"method\", \"play\", \"governor\", \"com\", \"reality\", \"protection\", \"paid\", \"europe\", \"hansol\", \"democratic\", \"article_nytimes\", \"federal_reserve\", \"biden\", \"unanimous\", \"ambassador\", \"tobago\", \"nation\", \"number\", \"access\", \"car\", \"giant\", \"attitude\", \"ultimate\", \"theory\", \"deeply\", \"official\", \"federal\", \"vice\", \"ha\", \"wooed\", \"ha_appeared\", \"layer\", \"lebron\", \"american\", \"light\", \"offered\", \"tilted\", \"veteran\", \"post\", \"connor\", \"position\", \"looking\", \"drab\", \"bed\", \"reintroduce\", \"confront\", \"print_monday\", \"northwest\", \"reader_wonder\", \"immunity\", \"green\", \"follows\", \"microsoft\", \"selected\", \"pacific\", \"bloc\", \"intelligence\", \"blood\", \"volodymyr_zelensky\", \"thing\", \"racket\", \"public\", \"nba\", \"iceland\", \"opposition\", \"ruben\", \"manuel\", \"handle\", \"hand\", \"decide\", \"kentucky\", \"showtime\", \"bound\", \"domestic\", \"immediate\", \"economy\", \"stranger\", \"lie\", \"tom\", \"cap\", \"doctor\", \"earthquake\", \"publicly\", \"courted\", \"let\", \"disclosure\", \"inhibition\", \"cleaning\", \"high_school\", \"high\", \"homeless\", \"disastrous\", \"created\", \"layer\"], \"Freq\": [20755.0, 9856.0, 7377.0, 2600.0, 3740.0, 3790.0, 3675.0, 5655.0, 2645.0, 4604.0, 2788.0, 2426.0, 4366.0, 4363.0, 4234.0, 2318.0, 1920.0, 2225.0, 2501.0, 1907.0, 2355.0, 4246.0, 2263.0, 3556.0, 1444.0, 1717.0, 1958.0, 1700.0, 1276.0, 1274.0, 20754.702994718547, 9855.63745703599, 7376.309026278731, 5654.649592280183, 4603.9400177078005, 4365.356230595524, 4362.773281051093, 4233.206545205757, 3555.79187601085, 2742.267188644345, 2620.7900874986153, 2022.5347689106957, 1677.7189152693586, 1653.0929293916686, 1559.255413469599, 1550.2315439874444, 1408.5604161449705, 1340.651277418106, 1340.651277418106, 1298.0942330421742, 1205.5914625465155, 1132.9208115392903, 1087.3585529898655, 1084.1471110366856, 1037.5791855278605, 907.060574395615, 900.7538963229186, 897.3552118862259, 729.5137234277333, 708.329376219329, 4015.4970912364483, 2297.110089455039, 3789.6299488326326, 2788.1389205596347, 2500.5204820979934, 2262.8149286644634, 1957.6423630525226, 1597.3189457884096, 1281.4893514556627, 1248.5061630409682, 1117.8419118828515, 1006.4819224305588, 949.5421083828227, 829.0672834812879, 811.7840411837628, 792.7532427419659, 792.0257515906032, 768.0916491382094, 715.2104060733385, 699.2426085283975, 671.7666032067872, 670.8509638696087, 670.6908748650714, 653.8666656061368, 622.6976549323443, 590.7832558996711, 569.7999176190193, 554.7608031387698, 545.3496399845395, 492.8583437038141, 494.97396805439683, 469.7581297847658, 492.6057731544955, 3739.6867519157795, 3674.7830003947834, 1701.415480113071, 1428.5939987205923, 1244.338258693562, 1053.972991741863, 1045.1036877816289, 930.2249851237783, 923.5568798431851, 873.6413488856018, 787.396363327689, 782.6037567332401, 773.8405346370848, 766.7179259104608, 681.707073822625, 627.7321196406367, 625.3190439405781, 615.2103740939982, 613.6359185356459, 598.8383227813673, 591.6525666748422, 567.7175235457887, 516.1405570690018, 499.49409061000154, 489.7576390878558, 452.9428599593644, 448.25952485261047, 445.76767620077965, 439.81931486488253, 430.7027254782476, 1239.9867519582635, 2645.0693881451134, 2425.5085383581386, 2317.484612082802, 2224.768307022701, 1716.9407463270354, 1699.8377573556738, 1641.0412533686424, 1412.5254997239308, 1079.6887302845014, 861.4094255262078, 790.9420082523063, 773.8773769828938, 665.523347165893, 614.1980711252012, 608.5841515203575, 595.7095451332069, 551.7096241189971, 504.8878264182741, 450.02619756276073, 439.3643759682817, 418.086875674113, 395.2436992257131, 382.6722607495245, 381.0037291278442, 376.2909598007952, 376.30891688792997, 374.1296311549608, 373.06561691600086, 371.43027180978476, 335.86293640521313, 1499.6866273316402, 1205.4978435951784, 1089.62296476652, 969.9143558429824, 940.8809129371466, 793.6220219259616, 765.9888796706231, 763.654412042239, 705.2067855692014, 667.7072226258528, 653.0890065133832, 614.7134867645376, 585.460726744546, 504.0178659394033, 503.0243128260481, 483.82983639327267, 436.429342768492, 426.5938137259691, 425.94527008813054, 406.74916539878467, 399.6393378550206, 346.91994061113417, 345.57135972141987, 344.99920845434, 336.89779527390994, 334.11926589531316, 319.54288693083174, 313.49943175259665, 303.5205030585103, 297.8922985350626, 1906.8178274965571, 1458.1512524099062, 1029.3042285909642, 972.7727818818067, 908.9014726086674, 718.3277518594031, 694.4944317003071, 596.1230596176488, 566.5286463803568, 544.4734079273856, 529.417733291308, 486.26934634680276, 470.36945644689285, 466.6141555729374, 450.1996451900445, 393.36001163251615, 383.3375166807149, 377.34792669055685, 371.03975171339545, 370.53369440340373, 367.79937715002984, 363.3158570545479, 343.5684592572225, 322.6213871376092, 306.6529263192816, 301.7877333704726, 286.30951420589764, 284.3536155912289, 277.8062397358663, 273.93592583691276, 1872.181190815758, 1919.2974349709355, 1201.2212489562119, 1174.702112615249, 940.1365780119669, 819.6455005242331, 764.0583471852979, 693.6792949758579, 678.9059488156623, 532.0256039591304, 518.8678832398488, 498.4401944563566, 460.69220341067063, 446.2652386614148, 406.50808916609753, 402.029919092427, 391.42365793387006, 391.2038737515758, 390.5121116983023, 385.0727803608718, 365.23696922556496, 350.4403744408325, 343.01155360598653, 333.7021345962663, 330.5522539003176, 295.8607448958803, 272.85063046153107, 270.2132780106505, 257.9958948699062, 254.7993052238325, 241.02193552755193, 1443.7396966689823, 871.8855633561029, 771.7907034174926, 683.7192164354502, 664.1234380479805, 571.1770515599941, 558.238405638799, 540.2846316602256, 498.04334259202966, 494.67400632385204, 488.84984291071805, 460.8082064446926, 458.0728267166919, 397.15386480420017, 378.3654031293227, 367.7232145682595, 352.1226450009317, 349.7229099173763, 332.526102772056, 317.60003699286864, 315.47375713262767, 303.7140685947236, 296.14672361313586, 288.56932138637035, 281.04424229590944, 265.87406553408454, 265.0167331227679, 254.67841022099174, 248.36153727432298, 247.53399467783672, 1318.332723874902, 482.34601977995374, 384.17804526791764, 295.3322458873631, 310.2167141366538, 2599.7524679447233, 1275.6110364293688, 1273.4633830117336, 895.7384235841973, 734.609049126925, 553.79720309988, 511.37930378027204, 450.79263804742334, 423.4328738207432, 419.45607443072885, 391.1362019912761, 378.94530912680455, 377.67580895435714, 359.1003906010291, 359.23225566559177, 329.5779492860341, 305.07853440519506, 298.19122236442917, 295.41246224138126, 288.9999432088423, 286.9457797868423, 283.73290873010507, 282.82769037032193, 276.2185131766366, 252.54618794120256, 246.8784941101212, 243.7230168514868, 223.10617987544342, 222.91386845047688, 215.50916820034305, 794.8315068031725, 781.0900183323105, 568.1820073404646, 485.53268705865025, 404.2685710357869, 379.50485312222435, 373.56532095792716, 363.8598266787335, 344.09062982668746, 314.9920128907842, 302.612420050637, 295.2369388013327, 292.93695181684495, 279.11675625931707, 270.5412043867926, 267.49564479650763, 265.8026533390061, 254.473506724677, 251.86130147429176, 240.24369035235458, 237.55830167459905, 232.71820027514778, 225.80620057706594, 220.51641665803905, 219.5599940393511, 197.3992348109793, 196.04818416701335, 194.85412279951026, 193.4365859121551, 182.0348628659827, 335.67583060289314], \"Total\": [20755.0, 9856.0, 7377.0, 2600.0, 3740.0, 3790.0, 3675.0, 5655.0, 2645.0, 4604.0, 2788.0, 2426.0, 4366.0, 4363.0, 4234.0, 2318.0, 1920.0, 2225.0, 2501.0, 1907.0, 2355.0, 4246.0, 2263.0, 3556.0, 1444.0, 1717.0, 1958.0, 1700.0, 1276.0, 1274.0, 20755.524923335815, 9856.45939230985, 7377.1309605776805, 5655.471520995577, 4604.76193780335, 4366.17814958147, 4363.595211088793, 4234.028460385238, 3556.613819260488, 2743.0891165787293, 2621.612000080684, 2023.3566983954154, 1678.540833238631, 1653.914835891336, 1560.0773525544344, 1551.053496955435, 1409.3823307416437, 1341.473157808571, 1341.473157808571, 1298.9161584804067, 1206.4133544284202, 1133.7427481183543, 1088.1804611374032, 1084.9690110709973, 1038.4011664442776, 907.8824943752534, 901.5757899382636, 898.1771827255888, 730.3356688146735, 709.1513249459132, 4246.228816132957, 2608.0606756960583, 3790.456470800794, 2788.9654853631773, 2501.3470172642333, 2263.6414584832214, 1958.4688914656638, 1598.145470907049, 1282.3158664064856, 1249.3326999410174, 1118.668451676319, 1007.3084992305664, 950.3686284224627, 829.8937859615796, 812.6105576572596, 793.579744504505, 792.8522568162427, 768.9181636343293, 716.0369703253953, 700.069105070263, 672.5932141625002, 671.6774966902501, 671.517381101829, 654.6931835713979, 623.5242111688468, 591.6097971063178, 570.6264853356284, 555.5874740953979, 546.1761956960842, 493.6848460631721, 495.82105285054615, 470.584644588334, 493.5438862624478, 3740.5103837518413, 3675.6066593937667, 1702.2391005724676, 1429.4176416892622, 1245.1618931144, 1054.79663555177, 1045.9273357542372, 931.048614086592, 924.380528099101, 874.4650106058132, 788.2199988670956, 783.4273861465139, 774.6641565066715, 767.5415382697563, 682.5307035894739, 628.5558723124071, 626.1426654924381, 616.0340343008177, 614.459732409864, 599.661997112108, 592.4761732662756, 568.5411613889117, 516.9641945097967, 500.3177468094669, 490.5812937060564, 453.76649663497307, 449.08314075728936, 446.5913475242987, 440.64297426450827, 431.5263537612186, 1624.9003606402111, 2645.9035114548133, 2426.3426653461665, 2318.318703749514, 2225.6024594413575, 1717.7748296448929, 1700.671841760567, 1641.8753705599754, 1413.359611961295, 1080.5229188715953, 862.2435632361424, 791.7760794234604, 774.7114804194144, 666.3574947927693, 615.0321794345136, 609.4182586493415, 596.5436983182386, 552.543959501977, 505.72204500379206, 450.8603021075652, 440.19850882477704, 418.9209762168412, 396.0778449562483, 383.5063458457571, 381.83791951451934, 377.12504607575994, 377.14313924644335, 374.96380346018987, 373.8998169675262, 372.26489925948545, 336.6970743968601, 1500.511775243375, 1206.3230017129342, 1090.4481122953423, 970.7395611130227, 941.7060462097465, 794.4471725929887, 766.8140300585325, 764.479605392524, 706.031934354315, 668.5324042955767, 653.9141294062304, 615.5386467420725, 586.285874625195, 504.8429937648924, 503.84938992704537, 484.65501225601236, 437.2546652414611, 427.4189763535927, 426.77047994194277, 407.57425247063003, 400.46451086603815, 347.74511694051745, 346.3964496411843, 345.8243438571846, 337.7229540835716, 334.94440442940294, 320.36804099773457, 314.32458584438945, 304.34566558847894, 298.7174310865824, 1907.64479947695, 1458.9782539040114, 1030.1312527637908, 973.5998289223625, 909.7285552322063, 719.1547429310551, 695.3214118636905, 596.9500930195002, 567.355620879312, 545.3005296502787, 530.2447622287752, 487.09633392998836, 471.19650149517327, 467.441072429319, 451.02664234524644, 394.1869343885235, 384.164531934463, 378.17491480166314, 371.8667716344086, 371.36066141424186, 368.626347557244, 364.14286082209355, 344.3954571222418, 323.4484014379128, 307.47996422002933, 302.61474089495437, 287.1365169625177, 285.1806946335397, 278.63328491112264, 274.76297074551195, 2355.266173396526, 1920.1235947161756, 1202.047413566285, 1175.528267074048, 940.9627434149799, 820.4716930632944, 764.8844862045079, 694.5054713891784, 679.7321473993726, 532.8517670209479, 519.6940202635307, 499.2663556884158, 461.51834611466313, 447.0914875179358, 407.3342575317601, 402.85629300973454, 392.2498522707735, 392.0300837739586, 391.33823753536717, 385.8989670693838, 366.0631806636118, 351.26650079416873, 343.837680989133, 334.5283323925588, 331.3784535356559, 296.68690083379454, 273.6767762407161, 271.0393974904949, 258.82209202046965, 255.62543769127805, 241.84806680071853, 1444.57303556889, 872.7189001867393, 772.6240574128454, 684.5525472145326, 664.9567050500809, 572.0103774817172, 559.0716881976338, 541.1179511383763, 498.87673030512144, 495.50738349588653, 489.68319479591406, 461.64155316381857, 458.9060615443631, 397.9871917548207, 379.19869045533306, 368.55656892618345, 352.956245691647, 350.55622394873467, 333.35942875781734, 318.43335428600113, 316.3072063563684, 304.5473979329521, 296.9799268680184, 289.4026561270695, 281.8774592921589, 266.7074356334195, 265.8500285945466, 255.51173156548978, 249.19483684736664, 248.36716670226673, 1388.5716476852767, 2355.266173396526, 1624.9003606402111, 631.7590987221902, 2608.0606756960583, 2600.5877143632124, 1276.4462814330138, 1274.2986248902866, 896.5736697885145, 735.444304032012, 554.6325245485697, 512.2145700635615, 451.627837784637, 424.2681330423948, 420.29140241358306, 391.9714978803006, 379.7806024646343, 378.5110717807646, 359.9355845161738, 360.0678185690919, 330.41318668206685, 305.9138640388305, 299.02648581317504, 296.2477186175382, 289.83522780404587, 287.7810635482445, 284.5680957935214, 283.6630187476389, 277.05384550677263, 253.38138005466462, 247.71372568521653, 244.5582801780809, 223.9414215942517, 223.74920933890144, 216.34435738305683, 795.6707471448603, 781.9291509759927, 569.0212468373724, 486.37185064110076, 405.1076309591588, 380.3439706584534, 374.40445805454755, 364.6989481462652, 344.92966047867856, 315.8311836587703, 303.45158000244635, 296.07608464908765, 293.77609730799725, 279.9558455633451, 271.38018201406055, 268.33462043103566, 266.6417245264185, 255.31264036259208, 252.7005201400747, 241.08284197344648, 238.39749352258585, 233.55721294026478, 226.6453720310326, 221.3554989737822, 220.39911687939247, 198.23820395753376, 196.8871530833047, 195.69325144675875, 194.27566927107512, 182.8739971815847, 631.7590987221902], \"Category\": [\"Default\", \"Default\", \"Default\", \"Default\", \"Default\", \"Default\", \"Default\", \"Default\", \"Default\", \"Default\", \"Default\", \"Default\", \"Default\", \"Default\", \"Default\", \"Default\", \"Default\", \"Default\", \"Default\", \"Default\", \"Default\", \"Default\", \"Default\", \"Default\", \"Default\", \"Default\", \"Default\", \"Default\", \"Default\", \"Default\", \"Topic1\", \"Topic1\", \"Topic1\", \"Topic1\", \"Topic1\", \"Topic1\", \"Topic1\", \"Topic1\", \"Topic1\", \"Topic1\", \"Topic1\", \"Topic1\", \"Topic1\", \"Topic1\", \"Topic1\", \"Topic1\", \"Topic1\", \"Topic1\", \"Topic1\", \"Topic1\", \"Topic1\", \"Topic1\", \"Topic1\", \"Topic1\", \"Topic1\", \"Topic1\", \"Topic1\", \"Topic1\", \"Topic1\", \"Topic1\", \"Topic1\", \"Topic1\", \"Topic2\", \"Topic2\", \"Topic2\", \"Topic2\", \"Topic2\", \"Topic2\", \"Topic2\", \"Topic2\", \"Topic2\", \"Topic2\", \"Topic2\", \"Topic2\", \"Topic2\", \"Topic2\", \"Topic2\", \"Topic2\", \"Topic2\", \"Topic2\", \"Topic2\", \"Topic2\", \"Topic2\", \"Topic2\", \"Topic2\", \"Topic2\", \"Topic2\", \"Topic2\", \"Topic2\", \"Topic2\", \"Topic2\", \"Topic2\", \"Topic2\", \"Topic3\", \"Topic3\", \"Topic3\", \"Topic3\", \"Topic3\", \"Topic3\", \"Topic3\", \"Topic3\", \"Topic3\", \"Topic3\", \"Topic3\", \"Topic3\", \"Topic3\", \"Topic3\", \"Topic3\", \"Topic3\", \"Topic3\", \"Topic3\", \"Topic3\", \"Topic3\", \"Topic3\", \"Topic3\", \"Topic3\", \"Topic3\", \"Topic3\", \"Topic3\", \"Topic3\", \"Topic3\", \"Topic3\", \"Topic3\", \"Topic3\", \"Topic4\", \"Topic4\", \"Topic4\", \"Topic4\", \"Topic4\", \"Topic4\", \"Topic4\", \"Topic4\", \"Topic4\", \"Topic4\", \"Topic4\", \"Topic4\", \"Topic4\", \"Topic4\", \"Topic4\", \"Topic4\", \"Topic4\", \"Topic4\", \"Topic4\", \"Topic4\", \"Topic4\", \"Topic4\", \"Topic4\", \"Topic4\", \"Topic4\", \"Topic4\", \"Topic4\", \"Topic4\", \"Topic4\", \"Topic4\", \"Topic5\", \"Topic5\", \"Topic5\", \"Topic5\", \"Topic5\", \"Topic5\", \"Topic5\", \"Topic5\", \"Topic5\", \"Topic5\", \"Topic5\", \"Topic5\", \"Topic5\", \"Topic5\", \"Topic5\", \"Topic5\", \"Topic5\", \"Topic5\", \"Topic5\", \"Topic5\", \"Topic5\", \"Topic5\", \"Topic5\", \"Topic5\", \"Topic5\", \"Topic5\", \"Topic5\", \"Topic5\", \"Topic5\", \"Topic5\", \"Topic6\", \"Topic6\", \"Topic6\", \"Topic6\", \"Topic6\", \"Topic6\", \"Topic6\", \"Topic6\", \"Topic6\", \"Topic6\", \"Topic6\", \"Topic6\", \"Topic6\", \"Topic6\", \"Topic6\", \"Topic6\", \"Topic6\", \"Topic6\", \"Topic6\", \"Topic6\", \"Topic6\", \"Topic6\", \"Topic6\", \"Topic6\", \"Topic6\", \"Topic6\", \"Topic6\", \"Topic6\", \"Topic6\", \"Topic6\", \"Topic6\", \"Topic7\", \"Topic7\", \"Topic7\", \"Topic7\", \"Topic7\", \"Topic7\", \"Topic7\", \"Topic7\", \"Topic7\", \"Topic7\", \"Topic7\", \"Topic7\", \"Topic7\", \"Topic7\", \"Topic7\", \"Topic7\", \"Topic7\", \"Topic7\", \"Topic7\", \"Topic7\", \"Topic7\", \"Topic7\", \"Topic7\", \"Topic7\", \"Topic7\", \"Topic7\", \"Topic7\", \"Topic7\", \"Topic7\", \"Topic7\", \"Topic8\", \"Topic8\", \"Topic8\", \"Topic8\", \"Topic8\", \"Topic8\", \"Topic8\", \"Topic8\", \"Topic8\", \"Topic8\", \"Topic8\", \"Topic8\", \"Topic8\", \"Topic8\", \"Topic8\", \"Topic8\", \"Topic8\", \"Topic8\", \"Topic8\", \"Topic8\", \"Topic8\", \"Topic8\", \"Topic8\", \"Topic8\", \"Topic8\", \"Topic8\", \"Topic8\", \"Topic8\", \"Topic8\", \"Topic8\", \"Topic8\", \"Topic8\", \"Topic8\", \"Topic8\", \"Topic8\", \"Topic9\", \"Topic9\", \"Topic9\", \"Topic9\", \"Topic9\", \"Topic9\", \"Topic9\", \"Topic9\", \"Topic9\", \"Topic9\", \"Topic9\", \"Topic9\", \"Topic9\", \"Topic9\", \"Topic9\", \"Topic9\", \"Topic9\", \"Topic9\", \"Topic9\", \"Topic9\", \"Topic9\", \"Topic9\", \"Topic9\", \"Topic9\", \"Topic9\", \"Topic9\", \"Topic9\", \"Topic9\", \"Topic9\", \"Topic9\", \"Topic10\", \"Topic10\", \"Topic10\", \"Topic10\", \"Topic10\", \"Topic10\", \"Topic10\", \"Topic10\", \"Topic10\", \"Topic10\", \"Topic10\", \"Topic10\", \"Topic10\", \"Topic10\", \"Topic10\", \"Topic10\", \"Topic10\", \"Topic10\", \"Topic10\", \"Topic10\", \"Topic10\", \"Topic10\", \"Topic10\", \"Topic10\", \"Topic10\", \"Topic10\", \"Topic10\", \"Topic10\", \"Topic10\", \"Topic10\", \"Topic10\"], \"logprob\": [30.0, 29.0, 28.0, 27.0, 26.0, 25.0, 24.0, 23.0, 22.0, 21.0, 20.0, 19.0, 18.0, 17.0, 16.0, 15.0, 14.0, 13.0, 12.0, 11.0, 10.0, 9.0, 8.0, 7.0, 6.0, 5.0, 4.0, 3.0, 2.0, 1.0, -2.1023, -2.847, -3.1368, -3.4026, -3.6082, -3.6614, -3.662, -3.6921, -3.8665, -4.1263, -4.1716, -4.4307, -4.6176, -4.6324, -4.6909, -4.6967, -4.7925, -4.8419, -4.8419, -4.8742, -4.9481, -5.0103, -5.0513, -5.0543, -5.0982, -5.2326, -5.2396, -5.2434, -5.4505, -5.4799, -3.7449, -4.3034, -3.0674, -3.3743, -3.4832, -3.5831, -3.728, -3.9314, -4.1517, -4.1778, -4.2883, -4.3933, -4.4515, -4.5872, -4.6082, -4.632, -4.6329, -4.6636, -4.7349, -4.7575, -4.7976, -4.7989, -4.7992, -4.8246, -4.8734, -4.926, -4.9622, -4.9889, -5.006, -5.1073, -5.103, -5.1553, -5.1078, -3.0243, -3.0418, -3.8119, -3.9866, -4.1247, -4.2908, -4.2992, -4.4156, -4.4228, -4.4784, -4.5823, -4.5884, -4.5997, -4.609, -4.7265, -4.809, -4.8128, -4.8291, -4.8317, -4.8561, -4.8682, -4.9094, -5.0047, -5.0375, -5.0572, -5.1353, -5.1457, -5.1513, -5.1647, -5.1857, -4.1282, -3.1385, -3.2251, -3.2707, -3.3115, -3.5706, -3.5806, -3.6158, -3.7658, -4.0345, -4.2603, -4.3457, -4.3675, -4.5183, -4.5986, -4.6078, -4.6291, -4.7059, -4.7946, -4.9096, -4.9336, -4.9832, -5.0394, -5.0717, -5.0761, -5.0885, -5.0885, -5.0943, -5.0971, -5.1015, -5.2022, -3.4776, -3.696, -3.7971, -3.9134, -3.9438, -4.114, -4.1495, -4.1525, -4.2322, -4.2868, -4.3089, -4.3695, -4.4183, -4.568, -4.57, -4.6089, -4.712, -4.7348, -4.7363, -4.7825, -4.8001, -4.9416, -4.9455, -4.9471, -4.9709, -4.9792, -5.0238, -5.0429, -5.0752, -5.0939, -3.2028, -3.4711, -3.8194, -3.8759, -3.9438, -4.1791, -4.2128, -4.3656, -4.4165, -4.4562, -4.4842, -4.5693, -4.6025, -4.6105, -4.6463, -4.7813, -4.8071, -4.8228, -4.8397, -4.8411, -4.8485, -4.8607, -4.9166, -4.9795, -5.0303, -5.0463, -5.0989, -5.1058, -5.1291, -5.1431, -3.2212, -3.0696, -3.5382, -3.5606, -3.7833, -3.9205, -3.9907, -4.0873, -4.1088, -4.3526, -4.3777, -4.4178, -4.4966, -4.5284, -4.6217, -4.6328, -4.6595, -4.6601, -4.6619, -4.6759, -4.7288, -4.7701, -4.7916, -4.8191, -4.8286, -4.9394, -5.0204, -5.0301, -5.0764, -5.0889, -5.1444, -3.1642, -3.6686, -3.7905, -3.9117, -3.9407, -4.0915, -4.1144, -4.1471, -4.2285, -4.2353, -4.2472, -4.3062, -4.3122, -4.4549, -4.5034, -4.5319, -4.5752, -4.5821, -4.6325, -4.6784, -4.6851, -4.7231, -4.7484, -4.7743, -4.8007, -4.8562, -4.8594, -4.8992, -4.9243, -4.9277, -3.2551, -4.2605, -4.4881, -4.7511, -4.7019, -2.4527, -3.1647, -3.1664, -3.5182, -3.7166, -3.9991, -4.0788, -4.2049, -4.2675, -4.2769, -4.3468, -4.3785, -4.3819, -4.4323, -4.4319, -4.5181, -4.5953, -4.6182, -4.6275, -4.6495, -4.6566, -4.6679, -4.6711, -4.6947, -4.7843, -4.807, -4.8199, -4.9082, -4.9091, -4.9429, -3.3081, -3.3255, -3.6438, -3.801, -3.9841, -4.0474, -4.0631, -4.0895, -4.1453, -4.2337, -4.2738, -4.2985, -4.3063, -4.3546, -4.3858, -4.3971, -4.4035, -4.447, -4.4574, -4.5046, -4.5158, -4.5364, -4.5666, -4.5903, -4.5946, -4.701, -4.7079, -4.714, -4.7213, -4.782, -4.1701], \"loglift\": [30.0, 29.0, 28.0, 27.0, 26.0, 25.0, 24.0, 23.0, 22.0, 21.0, 20.0, 19.0, 18.0, 17.0, 16.0, 15.0, 14.0, 13.0, 12.0, 11.0, 10.0, 9.0, 8.0, 7.0, 6.0, 5.0, 4.0, 3.0, 2.0, 1.0, 1.2819, 1.2819, 1.2819, 1.2818, 1.2818, 1.2818, 1.2818, 1.2818, 1.2817, 1.2817, 1.2817, 1.2816, 1.2815, 1.2815, 1.2815, 1.2814, 1.2814, 1.2814, 1.2814, 1.2813, 1.2813, 1.2813, 1.2812, 1.2812, 1.2812, 1.2811, 1.2811, 1.2811, 1.2809, 1.2808, 1.2261, 1.155, 2.0171, 2.017, 2.017, 2.017, 2.0169, 2.0168, 2.0167, 2.0167, 2.0166, 2.0165, 2.0165, 2.0163, 2.0163, 2.0163, 2.0163, 2.0163, 2.0162, 2.0162, 2.0161, 2.0161, 2.0161, 2.0161, 2.016, 2.0159, 2.0159, 2.0158, 2.0158, 2.0157, 2.0156, 2.0156, 2.0154, 2.0735, 2.0735, 2.0733, 2.0732, 2.0731, 2.073, 2.0729, 2.0729, 2.0728, 2.0728, 2.0727, 2.0727, 2.0727, 2.0727, 2.0725, 2.0724, 2.0724, 2.0724, 2.0724, 2.0724, 2.0723, 2.0723, 2.0721, 2.0721, 2.0721, 2.0719, 2.0719, 2.0719, 2.0719, 2.0718, 1.8034, 2.3056, 2.3056, 2.3055, 2.3055, 2.3054, 2.3054, 2.3054, 2.3053, 2.3051, 2.3049, 2.3049, 2.3048, 2.3047, 2.3046, 2.3045, 2.3045, 2.3044, 2.3043, 2.3041, 2.304, 2.3039, 2.3038, 2.3037, 2.3037, 2.3037, 2.3037, 2.3037, 2.3037, 2.3037, 2.3034, 2.5336, 2.5335, 2.5334, 2.5333, 2.5333, 2.5331, 2.5331, 2.5331, 2.533, 2.5329, 2.5329, 2.5328, 2.5328, 2.5325, 2.5325, 2.5325, 2.5323, 2.5322, 2.5322, 2.5321, 2.5321, 2.5318, 2.5318, 2.5318, 2.5317, 2.5317, 2.5316, 2.5315, 2.5314, 2.5314, 2.5684, 2.5682, 2.568, 2.5679, 2.5679, 2.5676, 2.5676, 2.5674, 2.5673, 2.5673, 2.5672, 2.5671, 2.567, 2.567, 2.567, 2.5667, 2.5666, 2.5666, 2.5666, 2.5666, 2.5665, 2.5665, 2.5664, 2.5662, 2.5661, 2.5661, 2.5659, 2.5659, 2.5658, 2.5658, 2.3392, 2.695, 2.6948, 2.6948, 2.6946, 2.6945, 2.6944, 2.6943, 2.6943, 2.6939, 2.6939, 2.6938, 2.6937, 2.6936, 2.6934, 2.6934, 2.6934, 2.6934, 2.6934, 2.6933, 2.6932, 2.6931, 2.6931, 2.693, 2.693, 2.6927, 2.6925, 2.6924, 2.6923, 2.6922, 2.6921, 2.885, 2.8846, 2.8845, 2.8844, 2.8843, 2.8841, 2.8841, 2.8841, 2.8839, 2.8839, 2.8839, 2.8838, 2.8838, 2.8835, 2.8834, 2.8833, 2.8832, 2.8832, 2.8831, 2.883, 2.883, 2.8829, 2.8828, 2.8827, 2.8826, 2.8825, 2.8825, 2.8823, 2.8823, 2.8822, 2.8337, 1.2999, 1.4435, 2.1252, 0.7565, 3.0086, 3.0083, 3.0083, 3.008, 3.0078, 3.0074, 3.0073, 3.0071, 3.0069, 3.0069, 3.0068, 3.0067, 3.0067, 3.0066, 3.0066, 3.0064, 3.0062, 3.0061, 3.0061, 3.006, 3.006, 3.006, 3.006, 3.0059, 3.0056, 3.0055, 3.0055, 3.0052, 3.0052, 3.0051, 3.3375, 3.3375, 3.3371, 3.3369, 3.3365, 3.3364, 3.3363, 3.3363, 3.3361, 3.3359, 3.3358, 3.3357, 3.3357, 3.3356, 3.3355, 3.3355, 3.3354, 3.3353, 3.3353, 3.3351, 3.3351, 3.335, 3.3349, 3.3348, 3.3348, 3.3343, 3.3343, 3.3343, 3.3343, 3.334, 2.7062]}, \"token.table\": {\"Topic\": [8, 7, 3, 3, 2, 2, 2, 8, 9, 7, 1, 3, 6, 8, 4, 4, 4, 8, 3, 3, 6, 7, 9, 7, 2, 7, 8, 6, 9, 4, 9, 2, 7, 10, 6, 6, 10, 8, 5, 1, 1, 6, 5, 2, 6, 8, 6, 7, 10, 6, 6, 8, 6, 4, 4, 3, 9, 9, 6, 7, 2, 7, 10, 10, 4, 3, 3, 4, 10, 8, 8, 7, 4, 2, 2, 5, 10, 10, 1, 4, 10, 5, 10, 9, 5, 3, 2, 7, 1, 10, 10, 6, 2, 5, 5, 7, 7, 8, 3, 7, 4, 5, 4, 3, 8, 8, 4, 6, 7, 9, 4, 6, 3, 1, 3, 7, 4, 3, 1, 2, 1, 3, 8, 5, 8, 9, 6, 8, 3, 8, 10, 10, 8, 1, 1, 5, 10, 10, 10, 5, 6, 6, 2, 1, 2, 10, 5, 10, 9, 5, 6, 10, 6, 9, 3, 1, 4, 6, 7, 10, 7, 4, 6, 8, 10, 1, 8, 2, 5, 2, 10, 10, 9, 4, 1, 9, 7, 7, 5, 2, 7, 4, 10, 2, 3, 1, 1, 8, 5, 9, 5, 1, 1, 6, 1, 8, 9, 1, 4, 9, 8, 1, 9, 8, 2, 10, 4, 9, 8, 2, 5, 5, 5, 5, 8, 7, 5, 2, 9, 9, 1, 6, 9, 5, 8, 9, 10, 1, 9, 1, 3, 9, 8, 1, 8, 4, 9, 6, 2, 5, 3, 2, 4, 7, 1, 2, 10, 5, 2, 3, 6, 4, 3, 7, 9, 5, 1, 4, 1, 3, 5, 3, 3, 10, 6, 4, 4, 1, 5, 6, 2, 5, 1, 10, 3, 7, 1, 1, 5, 2, 7, 7, 8, 9, 9, 6, 8, 10, 4, 4, 2, 3, 2, 3, 8, 8, 7, 6, 7, 9, 4, 8, 8, 2, 3, 3, 9, 6, 2, 6, 8, 7, 3], \"Freq\": [0.9958672887303882, 0.9963944731669392, 0.9981750716643155, 0.9988960495824379, 0.9989412085098909, 0.9996121205904338, 0.9992694565246659, 0.9972907528813575, 0.9997740070984853, 0.9975533041745501, 0.998376474942071, 0.9998635523766868, 0.999199150968697, 0.9980256056298016, 0.9978015514401826, 0.9995160501804614, 0.9974296093348323, 0.998608664714906, 0.9992944508632365, 0.9983214656281267, 0.9976691339465502, 0.9968136322715281, 0.9975215088710423, 0.9991794023567143, 0.9989230116230549, 0.9968237177357927, 0.9968388855618312, 0.9969889047936996, 0.9976626535578516, 0.9996585244129645, 0.9984948378820009, 0.9985517922001653, 0.9988436342735922, 0.9973682660174926, 0.9969686635864091, 0.9960418933316445, 0.997593307920738, 0.9982025854212926, 0.9975982952050279, 0.9999747092237968, 0.9997287246098491, 0.9990288109331011, 0.9995890567462223, 0.9992295343108171, 0.9977237656296575, 0.9996033183821237, 0.9976524761441431, 0.9988579416325413, 0.998189117610617, 0.9993731958118951, 0.9979685692338175, 0.9982336378473317, 0.998394305339142, 0.9969689512349942, 0.9980918654768591, 0.9988737278905455, 0.998649783800616, 0.9976287865778383, 0.9968615042472248, 0.9973724369210589, 0.9989426073790552, 0.9976847618419818, 0.9983326438683878, 0.9952207684249561, 0.9979296689818027, 0.9998349498599868, 0.9991133841496087, 0.9985722492999358, 0.9989197295976411, 0.9968026010791107, 0.9986102785604507, 0.9975270965625493, 0.9990885859329812, 0.9997336978844522, 0.9989250748687214, 0.9994371273403501, 0.9934337157305315, 0.9971525029377426, 0.9994468663854491, 0.99943118099018, 0.9948586941847929, 0.9983301862652273, 0.9985118548321854, 0.9969273641902571, 0.999658932870892, 0.999251810353689, 0.9989913363279423, 0.9961651424105924, 0.9997301645647273, 0.9972278642731467, 0.9973582013134867, 0.9968931974182388, 0.9986127869456936, 0.9989384257112897, 0.9992036223043852, 0.9975586931346082, 0.9995506130402437, 0.9989760324209361, 0.9992447496276349, 0.9976704600268542, 0.9994635090089584, 0.9985910482147755, 0.997277344650765, 0.9986758643498651, 0.9952052102584353, 0.9975195388814703, 0.9990198246150281, 0.9980995668461458, 0.9992721851590782, 0.9957882591523041, 0.9998587728967303, 0.9983008605830956, 0.9997078238877977, 0.9991068767300175, 0.9994544661648656, 0.9970956361639965, 0.9990816188511505, 0.9990668738572669, 0.9998635961724222, 0.9996538195369414, 0.9997570964874563, 0.9991156357980363, 0.9967003599254911, 0.9989032773883482, 0.9985612521194009, 0.9965672411579743, 0.04969135018349376, 0.949176804954272, 0.7631237151744121, 0.2363221827636889, 0.9990956326772897, 0.9972658353619843, 0.9986048228667541, 0.9993094236303922, 0.9993207861898361, 0.9988400698353179, 0.995494103757347, 0.9937539589604081, 0.9964574585907611, 0.9971804143705228, 0.9976150222133238, 0.9996619918565935, 0.9983440540779263, 0.9993613515971819, 0.9992832499119126, 0.9991570041411385, 0.9978572899971305, 0.996365513106663, 0.9970126753107387, 0.9993726380806748, 0.9984084213561398, 0.9983939907730762, 0.9989018362846912, 0.9961962429907985, 0.9995883425845377, 0.9986893646952637, 0.9997455623054092, 0.9984390390403263, 0.998420664734792, 0.9980834928375366, 0.9988768678016229, 0.9970167823975978, 0.99722316750528, 0.4669501406416995, 0.5318482957817323, 0.880731043340071, 0.11886226531798956, 0.9989021096080741, 0.998194626905667, 0.9998612678441503, 0.9976142336464372, 0.9985990796703024, 0.999650371943179, 0.9983217472694474, 0.9999533917513821, 0.9970110103879329, 0.9991356900427176, 0.9978744454918721, 0.9978593279644453, 0.9989738359783591, 0.9994250952625394, 0.9978055623297322, 0.9992354601924215, 0.9989692579309868, 0.9983108126301584, 0.9989151972677681, 0.9995403910434524, 0.9991922884009914, 0.9992502477683048, 0.9971182667808395, 0.9985384027207512, 0.999827414700701, 0.9990279641024903, 0.9993294938417391, 0.9997665558134975, 0.9989217981349541, 0.9984082904346466, 0.9998466937100989, 0.9985577587480327, 0.9970343959831361, 0.9986391052313826, 0.9996029598265157, 0.9989809100748277, 0.9979972286894443, 0.9998795736597135, 0.9988117197385046, 0.9994668471336671, 0.9980036560601171, 0.998242591301893, 0.9987009945497671, 0.998602065064628, 0.9991249180779738, 0.999238146725807, 0.9988511931571316, 0.9991928344773809, 0.9994148320872326, 0.9988555031623594, 0.9984728578042938, 0.9986098337345264, 0.9988595610236084, 0.9996573691538618, 0.9986136847920118, 0.9974006890220888, 0.9990197525688562, 0.9979339973179149, 0.9966515665413296, 0.995508423724465, 0.9999166256971102, 0.9957961256673747, 0.9996777956020364, 0.9975881063905832, 0.9987494848912781, 0.9980830934202933, 0.9455448996873567, 0.05416571031832927, 0.9972787042497482, 0.9979445962759328, 0.9958598367429573, 0.9988979981768864, 0.9988642335752981, 0.9985408271501856, 0.9991180194060701, 0.9990155362435464, 0.9964933902018025, 0.9996472849226862, 0.9991592769623746, 0.9982052571093813, 0.998314198758545, 0.999402457738647, 0.99736618015677, 0.9974607165134364, 0.9997293050073692, 0.9991426523337978, 0.9991286420531637, 0.9972859105508394, 0.9976162931504757, 0.9993448706775968, 0.997593427633038, 0.9996136691124382, 0.9981348911200495, 0.9971305846656473, 0.9991962997201213, 0.9988150919867632, 0.997304782437705, 0.9990564106251367, 0.9995489341027002, 0.9996049550865312, 0.9998345326395499, 0.99864849792234, 0.99772717422714, 0.9997605826328378, 0.9978067446601591, 0.9996472849226862, 0.9965857274334754, 0.9984522102092702, 0.9974635669438017, 0.9992946746605428, 0.9998237095833383, 0.9957859298825412, 0.9987576207701263, 0.9984014934853084, 0.9989228883727601, 0.9973475218951456, 0.9977171896299141, 0.9993601532056481, 0.9993839060930954, 0.9984133103030685, 0.9950262831203376, 0.9986796936967485, 0.9966021527627192, 0.9988059020091429, 0.9994682341772703, 0.9978464903718751, 0.999222447302835, 0.9968870895375517, 0.9984898683862696, 0.9986645598439275, 0.9977492461888536, 0.9989768527800731, 0.9993958699121386, 0.9993136755530291, 0.998521677775924, 0.9991762523000413, 0.9992486466592068, 0.9987802511790279, 0.9992720760720096, 0.9971187479287139, 0.9988517353697223, 0.9997166254042497, 0.7948146248372393, 0.20464778267710967, 0.9975637312736545, 0.999048157942356], \"Term\": [\"access\", \"act\", \"advantage\", \"age\", \"airbus\", \"aircraft\", \"amazing\", \"ambassador\", \"american\", \"announcement\", \"anomalous\", \"appeared\", \"archaeologist\", \"article_nytimes\", \"assault\", \"attack\", \"attacked\", \"attitude\", \"away_from\", \"back\", \"bank\", \"beautifully\", \"bed\", \"began\", \"berest\", \"beyond\", \"biden\", \"biggest\", \"bloc\", \"block\", \"blood\", \"board\", \"book\", \"bound\", \"brandishing\", \"california\", \"cap\", \"car\", \"chad\", \"change\", \"cheaper\", \"chef\", \"chief_executive\", \"child\", \"christie\", \"church\", \"citizen\", \"claim\", \"cleaning\", \"climate\", \"colonization\", \"com\", \"come\", \"common\", \"company\", \"competition\", \"confront\", \"connor\", \"consumption\", \"cooked\", \"council\", \"counsel\", \"courted\", \"created\", \"crypto\", \"day\", \"deal\", \"debut\", \"decide\", \"deeply\", \"democratic\", \"diabetes\", \"died\", \"digital\", \"diner\", \"diplomatic\", \"disastrous\", \"disclosure\", \"discovered\", \"district\", \"doctor\", \"dollar\", \"domestic\", \"drab\", \"draft\", \"drawing\", \"drone\", \"dylan\", \"earth\", \"earthquake\", \"economy\", \"edged\", \"edition\", \"effort\", \"environmental\", \"episode\", \"error\", \"europe\", \"exactly\", \"expression\", \"farmington\", \"fatally\", \"feature\", \"featured\", \"federal\", \"federal_reserve\", \"festering\", \"festival\", \"fight\", \"follows\", \"fossil\", \"fossil_fuel\", \"french\", \"friend\", \"frosting\", \"fun\", \"future\", \"fx\", \"gang\", \"gas\", \"german\", \"gessen\", \"giant\", \"give\", \"governor\", \"green\", \"ha\", \"ha\", \"ha_appeared\", \"ha_appeared\", \"hand\", \"handle\", \"hansol\", \"happiness\", \"headed\", \"help\", \"high\", \"high_school\", \"homeless\", \"homeowner\", \"hong\", \"hong_kong\", \"honored\", \"house\", \"hundred\", \"iceland\", \"identify\", \"immediate\", \"immunity\", \"implausibility\", \"incite\", \"inhibition\", \"instability\", \"intelligence\", \"island\", \"james\", \"jeopardizes\", \"journalist\", \"kenner\", \"kentucky\", \"killed\", \"kim\", \"laden\", \"layer\", \"layer\", \"lebron\", \"lebron\", \"led\", \"legged\", \"legislature\", \"let\", \"lie\", \"light\", \"liquefied\", \"long\", \"looking\", \"love\", \"lucrative\", \"maddening\", \"made\", \"magee\", \"making\", \"manuel\", \"many\", \"martin\", \"member\", \"memoir\", \"method\", \"michael\", \"microsoft\", \"military\", \"minister\", \"monday\", \"monrovia\", \"move\", \"nation\", \"nba\", \"new_york\", \"nicklaus\", \"northwest\", \"number\", \"nytimes\", \"offered\", \"official\", \"old\", \"opposition\", \"override\", \"pacific\", \"paid\", \"part\", \"pastor\", \"people\", \"pet\", \"physical\", \"play\", \"poker\", \"police\", \"pondered\", \"position\", \"post\", \"pressure\", \"principal\", \"print_monday\", \"propelled\", \"protection\", \"public\", \"publicly\", \"quickly\", \"racket\", \"rage\", \"raised\", \"reader_wonder\", \"reality\", \"reflect\", \"reflect\", \"regional\", \"reintroduce\", \"relationship\", \"reporting\", \"research\", \"response\", \"result\", \"resume\", \"rican\", \"rollout\", \"roys\", \"ruben\", \"ruined\", \"sadder\", \"safety\", \"said\", \"scandal\", \"scorsese\", \"sea\", \"selected\", \"sense\", \"several\", \"shelter\", \"shoe\", \"shonov\", \"shooter\", \"shop\", \"show\", \"showtime\", \"significant\", \"silicon\", \"silicon_valley\", \"since\", \"speaker_kevin\", \"sprung\", \"spur\", \"spy\", \"star\", \"stranger\", \"study\", \"success\", \"sushi\", \"swallow\", \"symptom\", \"system\", \"ten\", \"textile\", \"theory\", \"thing\", \"tilted\", \"time\", \"tobago\", \"tom\", \"translates\", \"trapping\", \"truck\", \"try\", \"trying\", \"ukraine\", \"ultimate\", \"unanimous\", \"undercut\", \"union\", \"use_sentence\", \"veteran\", \"vetoed\", \"vice\", \"violated\", \"violence\", \"violent\", \"visceral\", \"volodymyr_zelensky\", \"wa\", \"week\", \"wooed\", \"wooed\", \"would\", \"writer\"]}, \"R\": 30, \"lambda.step\": 0.01, \"plot.opts\": {\"xlab\": \"PC1\", \"ylab\": \"PC2\"}, \"topic.order\": [9, 3, 6, 10, 8, 4, 5, 1, 2, 7]};\n",
       "\n",
       "function LDAvis_load_lib(url, callback){\n",
       "  var s = document.createElement('script');\n",
       "  s.src = url;\n",
       "  s.async = true;\n",
       "  s.onreadystatechange = s.onload = callback;\n",
       "  s.onerror = function(){console.warn(\"failed to load library \" + url);};\n",
       "  document.getElementsByTagName(\"head\")[0].appendChild(s);\n",
       "}\n",
       "\n",
       "if(typeof(LDAvis) !== \"undefined\"){\n",
       "   // already loaded: just create the visualization\n",
       "   !function(LDAvis){\n",
       "       new LDAvis(\"#\" + \"ldavis_el73179541270537649694738\", ldavis_el73179541270537649694738_data);\n",
       "   }(LDAvis);\n",
       "}else if(typeof define === \"function\" && define.amd){\n",
       "   // require.js is available: use it to load d3/LDAvis\n",
       "   require.config({paths: {d3: \"https://d3js.org/d3.v5\"}});\n",
       "   require([\"d3\"], function(d3){\n",
       "      window.d3 = d3;\n",
       "      LDAvis_load_lib(\"https://cdn.jsdelivr.net/gh/bmabey/pyLDAvis@3.4.0/pyLDAvis/js/ldavis.v3.0.0.js\", function(){\n",
       "        new LDAvis(\"#\" + \"ldavis_el73179541270537649694738\", ldavis_el73179541270537649694738_data);\n",
       "      });\n",
       "    });\n",
       "}else{\n",
       "    // require.js not available: dynamically load d3 & LDAvis\n",
       "    LDAvis_load_lib(\"https://d3js.org/d3.v5.js\", function(){\n",
       "         LDAvis_load_lib(\"https://cdn.jsdelivr.net/gh/bmabey/pyLDAvis@3.4.0/pyLDAvis/js/ldavis.v3.0.0.js\", function(){\n",
       "                 new LDAvis(\"#\" + \"ldavis_el73179541270537649694738\", ldavis_el73179541270537649694738_data);\n",
       "            })\n",
       "         });\n",
       "}\n",
       "</script>"
      ],
      "text/plain": [
       "PreparedData(topic_coordinates=              x         y  topics  cluster       Freq\n",
       "topic                                                \n",
       "8      0.447603  0.031834       1        1  27.748793\n",
       "2     -0.005922 -0.410919       2        1  13.300906\n",
       "5     -0.027309  0.087345       3        1  12.571508\n",
       "9     -0.034205 -0.085744       4        1   9.966824\n",
       "7     -0.074548  0.019937       5        1   7.932833\n",
       "3     -0.065399  0.110096       6        1   7.662784\n",
       "4     -0.077191  0.025551       7        1   6.751003\n",
       "0      0.009415  0.132196       8        1   5.582130\n",
       "1     -0.083043  0.032046       9        1   4.934496\n",
       "6     -0.089402  0.057658      10        1   3.548724, topic_info=            Term          Freq         Total Category  logprob  loglift\n",
       "0         change  20755.000000  20755.000000  Default  30.0000  30.0000\n",
       "94          long   9856.000000   9856.000000  Default  29.0000  29.0000\n",
       "65      new_york   7377.000000   7377.000000  Default  28.0000  28.0000\n",
       "602     american   2600.000000   2600.000000  Default  27.0000  27.0000\n",
       "39      appeared   3740.000000   3740.000000  Default  26.0000  26.0000\n",
       "...          ...           ...           ...      ...      ...      ...\n",
       "1072        high    196.048184    196.887153  Topic10  -4.7079   3.3343\n",
       "1782    homeless    194.854123    195.693251  Topic10  -4.7140   3.3343\n",
       "821   disastrous    193.436586    194.275669  Topic10  -4.7213   3.3343\n",
       "947      created    182.034863    182.873997  Topic10  -4.7820   3.3340\n",
       "31         layer    335.675831    631.759099  Topic10  -4.1701   2.7062\n",
       "\n",
       "[341 rows x 6 columns], token_table=      Topic      Freq       Term\n",
       "term                            \n",
       "2150      8  0.995867     access\n",
       "614       7  0.996394        act\n",
       "297       3  0.998175  advantage\n",
       "298       3  0.998896        age\n",
       "445       2  0.998941     airbus\n",
       "...     ...       ...        ...\n",
       "184       2  0.999717       week\n",
       "116       6  0.794815      wooed\n",
       "116       8  0.204648      wooed\n",
       "613       7  0.997564      would\n",
       "1143      3  0.999048     writer\n",
       "\n",
       "[313 rows x 3 columns], R=30, lambda_step=0.01, plot_opts={'xlab': 'PC1', 'ylab': 'PC2'}, topic_order=[9, 3, 6, 10, 8, 4, 5, 1, 2, 7])"
      ]
     },
     "execution_count": 49,
     "metadata": {},
     "output_type": "execute_result"
    }
   ],
   "source": [
    "# Visualize the topics\n",
    "# Will not be visible if you view the notebook on GitHub\n",
    "pyLDAvis.enable_notebook()\n",
    "vis = pyLDAvis.gensim.prepare(lda_model, corpus, id2word)\n",
    "vis"
   ]
  },
  {
   "cell_type": "code",
   "execution_count": null,
   "metadata": {},
   "outputs": [],
   "source": []
  }
 ],
 "metadata": {
  "kernelspec": {
   "display_name": "Python 3 (ipykernel)",
   "language": "python",
   "name": "python3"
  },
  "language_info": {
   "codemirror_mode": {
    "name": "ipython",
    "version": 3
   },
   "file_extension": ".py",
   "mimetype": "text/x-python",
   "name": "python",
   "nbconvert_exporter": "python",
   "pygments_lexer": "ipython3",
   "version": "3.11.5"
  }
 },
 "nbformat": 4,
 "nbformat_minor": 4
}
