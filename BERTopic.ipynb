{
 "cells": [
  {
   "cell_type": "code",
   "execution_count": 66,
   "metadata": {},
   "outputs": [],
   "source": [
    "import numpy as np\n",
    "import pandas as pd\n",
    "import ast\n",
    "import json\n",
    "import os\n",
    "import matplotlib.pyplot as plt\n",
    "import plotly.express as px\n",
    "from scipy.optimize import curve_fit\n",
    "from sklearn.linear_model import LinearRegression\n",
    "import seaborn as sns\n",
    "import zipfile"
   ]
  },
  {
   "cell_type": "code",
   "execution_count": 67,
   "metadata": {},
   "outputs": [
    {
     "name": "stderr",
     "output_type": "stream",
     "text": [
      "/Users/craigfranze/opt/anaconda3/lib/python3.8/site-packages/IPython/core/interactiveshell.py:3165: DtypeWarning: Columns (5) have mixed types.Specify dtype option on import or set low_memory=False.\n",
      "  has_raised = await self.run_ast_nodes(code_ast.body, cell_name,\n"
     ]
    }
   ],
   "source": [
    "# Read the CSV file\n",
    "df = pd.read_csv('nyt-metadata.csv')"
   ]
  },
  {
   "cell_type": "markdown",
   "metadata": {},
   "source": [
    "# Cleaning"
   ]
  },
  {
   "cell_type": "code",
   "execution_count": 68,
   "metadata": {},
   "outputs": [],
   "source": [
    "# Drop columns that are not needed\n",
    "columns_to_drop = ['web_url', \n",
    "                   'snippet', \n",
    "                   'lead_paragraph', \n",
    "                   'print_section', \n",
    "                   'print_page', \n",
    "                   'source', \n",
    "                   'multimedia', \n",
    "                   'news_desk',\n",
    "                   'byline',\n",
    "                   '_id',\n",
    "                   'uri',\n",
    "                   'subsection_name',\n",
    "                   'word_count',\n",
    "                   'keywords']\n",
    "df.drop(columns=columns_to_drop, inplace=True)\n",
    "\n",
    "# Drop rows with missing abstracts\n",
    "drop_rows = df[df['abstract'].isnull()].index\n",
    "df.drop(drop_rows, inplace=True)\n",
    "\n",
    "# Change the date column to datetime\n",
    "df['pub_date'] = pd.to_datetime(df['pub_date'])\n",
    "\n",
    "# Change the abstract column to string\n",
    "df['abstract'] = df['abstract'].astype(str)"
   ]
  },
  {
   "cell_type": "code",
   "execution_count": 69,
   "metadata": {},
   "outputs": [],
   "source": [
    "# Function to extract the 'main' value from JSON-like strings\n",
    "def extract_main(headline_str):\n",
    "    try:\n",
    "        # Safely evaluate the string to convert it to a dictionary\n",
    "        json_dict = ast.literal_eval(headline_str)\n",
    "        # Access and return the 'main' key\n",
    "        return json_dict.get('main', None)\n",
    "    except (ValueError, SyntaxError):\n",
    "        return None\n",
    "\n",
    "# Apply the function to the 'headline' column\n",
    "df['headline'] = df['headline'].apply(extract_main)"
   ]
  },
  {
   "cell_type": "code",
   "execution_count": 70,
   "metadata": {},
   "outputs": [
    {
     "data": {
      "text/html": [
       "<div>\n",
       "<style scoped>\n",
       "    .dataframe tbody tr th:only-of-type {\n",
       "        vertical-align: middle;\n",
       "    }\n",
       "\n",
       "    .dataframe tbody tr th {\n",
       "        vertical-align: top;\n",
       "    }\n",
       "\n",
       "    .dataframe thead th {\n",
       "        text-align: right;\n",
       "    }\n",
       "</style>\n",
       "<table border=\"1\" class=\"dataframe\">\n",
       "  <thead>\n",
       "    <tr style=\"text-align: right;\">\n",
       "      <th></th>\n",
       "      <th>abstract</th>\n",
       "      <th>headline</th>\n",
       "      <th>pub_date</th>\n",
       "      <th>document_type</th>\n",
       "      <th>section_name</th>\n",
       "      <th>type_of_material</th>\n",
       "    </tr>\n",
       "  </thead>\n",
       "  <tbody>\n",
       "    <tr>\n",
       "      <th>0</th>\n",
       "      <td>Article on upcoming New York Giants-Dallas Cow...</td>\n",
       "      <td>Playoffs or No, Dallas Provides The Motivation</td>\n",
       "      <td>2000-01-01 05:00:00+00:00</td>\n",
       "      <td>article</td>\n",
       "      <td>Sports</td>\n",
       "      <td>News</td>\n",
       "    </tr>\n",
       "    <tr>\n",
       "      <th>1</th>\n",
       "      <td>Jeanne C Pond letter expresses hope that spiri...</td>\n",
       "      <td>On This First Day, a Fanfare for the New Era; ...</td>\n",
       "      <td>2000-01-01 05:00:00+00:00</td>\n",
       "      <td>article</td>\n",
       "      <td>Opinion</td>\n",
       "      <td>Letter</td>\n",
       "    </tr>\n",
       "    <tr>\n",
       "      <th>2</th>\n",
       "      <td>Many experts on Y2K computer problem report th...</td>\n",
       "      <td>Internet's Cheering Squad Nervously Watches Clock</td>\n",
       "      <td>2000-01-01 05:00:00+00:00</td>\n",
       "      <td>article</td>\n",
       "      <td>U.S.</td>\n",
       "      <td>News</td>\n",
       "    </tr>\n",
       "    <tr>\n",
       "      <th>3</th>\n",
       "      <td>WILL the forces of globalism continue to push ...</td>\n",
       "      <td>Economic Thinking Finds a Free Market</td>\n",
       "      <td>2000-01-01 05:00:00+00:00</td>\n",
       "      <td>article</td>\n",
       "      <td>Archives</td>\n",
       "      <td>News</td>\n",
       "    </tr>\n",
       "    <tr>\n",
       "      <th>4</th>\n",
       "      <td>SPECIAL TODAY  The Millennium  Envisioning th...</td>\n",
       "      <td>INSIDE</td>\n",
       "      <td>2000-01-01 05:00:00+00:00</td>\n",
       "      <td>article</td>\n",
       "      <td>New York</td>\n",
       "      <td>Summary</td>\n",
       "    </tr>\n",
       "  </tbody>\n",
       "</table>\n",
       "</div>"
      ],
      "text/plain": [
       "                                            abstract  \\\n",
       "0  Article on upcoming New York Giants-Dallas Cow...   \n",
       "1  Jeanne C Pond letter expresses hope that spiri...   \n",
       "2  Many experts on Y2K computer problem report th...   \n",
       "3  WILL the forces of globalism continue to push ...   \n",
       "4   SPECIAL TODAY  The Millennium  Envisioning th...   \n",
       "\n",
       "                                            headline  \\\n",
       "0     Playoffs or No, Dallas Provides The Motivation   \n",
       "1  On This First Day, a Fanfare for the New Era; ...   \n",
       "2  Internet's Cheering Squad Nervously Watches Clock   \n",
       "3              Economic Thinking Finds a Free Market   \n",
       "4                                             INSIDE   \n",
       "\n",
       "                   pub_date document_type section_name type_of_material  \n",
       "0 2000-01-01 05:00:00+00:00       article       Sports             News  \n",
       "1 2000-01-01 05:00:00+00:00       article      Opinion           Letter  \n",
       "2 2000-01-01 05:00:00+00:00       article         U.S.             News  \n",
       "3 2000-01-01 05:00:00+00:00       article     Archives             News  \n",
       "4 2000-01-01 05:00:00+00:00       article     New York          Summary  "
      ]
     },
     "execution_count": 70,
     "metadata": {},
     "output_type": "execute_result"
    }
   ],
   "source": [
    "df.head()"
   ]
  },
  {
   "cell_type": "code",
   "execution_count": 103,
   "metadata": {},
   "outputs": [],
   "source": [
    "# Use the first 2000 abstracts for the analysis\n",
    "abstracts = df['abstract'][0:2000]\n",
    "docs = abstracts.to_list()"
   ]
  },
  {
   "cell_type": "code",
   "execution_count": 104,
   "metadata": {},
   "outputs": [],
   "source": [
    "# Tokenize the documents.\n",
    "\n",
    "from nltk.tokenize import RegexpTokenizer\n",
    "\n",
    "# Split the documents into tokens.\n",
    "tokenizer = RegexpTokenizer(r'\\w+')\n",
    "for idx in range(len(docs)):\n",
    "    docs[idx] = docs[idx].lower()  # Convert to lowercase.\n",
    "    docs[idx] = tokenizer.tokenize(docs[idx])  # Split into words.\n",
    "\n",
    "# Remove numbers, but not words that contain numbers.\n",
    "docs = [[token for token in doc if not token.isnumeric()] for doc in docs]\n",
    "\n",
    "# Remove words that are only one character.\n",
    "docs = [[token for token in doc if len(token) > 1] for doc in docs]"
   ]
  },
  {
   "cell_type": "code",
   "execution_count": 108,
   "metadata": {},
   "outputs": [
    {
     "name": "stderr",
     "output_type": "stream",
     "text": [
      "[nltk_data] Downloading package wordnet to\n",
      "[nltk_data]     /Users/craigfranze/nltk_data...\n"
     ]
    }
   ],
   "source": [
    "# Lemmatize the documents.\n",
    "import nltk\n",
    "nltk.download('wordnet')\n",
    "from nltk.stem.wordnet import WordNetLemmatizer\n",
    "\n",
    "# Lemmatize all words in documents.\n",
    "lemmatizer = WordNetLemmatizer()\n",
    "docs = [[lemmatizer.lemmatize(token) for token in doc] for doc in docs]"
   ]
  },
  {
   "cell_type": "code",
   "execution_count": 111,
   "metadata": {},
   "outputs": [],
   "source": [
    "# Compute bigrams.\n",
    "\n",
    "from gensim.models import Phrases\n",
    "\n",
    "# Add bigrams and trigrams to docs (only ones that appear 20 times or more).\n",
    "bigram = Phrases(docs, min_count=20)\n",
    "for idx in range(len(docs)):\n",
    "    for token in bigram[docs[idx]]:\n",
    "        if '_' in token:\n",
    "            # Token is a bigram, add to document.\n",
    "            docs[idx].append(token)"
   ]
  },
  {
   "cell_type": "code",
   "execution_count": 116,
   "metadata": {},
   "outputs": [],
   "source": [
    "# Remove rare and common tokens.\n",
    "\n",
    "from gensim.corpora import Dictionary\n",
    "\n",
    "# Create a dictionary representation of the documents.\n",
    "dictionary = Dictionary(docs)\n",
    "\n",
    "# Filter out words that occur less than 20 documents, or more than 50% of the documents.\n",
    "dictionary.filter_extremes(no_below=20, no_above=0.5)"
   ]
  },
  {
   "cell_type": "code",
   "execution_count": 119,
   "metadata": {},
   "outputs": [
    {
     "data": {
      "text/plain": [
       "['will',\n",
       " 'the',\n",
       " 'force',\n",
       " 'of',\n",
       " 'globalism',\n",
       " 'continue',\n",
       " 'to',\n",
       " 'push',\n",
       " 'the',\n",
       " 'world',\n",
       " 'toward',\n",
       " 'american',\n",
       " 'style',\n",
       " 'capitalism',\n",
       " 'a',\n",
       " 'the',\n",
       " '21st',\n",
       " 'century',\n",
       " 'begin',\n",
       " 'advocate',\n",
       " 'of',\n",
       " 'the',\n",
       " 'free',\n",
       " 'market',\n",
       " 'have',\n",
       " 'no',\n",
       " 'doubt',\n",
       " 'that',\n",
       " 'they',\n",
       " 'have',\n",
       " 'won',\n",
       " 'the',\n",
       " 'economic',\n",
       " 'argument',\n",
       " 'socialism',\n",
       " 'is',\n",
       " 'dead',\n",
       " 'moreover',\n",
       " 'a',\n",
       " 'mean',\n",
       " 'of',\n",
       " 'creating',\n",
       " 'wealth',\n",
       " 'and',\n",
       " 'material',\n",
       " 'progress',\n",
       " 'american',\n",
       " 'capitalism',\n",
       " 'seems',\n",
       " 'to',\n",
       " 'be',\n",
       " 'clearly',\n",
       " 'superior',\n",
       " 'to',\n",
       " 'the',\n",
       " 'asian',\n",
       " 'variety',\n",
       " 'with',\n",
       " 'it',\n",
       " 'greater',\n",
       " 'level',\n",
       " 'of',\n",
       " 'government',\n",
       " 'planning',\n",
       " 'or',\n",
       " 'the',\n",
       " 'european',\n",
       " 'version',\n",
       " 'with',\n",
       " 'it',\n",
       " 'emphasis',\n",
       " 'on',\n",
       " 'social',\n",
       " 'welfare',\n",
       " 'and',\n",
       " 'protection',\n",
       " 'of',\n",
       " 'worker',\n",
       " 'from',\n",
       " 'losing',\n",
       " 'their',\n",
       " 'job',\n",
       " '21st_century']"
      ]
     },
     "execution_count": 119,
     "metadata": {},
     "output_type": "execute_result"
    }
   ],
   "source": [
    "docs[3]"
   ]
  },
  {
   "cell_type": "markdown",
   "metadata": {},
   "source": [
    "# BERTopic"
   ]
  },
  {
   "cell_type": "code",
   "execution_count": 96,
   "metadata": {},
   "outputs": [],
   "source": [
    "from bertopic import BERTopic"
   ]
  },
  {
   "cell_type": "code",
   "execution_count": 121,
   "metadata": {},
   "outputs": [],
   "source": [
    "# Concatenate each entry into a single string\n",
    "concatenated_docs = [' '.join(doc) for doc in docs]"
   ]
  },
  {
   "cell_type": "code",
   "execution_count": 122,
   "metadata": {},
   "outputs": [
    {
     "name": "stderr",
     "output_type": "stream",
     "text": [
      "2024-05-21 21:08:55,567 - BERTopic - Embedding - Transforming documents to embeddings.\n",
      "Batches: 100%|██████████| 63/63 [00:51<00:00,  1.24it/s]\n",
      "2024-05-21 21:09:47,970 - BERTopic - Embedding - Completed ✓\n",
      "2024-05-21 21:09:47,971 - BERTopic - Dimensionality - Fitting the dimensionality reduction algorithm\n",
      "2024-05-21 21:09:55,042 - BERTopic - Dimensionality - Completed ✓\n",
      "2024-05-21 21:09:55,043 - BERTopic - Cluster - Start clustering the reduced embeddings\n",
      "2024-05-21 21:09:55,100 - BERTopic - Cluster - Completed ✓\n",
      "2024-05-21 21:09:55,104 - BERTopic - Representation - Extracting topics from clusters using representation models.\n",
      "2024-05-21 21:09:55,274 - BERTopic - Representation - Completed ✓\n",
      "Batches: 100%|██████████| 63/63 [00:50<00:00,  1.24it/s]\n",
      "2024-05-21 21:10:46,094 - BERTopic - Dimensionality - Reducing dimensionality of input embeddings.\n",
      "2024-05-21 21:10:46,100 - BERTopic - Dimensionality - Completed ✓\n",
      "2024-05-21 21:10:46,101 - BERTopic - Clustering - Approximating new points with `hdbscan_model`\n",
      "2024-05-21 21:10:46,164 - BERTopic - Cluster - Completed ✓\n"
     ]
    }
   ],
   "source": [
    "# model = BERTopic(nr_topics=5) # Default number of topics is 30\n",
    "model = BERTopic(verbose=True)\n",
    "model.fit(concatenated_docs)\n",
    "topics, probabilities = model.transform(concatenated_docs)"
   ]
  },
  {
   "cell_type": "code",
   "execution_count": 123,
   "metadata": {},
   "outputs": [
    {
     "data": {
      "text/html": [
       "<div>\n",
       "<style scoped>\n",
       "    .dataframe tbody tr th:only-of-type {\n",
       "        vertical-align: middle;\n",
       "    }\n",
       "\n",
       "    .dataframe tbody tr th {\n",
       "        vertical-align: top;\n",
       "    }\n",
       "\n",
       "    .dataframe thead th {\n",
       "        text-align: right;\n",
       "    }\n",
       "</style>\n",
       "<table border=\"1\" class=\"dataframe\">\n",
       "  <thead>\n",
       "    <tr style=\"text-align: right;\">\n",
       "      <th></th>\n",
       "      <th>Topic</th>\n",
       "      <th>Count</th>\n",
       "    </tr>\n",
       "  </thead>\n",
       "  <tbody>\n",
       "    <tr>\n",
       "      <th>3</th>\n",
       "      <td>0</td>\n",
       "      <td>409</td>\n",
       "    </tr>\n",
       "    <tr>\n",
       "      <th>0</th>\n",
       "      <td>-1</td>\n",
       "      <td>401</td>\n",
       "    </tr>\n",
       "    <tr>\n",
       "      <th>1</th>\n",
       "      <td>1</td>\n",
       "      <td>291</td>\n",
       "    </tr>\n",
       "    <tr>\n",
       "      <th>16</th>\n",
       "      <td>2</td>\n",
       "      <td>117</td>\n",
       "    </tr>\n",
       "    <tr>\n",
       "      <th>4</th>\n",
       "      <td>3</td>\n",
       "      <td>107</td>\n",
       "    </tr>\n",
       "    <tr>\n",
       "      <th>14</th>\n",
       "      <td>4</td>\n",
       "      <td>76</td>\n",
       "    </tr>\n",
       "    <tr>\n",
       "      <th>11</th>\n",
       "      <td>5</td>\n",
       "      <td>74</td>\n",
       "    </tr>\n",
       "    <tr>\n",
       "      <th>5</th>\n",
       "      <td>6</td>\n",
       "      <td>67</td>\n",
       "    </tr>\n",
       "    <tr>\n",
       "      <th>2</th>\n",
       "      <td>7</td>\n",
       "      <td>63</td>\n",
       "    </tr>\n",
       "    <tr>\n",
       "      <th>20</th>\n",
       "      <td>8</td>\n",
       "      <td>42</td>\n",
       "    </tr>\n",
       "  </tbody>\n",
       "</table>\n",
       "</div>"
      ],
      "text/plain": [
       "    Topic  Count\n",
       "3       0    409\n",
       "0      -1    401\n",
       "1       1    291\n",
       "16      2    117\n",
       "4       3    107\n",
       "14      4     76\n",
       "11      5     74\n",
       "5       6     67\n",
       "2       7     63\n",
       "20      8     42"
      ]
     },
     "execution_count": 123,
     "metadata": {},
     "output_type": "execute_result"
    }
   ],
   "source": [
    "model.get_topic_freq().head(10)"
   ]
  },
  {
   "cell_type": "code",
   "execution_count": 124,
   "metadata": {},
   "outputs": [
    {
     "data": {
      "application/vnd.plotly.v1+json": {
       "config": {
        "plotlyServerURL": "https://plot.ly"
       },
       "data": [
        {
         "customdata": [
          [
           0,
           "of | and | at | his | january",
           409
          ],
          [
           1,
           "the | it | to | in | company",
           291
          ],
          [
           2,
           "the | to | mr | for | that",
           117
          ],
          [
           3,
           "the | year | new | of | in",
           107
          ],
          [
           4,
           "editor | the | to | frontpage | front",
           76
          ],
          [
           5,
           "the | in | police | to | of",
           74
          ],
          [
           6,
           "the | and | theater | at | dance",
           67
          ],
          [
           7,
           "century | drawing | 21stcentury | 21st | say",
           63
          ],
          [
           8,
           "museum | art | gallery | and | in",
           42
          ],
          [
           9,
           "is | restaurant | are | it | with",
           38
          ],
          [
           10,
           "by | book | reviewbook | the | review",
           34
          ],
          [
           11,
           "prediction | century | future | america | 21stcentury",
           32
          ],
          [
           12,
           "elian | cuba | gonzalez | the | boy",
           26
          ],
          [
           13,
           "belichick | jet | parcells | coach | bill",
           25
          ],
          [
           14,
           "yeltsin | putin | russia | vladimirputin | vladimir",
           25
          ],
          [
           15,
           "bus | diesel | river | to | and",
           23
          ],
          [
           16,
           "magazine | publisher | yearold | old | of",
           22
          ],
          [
           17,
           "bowl | yard | warrick | national | he",
           19
          ],
          [
           18,
           "indian | india | hijacker | pakistan | hijacking",
           18
          ],
          [
           19,
           "israeli | israel | talk | peace | syrian",
           18
          ],
          [
           20,
           "game | ranger | devil | goal | the",
           17
          ],
          [
           21,
           "january | sander | jane | jan | ",
           17
          ],
          [
           22,
           "houston | point | he | the | season",
           15
          ],
          [
           23,
           "russian | chechnya | grozny | soldier | rebel",
           14
          ],
          [
           24,
           "union | ha | to | worker | college",
           10
          ]
         ],
         "hovertemplate": "<b>Topic %{customdata[0]}</b><br>%{customdata[1]}<br>Size: %{customdata[2]}",
         "legendgroup": "",
         "marker": {
          "color": "#B0BEC5",
          "line": {
           "color": "DarkSlateGrey",
           "width": 2
          },
          "size": [
           409,
           291,
           117,
           107,
           76,
           74,
           67,
           63,
           42,
           38,
           34,
           32,
           26,
           25,
           25,
           23,
           22,
           19,
           18,
           18,
           17,
           17,
           15,
           14,
           10
          ],
          "sizemode": "area",
          "sizeref": 0.255625,
          "symbol": "circle"
         },
         "mode": "markers",
         "name": "",
         "orientation": "v",
         "showlegend": false,
         "type": "scatter",
         "x": [
          17.86343002319336,
          16.41965103149414,
          16.372264862060547,
          18.61358642578125,
          16.884973526000977,
          15.872882843017578,
          16.794679641723633,
          18.318790435791016,
          17.0263729095459,
          16.35403823852539,
          17.545547485351562,
          8.808279037475586,
          17.696420669555664,
          8.211808204650879,
          6.612370014190674,
          16.373371124267578,
          17.84836196899414,
          8.539443016052246,
          15.588265419006348,
          16.01995086669922,
          8.784767150878906,
          18.836671829223633,
          8.674418449401855,
          6.707026958465576,
          16.72765350341797
         ],
         "xaxis": "x",
         "y": [
          -2.0359091758728027,
          17.402700424194336,
          16.33207893371582,
          -0.5539644360542297,
          17.15060806274414,
          15.953883171081543,
          -1.9187276363372803,
          -0.8694972395896912,
          -1.7492985725402832,
          17.718889236450195,
          -1.2135413885116577,
          -13.290603637695312,
          -2.4204981327056885,
          -12.057971000671387,
          -1.7571152448654175,
          17.12591552734375,
          -1.4603371620178223,
          -12.352063179016113,
          15.813753128051758,
          16.44129753112793,
          -13.003005027770996,
          -0.3236734867095947,
          -12.617033958435059,
          -1.6796082258224487,
          16.86090087890625
         ],
         "yaxis": "y"
        }
       ],
       "layout": {
        "annotations": [
         {
          "showarrow": false,
          "text": "D1",
          "x": 5.620514512062073,
          "y": 2.5462642192840583,
          "yshift": 10
         },
         {
          "showarrow": false,
          "text": "D2",
          "x": 13.641343557834626,
          "xshift": 10,
          "y": 20.376722621917725
         }
        ],
        "height": 650,
        "hoverlabel": {
         "bgcolor": "white",
         "font": {
          "family": "Rockwell",
          "size": 16
         }
        },
        "legend": {
         "itemsizing": "constant",
         "tracegroupgap": 0
        },
        "margin": {
         "t": 60
        },
        "shapes": [
         {
          "line": {
           "color": "#CFD8DC",
           "width": 2
          },
          "type": "line",
          "x0": 13.641343557834626,
          "x1": 13.641343557834626,
          "y0": -15.284194183349609,
          "y1": 20.376722621917725
         },
         {
          "line": {
           "color": "#9E9E9E",
           "width": 2
          },
          "type": "line",
          "x0": 5.620514512062073,
          "x1": 21.66217260360718,
          "y0": 2.5462642192840583,
          "y1": 2.5462642192840583
         }
        ],
        "sliders": [
         {
          "active": 0,
          "pad": {
           "t": 50
          },
          "steps": [
           {
            "args": [
             {
              "marker.color": [
               [
                "red",
                "#B0BEC5",
                "#B0BEC5",
                "#B0BEC5",
                "#B0BEC5",
                "#B0BEC5",
                "#B0BEC5",
                "#B0BEC5",
                "#B0BEC5",
                "#B0BEC5",
                "#B0BEC5",
                "#B0BEC5",
                "#B0BEC5",
                "#B0BEC5",
                "#B0BEC5",
                "#B0BEC5",
                "#B0BEC5",
                "#B0BEC5",
                "#B0BEC5",
                "#B0BEC5",
                "#B0BEC5",
                "#B0BEC5",
                "#B0BEC5",
                "#B0BEC5",
                "#B0BEC5"
               ]
              ]
             }
            ],
            "label": "Topic 0",
            "method": "update"
           },
           {
            "args": [
             {
              "marker.color": [
               [
                "#B0BEC5",
                "red",
                "#B0BEC5",
                "#B0BEC5",
                "#B0BEC5",
                "#B0BEC5",
                "#B0BEC5",
                "#B0BEC5",
                "#B0BEC5",
                "#B0BEC5",
                "#B0BEC5",
                "#B0BEC5",
                "#B0BEC5",
                "#B0BEC5",
                "#B0BEC5",
                "#B0BEC5",
                "#B0BEC5",
                "#B0BEC5",
                "#B0BEC5",
                "#B0BEC5",
                "#B0BEC5",
                "#B0BEC5",
                "#B0BEC5",
                "#B0BEC5",
                "#B0BEC5"
               ]
              ]
             }
            ],
            "label": "Topic 1",
            "method": "update"
           },
           {
            "args": [
             {
              "marker.color": [
               [
                "#B0BEC5",
                "#B0BEC5",
                "red",
                "#B0BEC5",
                "#B0BEC5",
                "#B0BEC5",
                "#B0BEC5",
                "#B0BEC5",
                "#B0BEC5",
                "#B0BEC5",
                "#B0BEC5",
                "#B0BEC5",
                "#B0BEC5",
                "#B0BEC5",
                "#B0BEC5",
                "#B0BEC5",
                "#B0BEC5",
                "#B0BEC5",
                "#B0BEC5",
                "#B0BEC5",
                "#B0BEC5",
                "#B0BEC5",
                "#B0BEC5",
                "#B0BEC5",
                "#B0BEC5"
               ]
              ]
             }
            ],
            "label": "Topic 2",
            "method": "update"
           },
           {
            "args": [
             {
              "marker.color": [
               [
                "#B0BEC5",
                "#B0BEC5",
                "#B0BEC5",
                "red",
                "#B0BEC5",
                "#B0BEC5",
                "#B0BEC5",
                "#B0BEC5",
                "#B0BEC5",
                "#B0BEC5",
                "#B0BEC5",
                "#B0BEC5",
                "#B0BEC5",
                "#B0BEC5",
                "#B0BEC5",
                "#B0BEC5",
                "#B0BEC5",
                "#B0BEC5",
                "#B0BEC5",
                "#B0BEC5",
                "#B0BEC5",
                "#B0BEC5",
                "#B0BEC5",
                "#B0BEC5",
                "#B0BEC5"
               ]
              ]
             }
            ],
            "label": "Topic 3",
            "method": "update"
           },
           {
            "args": [
             {
              "marker.color": [
               [
                "#B0BEC5",
                "#B0BEC5",
                "#B0BEC5",
                "#B0BEC5",
                "red",
                "#B0BEC5",
                "#B0BEC5",
                "#B0BEC5",
                "#B0BEC5",
                "#B0BEC5",
                "#B0BEC5",
                "#B0BEC5",
                "#B0BEC5",
                "#B0BEC5",
                "#B0BEC5",
                "#B0BEC5",
                "#B0BEC5",
                "#B0BEC5",
                "#B0BEC5",
                "#B0BEC5",
                "#B0BEC5",
                "#B0BEC5",
                "#B0BEC5",
                "#B0BEC5",
                "#B0BEC5"
               ]
              ]
             }
            ],
            "label": "Topic 4",
            "method": "update"
           },
           {
            "args": [
             {
              "marker.color": [
               [
                "#B0BEC5",
                "#B0BEC5",
                "#B0BEC5",
                "#B0BEC5",
                "#B0BEC5",
                "red",
                "#B0BEC5",
                "#B0BEC5",
                "#B0BEC5",
                "#B0BEC5",
                "#B0BEC5",
                "#B0BEC5",
                "#B0BEC5",
                "#B0BEC5",
                "#B0BEC5",
                "#B0BEC5",
                "#B0BEC5",
                "#B0BEC5",
                "#B0BEC5",
                "#B0BEC5",
                "#B0BEC5",
                "#B0BEC5",
                "#B0BEC5",
                "#B0BEC5",
                "#B0BEC5"
               ]
              ]
             }
            ],
            "label": "Topic 5",
            "method": "update"
           },
           {
            "args": [
             {
              "marker.color": [
               [
                "#B0BEC5",
                "#B0BEC5",
                "#B0BEC5",
                "#B0BEC5",
                "#B0BEC5",
                "#B0BEC5",
                "red",
                "#B0BEC5",
                "#B0BEC5",
                "#B0BEC5",
                "#B0BEC5",
                "#B0BEC5",
                "#B0BEC5",
                "#B0BEC5",
                "#B0BEC5",
                "#B0BEC5",
                "#B0BEC5",
                "#B0BEC5",
                "#B0BEC5",
                "#B0BEC5",
                "#B0BEC5",
                "#B0BEC5",
                "#B0BEC5",
                "#B0BEC5",
                "#B0BEC5"
               ]
              ]
             }
            ],
            "label": "Topic 6",
            "method": "update"
           },
           {
            "args": [
             {
              "marker.color": [
               [
                "#B0BEC5",
                "#B0BEC5",
                "#B0BEC5",
                "#B0BEC5",
                "#B0BEC5",
                "#B0BEC5",
                "#B0BEC5",
                "red",
                "#B0BEC5",
                "#B0BEC5",
                "#B0BEC5",
                "#B0BEC5",
                "#B0BEC5",
                "#B0BEC5",
                "#B0BEC5",
                "#B0BEC5",
                "#B0BEC5",
                "#B0BEC5",
                "#B0BEC5",
                "#B0BEC5",
                "#B0BEC5",
                "#B0BEC5",
                "#B0BEC5",
                "#B0BEC5",
                "#B0BEC5"
               ]
              ]
             }
            ],
            "label": "Topic 7",
            "method": "update"
           },
           {
            "args": [
             {
              "marker.color": [
               [
                "#B0BEC5",
                "#B0BEC5",
                "#B0BEC5",
                "#B0BEC5",
                "#B0BEC5",
                "#B0BEC5",
                "#B0BEC5",
                "#B0BEC5",
                "red",
                "#B0BEC5",
                "#B0BEC5",
                "#B0BEC5",
                "#B0BEC5",
                "#B0BEC5",
                "#B0BEC5",
                "#B0BEC5",
                "#B0BEC5",
                "#B0BEC5",
                "#B0BEC5",
                "#B0BEC5",
                "#B0BEC5",
                "#B0BEC5",
                "#B0BEC5",
                "#B0BEC5",
                "#B0BEC5"
               ]
              ]
             }
            ],
            "label": "Topic 8",
            "method": "update"
           },
           {
            "args": [
             {
              "marker.color": [
               [
                "#B0BEC5",
                "#B0BEC5",
                "#B0BEC5",
                "#B0BEC5",
                "#B0BEC5",
                "#B0BEC5",
                "#B0BEC5",
                "#B0BEC5",
                "#B0BEC5",
                "red",
                "#B0BEC5",
                "#B0BEC5",
                "#B0BEC5",
                "#B0BEC5",
                "#B0BEC5",
                "#B0BEC5",
                "#B0BEC5",
                "#B0BEC5",
                "#B0BEC5",
                "#B0BEC5",
                "#B0BEC5",
                "#B0BEC5",
                "#B0BEC5",
                "#B0BEC5",
                "#B0BEC5"
               ]
              ]
             }
            ],
            "label": "Topic 9",
            "method": "update"
           },
           {
            "args": [
             {
              "marker.color": [
               [
                "#B0BEC5",
                "#B0BEC5",
                "#B0BEC5",
                "#B0BEC5",
                "#B0BEC5",
                "#B0BEC5",
                "#B0BEC5",
                "#B0BEC5",
                "#B0BEC5",
                "#B0BEC5",
                "red",
                "#B0BEC5",
                "#B0BEC5",
                "#B0BEC5",
                "#B0BEC5",
                "#B0BEC5",
                "#B0BEC5",
                "#B0BEC5",
                "#B0BEC5",
                "#B0BEC5",
                "#B0BEC5",
                "#B0BEC5",
                "#B0BEC5",
                "#B0BEC5",
                "#B0BEC5"
               ]
              ]
             }
            ],
            "label": "Topic 10",
            "method": "update"
           },
           {
            "args": [
             {
              "marker.color": [
               [
                "#B0BEC5",
                "#B0BEC5",
                "#B0BEC5",
                "#B0BEC5",
                "#B0BEC5",
                "#B0BEC5",
                "#B0BEC5",
                "#B0BEC5",
                "#B0BEC5",
                "#B0BEC5",
                "#B0BEC5",
                "red",
                "#B0BEC5",
                "#B0BEC5",
                "#B0BEC5",
                "#B0BEC5",
                "#B0BEC5",
                "#B0BEC5",
                "#B0BEC5",
                "#B0BEC5",
                "#B0BEC5",
                "#B0BEC5",
                "#B0BEC5",
                "#B0BEC5",
                "#B0BEC5"
               ]
              ]
             }
            ],
            "label": "Topic 11",
            "method": "update"
           },
           {
            "args": [
             {
              "marker.color": [
               [
                "#B0BEC5",
                "#B0BEC5",
                "#B0BEC5",
                "#B0BEC5",
                "#B0BEC5",
                "#B0BEC5",
                "#B0BEC5",
                "#B0BEC5",
                "#B0BEC5",
                "#B0BEC5",
                "#B0BEC5",
                "#B0BEC5",
                "red",
                "#B0BEC5",
                "#B0BEC5",
                "#B0BEC5",
                "#B0BEC5",
                "#B0BEC5",
                "#B0BEC5",
                "#B0BEC5",
                "#B0BEC5",
                "#B0BEC5",
                "#B0BEC5",
                "#B0BEC5",
                "#B0BEC5"
               ]
              ]
             }
            ],
            "label": "Topic 12",
            "method": "update"
           },
           {
            "args": [
             {
              "marker.color": [
               [
                "#B0BEC5",
                "#B0BEC5",
                "#B0BEC5",
                "#B0BEC5",
                "#B0BEC5",
                "#B0BEC5",
                "#B0BEC5",
                "#B0BEC5",
                "#B0BEC5",
                "#B0BEC5",
                "#B0BEC5",
                "#B0BEC5",
                "#B0BEC5",
                "red",
                "#B0BEC5",
                "#B0BEC5",
                "#B0BEC5",
                "#B0BEC5",
                "#B0BEC5",
                "#B0BEC5",
                "#B0BEC5",
                "#B0BEC5",
                "#B0BEC5",
                "#B0BEC5",
                "#B0BEC5"
               ]
              ]
             }
            ],
            "label": "Topic 13",
            "method": "update"
           },
           {
            "args": [
             {
              "marker.color": [
               [
                "#B0BEC5",
                "#B0BEC5",
                "#B0BEC5",
                "#B0BEC5",
                "#B0BEC5",
                "#B0BEC5",
                "#B0BEC5",
                "#B0BEC5",
                "#B0BEC5",
                "#B0BEC5",
                "#B0BEC5",
                "#B0BEC5",
                "#B0BEC5",
                "#B0BEC5",
                "red",
                "#B0BEC5",
                "#B0BEC5",
                "#B0BEC5",
                "#B0BEC5",
                "#B0BEC5",
                "#B0BEC5",
                "#B0BEC5",
                "#B0BEC5",
                "#B0BEC5",
                "#B0BEC5"
               ]
              ]
             }
            ],
            "label": "Topic 14",
            "method": "update"
           },
           {
            "args": [
             {
              "marker.color": [
               [
                "#B0BEC5",
                "#B0BEC5",
                "#B0BEC5",
                "#B0BEC5",
                "#B0BEC5",
                "#B0BEC5",
                "#B0BEC5",
                "#B0BEC5",
                "#B0BEC5",
                "#B0BEC5",
                "#B0BEC5",
                "#B0BEC5",
                "#B0BEC5",
                "#B0BEC5",
                "#B0BEC5",
                "red",
                "#B0BEC5",
                "#B0BEC5",
                "#B0BEC5",
                "#B0BEC5",
                "#B0BEC5",
                "#B0BEC5",
                "#B0BEC5",
                "#B0BEC5",
                "#B0BEC5"
               ]
              ]
             }
            ],
            "label": "Topic 15",
            "method": "update"
           },
           {
            "args": [
             {
              "marker.color": [
               [
                "#B0BEC5",
                "#B0BEC5",
                "#B0BEC5",
                "#B0BEC5",
                "#B0BEC5",
                "#B0BEC5",
                "#B0BEC5",
                "#B0BEC5",
                "#B0BEC5",
                "#B0BEC5",
                "#B0BEC5",
                "#B0BEC5",
                "#B0BEC5",
                "#B0BEC5",
                "#B0BEC5",
                "#B0BEC5",
                "red",
                "#B0BEC5",
                "#B0BEC5",
                "#B0BEC5",
                "#B0BEC5",
                "#B0BEC5",
                "#B0BEC5",
                "#B0BEC5",
                "#B0BEC5"
               ]
              ]
             }
            ],
            "label": "Topic 16",
            "method": "update"
           },
           {
            "args": [
             {
              "marker.color": [
               [
                "#B0BEC5",
                "#B0BEC5",
                "#B0BEC5",
                "#B0BEC5",
                "#B0BEC5",
                "#B0BEC5",
                "#B0BEC5",
                "#B0BEC5",
                "#B0BEC5",
                "#B0BEC5",
                "#B0BEC5",
                "#B0BEC5",
                "#B0BEC5",
                "#B0BEC5",
                "#B0BEC5",
                "#B0BEC5",
                "#B0BEC5",
                "red",
                "#B0BEC5",
                "#B0BEC5",
                "#B0BEC5",
                "#B0BEC5",
                "#B0BEC5",
                "#B0BEC5",
                "#B0BEC5"
               ]
              ]
             }
            ],
            "label": "Topic 17",
            "method": "update"
           },
           {
            "args": [
             {
              "marker.color": [
               [
                "#B0BEC5",
                "#B0BEC5",
                "#B0BEC5",
                "#B0BEC5",
                "#B0BEC5",
                "#B0BEC5",
                "#B0BEC5",
                "#B0BEC5",
                "#B0BEC5",
                "#B0BEC5",
                "#B0BEC5",
                "#B0BEC5",
                "#B0BEC5",
                "#B0BEC5",
                "#B0BEC5",
                "#B0BEC5",
                "#B0BEC5",
                "#B0BEC5",
                "red",
                "#B0BEC5",
                "#B0BEC5",
                "#B0BEC5",
                "#B0BEC5",
                "#B0BEC5",
                "#B0BEC5"
               ]
              ]
             }
            ],
            "label": "Topic 18",
            "method": "update"
           },
           {
            "args": [
             {
              "marker.color": [
               [
                "#B0BEC5",
                "#B0BEC5",
                "#B0BEC5",
                "#B0BEC5",
                "#B0BEC5",
                "#B0BEC5",
                "#B0BEC5",
                "#B0BEC5",
                "#B0BEC5",
                "#B0BEC5",
                "#B0BEC5",
                "#B0BEC5",
                "#B0BEC5",
                "#B0BEC5",
                "#B0BEC5",
                "#B0BEC5",
                "#B0BEC5",
                "#B0BEC5",
                "#B0BEC5",
                "red",
                "#B0BEC5",
                "#B0BEC5",
                "#B0BEC5",
                "#B0BEC5",
                "#B0BEC5"
               ]
              ]
             }
            ],
            "label": "Topic 19",
            "method": "update"
           },
           {
            "args": [
             {
              "marker.color": [
               [
                "#B0BEC5",
                "#B0BEC5",
                "#B0BEC5",
                "#B0BEC5",
                "#B0BEC5",
                "#B0BEC5",
                "#B0BEC5",
                "#B0BEC5",
                "#B0BEC5",
                "#B0BEC5",
                "#B0BEC5",
                "#B0BEC5",
                "#B0BEC5",
                "#B0BEC5",
                "#B0BEC5",
                "#B0BEC5",
                "#B0BEC5",
                "#B0BEC5",
                "#B0BEC5",
                "#B0BEC5",
                "red",
                "#B0BEC5",
                "#B0BEC5",
                "#B0BEC5",
                "#B0BEC5"
               ]
              ]
             }
            ],
            "label": "Topic 20",
            "method": "update"
           },
           {
            "args": [
             {
              "marker.color": [
               [
                "#B0BEC5",
                "#B0BEC5",
                "#B0BEC5",
                "#B0BEC5",
                "#B0BEC5",
                "#B0BEC5",
                "#B0BEC5",
                "#B0BEC5",
                "#B0BEC5",
                "#B0BEC5",
                "#B0BEC5",
                "#B0BEC5",
                "#B0BEC5",
                "#B0BEC5",
                "#B0BEC5",
                "#B0BEC5",
                "#B0BEC5",
                "#B0BEC5",
                "#B0BEC5",
                "#B0BEC5",
                "#B0BEC5",
                "red",
                "#B0BEC5",
                "#B0BEC5",
                "#B0BEC5"
               ]
              ]
             }
            ],
            "label": "Topic 21",
            "method": "update"
           },
           {
            "args": [
             {
              "marker.color": [
               [
                "#B0BEC5",
                "#B0BEC5",
                "#B0BEC5",
                "#B0BEC5",
                "#B0BEC5",
                "#B0BEC5",
                "#B0BEC5",
                "#B0BEC5",
                "#B0BEC5",
                "#B0BEC5",
                "#B0BEC5",
                "#B0BEC5",
                "#B0BEC5",
                "#B0BEC5",
                "#B0BEC5",
                "#B0BEC5",
                "#B0BEC5",
                "#B0BEC5",
                "#B0BEC5",
                "#B0BEC5",
                "#B0BEC5",
                "#B0BEC5",
                "red",
                "#B0BEC5",
                "#B0BEC5"
               ]
              ]
             }
            ],
            "label": "Topic 22",
            "method": "update"
           },
           {
            "args": [
             {
              "marker.color": [
               [
                "#B0BEC5",
                "#B0BEC5",
                "#B0BEC5",
                "#B0BEC5",
                "#B0BEC5",
                "#B0BEC5",
                "#B0BEC5",
                "#B0BEC5",
                "#B0BEC5",
                "#B0BEC5",
                "#B0BEC5",
                "#B0BEC5",
                "#B0BEC5",
                "#B0BEC5",
                "#B0BEC5",
                "#B0BEC5",
                "#B0BEC5",
                "#B0BEC5",
                "#B0BEC5",
                "#B0BEC5",
                "#B0BEC5",
                "#B0BEC5",
                "#B0BEC5",
                "red",
                "#B0BEC5"
               ]
              ]
             }
            ],
            "label": "Topic 23",
            "method": "update"
           },
           {
            "args": [
             {
              "marker.color": [
               [
                "#B0BEC5",
                "#B0BEC5",
                "#B0BEC5",
                "#B0BEC5",
                "#B0BEC5",
                "#B0BEC5",
                "#B0BEC5",
                "#B0BEC5",
                "#B0BEC5",
                "#B0BEC5",
                "#B0BEC5",
                "#B0BEC5",
                "#B0BEC5",
                "#B0BEC5",
                "#B0BEC5",
                "#B0BEC5",
                "#B0BEC5",
                "#B0BEC5",
                "#B0BEC5",
                "#B0BEC5",
                "#B0BEC5",
                "#B0BEC5",
                "#B0BEC5",
                "#B0BEC5",
                "red"
               ]
              ]
             }
            ],
            "label": "Topic 24",
            "method": "update"
           }
          ]
         }
        ],
        "template": {
         "data": {
          "bar": [
           {
            "error_x": {
             "color": "rgb(36,36,36)"
            },
            "error_y": {
             "color": "rgb(36,36,36)"
            },
            "marker": {
             "line": {
              "color": "white",
              "width": 0.5
             },
             "pattern": {
              "fillmode": "overlay",
              "size": 10,
              "solidity": 0.2
             }
            },
            "type": "bar"
           }
          ],
          "barpolar": [
           {
            "marker": {
             "line": {
              "color": "white",
              "width": 0.5
             },
             "pattern": {
              "fillmode": "overlay",
              "size": 10,
              "solidity": 0.2
             }
            },
            "type": "barpolar"
           }
          ],
          "carpet": [
           {
            "aaxis": {
             "endlinecolor": "rgb(36,36,36)",
             "gridcolor": "white",
             "linecolor": "white",
             "minorgridcolor": "white",
             "startlinecolor": "rgb(36,36,36)"
            },
            "baxis": {
             "endlinecolor": "rgb(36,36,36)",
             "gridcolor": "white",
             "linecolor": "white",
             "minorgridcolor": "white",
             "startlinecolor": "rgb(36,36,36)"
            },
            "type": "carpet"
           }
          ],
          "choropleth": [
           {
            "colorbar": {
             "outlinewidth": 1,
             "tickcolor": "rgb(36,36,36)",
             "ticks": "outside"
            },
            "type": "choropleth"
           }
          ],
          "contour": [
           {
            "colorbar": {
             "outlinewidth": 1,
             "tickcolor": "rgb(36,36,36)",
             "ticks": "outside"
            },
            "colorscale": [
             [
              0,
              "#440154"
             ],
             [
              0.1111111111111111,
              "#482878"
             ],
             [
              0.2222222222222222,
              "#3e4989"
             ],
             [
              0.3333333333333333,
              "#31688e"
             ],
             [
              0.4444444444444444,
              "#26828e"
             ],
             [
              0.5555555555555556,
              "#1f9e89"
             ],
             [
              0.6666666666666666,
              "#35b779"
             ],
             [
              0.7777777777777778,
              "#6ece58"
             ],
             [
              0.8888888888888888,
              "#b5de2b"
             ],
             [
              1,
              "#fde725"
             ]
            ],
            "type": "contour"
           }
          ],
          "contourcarpet": [
           {
            "colorbar": {
             "outlinewidth": 1,
             "tickcolor": "rgb(36,36,36)",
             "ticks": "outside"
            },
            "type": "contourcarpet"
           }
          ],
          "heatmap": [
           {
            "colorbar": {
             "outlinewidth": 1,
             "tickcolor": "rgb(36,36,36)",
             "ticks": "outside"
            },
            "colorscale": [
             [
              0,
              "#440154"
             ],
             [
              0.1111111111111111,
              "#482878"
             ],
             [
              0.2222222222222222,
              "#3e4989"
             ],
             [
              0.3333333333333333,
              "#31688e"
             ],
             [
              0.4444444444444444,
              "#26828e"
             ],
             [
              0.5555555555555556,
              "#1f9e89"
             ],
             [
              0.6666666666666666,
              "#35b779"
             ],
             [
              0.7777777777777778,
              "#6ece58"
             ],
             [
              0.8888888888888888,
              "#b5de2b"
             ],
             [
              1,
              "#fde725"
             ]
            ],
            "type": "heatmap"
           }
          ],
          "heatmapgl": [
           {
            "colorbar": {
             "outlinewidth": 1,
             "tickcolor": "rgb(36,36,36)",
             "ticks": "outside"
            },
            "colorscale": [
             [
              0,
              "#440154"
             ],
             [
              0.1111111111111111,
              "#482878"
             ],
             [
              0.2222222222222222,
              "#3e4989"
             ],
             [
              0.3333333333333333,
              "#31688e"
             ],
             [
              0.4444444444444444,
              "#26828e"
             ],
             [
              0.5555555555555556,
              "#1f9e89"
             ],
             [
              0.6666666666666666,
              "#35b779"
             ],
             [
              0.7777777777777778,
              "#6ece58"
             ],
             [
              0.8888888888888888,
              "#b5de2b"
             ],
             [
              1,
              "#fde725"
             ]
            ],
            "type": "heatmapgl"
           }
          ],
          "histogram": [
           {
            "marker": {
             "line": {
              "color": "white",
              "width": 0.6
             }
            },
            "type": "histogram"
           }
          ],
          "histogram2d": [
           {
            "colorbar": {
             "outlinewidth": 1,
             "tickcolor": "rgb(36,36,36)",
             "ticks": "outside"
            },
            "colorscale": [
             [
              0,
              "#440154"
             ],
             [
              0.1111111111111111,
              "#482878"
             ],
             [
              0.2222222222222222,
              "#3e4989"
             ],
             [
              0.3333333333333333,
              "#31688e"
             ],
             [
              0.4444444444444444,
              "#26828e"
             ],
             [
              0.5555555555555556,
              "#1f9e89"
             ],
             [
              0.6666666666666666,
              "#35b779"
             ],
             [
              0.7777777777777778,
              "#6ece58"
             ],
             [
              0.8888888888888888,
              "#b5de2b"
             ],
             [
              1,
              "#fde725"
             ]
            ],
            "type": "histogram2d"
           }
          ],
          "histogram2dcontour": [
           {
            "colorbar": {
             "outlinewidth": 1,
             "tickcolor": "rgb(36,36,36)",
             "ticks": "outside"
            },
            "colorscale": [
             [
              0,
              "#440154"
             ],
             [
              0.1111111111111111,
              "#482878"
             ],
             [
              0.2222222222222222,
              "#3e4989"
             ],
             [
              0.3333333333333333,
              "#31688e"
             ],
             [
              0.4444444444444444,
              "#26828e"
             ],
             [
              0.5555555555555556,
              "#1f9e89"
             ],
             [
              0.6666666666666666,
              "#35b779"
             ],
             [
              0.7777777777777778,
              "#6ece58"
             ],
             [
              0.8888888888888888,
              "#b5de2b"
             ],
             [
              1,
              "#fde725"
             ]
            ],
            "type": "histogram2dcontour"
           }
          ],
          "mesh3d": [
           {
            "colorbar": {
             "outlinewidth": 1,
             "tickcolor": "rgb(36,36,36)",
             "ticks": "outside"
            },
            "type": "mesh3d"
           }
          ],
          "parcoords": [
           {
            "line": {
             "colorbar": {
              "outlinewidth": 1,
              "tickcolor": "rgb(36,36,36)",
              "ticks": "outside"
             }
            },
            "type": "parcoords"
           }
          ],
          "pie": [
           {
            "automargin": true,
            "type": "pie"
           }
          ],
          "scatter": [
           {
            "marker": {
             "colorbar": {
              "outlinewidth": 1,
              "tickcolor": "rgb(36,36,36)",
              "ticks": "outside"
             }
            },
            "type": "scatter"
           }
          ],
          "scatter3d": [
           {
            "line": {
             "colorbar": {
              "outlinewidth": 1,
              "tickcolor": "rgb(36,36,36)",
              "ticks": "outside"
             }
            },
            "marker": {
             "colorbar": {
              "outlinewidth": 1,
              "tickcolor": "rgb(36,36,36)",
              "ticks": "outside"
             }
            },
            "type": "scatter3d"
           }
          ],
          "scattercarpet": [
           {
            "marker": {
             "colorbar": {
              "outlinewidth": 1,
              "tickcolor": "rgb(36,36,36)",
              "ticks": "outside"
             }
            },
            "type": "scattercarpet"
           }
          ],
          "scattergeo": [
           {
            "marker": {
             "colorbar": {
              "outlinewidth": 1,
              "tickcolor": "rgb(36,36,36)",
              "ticks": "outside"
             }
            },
            "type": "scattergeo"
           }
          ],
          "scattergl": [
           {
            "marker": {
             "colorbar": {
              "outlinewidth": 1,
              "tickcolor": "rgb(36,36,36)",
              "ticks": "outside"
             }
            },
            "type": "scattergl"
           }
          ],
          "scattermapbox": [
           {
            "marker": {
             "colorbar": {
              "outlinewidth": 1,
              "tickcolor": "rgb(36,36,36)",
              "ticks": "outside"
             }
            },
            "type": "scattermapbox"
           }
          ],
          "scatterpolar": [
           {
            "marker": {
             "colorbar": {
              "outlinewidth": 1,
              "tickcolor": "rgb(36,36,36)",
              "ticks": "outside"
             }
            },
            "type": "scatterpolar"
           }
          ],
          "scatterpolargl": [
           {
            "marker": {
             "colorbar": {
              "outlinewidth": 1,
              "tickcolor": "rgb(36,36,36)",
              "ticks": "outside"
             }
            },
            "type": "scatterpolargl"
           }
          ],
          "scatterternary": [
           {
            "marker": {
             "colorbar": {
              "outlinewidth": 1,
              "tickcolor": "rgb(36,36,36)",
              "ticks": "outside"
             }
            },
            "type": "scatterternary"
           }
          ],
          "surface": [
           {
            "colorbar": {
             "outlinewidth": 1,
             "tickcolor": "rgb(36,36,36)",
             "ticks": "outside"
            },
            "colorscale": [
             [
              0,
              "#440154"
             ],
             [
              0.1111111111111111,
              "#482878"
             ],
             [
              0.2222222222222222,
              "#3e4989"
             ],
             [
              0.3333333333333333,
              "#31688e"
             ],
             [
              0.4444444444444444,
              "#26828e"
             ],
             [
              0.5555555555555556,
              "#1f9e89"
             ],
             [
              0.6666666666666666,
              "#35b779"
             ],
             [
              0.7777777777777778,
              "#6ece58"
             ],
             [
              0.8888888888888888,
              "#b5de2b"
             ],
             [
              1,
              "#fde725"
             ]
            ],
            "type": "surface"
           }
          ],
          "table": [
           {
            "cells": {
             "fill": {
              "color": "rgb(237,237,237)"
             },
             "line": {
              "color": "white"
             }
            },
            "header": {
             "fill": {
              "color": "rgb(217,217,217)"
             },
             "line": {
              "color": "white"
             }
            },
            "type": "table"
           }
          ]
         },
         "layout": {
          "annotationdefaults": {
           "arrowhead": 0,
           "arrowwidth": 1
          },
          "autotypenumbers": "strict",
          "coloraxis": {
           "colorbar": {
            "outlinewidth": 1,
            "tickcolor": "rgb(36,36,36)",
            "ticks": "outside"
           }
          },
          "colorscale": {
           "diverging": [
            [
             0,
             "rgb(103,0,31)"
            ],
            [
             0.1,
             "rgb(178,24,43)"
            ],
            [
             0.2,
             "rgb(214,96,77)"
            ],
            [
             0.3,
             "rgb(244,165,130)"
            ],
            [
             0.4,
             "rgb(253,219,199)"
            ],
            [
             0.5,
             "rgb(247,247,247)"
            ],
            [
             0.6,
             "rgb(209,229,240)"
            ],
            [
             0.7,
             "rgb(146,197,222)"
            ],
            [
             0.8,
             "rgb(67,147,195)"
            ],
            [
             0.9,
             "rgb(33,102,172)"
            ],
            [
             1,
             "rgb(5,48,97)"
            ]
           ],
           "sequential": [
            [
             0,
             "#440154"
            ],
            [
             0.1111111111111111,
             "#482878"
            ],
            [
             0.2222222222222222,
             "#3e4989"
            ],
            [
             0.3333333333333333,
             "#31688e"
            ],
            [
             0.4444444444444444,
             "#26828e"
            ],
            [
             0.5555555555555556,
             "#1f9e89"
            ],
            [
             0.6666666666666666,
             "#35b779"
            ],
            [
             0.7777777777777778,
             "#6ece58"
            ],
            [
             0.8888888888888888,
             "#b5de2b"
            ],
            [
             1,
             "#fde725"
            ]
           ],
           "sequentialminus": [
            [
             0,
             "#440154"
            ],
            [
             0.1111111111111111,
             "#482878"
            ],
            [
             0.2222222222222222,
             "#3e4989"
            ],
            [
             0.3333333333333333,
             "#31688e"
            ],
            [
             0.4444444444444444,
             "#26828e"
            ],
            [
             0.5555555555555556,
             "#1f9e89"
            ],
            [
             0.6666666666666666,
             "#35b779"
            ],
            [
             0.7777777777777778,
             "#6ece58"
            ],
            [
             0.8888888888888888,
             "#b5de2b"
            ],
            [
             1,
             "#fde725"
            ]
           ]
          },
          "colorway": [
           "#1F77B4",
           "#FF7F0E",
           "#2CA02C",
           "#D62728",
           "#9467BD",
           "#8C564B",
           "#E377C2",
           "#7F7F7F",
           "#BCBD22",
           "#17BECF"
          ],
          "font": {
           "color": "rgb(36,36,36)"
          },
          "geo": {
           "bgcolor": "white",
           "lakecolor": "white",
           "landcolor": "white",
           "showlakes": true,
           "showland": true,
           "subunitcolor": "white"
          },
          "hoverlabel": {
           "align": "left"
          },
          "hovermode": "closest",
          "mapbox": {
           "style": "light"
          },
          "paper_bgcolor": "white",
          "plot_bgcolor": "white",
          "polar": {
           "angularaxis": {
            "gridcolor": "rgb(232,232,232)",
            "linecolor": "rgb(36,36,36)",
            "showgrid": false,
            "showline": true,
            "ticks": "outside"
           },
           "bgcolor": "white",
           "radialaxis": {
            "gridcolor": "rgb(232,232,232)",
            "linecolor": "rgb(36,36,36)",
            "showgrid": false,
            "showline": true,
            "ticks": "outside"
           }
          },
          "scene": {
           "xaxis": {
            "backgroundcolor": "white",
            "gridcolor": "rgb(232,232,232)",
            "gridwidth": 2,
            "linecolor": "rgb(36,36,36)",
            "showbackground": true,
            "showgrid": false,
            "showline": true,
            "ticks": "outside",
            "zeroline": false,
            "zerolinecolor": "rgb(36,36,36)"
           },
           "yaxis": {
            "backgroundcolor": "white",
            "gridcolor": "rgb(232,232,232)",
            "gridwidth": 2,
            "linecolor": "rgb(36,36,36)",
            "showbackground": true,
            "showgrid": false,
            "showline": true,
            "ticks": "outside",
            "zeroline": false,
            "zerolinecolor": "rgb(36,36,36)"
           },
           "zaxis": {
            "backgroundcolor": "white",
            "gridcolor": "rgb(232,232,232)",
            "gridwidth": 2,
            "linecolor": "rgb(36,36,36)",
            "showbackground": true,
            "showgrid": false,
            "showline": true,
            "ticks": "outside",
            "zeroline": false,
            "zerolinecolor": "rgb(36,36,36)"
           }
          },
          "shapedefaults": {
           "fillcolor": "black",
           "line": {
            "width": 0
           },
           "opacity": 0.3
          },
          "ternary": {
           "aaxis": {
            "gridcolor": "rgb(232,232,232)",
            "linecolor": "rgb(36,36,36)",
            "showgrid": false,
            "showline": true,
            "ticks": "outside"
           },
           "baxis": {
            "gridcolor": "rgb(232,232,232)",
            "linecolor": "rgb(36,36,36)",
            "showgrid": false,
            "showline": true,
            "ticks": "outside"
           },
           "bgcolor": "white",
           "caxis": {
            "gridcolor": "rgb(232,232,232)",
            "linecolor": "rgb(36,36,36)",
            "showgrid": false,
            "showline": true,
            "ticks": "outside"
           }
          },
          "title": {
           "x": 0.05
          },
          "xaxis": {
           "automargin": true,
           "gridcolor": "rgb(232,232,232)",
           "linecolor": "rgb(36,36,36)",
           "showgrid": false,
           "showline": true,
           "ticks": "outside",
           "title": {
            "standoff": 15
           },
           "zeroline": false,
           "zerolinecolor": "rgb(36,36,36)"
          },
          "yaxis": {
           "automargin": true,
           "gridcolor": "rgb(232,232,232)",
           "linecolor": "rgb(36,36,36)",
           "showgrid": false,
           "showline": true,
           "ticks": "outside",
           "title": {
            "standoff": 15
           },
           "zeroline": false,
           "zerolinecolor": "rgb(36,36,36)"
          }
         }
        },
        "title": {
         "font": {
          "color": "Black",
          "size": 22
         },
         "text": "<b>Intertopic Distance Map</b>",
         "x": 0.5,
         "xanchor": "center",
         "y": 0.95,
         "yanchor": "top"
        },
        "width": 650,
        "xaxis": {
         "anchor": "y",
         "domain": [
          0,
          1
         ],
         "range": [
          5.620514512062073,
          21.66217260360718
         ],
         "title": {
          "text": ""
         },
         "visible": false
        },
        "yaxis": {
         "anchor": "x",
         "domain": [
          0,
          1
         ],
         "range": [
          -15.284194183349609,
          20.376722621917725
         ],
         "title": {
          "text": ""
         },
         "visible": false
        }
       }
      }
     },
     "metadata": {},
     "output_type": "display_data"
    }
   ],
   "source": [
    "model.visualize_topics()"
   ]
  },
  {
   "cell_type": "code",
   "execution_count": 125,
   "metadata": {},
   "outputs": [
    {
     "data": {
      "application/vnd.plotly.v1+json": {
       "config": {
        "plotlyServerURL": "https://plot.ly"
       },
       "data": [
        {
         "marker": {
          "color": "#D55E00"
         },
         "orientation": "h",
         "type": "bar",
         "x": [
          0.020786898822595185,
          0.021774725824447554,
          0.021885240222851588,
          0.038264670301002404,
          0.03855115387479351
         ],
         "xaxis": "x",
         "y": [
          "january  ",
          "his  ",
          "at  ",
          "and  ",
          "of  "
         ],
         "yaxis": "y"
        },
        {
         "marker": {
          "color": "#0072B2"
         },
         "orientation": "h",
         "type": "bar",
         "x": [
          0.025632319588901945,
          0.026874857727009382,
          0.026967871722912606,
          0.030199601882357516,
          0.032691683402542915
         ],
         "xaxis": "x2",
         "y": [
          "company  ",
          "in  ",
          "to  ",
          "it  ",
          "the  "
         ],
         "yaxis": "y2"
        },
        {
         "marker": {
          "color": "#CC79A7"
         },
         "orientation": "h",
         "type": "bar",
         "x": [
          0.02287189362074979,
          0.02316384836115462,
          0.025808589628808897,
          0.029664726183857213,
          0.031041615533548256
         ],
         "xaxis": "x3",
         "y": [
          "that  ",
          "for  ",
          "mr  ",
          "to  ",
          "the  "
         ],
         "yaxis": "y3"
        },
        {
         "marker": {
          "color": "#E69F00"
         },
         "orientation": "h",
         "type": "bar",
         "x": [
          0.02242712670444982,
          0.02581472296115964,
          0.026024814050642345,
          0.02654772462797848,
          0.040149976111990664
         ],
         "xaxis": "x4",
         "y": [
          "in  ",
          "of  ",
          "new  ",
          "year  ",
          "the  "
         ],
         "yaxis": "y4"
        },
        {
         "marker": {
          "color": "#56B4E9"
         },
         "orientation": "h",
         "type": "bar",
         "x": [
          0.031055908371929297,
          0.03220344277371296,
          0.03262098583126144,
          0.035020480792548186,
          0.05115928730111345
         ],
         "xaxis": "x5",
         "y": [
          "front  ",
          "frontpage  ",
          "to  ",
          "the  ",
          "editor  "
         ],
         "yaxis": "y5"
        },
        {
         "marker": {
          "color": "#009E73"
         },
         "orientation": "h",
         "type": "bar",
         "x": [
          0.02175380493406909,
          0.02715263994537403,
          0.02932948521035195,
          0.03026888203774656,
          0.033435763701855394
         ],
         "xaxis": "x6",
         "y": [
          "of  ",
          "to  ",
          "police  ",
          "in  ",
          "the  "
         ],
         "yaxis": "y6"
        },
        {
         "marker": {
          "color": "#F0E442"
         },
         "orientation": "h",
         "type": "bar",
         "x": [
          0.024235328942956897,
          0.02648206045667617,
          0.028010134098849383,
          0.028025125053065435,
          0.035062613771635436
         ],
         "xaxis": "x7",
         "y": [
          "dance  ",
          "at  ",
          "theater  ",
          "and  ",
          "the  "
         ],
         "yaxis": "y7"
        },
        {
         "marker": {
          "color": "#D55E00"
         },
         "orientation": "h",
         "type": "bar",
         "x": [
          0.028975132524637882,
          0.036728510013943685,
          0.03695176954589623,
          0.04241093065035721,
          0.07751746065090098
         ],
         "xaxis": "x8",
         "y": [
          "say  ",
          "21st  ",
          "21stcentury  ",
          "drawing  ",
          "century  "
         ],
         "yaxis": "y8"
        }
       ],
       "layout": {
        "annotations": [
         {
          "font": {
           "size": 16
          },
          "showarrow": false,
          "text": "Topic 0",
          "x": 0.0875,
          "xanchor": "center",
          "xref": "paper",
          "y": 1,
          "yanchor": "bottom",
          "yref": "paper"
         },
         {
          "font": {
           "size": 16
          },
          "showarrow": false,
          "text": "Topic 1",
          "x": 0.36250000000000004,
          "xanchor": "center",
          "xref": "paper",
          "y": 1,
          "yanchor": "bottom",
          "yref": "paper"
         },
         {
          "font": {
           "size": 16
          },
          "showarrow": false,
          "text": "Topic 2",
          "x": 0.6375000000000001,
          "xanchor": "center",
          "xref": "paper",
          "y": 1,
          "yanchor": "bottom",
          "yref": "paper"
         },
         {
          "font": {
           "size": 16
          },
          "showarrow": false,
          "text": "Topic 3",
          "x": 0.9125,
          "xanchor": "center",
          "xref": "paper",
          "y": 1,
          "yanchor": "bottom",
          "yref": "paper"
         },
         {
          "font": {
           "size": 16
          },
          "showarrow": false,
          "text": "Topic 4",
          "x": 0.0875,
          "xanchor": "center",
          "xref": "paper",
          "y": 0.4,
          "yanchor": "bottom",
          "yref": "paper"
         },
         {
          "font": {
           "size": 16
          },
          "showarrow": false,
          "text": "Topic 5",
          "x": 0.36250000000000004,
          "xanchor": "center",
          "xref": "paper",
          "y": 0.4,
          "yanchor": "bottom",
          "yref": "paper"
         },
         {
          "font": {
           "size": 16
          },
          "showarrow": false,
          "text": "Topic 6",
          "x": 0.6375000000000001,
          "xanchor": "center",
          "xref": "paper",
          "y": 0.4,
          "yanchor": "bottom",
          "yref": "paper"
         },
         {
          "font": {
           "size": 16
          },
          "showarrow": false,
          "text": "Topic 7",
          "x": 0.9125,
          "xanchor": "center",
          "xref": "paper",
          "y": 0.4,
          "yanchor": "bottom",
          "yref": "paper"
         }
        ],
        "height": 500,
        "hoverlabel": {
         "bgcolor": "white",
         "font": {
          "family": "Rockwell",
          "size": 16
         }
        },
        "showlegend": false,
        "template": {
         "data": {
          "bar": [
           {
            "error_x": {
             "color": "#2a3f5f"
            },
            "error_y": {
             "color": "#2a3f5f"
            },
            "marker": {
             "line": {
              "color": "white",
              "width": 0.5
             },
             "pattern": {
              "fillmode": "overlay",
              "size": 10,
              "solidity": 0.2
             }
            },
            "type": "bar"
           }
          ],
          "barpolar": [
           {
            "marker": {
             "line": {
              "color": "white",
              "width": 0.5
             },
             "pattern": {
              "fillmode": "overlay",
              "size": 10,
              "solidity": 0.2
             }
            },
            "type": "barpolar"
           }
          ],
          "carpet": [
           {
            "aaxis": {
             "endlinecolor": "#2a3f5f",
             "gridcolor": "#C8D4E3",
             "linecolor": "#C8D4E3",
             "minorgridcolor": "#C8D4E3",
             "startlinecolor": "#2a3f5f"
            },
            "baxis": {
             "endlinecolor": "#2a3f5f",
             "gridcolor": "#C8D4E3",
             "linecolor": "#C8D4E3",
             "minorgridcolor": "#C8D4E3",
             "startlinecolor": "#2a3f5f"
            },
            "type": "carpet"
           }
          ],
          "choropleth": [
           {
            "colorbar": {
             "outlinewidth": 0,
             "ticks": ""
            },
            "type": "choropleth"
           }
          ],
          "contour": [
           {
            "colorbar": {
             "outlinewidth": 0,
             "ticks": ""
            },
            "colorscale": [
             [
              0,
              "#0d0887"
             ],
             [
              0.1111111111111111,
              "#46039f"
             ],
             [
              0.2222222222222222,
              "#7201a8"
             ],
             [
              0.3333333333333333,
              "#9c179e"
             ],
             [
              0.4444444444444444,
              "#bd3786"
             ],
             [
              0.5555555555555556,
              "#d8576b"
             ],
             [
              0.6666666666666666,
              "#ed7953"
             ],
             [
              0.7777777777777778,
              "#fb9f3a"
             ],
             [
              0.8888888888888888,
              "#fdca26"
             ],
             [
              1,
              "#f0f921"
             ]
            ],
            "type": "contour"
           }
          ],
          "contourcarpet": [
           {
            "colorbar": {
             "outlinewidth": 0,
             "ticks": ""
            },
            "type": "contourcarpet"
           }
          ],
          "heatmap": [
           {
            "colorbar": {
             "outlinewidth": 0,
             "ticks": ""
            },
            "colorscale": [
             [
              0,
              "#0d0887"
             ],
             [
              0.1111111111111111,
              "#46039f"
             ],
             [
              0.2222222222222222,
              "#7201a8"
             ],
             [
              0.3333333333333333,
              "#9c179e"
             ],
             [
              0.4444444444444444,
              "#bd3786"
             ],
             [
              0.5555555555555556,
              "#d8576b"
             ],
             [
              0.6666666666666666,
              "#ed7953"
             ],
             [
              0.7777777777777778,
              "#fb9f3a"
             ],
             [
              0.8888888888888888,
              "#fdca26"
             ],
             [
              1,
              "#f0f921"
             ]
            ],
            "type": "heatmap"
           }
          ],
          "heatmapgl": [
           {
            "colorbar": {
             "outlinewidth": 0,
             "ticks": ""
            },
            "colorscale": [
             [
              0,
              "#0d0887"
             ],
             [
              0.1111111111111111,
              "#46039f"
             ],
             [
              0.2222222222222222,
              "#7201a8"
             ],
             [
              0.3333333333333333,
              "#9c179e"
             ],
             [
              0.4444444444444444,
              "#bd3786"
             ],
             [
              0.5555555555555556,
              "#d8576b"
             ],
             [
              0.6666666666666666,
              "#ed7953"
             ],
             [
              0.7777777777777778,
              "#fb9f3a"
             ],
             [
              0.8888888888888888,
              "#fdca26"
             ],
             [
              1,
              "#f0f921"
             ]
            ],
            "type": "heatmapgl"
           }
          ],
          "histogram": [
           {
            "marker": {
             "pattern": {
              "fillmode": "overlay",
              "size": 10,
              "solidity": 0.2
             }
            },
            "type": "histogram"
           }
          ],
          "histogram2d": [
           {
            "colorbar": {
             "outlinewidth": 0,
             "ticks": ""
            },
            "colorscale": [
             [
              0,
              "#0d0887"
             ],
             [
              0.1111111111111111,
              "#46039f"
             ],
             [
              0.2222222222222222,
              "#7201a8"
             ],
             [
              0.3333333333333333,
              "#9c179e"
             ],
             [
              0.4444444444444444,
              "#bd3786"
             ],
             [
              0.5555555555555556,
              "#d8576b"
             ],
             [
              0.6666666666666666,
              "#ed7953"
             ],
             [
              0.7777777777777778,
              "#fb9f3a"
             ],
             [
              0.8888888888888888,
              "#fdca26"
             ],
             [
              1,
              "#f0f921"
             ]
            ],
            "type": "histogram2d"
           }
          ],
          "histogram2dcontour": [
           {
            "colorbar": {
             "outlinewidth": 0,
             "ticks": ""
            },
            "colorscale": [
             [
              0,
              "#0d0887"
             ],
             [
              0.1111111111111111,
              "#46039f"
             ],
             [
              0.2222222222222222,
              "#7201a8"
             ],
             [
              0.3333333333333333,
              "#9c179e"
             ],
             [
              0.4444444444444444,
              "#bd3786"
             ],
             [
              0.5555555555555556,
              "#d8576b"
             ],
             [
              0.6666666666666666,
              "#ed7953"
             ],
             [
              0.7777777777777778,
              "#fb9f3a"
             ],
             [
              0.8888888888888888,
              "#fdca26"
             ],
             [
              1,
              "#f0f921"
             ]
            ],
            "type": "histogram2dcontour"
           }
          ],
          "mesh3d": [
           {
            "colorbar": {
             "outlinewidth": 0,
             "ticks": ""
            },
            "type": "mesh3d"
           }
          ],
          "parcoords": [
           {
            "line": {
             "colorbar": {
              "outlinewidth": 0,
              "ticks": ""
             }
            },
            "type": "parcoords"
           }
          ],
          "pie": [
           {
            "automargin": true,
            "type": "pie"
           }
          ],
          "scatter": [
           {
            "marker": {
             "colorbar": {
              "outlinewidth": 0,
              "ticks": ""
             }
            },
            "type": "scatter"
           }
          ],
          "scatter3d": [
           {
            "line": {
             "colorbar": {
              "outlinewidth": 0,
              "ticks": ""
             }
            },
            "marker": {
             "colorbar": {
              "outlinewidth": 0,
              "ticks": ""
             }
            },
            "type": "scatter3d"
           }
          ],
          "scattercarpet": [
           {
            "marker": {
             "colorbar": {
              "outlinewidth": 0,
              "ticks": ""
             }
            },
            "type": "scattercarpet"
           }
          ],
          "scattergeo": [
           {
            "marker": {
             "colorbar": {
              "outlinewidth": 0,
              "ticks": ""
             }
            },
            "type": "scattergeo"
           }
          ],
          "scattergl": [
           {
            "marker": {
             "colorbar": {
              "outlinewidth": 0,
              "ticks": ""
             }
            },
            "type": "scattergl"
           }
          ],
          "scattermapbox": [
           {
            "marker": {
             "colorbar": {
              "outlinewidth": 0,
              "ticks": ""
             }
            },
            "type": "scattermapbox"
           }
          ],
          "scatterpolar": [
           {
            "marker": {
             "colorbar": {
              "outlinewidth": 0,
              "ticks": ""
             }
            },
            "type": "scatterpolar"
           }
          ],
          "scatterpolargl": [
           {
            "marker": {
             "colorbar": {
              "outlinewidth": 0,
              "ticks": ""
             }
            },
            "type": "scatterpolargl"
           }
          ],
          "scatterternary": [
           {
            "marker": {
             "colorbar": {
              "outlinewidth": 0,
              "ticks": ""
             }
            },
            "type": "scatterternary"
           }
          ],
          "surface": [
           {
            "colorbar": {
             "outlinewidth": 0,
             "ticks": ""
            },
            "colorscale": [
             [
              0,
              "#0d0887"
             ],
             [
              0.1111111111111111,
              "#46039f"
             ],
             [
              0.2222222222222222,
              "#7201a8"
             ],
             [
              0.3333333333333333,
              "#9c179e"
             ],
             [
              0.4444444444444444,
              "#bd3786"
             ],
             [
              0.5555555555555556,
              "#d8576b"
             ],
             [
              0.6666666666666666,
              "#ed7953"
             ],
             [
              0.7777777777777778,
              "#fb9f3a"
             ],
             [
              0.8888888888888888,
              "#fdca26"
             ],
             [
              1,
              "#f0f921"
             ]
            ],
            "type": "surface"
           }
          ],
          "table": [
           {
            "cells": {
             "fill": {
              "color": "#EBF0F8"
             },
             "line": {
              "color": "white"
             }
            },
            "header": {
             "fill": {
              "color": "#C8D4E3"
             },
             "line": {
              "color": "white"
             }
            },
            "type": "table"
           }
          ]
         },
         "layout": {
          "annotationdefaults": {
           "arrowcolor": "#2a3f5f",
           "arrowhead": 0,
           "arrowwidth": 1
          },
          "autotypenumbers": "strict",
          "coloraxis": {
           "colorbar": {
            "outlinewidth": 0,
            "ticks": ""
           }
          },
          "colorscale": {
           "diverging": [
            [
             0,
             "#8e0152"
            ],
            [
             0.1,
             "#c51b7d"
            ],
            [
             0.2,
             "#de77ae"
            ],
            [
             0.3,
             "#f1b6da"
            ],
            [
             0.4,
             "#fde0ef"
            ],
            [
             0.5,
             "#f7f7f7"
            ],
            [
             0.6,
             "#e6f5d0"
            ],
            [
             0.7,
             "#b8e186"
            ],
            [
             0.8,
             "#7fbc41"
            ],
            [
             0.9,
             "#4d9221"
            ],
            [
             1,
             "#276419"
            ]
           ],
           "sequential": [
            [
             0,
             "#0d0887"
            ],
            [
             0.1111111111111111,
             "#46039f"
            ],
            [
             0.2222222222222222,
             "#7201a8"
            ],
            [
             0.3333333333333333,
             "#9c179e"
            ],
            [
             0.4444444444444444,
             "#bd3786"
            ],
            [
             0.5555555555555556,
             "#d8576b"
            ],
            [
             0.6666666666666666,
             "#ed7953"
            ],
            [
             0.7777777777777778,
             "#fb9f3a"
            ],
            [
             0.8888888888888888,
             "#fdca26"
            ],
            [
             1,
             "#f0f921"
            ]
           ],
           "sequentialminus": [
            [
             0,
             "#0d0887"
            ],
            [
             0.1111111111111111,
             "#46039f"
            ],
            [
             0.2222222222222222,
             "#7201a8"
            ],
            [
             0.3333333333333333,
             "#9c179e"
            ],
            [
             0.4444444444444444,
             "#bd3786"
            ],
            [
             0.5555555555555556,
             "#d8576b"
            ],
            [
             0.6666666666666666,
             "#ed7953"
            ],
            [
             0.7777777777777778,
             "#fb9f3a"
            ],
            [
             0.8888888888888888,
             "#fdca26"
            ],
            [
             1,
             "#f0f921"
            ]
           ]
          },
          "colorway": [
           "#636efa",
           "#EF553B",
           "#00cc96",
           "#ab63fa",
           "#FFA15A",
           "#19d3f3",
           "#FF6692",
           "#B6E880",
           "#FF97FF",
           "#FECB52"
          ],
          "font": {
           "color": "#2a3f5f"
          },
          "geo": {
           "bgcolor": "white",
           "lakecolor": "white",
           "landcolor": "white",
           "showlakes": true,
           "showland": true,
           "subunitcolor": "#C8D4E3"
          },
          "hoverlabel": {
           "align": "left"
          },
          "hovermode": "closest",
          "mapbox": {
           "style": "light"
          },
          "paper_bgcolor": "white",
          "plot_bgcolor": "white",
          "polar": {
           "angularaxis": {
            "gridcolor": "#EBF0F8",
            "linecolor": "#EBF0F8",
            "ticks": ""
           },
           "bgcolor": "white",
           "radialaxis": {
            "gridcolor": "#EBF0F8",
            "linecolor": "#EBF0F8",
            "ticks": ""
           }
          },
          "scene": {
           "xaxis": {
            "backgroundcolor": "white",
            "gridcolor": "#DFE8F3",
            "gridwidth": 2,
            "linecolor": "#EBF0F8",
            "showbackground": true,
            "ticks": "",
            "zerolinecolor": "#EBF0F8"
           },
           "yaxis": {
            "backgroundcolor": "white",
            "gridcolor": "#DFE8F3",
            "gridwidth": 2,
            "linecolor": "#EBF0F8",
            "showbackground": true,
            "ticks": "",
            "zerolinecolor": "#EBF0F8"
           },
           "zaxis": {
            "backgroundcolor": "white",
            "gridcolor": "#DFE8F3",
            "gridwidth": 2,
            "linecolor": "#EBF0F8",
            "showbackground": true,
            "ticks": "",
            "zerolinecolor": "#EBF0F8"
           }
          },
          "shapedefaults": {
           "line": {
            "color": "#2a3f5f"
           }
          },
          "ternary": {
           "aaxis": {
            "gridcolor": "#DFE8F3",
            "linecolor": "#A2B1C6",
            "ticks": ""
           },
           "baxis": {
            "gridcolor": "#DFE8F3",
            "linecolor": "#A2B1C6",
            "ticks": ""
           },
           "bgcolor": "white",
           "caxis": {
            "gridcolor": "#DFE8F3",
            "linecolor": "#A2B1C6",
            "ticks": ""
           }
          },
          "title": {
           "x": 0.05
          },
          "xaxis": {
           "automargin": true,
           "gridcolor": "#EBF0F8",
           "linecolor": "#EBF0F8",
           "ticks": "",
           "title": {
            "standoff": 15
           },
           "zerolinecolor": "#EBF0F8",
           "zerolinewidth": 2
          },
          "yaxis": {
           "automargin": true,
           "gridcolor": "#EBF0F8",
           "linecolor": "#EBF0F8",
           "ticks": "",
           "title": {
            "standoff": 15
           },
           "zerolinecolor": "#EBF0F8",
           "zerolinewidth": 2
          }
         }
        },
        "title": {
         "font": {
          "color": "Black",
          "size": 22
         },
         "text": "Topic Word Scores",
         "x": 0.5,
         "xanchor": "center",
         "yanchor": "top"
        },
        "width": 1000,
        "xaxis": {
         "anchor": "y",
         "domain": [
          0,
          0.175
         ],
         "showgrid": true
        },
        "xaxis2": {
         "anchor": "y2",
         "domain": [
          0.275,
          0.45
         ],
         "showgrid": true
        },
        "xaxis3": {
         "anchor": "y3",
         "domain": [
          0.55,
          0.7250000000000001
         ],
         "showgrid": true
        },
        "xaxis4": {
         "anchor": "y4",
         "domain": [
          0.825,
          1
         ],
         "showgrid": true
        },
        "xaxis5": {
         "anchor": "y5",
         "domain": [
          0,
          0.175
         ],
         "showgrid": true
        },
        "xaxis6": {
         "anchor": "y6",
         "domain": [
          0.275,
          0.45
         ],
         "showgrid": true
        },
        "xaxis7": {
         "anchor": "y7",
         "domain": [
          0.55,
          0.7250000000000001
         ],
         "showgrid": true
        },
        "xaxis8": {
         "anchor": "y8",
         "domain": [
          0.825,
          1
         ],
         "showgrid": true
        },
        "yaxis": {
         "anchor": "x",
         "domain": [
          0.6000000000000001,
          1
         ],
         "showgrid": true
        },
        "yaxis2": {
         "anchor": "x2",
         "domain": [
          0.6000000000000001,
          1
         ],
         "showgrid": true
        },
        "yaxis3": {
         "anchor": "x3",
         "domain": [
          0.6000000000000001,
          1
         ],
         "showgrid": true
        },
        "yaxis4": {
         "anchor": "x4",
         "domain": [
          0.6000000000000001,
          1
         ],
         "showgrid": true
        },
        "yaxis5": {
         "anchor": "x5",
         "domain": [
          0,
          0.4
         ],
         "showgrid": true
        },
        "yaxis6": {
         "anchor": "x6",
         "domain": [
          0,
          0.4
         ],
         "showgrid": true
        },
        "yaxis7": {
         "anchor": "x7",
         "domain": [
          0,
          0.4
         ],
         "showgrid": true
        },
        "yaxis8": {
         "anchor": "x8",
         "domain": [
          0,
          0.4
         ],
         "showgrid": true
        }
       }
      }
     },
     "metadata": {},
     "output_type": "display_data"
    }
   ],
   "source": [
    "model.visualize_barchart()"
   ]
  },
  {
   "cell_type": "code",
   "execution_count": 126,
   "metadata": {},
   "outputs": [
    {
     "data": {
      "application/vnd.plotly.v1+json": {
       "config": {
        "plotlyServerURL": "https://plot.ly"
       },
       "data": [
        {
         "coloraxis": "coloraxis",
         "hovertemplate": "x: %{x}<br>y: %{y}<br>Similarity Score: %{z}<extra></extra>",
         "name": "0",
         "type": "heatmap",
         "x": [
          "0_of_and_at",
          "1_the_it_to",
          "2_the_to_mr",
          "3_the_year_new",
          "4_editor_the_to",
          "5_the_in_police",
          "6_the_and_theater",
          "7_century_drawing_21stcentury",
          "8_museum_art_gallery",
          "9_is_restaurant_are",
          "10_by_book_reviewbook",
          "11_prediction_century_future",
          "12_elian_cuba_gonzalez",
          "13_belichick_jet_parcells",
          "14_yeltsin_putin_russia",
          "15_bus_diesel_river",
          "16_magazine_publisher_yearold",
          "17_bowl_yard_warrick",
          "18_indian_india_hijacker",
          "19_israeli_israel_talk",
          "20_game_ranger_devil",
          "21_january_sander_jane",
          "22_houston_point_he",
          "23_russian_chechnya_grozny",
          "24_union_ha_to"
         ],
         "xaxis": "x",
         "y": [
          "0_of_and_at",
          "1_the_it_to",
          "2_the_to_mr",
          "3_the_year_new",
          "4_editor_the_to",
          "5_the_in_police",
          "6_the_and_theater",
          "7_century_drawing_21stcentury",
          "8_museum_art_gallery",
          "9_is_restaurant_are",
          "10_by_book_reviewbook",
          "11_prediction_century_future",
          "12_elian_cuba_gonzalez",
          "13_belichick_jet_parcells",
          "14_yeltsin_putin_russia",
          "15_bus_diesel_river",
          "16_magazine_publisher_yearold",
          "17_bowl_yard_warrick",
          "18_indian_india_hijacker",
          "19_israeli_israel_talk",
          "20_game_ranger_devil",
          "21_january_sander_jane",
          "22_houston_point_he",
          "23_russian_chechnya_grozny",
          "24_union_ha_to"
         ],
         "yaxis": "y",
         "z": [
          [
           1,
           0.15580107271671295,
           0.27923208475112915,
           0.43423348665237427,
           0.38744282722473145,
           0.336788535118103,
           0.36790359020233154,
           0.28308388590812683,
           0.42725688219070435,
           0.33366212248802185,
           0.4231402575969696,
           0.20814691483974457,
           0.41871505975723267,
           0.25424864888191223,
           0.16266685724258423,
           0.14774923026561737,
           0.6347585320472717,
           0.1687098890542984,
           0.1241922676563263,
           0.22901973128318787,
           0.1047719269990921,
           0.25597894191741943,
           0.204091876745224,
           0.18140040338039398,
           0.32037603855133057
          ],
          [
           0.15580107271671295,
           1.000000238418579,
           0.32766884565353394,
           0.31708595156669617,
           0.4326709508895874,
           0.2602633237838745,
           0.1394742727279663,
           0.3477824926376343,
           0.13123194873332977,
           0.3234061300754547,
           0.07467670738697052,
           0.24374553561210632,
           0.18669243156909943,
           0.18505680561065674,
           0.23203083872795105,
           0.36167603731155396,
           0.19558729231357574,
           0.10637044161558151,
           0.22547024488449097,
           0.2937004268169403,
           0.056352563202381134,
           0.2069743573665619,
           0.16785858571529388,
           0.09050638973712921,
           0.5934270024299622
          ],
          [
           0.27923208475112915,
           0.32766884565353394,
           1.0000001192092896,
           0.38454505801200867,
           0.4779086709022522,
           0.46311306953430176,
           0.2088882029056549,
           0.3388955891132355,
           0.24706412851810455,
           0.2518070340156555,
           0.19851450622081757,
           0.26079675555229187,
           0.3388955891132355,
           0.37954485416412354,
           0.3325883746147156,
           0.41767817735671997,
           0.3726821839809418,
           0.24874992668628693,
           0.1664373129606247,
           0.4038037657737732,
           0.18657614290714264,
           0.15668214857578278,
           0.2561696469783783,
           0.09887117892503738,
           0.5290475487709045
          ],
          [
           0.43423348665237427,
           0.31708595156669617,
           0.38454505801200867,
           0.9999997019767761,
           0.4298066794872284,
           0.27439382672309875,
           0.5060538053512573,
           0.5197703838348389,
           0.5162575244903564,
           0.40476831793785095,
           0.33294087648391724,
           0.38014325499534607,
           0.3486446738243103,
           0.24714219570159912,
           0.25753697752952576,
           0.3146142065525055,
           0.47722843289375305,
           0.16205108165740967,
           0.2353992611169815,
           0.24461743235588074,
           0.2919490337371826,
           0.39573419094085693,
           0.2664065361022949,
           0.25438225269317627,
           0.3380887508392334
          ],
          [
           0.38744282722473145,
           0.4326709508895874,
           0.4779086709022522,
           0.4298066794872284,
           0.9999997615814209,
           0.4311489164829254,
           0.2651309072971344,
           0.4973328411579132,
           0.34440961480140686,
           0.32359007000923157,
           0.33463621139526367,
           0.27885618805885315,
           0.3762451410293579,
           0.21315371990203857,
           0.21931959688663483,
           0.3662317395210266,
           0.5080646276473999,
           0.12348660826683044,
           0.2867529094219208,
           0.31039488315582275,
           0.09597673267126083,
           0.1577281504869461,
           0.17688532173633575,
           0.219480499625206,
           0.5225241184234619
          ],
          [
           0.336788535118103,
           0.2602633237838745,
           0.46311306953430176,
           0.27439382672309875,
           0.4311489164829254,
           1.0000003576278687,
           0.20546004176139832,
           0.13136714696884155,
           0.19431298971176147,
           0.2273743897676468,
           0.21265265345573425,
           0.11832044273614883,
           0.4126262962818146,
           0.22952662408351898,
           0.2526860535144806,
           0.21714676916599274,
           0.3154301047325134,
           0.12998084723949432,
           0.4048145115375519,
           0.28787028789520264,
           0.14624910056591034,
           0.11945828795433044,
           0.26842623949050903,
           0.3124752938747406,
           0.36399656534194946
          ],
          [
           0.36790359020233154,
           0.1394742727279663,
           0.2088882029056549,
           0.5060538053512573,
           0.2651309072971344,
           0.20546004176139832,
           0.999999463558197,
           0.3606831133365631,
           0.5893087387084961,
           0.410668283700943,
           0.4528311491012573,
           0.34502771496772766,
           0.1797497421503067,
           0.17593708634376526,
           0.11063185334205627,
           0.13544246554374695,
           0.4150729179382324,
           0.16449788212776184,
           0.08238504081964493,
           0.06911563873291016,
           0.18790118396282196,
           0.20878085494041443,
           0.23280610144138336,
           0.06674408912658691,
           0.2678239643573761
          ],
          [
           0.28308388590812683,
           0.3477824926376343,
           0.3388955891132355,
           0.5197703838348389,
           0.4973328411579132,
           0.13136714696884155,
           0.3606831133365631,
           1.000000238418579,
           0.5362328290939331,
           0.28982067108154297,
           0.4413529634475708,
           0.48123928904533386,
           0.28758636116981506,
           0.15669848024845123,
           0.256633996963501,
           0.3118307888507843,
           0.5760748386383057,
           0.1289381980895996,
           0.11551032960414886,
           0.2200166881084442,
           0.07269797474145889,
           0.1596057265996933,
           0.12926533818244934,
           0.08967532962560654,
           0.3733850121498108
          ],
          [
           0.42725688219070435,
           0.13123194873332977,
           0.24706412851810455,
           0.5162575244903564,
           0.34440961480140686,
           0.19431298971176147,
           0.5893087387084961,
           0.5362328290939331,
           0.9999998807907104,
           0.4666304290294647,
           0.49239790439605713,
           0.26727357506752014,
           0.21534554660320282,
           0.08230613172054291,
           0.1662735790014267,
           0.2515876293182373,
           0.6267585754394531,
           0.04374035447835922,
           0.07256247103214264,
           0.11628030240535736,
           0.10569055378437042,
           0.20031799376010895,
           0.13187913596630096,
           0.1271211951971054,
           0.2874859571456909
          ],
          [
           0.33366212248802185,
           0.3234061300754547,
           0.2518070340156555,
           0.40476831793785095,
           0.32359007000923157,
           0.2273743897676468,
           0.410668283700943,
           0.28982067108154297,
           0.4666304290294647,
           1.0000003576278687,
           0.28995081782341003,
           0.13618919253349304,
           0.22592324018478394,
           0.17027853429317474,
           0.11247124522924423,
           0.35331252217292786,
           0.3688060939311981,
           0.020426852628588676,
           0.06369280070066452,
           0.07789810001850128,
           0.1215134933590889,
           0.12250440567731857,
           0.2051100879907608,
           0.04589175432920456,
           0.4691152572631836
          ],
          [
           0.4231402575969696,
           0.07467670738697052,
           0.19851450622081757,
           0.33294087648391724,
           0.33463621139526367,
           0.21265265345573425,
           0.4528311491012573,
           0.4413529634475708,
           0.49239790439605713,
           0.28995081782341003,
           1.0000003576278687,
           0.26506027579307556,
           0.2596074640750885,
           0.11360901594161987,
           0.12322106212377548,
           0.20057497918605804,
           0.5951666235923767,
           0.08194764703512192,
           0.147173210978508,
           0.1267947256565094,
           0.0747067779302597,
           0.09159533679485321,
           0.10024156421422958,
           0.11587671935558319,
           0.22798724472522736
          ],
          [
           0.20814691483974457,
           0.24374553561210632,
           0.26079675555229187,
           0.38014325499534607,
           0.27885618805885315,
           0.11832044273614883,
           0.34502771496772766,
           0.48123928904533386,
           0.26727357506752014,
           0.13618919253349304,
           0.26506027579307556,
           1.0000004768371582,
           0.23343460261821747,
           0.33250588178634644,
           0.19112293422222137,
           0.17796260118484497,
           0.33019986748695374,
           0.471135675907135,
           0.10627980530261993,
           0.12002992630004883,
           0.5141120553016663,
           0.19231796264648438,
           0.46429628133773804,
           0.094076968729496,
           0.22200994193553925
          ],
          [
           0.41871505975723267,
           0.18669243156909943,
           0.3388955891132355,
           0.3486446738243103,
           0.3762451410293579,
           0.4126262962818146,
           0.1797497421503067,
           0.28758636116981506,
           0.21534554660320282,
           0.22592324018478394,
           0.2596074640750885,
           0.23343460261821747,
           1.0000003576278687,
           0.23552294075489044,
           0.28772005438804626,
           0.11794085055589676,
           0.41380444169044495,
           0.15954776108264923,
           0.2921578586101532,
           0.28843802213668823,
           0.1407160460948944,
           0.17781218886375427,
           0.1831984966993332,
           0.2905500531196594,
           0.2364213466644287
          ],
          [
           0.25424864888191223,
           0.18505680561065674,
           0.37954485416412354,
           0.24714219570159912,
           0.21315371990203857,
           0.22952662408351898,
           0.17593708634376526,
           0.15669848024845123,
           0.08230613172054291,
           0.17027853429317474,
           0.11360901594161987,
           0.33250588178634644,
           0.23552294075489044,
           1.000000238418579,
           0.2126149982213974,
           0.1690485179424286,
           0.1454518884420395,
           0.5970167517662048,
           0.16725286841392517,
           0.19699077308177948,
           0.4512334167957306,
           0.11418371647596359,
           0.4980749785900116,
           0.0800086110830307,
           0.29047635197639465
          ],
          [
           0.16266685724258423,
           0.23203083872795105,
           0.3325883746147156,
           0.25753697752952576,
           0.21931959688663483,
           0.2526860535144806,
           0.11063185334205627,
           0.256633996963501,
           0.1662735790014267,
           0.11247124522924423,
           0.12322106212377548,
           0.19112293422222137,
           0.28772005438804626,
           0.2126149982213974,
           1.000000238418579,
           0.05844925343990326,
           0.19332870841026306,
           0.10533104091882706,
           0.29062986373901367,
           0.39678284525871277,
           0.1653495877981186,
           0.13409022986888885,
           0.13533395528793335,
           0.5762864947319031,
           0.17201945185661316
          ],
          [
           0.14774923026561737,
           0.36167603731155396,
           0.41767817735671997,
           0.3146142065525055,
           0.3662317395210266,
           0.21714676916599274,
           0.13544246554374695,
           0.3118307888507843,
           0.2515876293182373,
           0.35331252217292786,
           0.20057497918605804,
           0.17796260118484497,
           0.11794085055589676,
           0.1690485179424286,
           0.05844925343990326,
           0.9999998807907104,
           0.1714686155319214,
           0.04541290923953056,
           0.08444834500551224,
           0.15544646978378296,
           0.061936162412166595,
           0.08333715796470642,
           0.08971297740936279,
           0.08035215735435486,
           0.4265041947364807
          ],
          [
           0.6347585320472717,
           0.19558729231357574,
           0.3726821839809418,
           0.47722843289375305,
           0.5080646276473999,
           0.3154301047325134,
           0.4150729179382324,
           0.5760748386383057,
           0.6267585754394531,
           0.3688060939311981,
           0.5951666235923767,
           0.33019986748695374,
           0.41380444169044495,
           0.1454518884420395,
           0.19332870841026306,
           0.1714686155319214,
           1,
           0.09226218611001968,
           0.13916310667991638,
           0.2256331890821457,
           0.0750577300786972,
           0.2030591070652008,
           0.1881103813648224,
           0.1483822762966156,
           0.43088722229003906
          ],
          [
           0.1687098890542984,
           0.10637044161558151,
           0.24874992668628693,
           0.16205108165740967,
           0.12348660826683044,
           0.12998084723949432,
           0.16449788212776184,
           0.1289381980895996,
           0.04374035447835922,
           0.020426852628588676,
           0.08194764703512192,
           0.471135675907135,
           0.15954776108264923,
           0.5970167517662048,
           0.10533104091882706,
           0.04541290923953056,
           0.09226218611001968,
           1.0000001192092896,
           0.039198026061058044,
           0.08788000792264938,
           0.5102919936180115,
           0.15482527017593384,
           0.58048015832901,
           0.1111568957567215,
           0.19830439984798431
          ],
          [
           0.1241922676563263,
           0.22547024488449097,
           0.1664373129606247,
           0.2353992611169815,
           0.2867529094219208,
           0.4048145115375519,
           0.08238504081964493,
           0.11551032960414886,
           0.07256247103214264,
           0.06369280070066452,
           0.147173210978508,
           0.10627980530261993,
           0.2921578586101532,
           0.16725286841392517,
           0.29062986373901367,
           0.08444834500551224,
           0.13916310667991638,
           0.039198026061058044,
           1.0000001192092896,
           0.31506556272506714,
           0.11053672432899475,
           0.05224556103348732,
           0.13850337266921997,
           0.35049498081207275,
           0.12241198867559433
          ],
          [
           0.22901973128318787,
           0.2937004268169403,
           0.4038037657737732,
           0.24461743235588074,
           0.31039488315582275,
           0.28787028789520264,
           0.06911563873291016,
           0.2200166881084442,
           0.11628030240535736,
           0.07789810001850128,
           0.1267947256565094,
           0.12002992630004883,
           0.28843802213668823,
           0.19699077308177948,
           0.39678284525871277,
           0.15544646978378296,
           0.2256331890821457,
           0.08788000792264938,
           0.31506556272506714,
           1.0000001192092896,
           0.023552902042865753,
           0.11048875004053116,
           0.19342094659805298,
           0.35619139671325684,
           0.2907543480396271
          ],
          [
           0.1047719269990921,
           0.056352563202381134,
           0.18657614290714264,
           0.2919490337371826,
           0.09597673267126083,
           0.14624910056591034,
           0.18790118396282196,
           0.07269797474145889,
           0.10569055378437042,
           0.1215134933590889,
           0.0747067779302597,
           0.5141120553016663,
           0.1407160460948944,
           0.4512334167957306,
           0.1653495877981186,
           0.061936162412166595,
           0.0750577300786972,
           0.5102919936180115,
           0.11053672432899475,
           0.023552902042865753,
           0.9999999403953552,
           0.13126973807811737,
           0.5587719082832336,
           0.18943341076374054,
           0.09881116449832916
          ],
          [
           0.25597894191741943,
           0.2069743573665619,
           0.15668214857578278,
           0.39573419094085693,
           0.1577281504869461,
           0.11945828795433044,
           0.20878085494041443,
           0.1596057265996933,
           0.20031799376010895,
           0.12250440567731857,
           0.09159533679485321,
           0.19231796264648438,
           0.17781218886375427,
           0.11418371647596359,
           0.13409022986888885,
           0.08333715796470642,
           0.2030591070652008,
           0.15482527017593384,
           0.05224556103348732,
           0.11048875004053116,
           0.13126973807811737,
           0.9999997615814209,
           0.18057726323604584,
           0.09771477431058884,
           0.0848596841096878
          ],
          [
           0.204091876745224,
           0.16785858571529388,
           0.2561696469783783,
           0.2664065361022949,
           0.17688532173633575,
           0.26842623949050903,
           0.23280610144138336,
           0.12926533818244934,
           0.13187913596630096,
           0.2051100879907608,
           0.10024156421422958,
           0.46429628133773804,
           0.1831984966993332,
           0.4980749785900116,
           0.13533395528793335,
           0.08971297740936279,
           0.1881103813648224,
           0.58048015832901,
           0.13850337266921997,
           0.19342094659805298,
           0.5587719082832336,
           0.18057726323604584,
           0.9999997019767761,
           0.057673510164022446,
           0.2466210275888443
          ],
          [
           0.18140040338039398,
           0.09050638973712921,
           0.09887117892503738,
           0.25438225269317627,
           0.219480499625206,
           0.3124752938747406,
           0.06674408912658691,
           0.08967532962560654,
           0.1271211951971054,
           0.04589175432920456,
           0.11587671935558319,
           0.094076968729496,
           0.2905500531196594,
           0.0800086110830307,
           0.5762864947319031,
           0.08035215735435486,
           0.1483822762966156,
           0.1111568957567215,
           0.35049498081207275,
           0.35619139671325684,
           0.18943341076374054,
           0.09771477431058884,
           0.057673510164022446,
           1,
           0.04025491327047348
          ],
          [
           0.32037603855133057,
           0.5934270024299622,
           0.5290475487709045,
           0.3380887508392334,
           0.5225241184234619,
           0.36399656534194946,
           0.2678239643573761,
           0.3733850121498108,
           0.2874859571456909,
           0.4691152572631836,
           0.22798724472522736,
           0.22200994193553925,
           0.2364213466644287,
           0.29047635197639465,
           0.17201945185661316,
           0.4265041947364807,
           0.43088722229003906,
           0.19830439984798431,
           0.12241198867559433,
           0.2907543480396271,
           0.09881116449832916,
           0.0848596841096878,
           0.2466210275888443,
           0.04025491327047348,
           1.0000001192092896
          ]
         ]
        }
       ],
       "layout": {
        "coloraxis": {
         "colorbar": {
          "title": {
           "text": "Similarity Score"
          }
         },
         "colorscale": [
          [
           0,
           "rgb(247,252,240)"
          ],
          [
           0.125,
           "rgb(224,243,219)"
          ],
          [
           0.25,
           "rgb(204,235,197)"
          ],
          [
           0.375,
           "rgb(168,221,181)"
          ],
          [
           0.5,
           "rgb(123,204,196)"
          ],
          [
           0.625,
           "rgb(78,179,211)"
          ],
          [
           0.75,
           "rgb(43,140,190)"
          ],
          [
           0.875,
           "rgb(8,104,172)"
          ],
          [
           1,
           "rgb(8,64,129)"
          ]
         ]
        },
        "height": 800,
        "hoverlabel": {
         "bgcolor": "white",
         "font": {
          "family": "Rockwell",
          "size": 16
         }
        },
        "legend": {
         "title": {
          "text": "Trend"
         }
        },
        "margin": {
         "t": 60
        },
        "showlegend": true,
        "template": {
         "data": {
          "bar": [
           {
            "error_x": {
             "color": "#2a3f5f"
            },
            "error_y": {
             "color": "#2a3f5f"
            },
            "marker": {
             "line": {
              "color": "#E5ECF6",
              "width": 0.5
             },
             "pattern": {
              "fillmode": "overlay",
              "size": 10,
              "solidity": 0.2
             }
            },
            "type": "bar"
           }
          ],
          "barpolar": [
           {
            "marker": {
             "line": {
              "color": "#E5ECF6",
              "width": 0.5
             },
             "pattern": {
              "fillmode": "overlay",
              "size": 10,
              "solidity": 0.2
             }
            },
            "type": "barpolar"
           }
          ],
          "carpet": [
           {
            "aaxis": {
             "endlinecolor": "#2a3f5f",
             "gridcolor": "white",
             "linecolor": "white",
             "minorgridcolor": "white",
             "startlinecolor": "#2a3f5f"
            },
            "baxis": {
             "endlinecolor": "#2a3f5f",
             "gridcolor": "white",
             "linecolor": "white",
             "minorgridcolor": "white",
             "startlinecolor": "#2a3f5f"
            },
            "type": "carpet"
           }
          ],
          "choropleth": [
           {
            "colorbar": {
             "outlinewidth": 0,
             "ticks": ""
            },
            "type": "choropleth"
           }
          ],
          "contour": [
           {
            "colorbar": {
             "outlinewidth": 0,
             "ticks": ""
            },
            "colorscale": [
             [
              0,
              "#0d0887"
             ],
             [
              0.1111111111111111,
              "#46039f"
             ],
             [
              0.2222222222222222,
              "#7201a8"
             ],
             [
              0.3333333333333333,
              "#9c179e"
             ],
             [
              0.4444444444444444,
              "#bd3786"
             ],
             [
              0.5555555555555556,
              "#d8576b"
             ],
             [
              0.6666666666666666,
              "#ed7953"
             ],
             [
              0.7777777777777778,
              "#fb9f3a"
             ],
             [
              0.8888888888888888,
              "#fdca26"
             ],
             [
              1,
              "#f0f921"
             ]
            ],
            "type": "contour"
           }
          ],
          "contourcarpet": [
           {
            "colorbar": {
             "outlinewidth": 0,
             "ticks": ""
            },
            "type": "contourcarpet"
           }
          ],
          "heatmap": [
           {
            "colorbar": {
             "outlinewidth": 0,
             "ticks": ""
            },
            "colorscale": [
             [
              0,
              "#0d0887"
             ],
             [
              0.1111111111111111,
              "#46039f"
             ],
             [
              0.2222222222222222,
              "#7201a8"
             ],
             [
              0.3333333333333333,
              "#9c179e"
             ],
             [
              0.4444444444444444,
              "#bd3786"
             ],
             [
              0.5555555555555556,
              "#d8576b"
             ],
             [
              0.6666666666666666,
              "#ed7953"
             ],
             [
              0.7777777777777778,
              "#fb9f3a"
             ],
             [
              0.8888888888888888,
              "#fdca26"
             ],
             [
              1,
              "#f0f921"
             ]
            ],
            "type": "heatmap"
           }
          ],
          "heatmapgl": [
           {
            "colorbar": {
             "outlinewidth": 0,
             "ticks": ""
            },
            "colorscale": [
             [
              0,
              "#0d0887"
             ],
             [
              0.1111111111111111,
              "#46039f"
             ],
             [
              0.2222222222222222,
              "#7201a8"
             ],
             [
              0.3333333333333333,
              "#9c179e"
             ],
             [
              0.4444444444444444,
              "#bd3786"
             ],
             [
              0.5555555555555556,
              "#d8576b"
             ],
             [
              0.6666666666666666,
              "#ed7953"
             ],
             [
              0.7777777777777778,
              "#fb9f3a"
             ],
             [
              0.8888888888888888,
              "#fdca26"
             ],
             [
              1,
              "#f0f921"
             ]
            ],
            "type": "heatmapgl"
           }
          ],
          "histogram": [
           {
            "marker": {
             "pattern": {
              "fillmode": "overlay",
              "size": 10,
              "solidity": 0.2
             }
            },
            "type": "histogram"
           }
          ],
          "histogram2d": [
           {
            "colorbar": {
             "outlinewidth": 0,
             "ticks": ""
            },
            "colorscale": [
             [
              0,
              "#0d0887"
             ],
             [
              0.1111111111111111,
              "#46039f"
             ],
             [
              0.2222222222222222,
              "#7201a8"
             ],
             [
              0.3333333333333333,
              "#9c179e"
             ],
             [
              0.4444444444444444,
              "#bd3786"
             ],
             [
              0.5555555555555556,
              "#d8576b"
             ],
             [
              0.6666666666666666,
              "#ed7953"
             ],
             [
              0.7777777777777778,
              "#fb9f3a"
             ],
             [
              0.8888888888888888,
              "#fdca26"
             ],
             [
              1,
              "#f0f921"
             ]
            ],
            "type": "histogram2d"
           }
          ],
          "histogram2dcontour": [
           {
            "colorbar": {
             "outlinewidth": 0,
             "ticks": ""
            },
            "colorscale": [
             [
              0,
              "#0d0887"
             ],
             [
              0.1111111111111111,
              "#46039f"
             ],
             [
              0.2222222222222222,
              "#7201a8"
             ],
             [
              0.3333333333333333,
              "#9c179e"
             ],
             [
              0.4444444444444444,
              "#bd3786"
             ],
             [
              0.5555555555555556,
              "#d8576b"
             ],
             [
              0.6666666666666666,
              "#ed7953"
             ],
             [
              0.7777777777777778,
              "#fb9f3a"
             ],
             [
              0.8888888888888888,
              "#fdca26"
             ],
             [
              1,
              "#f0f921"
             ]
            ],
            "type": "histogram2dcontour"
           }
          ],
          "mesh3d": [
           {
            "colorbar": {
             "outlinewidth": 0,
             "ticks": ""
            },
            "type": "mesh3d"
           }
          ],
          "parcoords": [
           {
            "line": {
             "colorbar": {
              "outlinewidth": 0,
              "ticks": ""
             }
            },
            "type": "parcoords"
           }
          ],
          "pie": [
           {
            "automargin": true,
            "type": "pie"
           }
          ],
          "scatter": [
           {
            "marker": {
             "colorbar": {
              "outlinewidth": 0,
              "ticks": ""
             }
            },
            "type": "scatter"
           }
          ],
          "scatter3d": [
           {
            "line": {
             "colorbar": {
              "outlinewidth": 0,
              "ticks": ""
             }
            },
            "marker": {
             "colorbar": {
              "outlinewidth": 0,
              "ticks": ""
             }
            },
            "type": "scatter3d"
           }
          ],
          "scattercarpet": [
           {
            "marker": {
             "colorbar": {
              "outlinewidth": 0,
              "ticks": ""
             }
            },
            "type": "scattercarpet"
           }
          ],
          "scattergeo": [
           {
            "marker": {
             "colorbar": {
              "outlinewidth": 0,
              "ticks": ""
             }
            },
            "type": "scattergeo"
           }
          ],
          "scattergl": [
           {
            "marker": {
             "colorbar": {
              "outlinewidth": 0,
              "ticks": ""
             }
            },
            "type": "scattergl"
           }
          ],
          "scattermapbox": [
           {
            "marker": {
             "colorbar": {
              "outlinewidth": 0,
              "ticks": ""
             }
            },
            "type": "scattermapbox"
           }
          ],
          "scatterpolar": [
           {
            "marker": {
             "colorbar": {
              "outlinewidth": 0,
              "ticks": ""
             }
            },
            "type": "scatterpolar"
           }
          ],
          "scatterpolargl": [
           {
            "marker": {
             "colorbar": {
              "outlinewidth": 0,
              "ticks": ""
             }
            },
            "type": "scatterpolargl"
           }
          ],
          "scatterternary": [
           {
            "marker": {
             "colorbar": {
              "outlinewidth": 0,
              "ticks": ""
             }
            },
            "type": "scatterternary"
           }
          ],
          "surface": [
           {
            "colorbar": {
             "outlinewidth": 0,
             "ticks": ""
            },
            "colorscale": [
             [
              0,
              "#0d0887"
             ],
             [
              0.1111111111111111,
              "#46039f"
             ],
             [
              0.2222222222222222,
              "#7201a8"
             ],
             [
              0.3333333333333333,
              "#9c179e"
             ],
             [
              0.4444444444444444,
              "#bd3786"
             ],
             [
              0.5555555555555556,
              "#d8576b"
             ],
             [
              0.6666666666666666,
              "#ed7953"
             ],
             [
              0.7777777777777778,
              "#fb9f3a"
             ],
             [
              0.8888888888888888,
              "#fdca26"
             ],
             [
              1,
              "#f0f921"
             ]
            ],
            "type": "surface"
           }
          ],
          "table": [
           {
            "cells": {
             "fill": {
              "color": "#EBF0F8"
             },
             "line": {
              "color": "white"
             }
            },
            "header": {
             "fill": {
              "color": "#C8D4E3"
             },
             "line": {
              "color": "white"
             }
            },
            "type": "table"
           }
          ]
         },
         "layout": {
          "annotationdefaults": {
           "arrowcolor": "#2a3f5f",
           "arrowhead": 0,
           "arrowwidth": 1
          },
          "autotypenumbers": "strict",
          "coloraxis": {
           "colorbar": {
            "outlinewidth": 0,
            "ticks": ""
           }
          },
          "colorscale": {
           "diverging": [
            [
             0,
             "#8e0152"
            ],
            [
             0.1,
             "#c51b7d"
            ],
            [
             0.2,
             "#de77ae"
            ],
            [
             0.3,
             "#f1b6da"
            ],
            [
             0.4,
             "#fde0ef"
            ],
            [
             0.5,
             "#f7f7f7"
            ],
            [
             0.6,
             "#e6f5d0"
            ],
            [
             0.7,
             "#b8e186"
            ],
            [
             0.8,
             "#7fbc41"
            ],
            [
             0.9,
             "#4d9221"
            ],
            [
             1,
             "#276419"
            ]
           ],
           "sequential": [
            [
             0,
             "#0d0887"
            ],
            [
             0.1111111111111111,
             "#46039f"
            ],
            [
             0.2222222222222222,
             "#7201a8"
            ],
            [
             0.3333333333333333,
             "#9c179e"
            ],
            [
             0.4444444444444444,
             "#bd3786"
            ],
            [
             0.5555555555555556,
             "#d8576b"
            ],
            [
             0.6666666666666666,
             "#ed7953"
            ],
            [
             0.7777777777777778,
             "#fb9f3a"
            ],
            [
             0.8888888888888888,
             "#fdca26"
            ],
            [
             1,
             "#f0f921"
            ]
           ],
           "sequentialminus": [
            [
             0,
             "#0d0887"
            ],
            [
             0.1111111111111111,
             "#46039f"
            ],
            [
             0.2222222222222222,
             "#7201a8"
            ],
            [
             0.3333333333333333,
             "#9c179e"
            ],
            [
             0.4444444444444444,
             "#bd3786"
            ],
            [
             0.5555555555555556,
             "#d8576b"
            ],
            [
             0.6666666666666666,
             "#ed7953"
            ],
            [
             0.7777777777777778,
             "#fb9f3a"
            ],
            [
             0.8888888888888888,
             "#fdca26"
            ],
            [
             1,
             "#f0f921"
            ]
           ]
          },
          "colorway": [
           "#636efa",
           "#EF553B",
           "#00cc96",
           "#ab63fa",
           "#FFA15A",
           "#19d3f3",
           "#FF6692",
           "#B6E880",
           "#FF97FF",
           "#FECB52"
          ],
          "font": {
           "color": "#2a3f5f"
          },
          "geo": {
           "bgcolor": "white",
           "lakecolor": "white",
           "landcolor": "#E5ECF6",
           "showlakes": true,
           "showland": true,
           "subunitcolor": "white"
          },
          "hoverlabel": {
           "align": "left"
          },
          "hovermode": "closest",
          "mapbox": {
           "style": "light"
          },
          "paper_bgcolor": "white",
          "plot_bgcolor": "#E5ECF6",
          "polar": {
           "angularaxis": {
            "gridcolor": "white",
            "linecolor": "white",
            "ticks": ""
           },
           "bgcolor": "#E5ECF6",
           "radialaxis": {
            "gridcolor": "white",
            "linecolor": "white",
            "ticks": ""
           }
          },
          "scene": {
           "xaxis": {
            "backgroundcolor": "#E5ECF6",
            "gridcolor": "white",
            "gridwidth": 2,
            "linecolor": "white",
            "showbackground": true,
            "ticks": "",
            "zerolinecolor": "white"
           },
           "yaxis": {
            "backgroundcolor": "#E5ECF6",
            "gridcolor": "white",
            "gridwidth": 2,
            "linecolor": "white",
            "showbackground": true,
            "ticks": "",
            "zerolinecolor": "white"
           },
           "zaxis": {
            "backgroundcolor": "#E5ECF6",
            "gridcolor": "white",
            "gridwidth": 2,
            "linecolor": "white",
            "showbackground": true,
            "ticks": "",
            "zerolinecolor": "white"
           }
          },
          "shapedefaults": {
           "line": {
            "color": "#2a3f5f"
           }
          },
          "ternary": {
           "aaxis": {
            "gridcolor": "white",
            "linecolor": "white",
            "ticks": ""
           },
           "baxis": {
            "gridcolor": "white",
            "linecolor": "white",
            "ticks": ""
           },
           "bgcolor": "#E5ECF6",
           "caxis": {
            "gridcolor": "white",
            "linecolor": "white",
            "ticks": ""
           }
          },
          "title": {
           "x": 0.05
          },
          "xaxis": {
           "automargin": true,
           "gridcolor": "white",
           "linecolor": "white",
           "ticks": "",
           "title": {
            "standoff": 15
           },
           "zerolinecolor": "white",
           "zerolinewidth": 2
          },
          "yaxis": {
           "automargin": true,
           "gridcolor": "white",
           "linecolor": "white",
           "ticks": "",
           "title": {
            "standoff": 15
           },
           "zerolinecolor": "white",
           "zerolinewidth": 2
          }
         }
        },
        "title": {
         "font": {
          "color": "Black",
          "size": 22
         },
         "text": "<b>Similarity Matrix</b>",
         "x": 0.55,
         "xanchor": "center",
         "y": 0.95,
         "yanchor": "top"
        },
        "width": 800,
        "xaxis": {
         "anchor": "y",
         "constrain": "domain",
         "domain": [
          0,
          1
         ],
         "scaleanchor": "y"
        },
        "yaxis": {
         "anchor": "x",
         "autorange": "reversed",
         "constrain": "domain",
         "domain": [
          0,
          1
         ]
        }
       }
      }
     },
     "metadata": {},
     "output_type": "display_data"
    }
   ],
   "source": [
    "model.visualize_heatmap()"
   ]
  },
  {
   "cell_type": "code",
   "execution_count": 127,
   "metadata": {},
   "outputs": [
    {
     "data": {
      "text/html": [
       "<div>\n",
       "<style scoped>\n",
       "    .dataframe tbody tr th:only-of-type {\n",
       "        vertical-align: middle;\n",
       "    }\n",
       "\n",
       "    .dataframe tbody tr th {\n",
       "        vertical-align: top;\n",
       "    }\n",
       "\n",
       "    .dataframe thead th {\n",
       "        text-align: right;\n",
       "    }\n",
       "</style>\n",
       "<table border=\"1\" class=\"dataframe\">\n",
       "  <thead>\n",
       "    <tr style=\"text-align: right;\">\n",
       "      <th></th>\n",
       "      <th>Topic</th>\n",
       "      <th>Count</th>\n",
       "      <th>Name</th>\n",
       "      <th>Representation</th>\n",
       "      <th>Representative_Docs</th>\n",
       "    </tr>\n",
       "  </thead>\n",
       "  <tbody>\n",
       "    <tr>\n",
       "      <th>0</th>\n",
       "      <td>-1</td>\n",
       "      <td>401</td>\n",
       "      <td>-1_the_to_of_in</td>\n",
       "      <td>[the, to, of, in, and, that, for, on, is, with]</td>\n",
       "      <td>[in the wake of his first losing season a the ...</td>\n",
       "    </tr>\n",
       "    <tr>\n",
       "      <th>1</th>\n",
       "      <td>0</td>\n",
       "      <td>409</td>\n",
       "      <td>0_of_and_at_his</td>\n",
       "      <td>[of, and, at, his, january, her, the, in, belo...</td>\n",
       "      <td>[fuller robert garfield of west palm beach fl ...</td>\n",
       "    </tr>\n",
       "    <tr>\n",
       "      <th>2</th>\n",
       "      <td>1</td>\n",
       "      <td>291</td>\n",
       "      <td>1_the_it_to_in</td>\n",
       "      <td>[the, it, to, in, company, that, percent, of, ...</td>\n",
       "      <td>[economist have rather zen like view of stock ...</td>\n",
       "    </tr>\n",
       "    <tr>\n",
       "      <th>3</th>\n",
       "      <td>2</td>\n",
       "      <td>117</td>\n",
       "      <td>2_the_to_mr_for</td>\n",
       "      <td>[the, to, mr, for, that, campaign, candidate, ...</td>\n",
       "      <td>[in lively almost raucous debate in new hampsh...</td>\n",
       "    </tr>\n",
       "    <tr>\n",
       "      <th>4</th>\n",
       "      <td>3</td>\n",
       "      <td>107</td>\n",
       "      <td>3_the_year_new_of</td>\n",
       "      <td>[the, year, new, of, in, and, time, to, yearev...</td>\n",
       "      <td>[new york awoke on saturday morning to discove...</td>\n",
       "    </tr>\n",
       "    <tr>\n",
       "      <th>5</th>\n",
       "      <td>4</td>\n",
       "      <td>76</td>\n",
       "      <td>4_editor_the_to_frontpage</td>\n",
       "      <td>[editor, the, to, frontpage, front, page, edit...</td>\n",
       "      <td>[to the editor, to the editor, to the editor]</td>\n",
       "    </tr>\n",
       "    <tr>\n",
       "      <th>6</th>\n",
       "      <td>5</td>\n",
       "      <td>74</td>\n",
       "      <td>5_the_in_police_to</td>\n",
       "      <td>[the, in, police, to, of, and, said, wa, court...</td>\n",
       "      <td>[europe ireland killer return blocked the high...</td>\n",
       "    </tr>\n",
       "    <tr>\n",
       "      <th>7</th>\n",
       "      <td>6</td>\n",
       "      <td>67</td>\n",
       "      <td>6_the_and_theater_at</td>\n",
       "      <td>[the, and, theater, at, dance, new, in, film, ...</td>\n",
       "      <td>[doug varone ha long and impressive record a m...</td>\n",
       "    </tr>\n",
       "    <tr>\n",
       "      <th>8</th>\n",
       "      <td>7</td>\n",
       "      <td>63</td>\n",
       "      <td>7_century_drawing_21stcentury_21st</td>\n",
       "      <td>[century, drawing, 21stcentury, 21st, say, the...</td>\n",
       "      <td>[expert discus trend in the kind of home ameri...</td>\n",
       "    </tr>\n",
       "    <tr>\n",
       "      <th>9</th>\n",
       "      <td>8</td>\n",
       "      <td>42</td>\n",
       "      <td>8_museum_art_gallery_and</td>\n",
       "      <td>[museum, art, gallery, and, in, of, artist, ph...</td>\n",
       "      <td>[almost everyone who writes about cildo meirel...</td>\n",
       "    </tr>\n",
       "    <tr>\n",
       "      <th>10</th>\n",
       "      <td>9</td>\n",
       "      <td>38</td>\n",
       "      <td>9_is_restaurant_are_it</td>\n",
       "      <td>[is, restaurant, are, it, with, in, and, the, ...</td>\n",
       "      <td>[let say you are deciding what to call your re...</td>\n",
       "    </tr>\n",
       "    <tr>\n",
       "      <th>11</th>\n",
       "      <td>10</td>\n",
       "      <td>34</td>\n",
       "      <td>10_by_book_reviewbook_the</td>\n",
       "      <td>[by, book, reviewbook, the, review, life, and,...</td>\n",
       "      <td>[nureyev his life by diane solway morrow the a...</td>\n",
       "    </tr>\n",
       "    <tr>\n",
       "      <th>12</th>\n",
       "      <td>11</td>\n",
       "      <td>32</td>\n",
       "      <td>11_prediction_century_future_america</td>\n",
       "      <td>[prediction, century, future, america, 21stcen...</td>\n",
       "      <td>[joe drape article offer global prediction for...</td>\n",
       "    </tr>\n",
       "    <tr>\n",
       "      <th>13</th>\n",
       "      <td>12</td>\n",
       "      <td>26</td>\n",
       "      <td>12_elian_cuba_gonzalez_the</td>\n",
       "      <td>[elian, cuba, gonzalez, the, boy, in, cuban, t...</td>\n",
       "      <td>[a word filtered out that elian gonzalez would...</td>\n",
       "    </tr>\n",
       "    <tr>\n",
       "      <th>14</th>\n",
       "      <td>13</td>\n",
       "      <td>25</td>\n",
       "      <td>13_belichick_jet_parcells_coach</td>\n",
       "      <td>[belichick, jet, parcells, coach, bill, he, he...</td>\n",
       "      <td>[bill belichick wa in his office before yester...</td>\n",
       "    </tr>\n",
       "    <tr>\n",
       "      <th>15</th>\n",
       "      <td>14</td>\n",
       "      <td>25</td>\n",
       "      <td>14_yeltsin_putin_russia_vladimirputin</td>\n",
       "      <td>[yeltsin, putin, russia, vladimirputin, vladim...</td>\n",
       "      <td>[russia spent much of the past decade stumblin...</td>\n",
       "    </tr>\n",
       "    <tr>\n",
       "      <th>16</th>\n",
       "      <td>15</td>\n",
       "      <td>23</td>\n",
       "      <td>15_bus_diesel_river_to</td>\n",
       "      <td>[bus, diesel, river, to, and, city, of, plan, ...</td>\n",
       "      <td>[experimental vehicle are being built by gener...</td>\n",
       "    </tr>\n",
       "    <tr>\n",
       "      <th>17</th>\n",
       "      <td>16</td>\n",
       "      <td>22</td>\n",
       "      <td>16_magazine_publisher_yearold_old</td>\n",
       "      <td>[magazine, publisher, yearold, old, of, photo,...</td>\n",
       "      <td>[in battle that feature element of greek drama...</td>\n",
       "    </tr>\n",
       "    <tr>\n",
       "      <th>18</th>\n",
       "      <td>17</td>\n",
       "      <td>19</td>\n",
       "      <td>17_bowl_yard_warrick_national</td>\n",
       "      <td>[bowl, yard, warrick, national, he, the, game,...</td>\n",
       "      <td>[bypassed for consideration a this season nati...</td>\n",
       "    </tr>\n",
       "    <tr>\n",
       "      <th>19</th>\n",
       "      <td>18</td>\n",
       "      <td>18</td>\n",
       "      <td>18_indian_india_hijacker_pakistan</td>\n",
       "      <td>[indian, india, hijacker, pakistan, hijacking,...</td>\n",
       "      <td>[more and people held hostage on hijacked indi...</td>\n",
       "    </tr>\n",
       "    <tr>\n",
       "      <th>20</th>\n",
       "      <td>19</td>\n",
       "      <td>18</td>\n",
       "      <td>19_israeli_israel_talk_peace</td>\n",
       "      <td>[israeli, israel, talk, peace, syrian, syria, ...</td>\n",
       "      <td>[international a3 israel and syria resume nego...</td>\n",
       "    </tr>\n",
       "    <tr>\n",
       "      <th>21</th>\n",
       "      <td>20</td>\n",
       "      <td>17</td>\n",
       "      <td>20_game_ranger_devil_goal</td>\n",
       "      <td>[game, ranger, devil, goal, the, islander, wit...</td>\n",
       "      <td>[mediocrity would be step up for the ranger ri...</td>\n",
       "    </tr>\n",
       "    <tr>\n",
       "      <th>22</th>\n",
       "      <td>21</td>\n",
       "      <td>17</td>\n",
       "      <td>21_january_sander_jane_jan</td>\n",
       "      <td>[january, sander, jane, jan, , , , , , ]</td>\n",
       "      <td>[january, january, january]</td>\n",
       "    </tr>\n",
       "    <tr>\n",
       "      <th>23</th>\n",
       "      <td>22</td>\n",
       "      <td>15</td>\n",
       "      <td>22_houston_point_he_the</td>\n",
       "      <td>[houston, point, he, the, season, his, net, ga...</td>\n",
       "      <td>[during the preseason stephon marbury shared h...</td>\n",
       "    </tr>\n",
       "    <tr>\n",
       "      <th>24</th>\n",
       "      <td>23</td>\n",
       "      <td>14</td>\n",
       "      <td>23_russian_chechnya_grozny_soldier</td>\n",
       "      <td>[russian, chechnya, grozny, soldier, rebel, ca...</td>\n",
       "      <td>[after enduring bitter street fight in grozny ...</td>\n",
       "    </tr>\n",
       "    <tr>\n",
       "      <th>25</th>\n",
       "      <td>24</td>\n",
       "      <td>10</td>\n",
       "      <td>24_union_ha_to_worker</td>\n",
       "      <td>[union, ha, to, worker, college, agreement, th...</td>\n",
       "      <td>[after decade of booming growth in the endowme...</td>\n",
       "    </tr>\n",
       "  </tbody>\n",
       "</table>\n",
       "</div>"
      ],
      "text/plain": [
       "    Topic  Count                                   Name  \\\n",
       "0      -1    401                        -1_the_to_of_in   \n",
       "1       0    409                        0_of_and_at_his   \n",
       "2       1    291                         1_the_it_to_in   \n",
       "3       2    117                        2_the_to_mr_for   \n",
       "4       3    107                      3_the_year_new_of   \n",
       "5       4     76              4_editor_the_to_frontpage   \n",
       "6       5     74                     5_the_in_police_to   \n",
       "7       6     67                   6_the_and_theater_at   \n",
       "8       7     63     7_century_drawing_21stcentury_21st   \n",
       "9       8     42               8_museum_art_gallery_and   \n",
       "10      9     38                 9_is_restaurant_are_it   \n",
       "11     10     34              10_by_book_reviewbook_the   \n",
       "12     11     32   11_prediction_century_future_america   \n",
       "13     12     26             12_elian_cuba_gonzalez_the   \n",
       "14     13     25        13_belichick_jet_parcells_coach   \n",
       "15     14     25  14_yeltsin_putin_russia_vladimirputin   \n",
       "16     15     23                 15_bus_diesel_river_to   \n",
       "17     16     22      16_magazine_publisher_yearold_old   \n",
       "18     17     19          17_bowl_yard_warrick_national   \n",
       "19     18     18      18_indian_india_hijacker_pakistan   \n",
       "20     19     18           19_israeli_israel_talk_peace   \n",
       "21     20     17              20_game_ranger_devil_goal   \n",
       "22     21     17             21_january_sander_jane_jan   \n",
       "23     22     15                22_houston_point_he_the   \n",
       "24     23     14     23_russian_chechnya_grozny_soldier   \n",
       "25     24     10                  24_union_ha_to_worker   \n",
       "\n",
       "                                       Representation  \\\n",
       "0     [the, to, of, in, and, that, for, on, is, with]   \n",
       "1   [of, and, at, his, january, her, the, in, belo...   \n",
       "2   [the, it, to, in, company, that, percent, of, ...   \n",
       "3   [the, to, mr, for, that, campaign, candidate, ...   \n",
       "4   [the, year, new, of, in, and, time, to, yearev...   \n",
       "5   [editor, the, to, frontpage, front, page, edit...   \n",
       "6   [the, in, police, to, of, and, said, wa, court...   \n",
       "7   [the, and, theater, at, dance, new, in, film, ...   \n",
       "8   [century, drawing, 21stcentury, 21st, say, the...   \n",
       "9   [museum, art, gallery, and, in, of, artist, ph...   \n",
       "10  [is, restaurant, are, it, with, in, and, the, ...   \n",
       "11  [by, book, reviewbook, the, review, life, and,...   \n",
       "12  [prediction, century, future, america, 21stcen...   \n",
       "13  [elian, cuba, gonzalez, the, boy, in, cuban, t...   \n",
       "14  [belichick, jet, parcells, coach, bill, he, he...   \n",
       "15  [yeltsin, putin, russia, vladimirputin, vladim...   \n",
       "16  [bus, diesel, river, to, and, city, of, plan, ...   \n",
       "17  [magazine, publisher, yearold, old, of, photo,...   \n",
       "18  [bowl, yard, warrick, national, he, the, game,...   \n",
       "19  [indian, india, hijacker, pakistan, hijacking,...   \n",
       "20  [israeli, israel, talk, peace, syrian, syria, ...   \n",
       "21  [game, ranger, devil, goal, the, islander, wit...   \n",
       "22           [january, sander, jane, jan, , , , , , ]   \n",
       "23  [houston, point, he, the, season, his, net, ga...   \n",
       "24  [russian, chechnya, grozny, soldier, rebel, ca...   \n",
       "25  [union, ha, to, worker, college, agreement, th...   \n",
       "\n",
       "                                  Representative_Docs  \n",
       "0   [in the wake of his first losing season a the ...  \n",
       "1   [fuller robert garfield of west palm beach fl ...  \n",
       "2   [economist have rather zen like view of stock ...  \n",
       "3   [in lively almost raucous debate in new hampsh...  \n",
       "4   [new york awoke on saturday morning to discove...  \n",
       "5       [to the editor, to the editor, to the editor]  \n",
       "6   [europe ireland killer return blocked the high...  \n",
       "7   [doug varone ha long and impressive record a m...  \n",
       "8   [expert discus trend in the kind of home ameri...  \n",
       "9   [almost everyone who writes about cildo meirel...  \n",
       "10  [let say you are deciding what to call your re...  \n",
       "11  [nureyev his life by diane solway morrow the a...  \n",
       "12  [joe drape article offer global prediction for...  \n",
       "13  [a word filtered out that elian gonzalez would...  \n",
       "14  [bill belichick wa in his office before yester...  \n",
       "15  [russia spent much of the past decade stumblin...  \n",
       "16  [experimental vehicle are being built by gener...  \n",
       "17  [in battle that feature element of greek drama...  \n",
       "18  [bypassed for consideration a this season nati...  \n",
       "19  [more and people held hostage on hijacked indi...  \n",
       "20  [international a3 israel and syria resume nego...  \n",
       "21  [mediocrity would be step up for the ranger ri...  \n",
       "22                        [january, january, january]  \n",
       "23  [during the preseason stephon marbury shared h...  \n",
       "24  [after enduring bitter street fight in grozny ...  \n",
       "25  [after decade of booming growth in the endowme...  "
      ]
     },
     "execution_count": 127,
     "metadata": {},
     "output_type": "execute_result"
    }
   ],
   "source": [
    "model.get_topic_info()"
   ]
  },
  {
   "cell_type": "code",
   "execution_count": null,
   "metadata": {},
   "outputs": [],
   "source": []
  }
 ],
 "metadata": {
  "kernelspec": {
   "display_name": "Python 3",
   "language": "python",
   "name": "python3"
  },
  "language_info": {
   "codemirror_mode": {
    "name": "ipython",
    "version": 3
   },
   "file_extension": ".py",
   "mimetype": "text/x-python",
   "name": "python",
   "nbconvert_exporter": "python",
   "pygments_lexer": "ipython3",
   "version": "3.8.8"
  }
 },
 "nbformat": 4,
 "nbformat_minor": 2
}
