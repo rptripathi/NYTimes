{
 "cells": [
  {
   "cell_type": "markdown",
   "metadata": {},
   "source": [
    "# Data scraping, preparation, exploration, and pre-processing"
   ]
  },
  {
   "cell_type": "markdown",
   "metadata": {},
   "source": [
    "## Data scraping\n",
    "\n",
    "We scrape article metadata using the New York Times API. For our project we will analyze articles published between May 15th, 2023 and May 14th, 2024. We start by importing a few libraries and setting up the API.  \n",
    "> **Note:** In order to run the following code you will need to create an account on (https://developer.nytimes.com) and obtain your own API key. You will then need to create a file `keys.py` in your local repo directory, and save your API key as a string under the variable name `NYT_API_KEY`.  "
   ]
  },
  {
   "cell_type": "code",
   "execution_count": 1,
   "metadata": {},
   "outputs": [],
   "source": [
    "import pandas as pd\n",
    "from pynytimes import NYTAPI\n",
    "from datetime import datetime\n",
    "from keys import NYT_API_KEY\n",
    "\n",
    "if NYT_API_KEY is not None:\n",
    "    nyt_api = NYTAPI(NYT_API_KEY, parse_dates=True)\n",
    "\n",
    "data_loc = 'data/nyt_metadata.csv'\n"
   ]
  },
  {
   "cell_type": "markdown",
   "metadata": {},
   "source": [
    "We then fetch the data one month at a time and store in a new `.csv` file. Note that the API has a limit of 5 calls per minute (see the API [FAQ's](https://developer.nytimes.com/faq#a11)), so we need to make sure to wait until 12 seconds between consecutive calls. Note that there is also a limit of 500 calls a day.  \n",
    "We wrap the process in a function so we can easily adjust the start and end date or change the path of the destination file. The function will also check whether the file already exists, and in that case give a warning before executing the procedure. This will help control the risk of restarting the relatively time-consuming process and limit unnecessary calls to the NYT servers.  \n",
    "Since we are only interested in articles, we also filter out all other document types during the process.  "
   ]
  },
  {
   "cell_type": "code",
   "execution_count": 2,
   "metadata": {},
   "outputs": [],
   "source": [
    "from os import listdir\n",
    "from dateutil.rrule import rrule, MONTHLY\n",
    "from time import sleep\n",
    "\n",
    "def scrape(start_date: datetime, end_date: datetime, dest: str=data_loc) -> None:\n",
    "    if NYT_API_KEY is not None:\n",
    "        # Avoid restarting the process if the .csv already exists...\n",
    "        execute = dest.split('/')[-1] not in listdir(''.join(dest.split('/')[:-1]))\n",
    "        # ...unless the user confirms otherwise.\n",
    "        if not execute:\n",
    "            execute = input(f'A file already exists at `{dest}`. Do you want to continue?').lower() in ['y', 'yes']\n",
    "\n",
    "        if execute:\n",
    "            df = pd.DataFrame()\n",
    "            for month in rrule(MONTHLY, dtstart=start_date, until=end_date):\n",
    "                print(f'Working on the month of {month}')\n",
    "                monthly_df = pd.DataFrame(nyt_api.archive_metadata(date=month))\n",
    "                monthly_df = monthly_df.loc[monthly_df.pub_date.apply(lambda x: str(x)) >= str(start_date)]\n",
    "                monthly_df = monthly_df.loc[monthly_df.pub_date.apply(lambda x: str(x)) < str(end_date)]\n",
    "                monthly_df = monthly_df.loc[monthly_df.document_type=='article']\n",
    "                if not monthly_df.empty:\n",
    "                    df = pd.concat([df, monthly_df]) if not df.empty else monthly_df\n",
    "                sleep(12)   # The NYT servers have a limit of 5 calls per minute.\n",
    "\n",
    "            df.to_csv(dest)\n",
    "    \n",
    "        else:\n",
    "            print('The file already exists. Scraping cancelled by the user.')\n",
    "    else:\n",
    "        print('This did not run because you do not have the API key.')"
   ]
  },
  {
   "cell_type": "code",
   "execution_count": 3,
   "metadata": {},
   "outputs": [
    {
     "name": "stdout",
     "output_type": "stream",
     "text": [
      "The file already exists. Scraping cancelled by the user.\n"
     ]
    }
   ],
   "source": [
    "scrape(datetime(2023, 5, 15), datetime(2024, 5, 15))"
   ]
  },
  {
   "cell_type": "markdown",
   "metadata": {},
   "source": [
    "## Exploration\n",
    "\n",
    "Let us start by reading the dataframe created above and taking a look at general information. Some of the fields have the string `' '` as value, which pandas does not recognised as null by dafault."
   ]
  },
  {
   "cell_type": "code",
   "execution_count": 4,
   "metadata": {},
   "outputs": [
    {
     "name": "stdout",
     "output_type": "stream",
     "text": [
      "<class 'pandas.core.frame.DataFrame'>\n",
      "RangeIndex: 42625 entries, 0 to 42624\n",
      "Data columns (total 21 columns):\n",
      " #   Column            Non-Null Count  Dtype  \n",
      "---  ------            --------------  -----  \n",
      " 0   Unnamed: 0        42625 non-null  int64  \n",
      " 1   abstract          42623 non-null  object \n",
      " 2   web_url           42625 non-null  object \n",
      " 3   snippet           42462 non-null  object \n",
      " 4   lead_paragraph    42479 non-null  object \n",
      " 5   print_section     25732 non-null  object \n",
      " 6   print_page        25732 non-null  float64\n",
      " 7   source            42625 non-null  object \n",
      " 8   multimedia        42625 non-null  object \n",
      " 9   headline          42625 non-null  object \n",
      " 10  keywords          42625 non-null  object \n",
      " 11  pub_date          42625 non-null  object \n",
      " 12  document_type     42625 non-null  object \n",
      " 13  news_desk         42624 non-null  object \n",
      " 14  section_name      42619 non-null  object \n",
      " 15  subsection_name   16890 non-null  object \n",
      " 16  byline            42625 non-null  object \n",
      " 17  type_of_material  42625 non-null  object \n",
      " 18  _id               42625 non-null  object \n",
      " 19  word_count        42625 non-null  int64  \n",
      " 20  uri               42625 non-null  object \n",
      "dtypes: float64(1), int64(2), object(18)\n",
      "memory usage: 6.8+ MB\n"
     ]
    }
   ],
   "source": [
    "df = pd.read_csv(data_loc, na_values=[' '])\n",
    "df.info()"
   ]
  },
  {
   "cell_type": "markdown",
   "metadata": {},
   "source": [
    "We are interested in the columns `'abstract'`, `'snippet'`, and `'lead_paragraph'`. We see above that these columns contain null values, so let us check exactly how many."
   ]
  },
  {
   "cell_type": "code",
   "execution_count": 5,
   "metadata": {},
   "outputs": [
    {
     "name": "stdout",
     "output_type": "stream",
     "text": [
      "2\n",
      "163\n",
      "146\n"
     ]
    }
   ],
   "source": [
    "columns = ['abstract', 'snippet', 'lead_paragraph']\n",
    "\n",
    "for column in columns:\n",
    "    print(df.loc[df[column].isnull()].shape[0])"
   ]
  },
  {
   "cell_type": "markdown",
   "metadata": {},
   "source": [
    "We can see that the number of rows with null values for the columns of interest is well under 400, i.e. 1% of the total data set, so we may as well ignore those columns."
   ]
  },
  {
   "cell_type": "code",
   "execution_count": 6,
   "metadata": {},
   "outputs": [],
   "source": [
    "df = df.dropna(subset=columns)"
   ]
  },
  {
   "cell_type": "markdown",
   "metadata": {},
   "source": [
    "Now let us take a look at a few rows from the data frame, focusing on the three columns we care about."
   ]
  },
  {
   "cell_type": "code",
   "execution_count": 7,
   "metadata": {},
   "outputs": [
    {
     "data": {
      "text/html": [
       "<div>\n",
       "<style scoped>\n",
       "    .dataframe tbody tr th:only-of-type {\n",
       "        vertical-align: middle;\n",
       "    }\n",
       "\n",
       "    .dataframe tbody tr th {\n",
       "        vertical-align: top;\n",
       "    }\n",
       "\n",
       "    .dataframe thead th {\n",
       "        text-align: right;\n",
       "    }\n",
       "</style>\n",
       "<table border=\"1\" class=\"dataframe\">\n",
       "  <thead>\n",
       "    <tr style=\"text-align: right;\">\n",
       "      <th></th>\n",
       "      <th>abstract</th>\n",
       "      <th>snippet</th>\n",
       "      <th>lead_paragraph</th>\n",
       "    </tr>\n",
       "  </thead>\n",
       "  <tbody>\n",
       "    <tr>\n",
       "      <th>0</th>\n",
       "      <td>Economic hardship, climate change, political i...</td>\n",
       "      <td>Economic hardship, climate change, political i...</td>\n",
       "      <td>Relative quiet has prevailed along the souther...</td>\n",
       "    </tr>\n",
       "    <tr>\n",
       "      <th>1</th>\n",
       "      <td>It’s election night in America. Stay away from...</td>\n",
       "      <td>It’s election night in America. Stay away from...</td>\n",
       "      <td>The day before Logan Roy died, he delivered a ...</td>\n",
       "    </tr>\n",
       "    <tr>\n",
       "      <th>2</th>\n",
       "      <td>Tom is stressed in dress shoes, Shiv hides ben...</td>\n",
       "      <td>Tom is stressed in dress shoes, Shiv hides ben...</td>\n",
       "      <td>This article contains spoilers for Episode 8 o...</td>\n",
       "    </tr>\n",
       "    <tr>\n",
       "      <th>3</th>\n",
       "      <td>No corrections appeared in print on Monday, Ma...</td>\n",
       "      <td>No corrections appeared in print on Monday, Ma...</td>\n",
       "      <td>Errors are corrected during the press run when...</td>\n",
       "    </tr>\n",
       "    <tr>\n",
       "      <th>4</th>\n",
       "      <td>Quotation of the Day for Monday, May 15, 2023.</td>\n",
       "      <td>Quotation of the Day for Monday, May 15, 2023.</td>\n",
       "      <td>“For me, it was time to give back the love the...</td>\n",
       "    </tr>\n",
       "  </tbody>\n",
       "</table>\n",
       "</div>"
      ],
      "text/plain": [
       "                                            abstract  \\\n",
       "0  Economic hardship, climate change, political i...   \n",
       "1  It’s election night in America. Stay away from...   \n",
       "2  Tom is stressed in dress shoes, Shiv hides ben...   \n",
       "3  No corrections appeared in print on Monday, Ma...   \n",
       "4     Quotation of the Day for Monday, May 15, 2023.   \n",
       "\n",
       "                                             snippet  \\\n",
       "0  Economic hardship, climate change, political i...   \n",
       "1  It’s election night in America. Stay away from...   \n",
       "2  Tom is stressed in dress shoes, Shiv hides ben...   \n",
       "3  No corrections appeared in print on Monday, Ma...   \n",
       "4     Quotation of the Day for Monday, May 15, 2023.   \n",
       "\n",
       "                                      lead_paragraph  \n",
       "0  Relative quiet has prevailed along the souther...  \n",
       "1  The day before Logan Roy died, he delivered a ...  \n",
       "2  This article contains spoilers for Episode 8 o...  \n",
       "3  Errors are corrected during the press run when...  \n",
       "4  “For me, it was time to give back the love the...  "
      ]
     },
     "execution_count": 7,
     "metadata": {},
     "output_type": "execute_result"
    }
   ],
   "source": [
    "df[columns].head()"
   ]
  },
  {
   "cell_type": "markdown",
   "metadata": {},
   "source": [
    "There appears to be a strong overlapping between `'abstract'` and `'snippet'`. Let us check how often they actually coincide."
   ]
  },
  {
   "cell_type": "code",
   "execution_count": 8,
   "metadata": {},
   "outputs": [
    {
     "data": {
      "text/html": [
       "<div>\n",
       "<style scoped>\n",
       "    .dataframe tbody tr th:only-of-type {\n",
       "        vertical-align: middle;\n",
       "    }\n",
       "\n",
       "    .dataframe tbody tr th {\n",
       "        vertical-align: top;\n",
       "    }\n",
       "\n",
       "    .dataframe thead th {\n",
       "        text-align: right;\n",
       "    }\n",
       "</style>\n",
       "<table border=\"1\" class=\"dataframe\">\n",
       "  <thead>\n",
       "    <tr style=\"text-align: right;\">\n",
       "      <th></th>\n",
       "      <th>abstract</th>\n",
       "      <th>snippet</th>\n",
       "    </tr>\n",
       "  </thead>\n",
       "  <tbody>\n",
       "    <tr>\n",
       "      <th>793</th>\n",
       "      <td>Over 40 years, Dr. John R. Williams nurtured thousands of acorns, including some from Sherwood Forest and George Washington’s estate, into towering oak trees. His obsession had a singular goal: Transform the grounds of this year’s P.G.A. Championship.</td>\n",
       "      <td>Over 40 years, Dr. John R. Williams nurtured thousands of acorns, including some from Sherwood Forest and George Washington’s estate, into towering oak trees. His obsession had a singular goal: Transform the grounds of this year’s P.G.A. Champions...</td>\n",
       "    </tr>\n",
       "    <tr>\n",
       "      <th>854</th>\n",
       "      <td>A fire last week at a mosque in St. Paul, Minn., was at least the fifth such act of vandalism against Muslim houses of worship in the state so far this year, officials said. The suspect in the latest fire said he was Muslim and was protesting homelessness.</td>\n",
       "      <td>A fire last week at a mosque in St. Paul, Minn., was at least the fifth such act of vandalism against Muslim houses of worship in the state so far this year, officials said. The suspect in the latest fire said he was Muslim and was protesting home...</td>\n",
       "    </tr>\n",
       "    <tr>\n",
       "      <th>3030</th>\n",
       "      <td>The indictment said the former president had illegally kept documents concerning “United States nuclear programs; potential vulnerabilities of the United States and its allies to military attack; and plans for possible retaliation in response to a foreign attack.”</td>\n",
       "      <td>The indictment said the former president had illegally kept documents concerning “United States nuclear programs; potential vulnerabilities of the United States and its allies to military attack; and plans for possible retaliation in response to a...</td>\n",
       "    </tr>\n",
       "    <tr>\n",
       "      <th>3712</th>\n",
       "      <td>The former Treasury secretary, whose new book is “The Yellow Pad,” says that Ken Auletta’s “The Underclass” convinced him that “trying to break the cycle of poverty through policy and through private efforts is not just right for moral reasons, but is enormously in the interest of all.”</td>\n",
       "      <td>The former Treasury secretary, whose new book is “The Yellow Pad,” says that Ken Auletta’s “The Underclass” convinced him that “trying to break the cycle of poverty through policy and through private efforts is not just right for moral reasons, bu...</td>\n",
       "    </tr>\n",
       "    <tr>\n",
       "      <th>5236</th>\n",
       "      <td>Larry L. Householder, the former speaker of the Ohio House of Representatives, was sentenced on Thursday after being convicted in March of participating in a racketeering conspiracy that resulted in a bailout for two struggling nuclear power plants.</td>\n",
       "      <td>Larry L. Householder, the former speaker of the Ohio House of Representatives, was sentenced on Thursday after being convicted in March of participating in a racketeering conspiracy that resulted in a bailout for two struggling nuclear power plant...</td>\n",
       "    </tr>\n",
       "    <tr>\n",
       "      <th>5403</th>\n",
       "      <td>Even as civil rights groups suggest travelers should rethink trips to the state because of policies enacted by its Republican lawmakers, it remains a tourism juggernaut. And some visitors say their spending actually supports opposition to the new laws.</td>\n",
       "      <td>Even as civil rights groups suggest travelers should rethink trips to the state because of policies enacted by its Republican lawmakers, it remains a tourism juggernaut. And some visitors say their spending actually supports opposition to the new ...</td>\n",
       "    </tr>\n",
       "    <tr>\n",
       "      <th>8348</th>\n",
       "      <td>“My thinking is that reading will focus my mind, bring a hush over the chaos of the day so I can drift off,” says the author of the memoir “Educated,” one of the Book Review’s 10 Best Books of 2018. “But from time to time a book takes hold in that peculiar way that a book can, and I end up reading through the night. ... Books are both the best and worst thing for my sleep.”</td>\n",
       "      <td>“My thinking is that reading will focus my mind, bring a hush over the chaos of the day so I can drift off,” says the author of the memoir “Educated,” one of the Book Review’s 10 Best Books of 2018. “But from time to time a book takes hold in that...</td>\n",
       "    </tr>\n",
       "    <tr>\n",
       "      <th>8699</th>\n",
       "      <td>An explosion at a political rally on Sunday in northwest Pakistan killed dozens of people and injured 200 more, officials said, the latest sign of the deteriorating security situation in Pakistan, where some militant groups have become more active over the past two years.</td>\n",
       "      <td>An explosion at a political rally on Sunday in northwest Pakistan killed dozens of people and injured 200 more, officials said, the latest sign of the deteriorating security situation in Pakistan, where some militant groups have become more active...</td>\n",
       "    </tr>\n",
       "    <tr>\n",
       "      <th>9846</th>\n",
       "      <td>“I love great character growth and fresh plots that involve some sort of social justice,” says the author of the spy novel “Undercover Latina” and other thrillers. “However, if there’s too much violence or threatened violence against women or children, I move from a sense of thrill to a sense of dread.”</td>\n",
       "      <td>“I love great character growth and fresh plots that involve some sort of social justice,” says the author of the spy novel “Undercover Latina” and other thrillers. “However, if there’s too much violence or threatened violence against women or chil...</td>\n",
       "    </tr>\n",
       "    <tr>\n",
       "      <th>10859</th>\n",
       "      <td>While the former president’s name appeared nowhere in the communique issued by three leaders, one of the subtexts was the possibility that he could return to power in next year’s election and disrupt ties with America’s two closest allies in the Indo-Pacific region.</td>\n",
       "      <td>While the former president’s name appeared nowhere in the communique issued by three leaders, one of the subtexts was the possibility that he could return to power in next year’s election and disrupt ties with America’s two closest allies in the I...</td>\n",
       "    </tr>\n",
       "    <tr>\n",
       "      <th>11384</th>\n",
       "      <td>Cormac McCarthy’s “The Road” got to her: “Sure, it’s a novel full of unbelievable violence and apocalyptic nightmare stuff,” says the best-selling author of “Wonder,” “Pony” and “White Bird,” soon to be a feature film. “But the humanity and love is there right from the first line.”</td>\n",
       "      <td>Cormac McCarthy’s “The Road” got to her: “Sure, it’s a novel full of unbelievable violence and apocalyptic nightmare stuff,” says the best-selling author of “Wonder,” “Pony” and “White Bird,” soon to be a feature film. “But the humanity and love i...</td>\n",
       "    </tr>\n",
       "    <tr>\n",
       "      <th>12370</th>\n",
       "      <td>The Mexican police, military officers and others secretly colluded with a cartel that kidnapped 43 students, a case unsolved after nearly a decade. Wiretaps show just how much the authorities helped the cartel behind the mass abduction, and what led to it.</td>\n",
       "      <td>The Mexican police, military officers and others secretly colluded with a cartel that kidnapped 43 students, a case unsolved after nearly a decade. Wiretaps show just how much the authorities helped the cartel behind the mass abduction, and what l...</td>\n",
       "    </tr>\n",
       "    <tr>\n",
       "      <th>14398</th>\n",
       "      <td>Mr. Dolan, who controls the company that owns the Knicks and the Rangers, is set to open a behemoth arena in Las Vegas that he hopes will revolutionize live entertainment. Back home in New York, he is facing the wrath of lawyers, politicians and sports fans.</td>\n",
       "      <td>Mr. Dolan, who controls the company that owns the Knicks and the Rangers, is set to open a behemoth arena in Las Vegas that he hopes will revolutionize live entertainment. Back home in New York, he is facing the wrath of lawyers, politicians and s...</td>\n",
       "    </tr>\n",
       "    <tr>\n",
       "      <th>14558</th>\n",
       "      <td>“I often look back on a book I thought was wonderful and inspiring and found it to be maudlin and flowery or have some other defect of character I overlooked,” says the journalist, whose new book is the novel “Mr. Texas.” “It could be that literary fashions have changed or I’ve gotten older, and of course both are true.”</td>\n",
       "      <td>“I often look back on a book I thought was wonderful and inspiring and found it to be maudlin and flowery or have some other defect of character I overlooked,” says the journalist, whose new book is the novel “Mr. Texas.” “It could be that literar...</td>\n",
       "    </tr>\n",
       "    <tr>\n",
       "      <th>15408</th>\n",
       "      <td>“I acted Macbeth for exactly 365 days,” says the actor, whose new memoir is “Making It So.” “The role got into me so deeply it dominated my life at the time and caused me to drink too much alcohol after the performance was over. No other role I have played has affected me so profoundly.”</td>\n",
       "      <td>“I acted Macbeth for exactly 365 days,” says the actor, whose new memoir is “Making It So.” “The role got into me so deeply it dominated my life at the time and caused me to drink too much alcohol after the performance was over. No other role I ha...</td>\n",
       "    </tr>\n",
       "    <tr>\n",
       "      <th>17057</th>\n",
       "      <td>“My favorite author was Madeleine L’Engle,” says the National Book Award-winning historian, whose new book is “Wild Girls: How the Outdoors Shaped the Women Who Challenged a Nation.” “In middle school I would ride the city bus to the public library and check out L’Engle’s novels for teens.”</td>\n",
       "      <td>“My favorite author was Madeleine L’Engle,” says the National Book Award-winning historian, whose new book is “Wild Girls: How the Outdoors Shaped the Women Who Challenged a Nation.” “In middle school I would ride the city bus to the public librar...</td>\n",
       "    </tr>\n",
       "    <tr>\n",
       "      <th>18410</th>\n",
       "      <td>The Times’s initial accounts of the blast attributed the claim of Israeli responsibility to Palestinian officials, and noted that the Israeli military said it was investigating the blast. However, the early versions of the coverage relied too heavily on claims by Hamas.</td>\n",
       "      <td>The Times’s initial accounts of the blast attributed the claim of Israeli responsibility to Palestinian officials, and noted that the Israeli military said it was investigating the blast. However, the early versions of the coverage relied too heav...</td>\n",
       "    </tr>\n",
       "    <tr>\n",
       "      <th>18722</th>\n",
       "      <td>In the 19 days since Hamas attacked Israel, the Israeli military says it has struck more than 7,000 targets in Gaza. Palestinians accuse Israel of indiscriminately targeting civilians, but Israel officials say the strikes are aimed at eroding military infrastructure.</td>\n",
       "      <td>In the 19 days since Hamas attacked Israel, the Israeli military says it has struck more than 7,000 targets in Gaza. Palestinians accuse Israel of indiscriminately targeting civilians, but Israel officials say the strikes are aimed at eroding mili...</td>\n",
       "    </tr>\n",
       "    <tr>\n",
       "      <th>18876</th>\n",
       "      <td>Established to provide temporary relief for Palestinians who fled or were expelled from their homes during the 1948 Arab-Israeli war, the agency now mainly provides services and funding for those registered as Palestinian refugees across the Mideast.</td>\n",
       "      <td>Established to provide temporary relief for Palestinians who fled or were expelled from their homes during the 1948 Arab-Israeli war, the agency now mainly provides services and funding for those registered as Palestinian refugees across the Midea...</td>\n",
       "    </tr>\n",
       "    <tr>\n",
       "      <th>20088</th>\n",
       "      <td>Doctors say they are performing surgeries without anesthesia after weeks of Israeli bombings and siege left severe shortages of medicine, water, food and fuel. “We choose who gets ventilation by deciding who has the best chance of survival,” one doctor said.</td>\n",
       "      <td>Doctors say they are performing surgeries without anesthesia after weeks of Israeli bombings and siege left severe shortages of medicine, water, food and fuel. “We choose who gets ventilation by deciding who has the best chance of survival,” one d...</td>\n",
       "    </tr>\n",
       "    <tr>\n",
       "      <th>21323</th>\n",
       "      <td>“I have a lot of books on near-death experiences, psychic phenomena and past-life regression on my shelves,” says the two-time poet laureate, whose new book is the memoir “To Free the Captives.” “These kinds of books nudge me to remember our world is but one facet of an enormous continuity.”</td>\n",
       "      <td>“I have a lot of books on near-death experiences, psychic phenomena and past-life regression on my shelves,” says the two-time poet laureate, whose new book is the memoir “To Free the Captives.” “These kinds of books nudge me to remember our world...</td>\n",
       "    </tr>\n",
       "    <tr>\n",
       "      <th>23670</th>\n",
       "      <td>“A great story casts a spell,” says the author, whose new novel is “The Vulnerables.” “It can enthrall you so completely that you not only forget that you’re stuck between two manspreaders in a noisy, crowded, smelly subway car but miss your stop.”</td>\n",
       "      <td>“A great story casts a spell,” says the author, whose new novel is “The Vulnerables.” “It can enthrall you so completely that you not only forget that you’re stuck between two manspreaders in a noisy, crowded, smelly subway car but miss your stop....</td>\n",
       "    </tr>\n",
       "    <tr>\n",
       "      <th>24882</th>\n",
       "      <td>Six million have died, and more than six million are displaced after decades of fighting and the ensuing humanitarian crisis in the eastern region of the Democratic Republic of Congo, drawing in neighbors, mercenaries and militias. An upcoming election is inflaming tempers.</td>\n",
       "      <td>Six million have died, and more than six million are displaced after decades of fighting and the ensuing humanitarian crisis in the eastern region of the Democratic Republic of Congo, drawing in neighbors, mercenaries and militias. An upcoming ele...</td>\n",
       "    </tr>\n",
       "    <tr>\n",
       "      <th>24934</th>\n",
       "      <td>Amid wild cost fluctuations and extreme weather conditions, a small army of workers toiled for years at Wyckoff’s Christmas Tree Farm in Belvidere, N.J. The goal? Producing this year’s crop, including this seven-foot Norway Spruce, which is sold for $105.</td>\n",
       "      <td>Amid wild cost fluctuations and extreme weather conditions, a small army of workers toiled for years at Wyckoff’s Christmas Tree Farm in Belvidere, N.J. The goal? Producing this year’s crop, including this seven-foot Norway Spruce, which is sold f...</td>\n",
       "    </tr>\n",
       "    <tr>\n",
       "      <th>32760</th>\n",
       "      <td>Aaron Bushnell, an active-duty senior airman, repeatedly shouted, “Free Palestine!” as he filmed and livestreamed his protest against Israel’s deadly military actions in Gaza. He had been taken to a hospital on Sunday with life-threatening injuries.</td>\n",
       "      <td>Aaron Bushnell, an active-duty senior airman, repeatedly shouted, “Free Palestine!” as he filmed and livestreamed his protest against Israel’s deadly military actions in Gaza. He had been taken to a hospital on Sunday with life-threatening injurie...</td>\n",
       "    </tr>\n",
       "    <tr>\n",
       "      <th>38843</th>\n",
       "      <td>Lawmakers raising national security concerns and seeking to disconnect a major Chinese firm from U.S. pharmaceutical interests have rattled the biotech industry. The firm is deeply involved in development and manufacturing of crucial therapies for cancer, cystic fibrosis, H.I.V. and other illnesses.</td>\n",
       "      <td>Lawmakers raising national security concerns and seeking to disconnect a major Chinese firm from U.S. pharmaceutical interests have rattled the biotech industry. The firm is deeply involved in development and manufacturing of crucial therapies for...</td>\n",
       "    </tr>\n",
       "  </tbody>\n",
       "</table>\n",
       "</div>"
      ],
      "text/plain": [
       "                                                                                                                                                                                                                                                                                                                                                                                       abstract  \\\n",
       "793                                                                                                                                 Over 40 years, Dr. John R. Williams nurtured thousands of acorns, including some from Sherwood Forest and George Washington’s estate, into towering oak trees. His obsession had a singular goal: Transform the grounds of this year’s P.G.A. Championship.   \n",
       "854                                                                                                                            A fire last week at a mosque in St. Paul, Minn., was at least the fifth such act of vandalism against Muslim houses of worship in the state so far this year, officials said. The suspect in the latest fire said he was Muslim and was protesting homelessness.   \n",
       "3030                                                                                                                   The indictment said the former president had illegally kept documents concerning “United States nuclear programs; potential vulnerabilities of the United States and its allies to military attack; and plans for possible retaliation in response to a foreign attack.”   \n",
       "3712                                                                                            The former Treasury secretary, whose new book is “The Yellow Pad,” says that Ken Auletta’s “The Underclass” convinced him that “trying to break the cycle of poverty through policy and through private efforts is not just right for moral reasons, but is enormously in the interest of all.”   \n",
       "5236                                                                                                                                  Larry L. Householder, the former speaker of the Ohio House of Representatives, was sentenced on Thursday after being convicted in March of participating in a racketeering conspiracy that resulted in a bailout for two struggling nuclear power plants.   \n",
       "5403                                                                                                                               Even as civil rights groups suggest travelers should rethink trips to the state because of policies enacted by its Republican lawmakers, it remains a tourism juggernaut. And some visitors say their spending actually supports opposition to the new laws.   \n",
       "8348   “My thinking is that reading will focus my mind, bring a hush over the chaos of the day so I can drift off,” says the author of the memoir “Educated,” one of the Book Review’s 10 Best Books of 2018. “But from time to time a book takes hold in that peculiar way that a book can, and I end up reading through the night. ... Books are both the best and worst thing for my sleep.”   \n",
       "8699                                                                                                           An explosion at a political rally on Sunday in northwest Pakistan killed dozens of people and injured 200 more, officials said, the latest sign of the deteriorating security situation in Pakistan, where some militant groups have become more active over the past two years.   \n",
       "9846                                                                           “I love great character growth and fresh plots that involve some sort of social justice,” says the author of the spy novel “Undercover Latina” and other thrillers. “However, if there’s too much violence or threatened violence against women or children, I move from a sense of thrill to a sense of dread.”   \n",
       "10859                                                                                                                While the former president’s name appeared nowhere in the communique issued by three leaders, one of the subtexts was the possibility that he could return to power in next year’s election and disrupt ties with America’s two closest allies in the Indo-Pacific region.   \n",
       "11384                                                                                                Cormac McCarthy’s “The Road” got to her: “Sure, it’s a novel full of unbelievable violence and apocalyptic nightmare stuff,” says the best-selling author of “Wonder,” “Pony” and “White Bird,” soon to be a feature film. “But the humanity and love is there right from the first line.”   \n",
       "12370                                                                                                                          The Mexican police, military officers and others secretly colluded with a cartel that kidnapped 43 students, a case unsolved after nearly a decade. Wiretaps show just how much the authorities helped the cartel behind the mass abduction, and what led to it.   \n",
       "14398                                                                                                                        Mr. Dolan, who controls the company that owns the Knicks and the Rangers, is set to open a behemoth arena in Las Vegas that he hopes will revolutionize live entertainment. Back home in New York, he is facing the wrath of lawyers, politicians and sports fans.   \n",
       "14558                                                        “I often look back on a book I thought was wonderful and inspiring and found it to be maudlin and flowery or have some other defect of character I overlooked,” says the journalist, whose new book is the novel “Mr. Texas.” “It could be that literary fashions have changed or I’ve gotten older, and of course both are true.”   \n",
       "15408                                                                                          “I acted Macbeth for exactly 365 days,” says the actor, whose new memoir is “Making It So.” “The role got into me so deeply it dominated my life at the time and caused me to drink too much alcohol after the performance was over. No other role I have played has affected me so profoundly.”   \n",
       "17057                                                                                       “My favorite author was Madeleine L’Engle,” says the National Book Award-winning historian, whose new book is “Wild Girls: How the Outdoors Shaped the Women Who Challenged a Nation.” “In middle school I would ride the city bus to the public library and check out L’Engle’s novels for teens.”   \n",
       "18410                                                                                                            The Times’s initial accounts of the blast attributed the claim of Israeli responsibility to Palestinian officials, and noted that the Israeli military said it was investigating the blast. However, the early versions of the coverage relied too heavily on claims by Hamas.   \n",
       "18722                                                                                                               In the 19 days since Hamas attacked Israel, the Israeli military says it has struck more than 7,000 targets in Gaza. Palestinians accuse Israel of indiscriminately targeting civilians, but Israel officials say the strikes are aimed at eroding military infrastructure.   \n",
       "18876                                                                                                                                Established to provide temporary relief for Palestinians who fled or were expelled from their homes during the 1948 Arab-Israeli war, the agency now mainly provides services and funding for those registered as Palestinian refugees across the Mideast.   \n",
       "20088                                                                                                                        Doctors say they are performing surgeries without anesthesia after weeks of Israeli bombings and siege left severe shortages of medicine, water, food and fuel. “We choose who gets ventilation by deciding who has the best chance of survival,” one doctor said.   \n",
       "21323                                                                                      “I have a lot of books on near-death experiences, psychic phenomena and past-life regression on my shelves,” says the two-time poet laureate, whose new book is the memoir “To Free the Captives.” “These kinds of books nudge me to remember our world is but one facet of an enormous continuity.”   \n",
       "23670                                                                                                                                  “A great story casts a spell,” says the author, whose new novel is “The Vulnerables.” “It can enthrall you so completely that you not only forget that you’re stuck between two manspreaders in a noisy, crowded, smelly subway car but miss your stop.”   \n",
       "24882                                                                                                        Six million have died, and more than six million are displaced after decades of fighting and the ensuing humanitarian crisis in the eastern region of the Democratic Republic of Congo, drawing in neighbors, mercenaries and militias. An upcoming election is inflaming tempers.   \n",
       "24934                                                                                                                           Amid wild cost fluctuations and extreme weather conditions, a small army of workers toiled for years at Wyckoff’s Christmas Tree Farm in Belvidere, N.J. The goal? Producing this year’s crop, including this seven-foot Norway Spruce, which is sold for $105.   \n",
       "32760                                                                                                                                 Aaron Bushnell, an active-duty senior airman, repeatedly shouted, “Free Palestine!” as he filmed and livestreamed his protest against Israel’s deadly military actions in Gaza. He had been taken to a hospital on Sunday with life-threatening injuries.   \n",
       "38843                                                                              Lawmakers raising national security concerns and seeking to disconnect a major Chinese firm from U.S. pharmaceutical interests have rattled the biotech industry. The firm is deeply involved in development and manufacturing of crucial therapies for cancer, cystic fibrosis, H.I.V. and other illnesses.   \n",
       "\n",
       "                                                                                                                                                                                                                                                          snippet  \n",
       "793    Over 40 years, Dr. John R. Williams nurtured thousands of acorns, including some from Sherwood Forest and George Washington’s estate, into towering oak trees. His obsession had a singular goal: Transform the grounds of this year’s P.G.A. Champions...  \n",
       "854    A fire last week at a mosque in St. Paul, Minn., was at least the fifth such act of vandalism against Muslim houses of worship in the state so far this year, officials said. The suspect in the latest fire said he was Muslim and was protesting home...  \n",
       "3030   The indictment said the former president had illegally kept documents concerning “United States nuclear programs; potential vulnerabilities of the United States and its allies to military attack; and plans for possible retaliation in response to a...  \n",
       "3712   The former Treasury secretary, whose new book is “The Yellow Pad,” says that Ken Auletta’s “The Underclass” convinced him that “trying to break the cycle of poverty through policy and through private efforts is not just right for moral reasons, bu...  \n",
       "5236   Larry L. Householder, the former speaker of the Ohio House of Representatives, was sentenced on Thursday after being convicted in March of participating in a racketeering conspiracy that resulted in a bailout for two struggling nuclear power plant...  \n",
       "5403   Even as civil rights groups suggest travelers should rethink trips to the state because of policies enacted by its Republican lawmakers, it remains a tourism juggernaut. And some visitors say their spending actually supports opposition to the new ...  \n",
       "8348   “My thinking is that reading will focus my mind, bring a hush over the chaos of the day so I can drift off,” says the author of the memoir “Educated,” one of the Book Review’s 10 Best Books of 2018. “But from time to time a book takes hold in that...  \n",
       "8699   An explosion at a political rally on Sunday in northwest Pakistan killed dozens of people and injured 200 more, officials said, the latest sign of the deteriorating security situation in Pakistan, where some militant groups have become more active...  \n",
       "9846   “I love great character growth and fresh plots that involve some sort of social justice,” says the author of the spy novel “Undercover Latina” and other thrillers. “However, if there’s too much violence or threatened violence against women or chil...  \n",
       "10859  While the former president’s name appeared nowhere in the communique issued by three leaders, one of the subtexts was the possibility that he could return to power in next year’s election and disrupt ties with America’s two closest allies in the I...  \n",
       "11384  Cormac McCarthy’s “The Road” got to her: “Sure, it’s a novel full of unbelievable violence and apocalyptic nightmare stuff,” says the best-selling author of “Wonder,” “Pony” and “White Bird,” soon to be a feature film. “But the humanity and love i...  \n",
       "12370  The Mexican police, military officers and others secretly colluded with a cartel that kidnapped 43 students, a case unsolved after nearly a decade. Wiretaps show just how much the authorities helped the cartel behind the mass abduction, and what l...  \n",
       "14398  Mr. Dolan, who controls the company that owns the Knicks and the Rangers, is set to open a behemoth arena in Las Vegas that he hopes will revolutionize live entertainment. Back home in New York, he is facing the wrath of lawyers, politicians and s...  \n",
       "14558  “I often look back on a book I thought was wonderful and inspiring and found it to be maudlin and flowery or have some other defect of character I overlooked,” says the journalist, whose new book is the novel “Mr. Texas.” “It could be that literar...  \n",
       "15408  “I acted Macbeth for exactly 365 days,” says the actor, whose new memoir is “Making It So.” “The role got into me so deeply it dominated my life at the time and caused me to drink too much alcohol after the performance was over. No other role I ha...  \n",
       "17057  “My favorite author was Madeleine L’Engle,” says the National Book Award-winning historian, whose new book is “Wild Girls: How the Outdoors Shaped the Women Who Challenged a Nation.” “In middle school I would ride the city bus to the public librar...  \n",
       "18410  The Times’s initial accounts of the blast attributed the claim of Israeli responsibility to Palestinian officials, and noted that the Israeli military said it was investigating the blast. However, the early versions of the coverage relied too heav...  \n",
       "18722  In the 19 days since Hamas attacked Israel, the Israeli military says it has struck more than 7,000 targets in Gaza. Palestinians accuse Israel of indiscriminately targeting civilians, but Israel officials say the strikes are aimed at eroding mili...  \n",
       "18876  Established to provide temporary relief for Palestinians who fled or were expelled from their homes during the 1948 Arab-Israeli war, the agency now mainly provides services and funding for those registered as Palestinian refugees across the Midea...  \n",
       "20088  Doctors say they are performing surgeries without anesthesia after weeks of Israeli bombings and siege left severe shortages of medicine, water, food and fuel. “We choose who gets ventilation by deciding who has the best chance of survival,” one d...  \n",
       "21323  “I have a lot of books on near-death experiences, psychic phenomena and past-life regression on my shelves,” says the two-time poet laureate, whose new book is the memoir “To Free the Captives.” “These kinds of books nudge me to remember our world...  \n",
       "23670  “A great story casts a spell,” says the author, whose new novel is “The Vulnerables.” “It can enthrall you so completely that you not only forget that you’re stuck between two manspreaders in a noisy, crowded, smelly subway car but miss your stop....  \n",
       "24882  Six million have died, and more than six million are displaced after decades of fighting and the ensuing humanitarian crisis in the eastern region of the Democratic Republic of Congo, drawing in neighbors, mercenaries and militias. An upcoming ele...  \n",
       "24934  Amid wild cost fluctuations and extreme weather conditions, a small army of workers toiled for years at Wyckoff’s Christmas Tree Farm in Belvidere, N.J. The goal? Producing this year’s crop, including this seven-foot Norway Spruce, which is sold f...  \n",
       "32760  Aaron Bushnell, an active-duty senior airman, repeatedly shouted, “Free Palestine!” as he filmed and livestreamed his protest against Israel’s deadly military actions in Gaza. He had been taken to a hospital on Sunday with life-threatening injurie...  \n",
       "38843  Lawmakers raising national security concerns and seeking to disconnect a major Chinese firm from U.S. pharmaceutical interests have rattled the biotech industry. The firm is deeply involved in development and manufacturing of crucial therapies for...  "
      ]
     },
     "execution_count": 8,
     "metadata": {},
     "output_type": "execute_result"
    }
   ],
   "source": [
    "pd.set_option('display.max_colwidth', None)\n",
    "df.loc[df.abstract != df.snippet][['abstract', 'snippet']]"
   ]
  },
  {
   "cell_type": "markdown",
   "metadata": {},
   "source": [
    "Well that was disappointing. It appears the difference is not really significant, so we should discard one of the two columns. We will keep the column that had more non-null values in the original data frame, which is `'abstract'`. Before we start over and include the rows that we had previously dropped, let us check whether `'lead_paragraph'` has the same issue."
   ]
  },
  {
   "cell_type": "code",
   "execution_count": 9,
   "metadata": {},
   "outputs": [
    {
     "data": {
      "text/plain": [
       "15"
      ]
     },
     "execution_count": 9,
     "metadata": {},
     "output_type": "execute_result"
    }
   ],
   "source": [
    "df.loc[df.abstract == df.lead_paragraph].shape[0]"
   ]
  },
  {
   "cell_type": "markdown",
   "metadata": {},
   "source": [
    "So `'abstract'` and `'lead_paragraph'` are the same for 15 data points. We can probably ignore this, but let us still take a look at what those values are, just in case these are really null values that we did not expect."
   ]
  },
  {
   "cell_type": "code",
   "execution_count": 10,
   "metadata": {},
   "outputs": [
    {
     "data": {
      "text/html": [
       "<div>\n",
       "<style scoped>\n",
       "    .dataframe tbody tr th:only-of-type {\n",
       "        vertical-align: middle;\n",
       "    }\n",
       "\n",
       "    .dataframe tbody tr th {\n",
       "        vertical-align: top;\n",
       "    }\n",
       "\n",
       "    .dataframe thead th {\n",
       "        text-align: right;\n",
       "    }\n",
       "</style>\n",
       "<table border=\"1\" class=\"dataframe\">\n",
       "  <thead>\n",
       "    <tr style=\"text-align: right;\">\n",
       "      <th></th>\n",
       "      <th>abstract</th>\n",
       "      <th>lead_paragraph</th>\n",
       "    </tr>\n",
       "  </thead>\n",
       "  <tbody>\n",
       "    <tr>\n",
       "      <th>2025</th>\n",
       "      <td>There are a lot of unsettling signals coming from the world’s oceans right now.</td>\n",
       "      <td>There are a lot of unsettling signals coming from the world’s oceans right now.</td>\n",
       "    </tr>\n",
       "    <tr>\n",
       "      <th>8807</th>\n",
       "      <td>In theory, there is no branch in the American constitutional system that exists above or beyond the reach of the others.</td>\n",
       "      <td>In theory, there is no branch in the American constitutional system that exists above or beyond the reach of the others.</td>\n",
       "    </tr>\n",
       "    <tr>\n",
       "      <th>16586</th>\n",
       "      <td>We bring the movies to you.</td>\n",
       "      <td>We bring the movies to you.</td>\n",
       "    </tr>\n",
       "    <tr>\n",
       "      <th>20825</th>\n",
       "      <td>What happens when you realize the people in charge don’t have the answers.</td>\n",
       "      <td>What happens when you realize the people in charge don’t have the answers.</td>\n",
       "    </tr>\n",
       "    <tr>\n",
       "      <th>21647</th>\n",
       "      <td>Things our dads taught us, whether they intended to or not.</td>\n",
       "      <td>Things our dads taught us, whether they intended to or not.</td>\n",
       "    </tr>\n",
       "    <tr>\n",
       "      <th>22911</th>\n",
       "      <td>Want to see new art in New York this weekend? Check out a trove of South African art on the Upper East Side and Ed Atkins’s avatars in Chelsea. And don’t miss Kayode Ojo’s sleek sculptures in TriBeCa.</td>\n",
       "      <td>Want to see new art in New York this weekend? Check out a trove of South African art on the Upper East Side and Ed Atkins’s avatars in Chelsea. And don’t miss Kayode Ojo’s sleek sculptures in TriBeCa.</td>\n",
       "    </tr>\n",
       "    <tr>\n",
       "      <th>25565</th>\n",
       "      <td>A major political party in a major swing state bets on a new leader: a total political outsider. How does that work out?</td>\n",
       "      <td>A major political party in a major swing state bets on a new leader: a total political outsider. How does that work out?</td>\n",
       "    </tr>\n",
       "    <tr>\n",
       "      <th>26560</th>\n",
       "      <td>This week, Jillian Steinhauer covers Dara Birnbaum’s video art, an intergenerational group show of Atlanta-based artists and Nickola Pottinger’s painted pulp sculptures.</td>\n",
       "      <td>This week, Jillian Steinhauer covers Dara Birnbaum’s video art, an intergenerational group show of Atlanta-based artists and Nickola Pottinger’s painted pulp sculptures.</td>\n",
       "    </tr>\n",
       "    <tr>\n",
       "      <th>26748</th>\n",
       "      <td>There’s the thing you plan to do, and then there’s the thing you end up doing.</td>\n",
       "      <td>There’s the thing you plan to do, and then there’s the thing you end up doing.</td>\n",
       "    </tr>\n",
       "    <tr>\n",
       "      <th>30104</th>\n",
       "      <td>What we ask to find out what we really want to know.</td>\n",
       "      <td>What we ask to find out what we really want to know.</td>\n",
       "    </tr>\n",
       "    <tr>\n",
       "      <th>32660</th>\n",
       "      <td>Your mother and I have something we want to talk with you about.</td>\n",
       "      <td>Your mother and I have something we want to talk with you about.</td>\n",
       "    </tr>\n",
       "    <tr>\n",
       "      <th>36211</th>\n",
       "      <td>The things we break, and the ones we can’t fix.</td>\n",
       "      <td>The things we break, and the ones we can’t fix.</td>\n",
       "    </tr>\n",
       "    <tr>\n",
       "      <th>37108</th>\n",
       "      <td>It is fitting that the biggest movie in the world this year is the story of a messiah gone wrong.</td>\n",
       "      <td>It is fitting that the biggest movie in the world this year is the story of a messiah gone wrong.</td>\n",
       "    </tr>\n",
       "    <tr>\n",
       "      <th>37558</th>\n",
       "      <td>Political crisis has embroiled Panama’s May 5 presidential election, exacerbating uncertainty in a country dealing with drought and fallout from widespread protests.</td>\n",
       "      <td>Political crisis has embroiled Panama’s May 5 presidential election, exacerbating uncertainty in a country dealing with drought and fallout from widespread protests.</td>\n",
       "    </tr>\n",
       "    <tr>\n",
       "      <th>41777</th>\n",
       "      <td>Why is it that a substantial body of social science research finds that conservatives are happier than liberals?</td>\n",
       "      <td>Why is it that a substantial body of social science research finds that conservatives are happier than liberals?</td>\n",
       "    </tr>\n",
       "  </tbody>\n",
       "</table>\n",
       "</div>"
      ],
      "text/plain": [
       "                                                                                                                                                                                                       abstract  \\\n",
       "2025                                                                                                                            There are a lot of unsettling signals coming from the world’s oceans right now.   \n",
       "8807                                                                                   In theory, there is no branch in the American constitutional system that exists above or beyond the reach of the others.   \n",
       "16586                                                                                                                                                                               We bring the movies to you.   \n",
       "20825                                                                                                                                What happens when you realize the people in charge don’t have the answers.   \n",
       "21647                                                                                                                                               Things our dads taught us, whether they intended to or not.   \n",
       "22911  Want to see new art in New York this weekend? Check out a trove of South African art on the Upper East Side and Ed Atkins’s avatars in Chelsea. And don’t miss Kayode Ojo’s sleek sculptures in TriBeCa.   \n",
       "25565                                                                                  A major political party in a major swing state bets on a new leader: a total political outsider. How does that work out?   \n",
       "26560                                 This week, Jillian Steinhauer covers Dara Birnbaum’s video art, an intergenerational group show of Atlanta-based artists and Nickola Pottinger’s painted pulp sculptures.   \n",
       "26748                                                                                                                            There’s the thing you plan to do, and then there’s the thing you end up doing.   \n",
       "30104                                                                                                                                                      What we ask to find out what we really want to know.   \n",
       "32660                                                                                                                                          Your mother and I have something we want to talk with you about.   \n",
       "36211                                                                                                                                                           The things we break, and the ones we can’t fix.   \n",
       "37108                                                                                                         It is fitting that the biggest movie in the world this year is the story of a messiah gone wrong.   \n",
       "37558                                     Political crisis has embroiled Panama’s May 5 presidential election, exacerbating uncertainty in a country dealing with drought and fallout from widespread protests.   \n",
       "41777                                                                                          Why is it that a substantial body of social science research finds that conservatives are happier than liberals?   \n",
       "\n",
       "                                                                                                                                                                                                 lead_paragraph  \n",
       "2025                                                                                                                            There are a lot of unsettling signals coming from the world’s oceans right now.  \n",
       "8807                                                                                   In theory, there is no branch in the American constitutional system that exists above or beyond the reach of the others.  \n",
       "16586                                                                                                                                                                               We bring the movies to you.  \n",
       "20825                                                                                                                                What happens when you realize the people in charge don’t have the answers.  \n",
       "21647                                                                                                                                               Things our dads taught us, whether they intended to or not.  \n",
       "22911  Want to see new art in New York this weekend? Check out a trove of South African art on the Upper East Side and Ed Atkins’s avatars in Chelsea. And don’t miss Kayode Ojo’s sleek sculptures in TriBeCa.  \n",
       "25565                                                                                  A major political party in a major swing state bets on a new leader: a total political outsider. How does that work out?  \n",
       "26560                                 This week, Jillian Steinhauer covers Dara Birnbaum’s video art, an intergenerational group show of Atlanta-based artists and Nickola Pottinger’s painted pulp sculptures.  \n",
       "26748                                                                                                                            There’s the thing you plan to do, and then there’s the thing you end up doing.  \n",
       "30104                                                                                                                                                      What we ask to find out what we really want to know.  \n",
       "32660                                                                                                                                          Your mother and I have something we want to talk with you about.  \n",
       "36211                                                                                                                                                           The things we break, and the ones we can’t fix.  \n",
       "37108                                                                                                         It is fitting that the biggest movie in the world this year is the story of a messiah gone wrong.  \n",
       "37558                                     Political crisis has embroiled Panama’s May 5 presidential election, exacerbating uncertainty in a country dealing with drought and fallout from widespread protests.  \n",
       "41777                                                                                          Why is it that a substantial body of social science research finds that conservatives are happier than liberals?  "
      ]
     },
     "execution_count": 10,
     "metadata": {},
     "output_type": "execute_result"
    }
   ],
   "source": [
    "df.loc[df.abstract == df.lead_paragraph][['abstract', 'lead_paragraph']]"
   ]
  },
  {
   "cell_type": "markdown",
   "metadata": {},
   "source": [
    "These are all valid entries, so we might as well just keep them.  \n",
    "Let us start over then, and take a look at a larger set of values."
   ]
  },
  {
   "cell_type": "code",
   "execution_count": 11,
   "metadata": {},
   "outputs": [
    {
     "data": {
      "text/html": [
       "<div>\n",
       "<style scoped>\n",
       "    .dataframe tbody tr th:only-of-type {\n",
       "        vertical-align: middle;\n",
       "    }\n",
       "\n",
       "    .dataframe tbody tr th {\n",
       "        vertical-align: top;\n",
       "    }\n",
       "\n",
       "    .dataframe thead th {\n",
       "        text-align: right;\n",
       "    }\n",
       "</style>\n",
       "<table border=\"1\" class=\"dataframe\">\n",
       "  <thead>\n",
       "    <tr style=\"text-align: right;\">\n",
       "      <th></th>\n",
       "      <th>abstract</th>\n",
       "      <th>lead_paragraph</th>\n",
       "    </tr>\n",
       "  </thead>\n",
       "  <tbody>\n",
       "    <tr>\n",
       "      <th>0</th>\n",
       "      <td>Economic hardship, climate change, political instability and gang violence will continue to spur emigration from many corners of the world.</td>\n",
       "      <td>Relative quiet has prevailed along the southern U.S. border since Friday, despite widespread fears that ending a pandemic-era policy to immediately expel most migrants, even asylum seekers, would set off a stampede from Mexico.</td>\n",
       "    </tr>\n",
       "    <tr>\n",
       "      <th>1</th>\n",
       "      <td>It’s election night in America. Stay away from the bodega sushi.</td>\n",
       "      <td>The day before Logan Roy died, he delivered a fiery call to arms to his ATN staff, letting them know what he expected from the network going forward. The speech was an angrier variation of the populist spiel he had given many times before, in which he insisted that the news should always be frank and unpretentious. He wanted his anchors to tell their viewers “truthful” things they had never heard anyone say before on television. He wanted ATN to be, in a word, “spicy.”</td>\n",
       "    </tr>\n",
       "    <tr>\n",
       "      <th>2</th>\n",
       "      <td>Tom is stressed in dress shoes, Shiv hides beneath layers (of lies and a turtleneck), and Willa cosplays as a first lady hopeful.</td>\n",
       "      <td>This article contains spoilers for Episode 8 of the final season of “Succession.”</td>\n",
       "    </tr>\n",
       "    <tr>\n",
       "      <th>3</th>\n",
       "      <td>No corrections appeared in print on Monday, May 15, 2023.</td>\n",
       "      <td>Errors are corrected during the press run whenever possible, so some errors noted here may not have appeared in all editions.</td>\n",
       "    </tr>\n",
       "    <tr>\n",
       "      <th>4</th>\n",
       "      <td>Quotation of the Day for Monday, May 15, 2023.</td>\n",
       "      <td>“For me, it was time to give back the love they gave me before.”</td>\n",
       "    </tr>\n",
       "    <tr>\n",
       "      <th>5</th>\n",
       "      <td>The 19-year-old French basketball star is the most hyped N.B.A. prospect since LeBron James, but he says he isn’t fazed by the pressure.</td>\n",
       "      <td>Boris Diaw was passing through Paris in late September and thought he would check out a basketball game. A young player he had heard about for years was playing.</td>\n",
       "    </tr>\n",
       "    <tr>\n",
       "      <th>6</th>\n",
       "      <td>New York City students are struggling with reading, but principals are worried that the rollout of a new teaching method is happening too quickly.</td>\n",
       "      <td>Good morning. It’s Monday. We’ll look at something so fundamental it’s the first of the three R’s — and why New York City is about to change the way it is taught in public schools.</td>\n",
       "    </tr>\n",
       "    <tr>\n",
       "      <th>7</th>\n",
       "      <td>Results of Turkey’s election.</td>\n",
       "      <td>Turkey’s presidential election appears to be destined for a runoff after the incumbent, Recep Tayyip Erdogan, failed to win a majority of the vote, in the toughest political challenge of his career.</td>\n",
       "    </tr>\n",
       "    <tr>\n",
       "      <th>8</th>\n",
       "      <td>Shouldn’t a protest movement led by unions be benefiting the left?</td>\n",
       "      <td>For three months, France has been in revolt: Demonstrators have marched; railroad workers have blocked tracks; barricades and buildings have been set aflame; protesters have done battle in the street with police. The most recent innovation has been tamer: People have banged pots whenever the president has appeared. The cause? President Emmanuel Macron’s measure raising the retirement age from 62 to 64.</td>\n",
       "    </tr>\n",
       "    <tr>\n",
       "      <th>9</th>\n",
       "      <td>A spy drama based on a decades-long manhunt comes to Showtime, and a new FX documentary brings back former Hillsong pastors to reflect on the church’s scandal.</td>\n",
       "      <td>Between network, cable and streaming, the modern television landscape is a vast one. Here are some of the shows, specials and movies coming to TV this week, May 15-21. Details and times are subject to change.</td>\n",
       "    </tr>\n",
       "    <tr>\n",
       "      <th>10</th>\n",
       "      <td>Vice, which had wooed media giants, has struggled to adjust to the punishing realities of digital publishing. A group of creditors could buy Vice for $225 million.</td>\n",
       "      <td>Vice Media filed for bankruptcy on Monday, punctuating a yearslong descent from a new-media darling to a cautionary tale of the problems facing the digital publishing industry.</td>\n",
       "    </tr>\n",
       "    <tr>\n",
       "      <th>11</th>\n",
       "      <td>This word has appeared in 67 articles on NYTimes.com in the past year. Can you use it in a sentence?</td>\n",
       "      <td>The word dissipate has appeared in 67 articles on NYTimes.com in the past year, including on Feb. 18 in “In a Treacherous Corner of Washington, a Classroom With 40-Foot Waves” by Kirk Johnson:</td>\n",
       "    </tr>\n",
       "    <tr>\n",
       "      <th>12</th>\n",
       "      <td>While the battle for Bakhmut, a mostly ruined city where tens of thousands of soldiers are believed to have died, continues to rage after Ukraine made some gains for the first time in months, world leaders are planning several efforts in the coming days to find new diplomatic avenues for ending the war.</td>\n",
       "      <td>While the battle for Bakhmut, a mostly ruined city where tens of thousands of soldiers are believed to have died, continues to rage after Ukraine made some gains for the first time in months, world leaders are planning several efforts in the coming days to find new diplomatic avenues for ending the war.</td>\n",
       "    </tr>\n",
       "    <tr>\n",
       "      <th>13</th>\n",
       "      <td>Feeling stuck on today’s puzzle? We can help.</td>\n",
       "      <td>MONDAY — Hi busy bees! Welcome to today’s Spelling Bee forum. There are a number of terms that appear in both this article and other online discussions of the Spelling Bee; a glossary of those terms compiled by Monicat, a Times reader, can be found below. For more Spelling Bee conversation, check out Deb Amlen’s weekly humor column, “Diary of a Spelling Bee Fanatic.”</td>\n",
       "    </tr>\n",
       "    <tr>\n",
       "      <th>14</th>\n",
       "      <td>Our columnist reviews the day’s puzzle. Warning: Contains spoilers!</td>\n",
       "      <td>Welcome to The Wordle Review. Be warned: This article contains spoilers for today’s puzzle. Solve Wordle first, or scroll at your own risk.</td>\n",
       "    </tr>\n",
       "    <tr>\n",
       "      <th>15</th>\n",
       "      <td>Even as the leaders of Trinidad and Tobago double down on fossil fuels, climate change is bringing more extreme weather to the island nation.</td>\n",
       "      <td>Imtiaz Khan remembers the rains of his childhood as being light and providing welcome relief from the summer heat. A heavy shower, he said, would arrive only about once a month during the rainy season.</td>\n",
       "    </tr>\n",
       "    <tr>\n",
       "      <th>16</th>\n",
       "      <td>After the G.O.P.-led legislature passed a 12-week ban, the Democratic governor vetoed the bill. The Republicans could override it, if all their members stay unified.</td>\n",
       "      <td>North Carolina Gov. Roy Cooper, now in the waning years of his second term, has suddenly found himself back on a campaign trail.</td>\n",
       "    </tr>\n",
       "    <tr>\n",
       "      <th>17</th>\n",
       "      <td>Trinidad and Tobago is the No. 2 exporter of liquefied natural gas in the Americas. Its output has been falling, but it remains committed to fossil fuels.</td>\n",
       "      <td>Ribboned shovel in hand, Prime Minister Keith Rowley joined a ceremonial groundbreaking last month to celebrate Trinidad and Tobago’s first large solar farm project expected to generate power for 42,000 homes.</td>\n",
       "    </tr>\n",
       "    <tr>\n",
       "      <th>18</th>\n",
       "      <td>The massacre of nine workers in the Central African Republic and other recent attacks raise questions about China’s ability to protect its citizens overseas.</td>\n",
       "      <td>The Chinese embassy in the Central African Republic had a stark warning for its compatriots in the landlocked nation: Do not leave the capital city of Bangui. Kidnappings of foreigners were on the rise, and any Chinese person outside of Bangui was to leave those areas immediately.</td>\n",
       "    </tr>\n",
       "    <tr>\n",
       "      <th>19</th>\n",
       "      <td>A new study by a nonpartisan group tries to put a number on that important question.</td>\n",
       "      <td>Denying the results of the 2020 election and casting doubts about the nation’s voting system cost statewide Republican candidates 2.3 to 3.7 percentage points in the midterms last year, according to a new study from States United Action, a nonpartisan group that promotes fair elections.</td>\n",
       "    </tr>\n",
       "  </tbody>\n",
       "</table>\n",
       "</div>"
      ],
      "text/plain": [
       "                                                                                                                                                                                                                                                                                                            abstract  \\\n",
       "0                                                                                                                                                                        Economic hardship, climate change, political instability and gang violence will continue to spur emigration from many corners of the world.   \n",
       "1                                                                                                                                                                                                                                                   It’s election night in America. Stay away from the bodega sushi.   \n",
       "2                                                                                                                                                                                  Tom is stressed in dress shoes, Shiv hides beneath layers (of lies and a turtleneck), and Willa cosplays as a first lady hopeful.   \n",
       "3                                                                                                                                                                                                                                                          No corrections appeared in print on Monday, May 15, 2023.   \n",
       "4                                                                                                                                                                                                                                                                     Quotation of the Day for Monday, May 15, 2023.   \n",
       "5                                                                                                                                                                           The 19-year-old French basketball star is the most hyped N.B.A. prospect since LeBron James, but he says he isn’t fazed by the pressure.   \n",
       "6                                                                                                                                                                 New York City students are struggling with reading, but principals are worried that the rollout of a new teaching method is happening too quickly.   \n",
       "7                                                                                                                                                                                                                                                                                      Results of Turkey’s election.   \n",
       "8                                                                                                                                                                                                                                                 Shouldn’t a protest movement led by unions be benefiting the left?   \n",
       "9                                                                                                                                                    A spy drama based on a decades-long manhunt comes to Showtime, and a new FX documentary brings back former Hillsong pastors to reflect on the church’s scandal.   \n",
       "10                                                                                                                                               Vice, which had wooed media giants, has struggled to adjust to the punishing realities of digital publishing. A group of creditors could buy Vice for $225 million.   \n",
       "11                                                                                                                                                                                                              This word has appeared in 67 articles on NYTimes.com in the past year. Can you use it in a sentence?   \n",
       "12  While the battle for Bakhmut, a mostly ruined city where tens of thousands of soldiers are believed to have died, continues to rage after Ukraine made some gains for the first time in months, world leaders are planning several efforts in the coming days to find new diplomatic avenues for ending the war.   \n",
       "13                                                                                                                                                                                                                                                                     Feeling stuck on today’s puzzle? We can help.   \n",
       "14                                                                                                                                                                                                                                               Our columnist reviews the day’s puzzle. Warning: Contains spoilers!   \n",
       "15                                                                                                                                                                     Even as the leaders of Trinidad and Tobago double down on fossil fuels, climate change is bringing more extreme weather to the island nation.   \n",
       "16                                                                                                                                             After the G.O.P.-led legislature passed a 12-week ban, the Democratic governor vetoed the bill. The Republicans could override it, if all their members stay unified.   \n",
       "17                                                                                                                                                        Trinidad and Tobago is the No. 2 exporter of liquefied natural gas in the Americas. Its output has been falling, but it remains committed to fossil fuels.   \n",
       "18                                                                                                                                                     The massacre of nine workers in the Central African Republic and other recent attacks raise questions about China’s ability to protect its citizens overseas.   \n",
       "19                                                                                                                                                                                                                              A new study by a nonpartisan group tries to put a number on that important question.   \n",
       "\n",
       "                                                                                                                                                                                                                                                                                                                                                                                                                                                                               lead_paragraph  \n",
       "0                                                                                                                                                                                                                                                         Relative quiet has prevailed along the southern U.S. border since Friday, despite widespread fears that ending a pandemic-era policy to immediately expel most migrants, even asylum seekers, would set off a stampede from Mexico.  \n",
       "1   The day before Logan Roy died, he delivered a fiery call to arms to his ATN staff, letting them know what he expected from the network going forward. The speech was an angrier variation of the populist spiel he had given many times before, in which he insisted that the news should always be frank and unpretentious. He wanted his anchors to tell their viewers “truthful” things they had never heard anyone say before on television. He wanted ATN to be, in a word, “spicy.”  \n",
       "2                                                                                                                                                                                                                                                                                                                                                                                                           This article contains spoilers for Episode 8 of the final season of “Succession.”  \n",
       "3                                                                                                                                                                                                                                                                                                                                                               Errors are corrected during the press run whenever possible, so some errors noted here may not have appeared in all editions.  \n",
       "4                                                                                                                                                                                                                                                                                                                                                                                                                            “For me, it was time to give back the love they gave me before.”  \n",
       "5                                                                                                                                                                                                                                                                                                                           Boris Diaw was passing through Paris in late September and thought he would check out a basketball game. A young player he had heard about for years was playing.  \n",
       "6                                                                                                                                                                                                                                                                                                        Good morning. It’s Monday. We’ll look at something so fundamental it’s the first of the three R’s — and why New York City is about to change the way it is taught in public schools.  \n",
       "7                                                                                                                                                                                                                                                                                      Turkey’s presidential election appears to be destined for a runoff after the incumbent, Recep Tayyip Erdogan, failed to win a majority of the vote, in the toughest political challenge of his career.  \n",
       "8                                                                       For three months, France has been in revolt: Demonstrators have marched; railroad workers have blocked tracks; barricades and buildings have been set aflame; protesters have done battle in the street with police. The most recent innovation has been tamer: People have banged pots whenever the president has appeared. The cause? President Emmanuel Macron’s measure raising the retirement age from 62 to 64.  \n",
       "9                                                                                                                                                                                                                                                                            Between network, cable and streaming, the modern television landscape is a vast one. Here are some of the shows, specials and movies coming to TV this week, May 15-21. Details and times are subject to change.  \n",
       "10                                                                                                                                                                                                                                                                                                           Vice Media filed for bankruptcy on Monday, punctuating a yearslong descent from a new-media darling to a cautionary tale of the problems facing the digital publishing industry.  \n",
       "11                                                                                                                                                                                                                                                                                           The word dissipate has appeared in 67 articles on NYTimes.com in the past year, including on Feb. 18 in “In a Treacherous Corner of Washington, a Classroom With 40-Foot Waves” by Kirk Johnson:  \n",
       "12                                                                                                                                                                           While the battle for Bakhmut, a mostly ruined city where tens of thousands of soldiers are believed to have died, continues to rage after Ukraine made some gains for the first time in months, world leaders are planning several efforts in the coming days to find new diplomatic avenues for ending the war.  \n",
       "13                                                                                                          MONDAY — Hi busy bees! Welcome to today’s Spelling Bee forum. There are a number of terms that appear in both this article and other online discussions of the Spelling Bee; a glossary of those terms compiled by Monicat, a Times reader, can be found below. For more Spelling Bee conversation, check out Deb Amlen’s weekly humor column, “Diary of a Spelling Bee Fanatic.”  \n",
       "14                                                                                                                                                                                                                                                                                                                                                Welcome to The Wordle Review. Be warned: This article contains spoilers for today’s puzzle. Solve Wordle first, or scroll at your own risk.  \n",
       "15                                                                                                                                                                                                                                                                                  Imtiaz Khan remembers the rains of his childhood as being light and providing welcome relief from the summer heat. A heavy shower, he said, would arrive only about once a month during the rainy season.  \n",
       "16                                                                                                                                                                                                                                                                                                                                                           North Carolina Gov. Roy Cooper, now in the waning years of his second term, has suddenly found himself back on a campaign trail.  \n",
       "17                                                                                                                                                                                                                                                                          Ribboned shovel in hand, Prime Minister Keith Rowley joined a ceremonial groundbreaking last month to celebrate Trinidad and Tobago’s first large solar farm project expected to generate power for 42,000 homes.  \n",
       "18                                                                                                                                                                                                  The Chinese embassy in the Central African Republic had a stark warning for its compatriots in the landlocked nation: Do not leave the capital city of Bangui. Kidnappings of foreigners were on the rise, and any Chinese person outside of Bangui was to leave those areas immediately.  \n",
       "19                                                                                                                                                                                            Denying the results of the 2020 election and casting doubts about the nation’s voting system cost statewide Republican candidates 2.3 to 3.7 percentage points in the midterms last year, according to a new study from States United Action, a nonpartisan group that promotes fair elections.  "
      ]
     },
     "execution_count": 11,
     "metadata": {},
     "output_type": "execute_result"
    }
   ],
   "source": [
    "df = pd.read_csv(data_loc, na_values=[' '])\n",
    "\n",
    "columns = ['abstract', 'lead_paragraph']\n",
    "df = df.dropna(subset=columns)\n",
    "\n",
    "df[columns].head(20)"
   ]
  },
  {
   "cell_type": "markdown",
   "metadata": {},
   "source": [
    "### Some data cleaning and word count\n",
    "\n",
    "Now that we have selected which columns to work with and cleared out all invalid entries, we should take a closer look at the word count in each piece of text. Before we proceed to that, it might be a good time to do some cleaning, such as bringing all text to lower case and removing irrelevant characters. This can be achieved as part of the \"tokenization\" process, i.e. splitting of the text into words. We do this by means of an appropriate class from the `nltk` library. We start by importing tha library and instantiating the class."
   ]
  },
  {
   "cell_type": "code",
   "execution_count": 12,
   "metadata": {},
   "outputs": [],
   "source": [
    "from nltk.tokenize import RegexpTokenizer"
   ]
  },
  {
   "cell_type": "markdown",
   "metadata": {},
   "source": [
    "The `RegexpTokenizer` class is instantiated by passing it a regular expression, and its `tokenize` method will take a string as argument and return the list of substrings matching the given regular expression."
   ]
  },
  {
   "cell_type": "markdown",
   "metadata": {},
   "source": [
    "#### Special characters\n",
    "\n",
    "Special characters can give rise to a few problems. First, some characters can appear in different \"versions\", including for instance spaces and their unbreakable version, quotes (`'` and `’`, and similarly for the double quotes), an more. Additionally, accented characters (such as `à`, `ÿ`, `ø`, `ñ`) make it trickier to use regular expressions. Ineed, the simplest way to detect words using regular expressions is to use the metacharacter `\\w` matching all alphanumeric characters, so in particular the expression `\\w{2,}` would match any sequence of two or more such characters. Accented characters, however, do not match this metacharacter which means that the regular expression above would tokenize words like 'piraña' and 'résumé' as `['pira', 'a']` and `['r', 'sum']`.  \n",
    "We work around these problems by using the `unidecode` library, which essentially simplifies all special characters to their ASCII version."
   ]
  },
  {
   "cell_type": "code",
   "execution_count": 13,
   "metadata": {},
   "outputs": [
    {
     "data": {
      "text/html": [
       "<div>\n",
       "<style scoped>\n",
       "    .dataframe tbody tr th:only-of-type {\n",
       "        vertical-align: middle;\n",
       "    }\n",
       "\n",
       "    .dataframe tbody tr th {\n",
       "        vertical-align: top;\n",
       "    }\n",
       "\n",
       "    .dataframe thead th {\n",
       "        text-align: right;\n",
       "    }\n",
       "</style>\n",
       "<table border=\"1\" class=\"dataframe\">\n",
       "  <thead>\n",
       "    <tr style=\"text-align: right;\">\n",
       "      <th></th>\n",
       "      <th>abstract</th>\n",
       "      <th>lead_paragraph</th>\n",
       "    </tr>\n",
       "  </thead>\n",
       "  <tbody>\n",
       "    <tr>\n",
       "      <th>0</th>\n",
       "      <td>Economic hardship, climate change, political instability and gang violence will continue to spur emigration from many corners of the world.</td>\n",
       "      <td>Relative quiet has prevailed along the southern U.S. border since Friday, despite widespread fears that ending a pandemic-era policy to immediately expel most migrants, even asylum seekers, would set off a stampede from Mexico.</td>\n",
       "    </tr>\n",
       "    <tr>\n",
       "      <th>1</th>\n",
       "      <td>It's election night in America. Stay away from the bodega sushi.</td>\n",
       "      <td>The day before Logan Roy died, he delivered a fiery call to arms to his ATN staff, letting them know what he expected from the network going forward. The speech was an angrier variation of the populist spiel he had given many times before, in which he insisted that the news should always be frank and unpretentious. He wanted his anchors to tell their viewers \"truthful\" things they had never heard anyone say before on television. He wanted ATN to be, in a word, \"spicy.\"</td>\n",
       "    </tr>\n",
       "    <tr>\n",
       "      <th>2</th>\n",
       "      <td>Tom is stressed in dress shoes, Shiv hides beneath layers (of lies and a turtleneck), and Willa cosplays as a first lady hopeful.</td>\n",
       "      <td>This article contains spoilers for Episode 8 of the final season of \"Succession.\"</td>\n",
       "    </tr>\n",
       "    <tr>\n",
       "      <th>3</th>\n",
       "      <td>No corrections appeared in print on Monday, May 15, 2023.</td>\n",
       "      <td>Errors are corrected during the press run whenever possible, so some errors noted here may not have appeared in all editions.</td>\n",
       "    </tr>\n",
       "    <tr>\n",
       "      <th>4</th>\n",
       "      <td>Quotation of the Day for Monday, May 15, 2023.</td>\n",
       "      <td>\"For me, it was time to give back the love they gave me before.\"</td>\n",
       "    </tr>\n",
       "    <tr>\n",
       "      <th>5</th>\n",
       "      <td>The 19-year-old French basketball star is the most hyped N.B.A. prospect since LeBron James, but he says he isn't fazed by the pressure.</td>\n",
       "      <td>Boris Diaw was passing through Paris in late September and thought he would check out a basketball game. A young player he had heard about for years was playing.</td>\n",
       "    </tr>\n",
       "    <tr>\n",
       "      <th>6</th>\n",
       "      <td>New York City students are struggling with reading, but principals are worried that the rollout of a new teaching method is happening too quickly.</td>\n",
       "      <td>Good morning. It's Monday. We'll look at something so fundamental it's the first of the three R's -- and why New York City is about to change the way it is taught in public schools.</td>\n",
       "    </tr>\n",
       "    <tr>\n",
       "      <th>7</th>\n",
       "      <td>Results of Turkey's election.</td>\n",
       "      <td>Turkey's presidential election appears to be destined for a runoff after the incumbent, Recep Tayyip Erdogan, failed to win a majority of the vote, in the toughest political challenge of his career.</td>\n",
       "    </tr>\n",
       "    <tr>\n",
       "      <th>8</th>\n",
       "      <td>Shouldn't a protest movement led by unions be benefiting the left?</td>\n",
       "      <td>For three months, France has been in revolt: Demonstrators have marched; railroad workers have blocked tracks; barricades and buildings have been set aflame; protesters have done battle in the street with police. The most recent innovation has been tamer: People have banged pots whenever the president has appeared. The cause? President Emmanuel Macron's measure raising the retirement age from 62 to 64.</td>\n",
       "    </tr>\n",
       "    <tr>\n",
       "      <th>9</th>\n",
       "      <td>A spy drama based on a decades-long manhunt comes to Showtime, and a new FX documentary brings back former Hillsong pastors to reflect on the church's scandal.</td>\n",
       "      <td>Between network, cable and streaming, the modern television landscape is a vast one. Here are some of the shows, specials and movies coming to TV this week, May 15-21. Details and times are subject to change.</td>\n",
       "    </tr>\n",
       "  </tbody>\n",
       "</table>\n",
       "</div>"
      ],
      "text/plain": [
       "                                                                                                                                                          abstract  \\\n",
       "0                      Economic hardship, climate change, political instability and gang violence will continue to spur emigration from many corners of the world.   \n",
       "1                                                                                                 It's election night in America. Stay away from the bodega sushi.   \n",
       "2                                Tom is stressed in dress shoes, Shiv hides beneath layers (of lies and a turtleneck), and Willa cosplays as a first lady hopeful.   \n",
       "3                                                                                                        No corrections appeared in print on Monday, May 15, 2023.   \n",
       "4                                                                                                                   Quotation of the Day for Monday, May 15, 2023.   \n",
       "5                         The 19-year-old French basketball star is the most hyped N.B.A. prospect since LeBron James, but he says he isn't fazed by the pressure.   \n",
       "6               New York City students are struggling with reading, but principals are worried that the rollout of a new teaching method is happening too quickly.   \n",
       "7                                                                                                                                    Results of Turkey's election.   \n",
       "8                                                                                               Shouldn't a protest movement led by unions be benefiting the left?   \n",
       "9  A spy drama based on a decades-long manhunt comes to Showtime, and a new FX documentary brings back former Hillsong pastors to reflect on the church's scandal.   \n",
       "\n",
       "                                                                                                                                                                                                                                                                                                                                                                                                                                                                              lead_paragraph  \n",
       "0                                                                                                                                                                                                                                                        Relative quiet has prevailed along the southern U.S. border since Friday, despite widespread fears that ending a pandemic-era policy to immediately expel most migrants, even asylum seekers, would set off a stampede from Mexico.  \n",
       "1  The day before Logan Roy died, he delivered a fiery call to arms to his ATN staff, letting them know what he expected from the network going forward. The speech was an angrier variation of the populist spiel he had given many times before, in which he insisted that the news should always be frank and unpretentious. He wanted his anchors to tell their viewers \"truthful\" things they had never heard anyone say before on television. He wanted ATN to be, in a word, \"spicy.\"  \n",
       "2                                                                                                                                                                                                                                                                                                                                                                                                          This article contains spoilers for Episode 8 of the final season of \"Succession.\"  \n",
       "3                                                                                                                                                                                                                                                                                                                                                              Errors are corrected during the press run whenever possible, so some errors noted here may not have appeared in all editions.  \n",
       "4                                                                                                                                                                                                                                                                                                                                                                                                                           \"For me, it was time to give back the love they gave me before.\"  \n",
       "5                                                                                                                                                                                                                                                                                                                          Boris Diaw was passing through Paris in late September and thought he would check out a basketball game. A young player he had heard about for years was playing.  \n",
       "6                                                                                                                                                                                                                                                                                                      Good morning. It's Monday. We'll look at something so fundamental it's the first of the three R's -- and why New York City is about to change the way it is taught in public schools.  \n",
       "7                                                                                                                                                                                                                                                                                     Turkey's presidential election appears to be destined for a runoff after the incumbent, Recep Tayyip Erdogan, failed to win a majority of the vote, in the toughest political challenge of his career.  \n",
       "8                                                                      For three months, France has been in revolt: Demonstrators have marched; railroad workers have blocked tracks; barricades and buildings have been set aflame; protesters have done battle in the street with police. The most recent innovation has been tamer: People have banged pots whenever the president has appeared. The cause? President Emmanuel Macron's measure raising the retirement age from 62 to 64.  \n",
       "9                                                                                                                                                                                                                                                                           Between network, cable and streaming, the modern television landscape is a vast one. Here are some of the shows, specials and movies coming to TV this week, May 15-21. Details and times are subject to change.  "
      ]
     },
     "execution_count": 13,
     "metadata": {},
     "output_type": "execute_result"
    }
   ],
   "source": [
    "from unidecode import unidecode\n",
    "\n",
    "for column in columns:\n",
    "    df[column] = df[column].apply(unidecode)\n",
    "df[columns].head(10)"
   ]
  },
  {
   "cell_type": "markdown",
   "metadata": {},
   "source": [
    "#### Acronyms\n",
    "\n",
    "Many of the tokens we want to include in our tokenized strings may be acronyms, such as U.S.A. or NASA, many of which may be extremely relevant for topic detection.  \n",
    "We expect to find these in either one of the two formats above: as a sequence of single characters separated by dots, or as a sequence of uppercase alphabetical characters. On the one hand, the regular expressions we expect to use would ultimately discard the first format or split it into disjoint single characters. On the other hand, short acronyms in the second format could be confused for actual English words (e.g. 'US' versus 'us'), which in some cases may even be listed as stop words and discarded later. Since we will soon replace all articles with their lowercase version, we need to detect these acronyms now.  \n",
    "Before we go ahead and use regular expressions to extract all acronyms, it might be a good idea to check if any words or entire blocks of text were typed in uppercase format, so as to make sure we don't accidentally mark as acronyms words that are not."
   ]
  },
  {
   "cell_type": "code",
   "execution_count": 14,
   "metadata": {},
   "outputs": [
    {
     "name": "stdout",
     "output_type": "stream",
     "text": [
      "6169\n",
      "1123\n",
      "{'WELKOM', 'SOMNAMBULIST', 'API', 'GRIMOIRE', 'DAZN', 'TN', 'NYU', 'ZIP', 'UEFA', 'HVAC', 'GOA', 'CORKY', 'ZANU', 'FATHER', 'DIALOGUE', 'SOMETIMES', 'PAC', 'SHORT', 'ICBM', 'LAGOS', 'EASILY', 'THC', 'KSI', 'CLAWS', 'WHEN', 'AA', 'MONICA', 'LOVE', 'GREAT', 'TI', 'CABINET', 'HOA', 'RBD', 'RE', 'RIP', 'AREN', 'UP', 'TCL', 'THIS', 'CHIPS', 'QVC', 'KHERSON', 'BLOWBACK', 'EGOT', 'JOAN', 'CAN', 'KP', 'PANDA', 'VIP', 'GIF', 'DIRECTIONS', 'HQ', 'PARTY', 'GYN', 'ORACLE', 'LAS', 'HELP', 'SCORE', 'CLINTON', 'JD', 'XIII', 'SCTV', 'BMI', 'SECCHI', 'BEES', 'UPDATE', 'ASIAN', 'MUCH', 'PBS', 'SEA', 'MONTEVIDEO', 'COP', 'BF', 'UNEARTHED', 'MINNEAPOLIS', 'VJ', 'DAY', 'BFF', 'BNSF', 'WASHINGTON', 'MIXED', 'TF', 'TAG', 'NPR', 'CORNWALL', 'BRICS', 'DURHAM', 'GPS', 'LANGUAGE', 'PF', 'LIVERPOOL', 'RNA', 'NAFTA', 'PJ', 'NIGHTS', 'MK', 'COMPANIONS', 'HELD', 'IF', 'NLE', 'MAGIC', 'BUSINESS', 'JAXA', 'UNICEF', 'ARTIST', 'CUNY', 'FBI', 'MGM', 'ELEW', 'PAST', 'ST', 'DZA', 'MM', 'ANTIQUITY', 'WINNING', 'THINK', 'SATIRIZING', 'PARIS', 'XT', 'DEI', 'MA', 'DESCENDS', 'CHRISTMASB', 'BONE', 'ENOUGH', 'DM', 'SUZA', 'NECESSARY', 'EDM', 'APOLOGY', 'TRAY', 'WB', 'ALL', 'DUBLIN', 'HEUER', 'AFTRA', 'EZ', 'CH', 'IJBOL', 'MANDELA', 'MARCIO', 'EC', 'RUTHLESS', 'BEFORE', 'LED', 'SUMMER', 'CZ', 'ON', 'GOOD', 'DJI', 'UNO', 'MYSELF', 'PO', 'BECAME', 'MATHEMATICIAN', 'TCM', 'CHAIN', 'AT', 'WASP', 'ATHENS', 'BPH', 'IBM', 'CV', 'SHOW', 'SPAC', 'TALLINN', 'CAIRO', 'MAGA', 'SMR', 'PATH', 'PRIZE', 'IUD', 'FIVE', 'DELHI', 'TIAA', 'LINK', 'JENNIE', 'MISSING', 'SWAMP', 'HANK', 'ARK', 'MIAMI', 'THEM', 'FOR', 'XII', 'VIRAL', 'HOW', 'HA', 'ARE', 'CATL', 'CORE', 'WITH', 'DHC', 'ROFL', 'YSL', 'SXSW', 'HELL', 'HEAR', 'FORTHCOMING', 'SAINT', 'HEROES', 'DU', 'BART', 'PITTSBURGH', 'SONNENALLEE', 'MONSTERS', 'EP', 'SB', 'TWO', 'FOUNDER', 'MQBMBQ', 'SALT', 'EG', 'PGA', 'POLISH', 'SILVER', 'ADL', 'DK', 'XXX', 'GB', 'MRI', 'ECMWF', 'DREARY', 'NASA', 'MH', 'WILMINGTON', 'SEOUL', 'SKY', 'LUCKY', 'DOWN', 'CHILDHOOD', 'SHOTS', 'LEE', 'MOCAA', 'UPMC', 'SUM', 'XBB', 'NW', 'MOCA', 'NBCU', 'QUANTUM', 'END', 'SEWANEE', 'VO', 'VILNIUS', 'SUV', 'DANCE', 'DARPA', 'CC', 'ND', 'GDSWF', 'IX', 'WNBC', 'KINGS', 'LOUIS', 'ANNA', 'AAA', 'IV', 'LITTLEWICK', 'VIII', 'AOL', 'CX', 'CCS', 'ART', 'JONAS', 'AIDS', 'ROCKY', 'WILMA', 'STARTED', 'XL', 'FM', 'NORTH', 'ACROSTIC', 'ROAD', 'GMC', 'FEEL', 'RMS', 'US', 'TOO', 'PR', 'PTSD', 'ANGELES', 'AMERICAN', 'HERE', 'REPO', 'BBQ', 'BROWNING', 'OMG', 'DURING', 'JAMA', 'FAYE', 'ELECTIONS', 'LINKS', 'MEN', 'PETA', 'KTLA', 'RAND', 'HIROSHIMA', 'IAC', 'MFA', 'CAA', 'SON', 'HUGE', 'DIES', 'TRAIN', 'WELLINGTON', 'AMONG', 'REGION', 'LOL', 'SUIT', 'OC', 'LSD', 'ANAGRAMS', 'BRIC', 'SOULS', 'BB', 'NASH', 'UVA', 'LM', 'DIM', 'FX', 'BLANK', 'ADIYAMAN', 'TRIGRAMS', 'IGF', 'INCREASE', 'CARES', 'QR', 'SPRING', 'LACMA', 'SUNY', 'NBC', 'GOING', 'HBO', 'ATP', 'BOND', 'BOOK', 'SENDS', 'DC', 'ESPN', 'AEG', 'LGBTQ', 'IN', 'KIDNAPPED', 'NYPD', 'DISCUSSION', 'BMX', 'WRECK', 'DR', 'GLP', 'CBD', 'ACCOUNT', 'URL', 'BOUFELFEL', 'ATN', 'SS', 'WIN', 'YORK', 'ZAKA', 'MAN', 'XV', 'SOME', 'AM', 'ROME', 'CAD', 'MC', 'VCR', 'BASF', 'NOTTINGHAM', 'KIND', 'OB', 'KO', 'MOSCOW', 'GILDED', 'CBNC', 'AF', 'NIGHT', 'FEAST', 'IMAX', 'DALL', 'MUNICH', 'SITU', 'CROSSWORD', 'DL', 'CAIN', 'MGMT', 'XI', 'RM', 'BT', 'RISC', 'BLAHODATNE', 'NASHVILLE', 'HEIGHT', 'NOAA', 'DIEGO', 'MCC', 'WABC', 'PV', 'VAUGHN', 'HERRINGTON', 'ACT', 'WATCHING', 'FIT', 'EVERYONE', 'TIME', 'IQA', 'TASTING', 'ROBERT', 'GARDEN', 'PET', 'HFZ', 'BRUTALITIES', 'SPRINGS', 'UBQ', 'ANKARA', 'MARCHING', 'GROWING', 'STARLING', 'GO', 'DHL', 'GLAAD', 'BS', 'CEO', 'TD', 'CA', 'SUBJECTS', 'JOHANNESBURG', 'IMELDA', 'VREELAND', 'PUSH', 'OAN', 'ICP', 'BOY', 'BELFAST', 'RZA', 'UK', 'STAID', 'BUCKLING', 'EMTALA', 'LL', 'BEST', 'HOPE', 'KC', 'ADAA', 'YOUR', 'AMC', 'YOU', 'ADRE', 'BMW', 'INSIDE', 'HOUSE', 'CT', 'CW', 'CSI', 'LLIT', 'PSL', 'CBS', 'KAL', 'NYC', 'TOWN', 'BATTLE', 'WELL', 'SE', 'AN', 'NICOLE', 'BABY', 'PS', 'OSHA', 'SFJ', 'LFW', 'NTS', 'ANU', 'QD', 'BNY', 'DMV', 'VHS', 'APB', 'YES', 'PAUL', 'NOTE', 'FEMA', 'BLANKET', 'IVF', 'RIVER', 'CHILDREN', 'WJLX', 'AC', 'USA', 'KFF', 'TCW', 'GOPAC', 'MTV', 'KNOWS', 'BEACON', 'GREEN', 'IMAGINE', 'SUSPECT', 'LVIII', 'HGTV', 'NPC', 'PITTSFORD', 'TKTS', 'PAULSON', 'SMOKE', 'DOHA', 'MARCOS', 'II', 'JBF', 'SHADOW', 'BUFFALO', 'SPLIT', 'APOE', 'BEIJING', 'NIN', 'NGO', 'MNC', 'KELLEN', 'BYD', 'FATES', 'GNC', 'MARSHALL', 'REC', 'TUESDAY', 'MG', 'AMD', 'REBECCA', 'LAKE', 'YEARS', 'ECPR', 'FRANCISCO', 'OSIRIS', 'MD', 'BERLIN', 'LAW', 'DJ', 'ANOTHER', 'OVER', 'LINCOLN', 'BOSTON', 'ALLEN', 'AGO', 'BAFTA', 'ARCHITECTS', 'RESISTANCE', 'JFK', 'BYOM', 'CANNES', 'THAT', 'NKBA', 'FORGIVING', 'ILIS', 'DATE', 'REPULSIVE', 'BET', 'ODESA', 'UBS', 'AK', 'FIRST', 'EXORDIA', 'PDF', 'RICH', 'ROY', 'PTL', 'RJ', 'DIDN', 'MLK', 'NFT', 'KILL', 'THEY', 'KT', 'JPM', 'VASES', 'EMINENCE', 'SZA', 'TED', 'MI', 'WHITELASH', 'WFAN', 'REYKJAVIK', 'CTL', 'SIMONSON', 'TKO', 'VW', 'KLOS', 'SFMOMA', 'REM', 'PCOS', 'NARS', 'VUITTON', 'WILD', 'FKA', 'FRIDAY', 'REMEMBER', 'MRAP', 'SUNDAY', 'IMD', 'POOR', 'ZYN', 'SECRETS', 'WHP', 'LC', 'NYT', 'DARLING', 'JADE', 'CRYPTIC', 'XIX', 'SOUTH', 'LOWDOWN', 'PALACE', 'COTTER', 'GOFFSTOWN', 'JP', 'PARADISE', 'CNBC', 'EARLY', 'MSG', 'HALIFAX', 'TV', 'TO', 'OPEC', 'ANTAKYA', 'THERE', 'AVIV', 'EV', 'CAIR', 'STAR', 'SWAN', 'MAKERS', 'LP', 'ARTISTS', 'PUNS', 'AWOL', 'FIFA', 'LOS', 'ISTANBUL', 'POOL', 'PUZZLE', 'JLL', 'OS', 'NEW', 'HURRICANE', 'TDI', 'DECISIONS', 'MCINTOSH', 'BUCHA', 'AMID', 'TRUFFLE', 'LATE', 'EDOUARD', 'USB', 'WILL', 'WALL', 'RFK', 'AIPAC', 'KMET', 'DEATH', 'WISE', 'PRESENT', 'WFMU', 'OH', 'ATV', 'UV', 'BEAUTY', 'ANTONIO', 'WHILE', 'ANY', 'UNRWA', 'DO', 'PURCHASE', 'DEET', 'SALVAGED', 'AS', 'GENEVA', 'RTE', 'AI', 'TJ', 'VOWS', 'PARTS', 'FTX', 'MSC', 'FIDE', 'MCU', 'BEIRUT', 'ALIVE', 'COUNTER', 'AR', 'TRUMP', 'CREW', 'NAIROBI', 'DIA', 'ERIC', 'GEORGETOWN', 'SANTA', 'CHICAGO', 'NSO', 'SEE', 'TINY', 'NATIFS', 'RABAT', 'LNG', 'CARTAGENA', 'MSNBC', 'RAM', 'SAG', 'MX', 'WOODLANDS', 'MAHDAVI', 'DJT', 'OTHER', 'CRUISING', 'UPS', 'VI', 'VA', 'WEEKEND', 'CHANCES', 'SIDE', 'GQ', 'XIV', 'KERRY', 'ADIEU', 'GPT', 'MLB', 'UNDER', 'RIVALS', 'BANDS', 'ZP', 'CP', 'BELGRADE', 'SAN', 'CFS', 'SEAL', 'JW', 'STEM', 'MSCHF', 'SPF', 'BAE', 'SCALP', 'KIRAC', 'FAFSA', 'KGAY', 'RIDER', 'JN', 'WEDNESDAY', 'SK', 'PER', 'OK', 'LIBOR', 'SUPREMACY', 'BP', 'DAKAR', 'ATLANTA', 'EXPO', 'FODMAP', 'NASCAR', 'FUTURE', 'PHOENIX', 'FOUR', 'ADVERSARY', 'ATACMS', 'KYIV', 'SUCCESS', 'SAVE', 'AND', 'XO', 'CENTER', 'MURDER', 'GRP', 'GRAVE', 'WAVELENGTH', 'STREET', 'CNN', 'RNZ', 'BHP', 'SOMEONE', 'LLC', 'STUNNING', 'TWA', 'UNESCO', 'WQXR', 'ECT', 'EXT', 'KWTX', 'STAYC', 'SAT', 'HOC', 'REI', 'MIND', 'FOREST', 'WE', 'ANYONE', 'FAQ', 'SPEAK', 'SHAKE', 'YAMHILL', 'SAM', 'RICO', 'JERUSALEM', 'GOAT', 'LIV', 'IT', 'LMAO', 'CPAC', 'LOSSAN', 'ROAMING', 'FARC', 'SIT', 'BA', 'JBS', 'BREED', 'HIRING', 'WHAT', 'TMNT', 'WARSAW', 'SINS', 'GHENT', 'HOLLAND', 'DCM', 'INDIANAPOLIS', 'NOT', 'JAPANESE', 'DANCES', 'EE', 'IS', 'XRP', 'CMT', 'FAMILIAR', 'HATE', 'PNC', 'LONDON', 'WUNSTORF', 'BIRDS', 'BOUND', 'SARS', 'ASCENT', 'SOAS', 'HEAT', 'BAM', 'III', 'JANUARY', 'CALLED', 'DAVID', 'MDMA', 'DOORS', 'YFN', 'YIMBY', 'SWEDEN', 'PC', 'RV', 'IAG', 'COMING', 'RT', 'PLAY', 'LIVING', 'VENICE', 'MIT', 'BEGINNING', 'BRUSSELS', 'STORIES', 'OURSELVES', 'FOREVER', 'UTOPIA', 'FUTILE', 'SPIRAL', 'HUD', 'FREETOWN', 'BAD', 'GET', 'CREEP', 'MAD', 'PHILADELPHIA', 'LULAC', 'READY', 'USP', 'DMX', 'JACK', 'JG', 'SATURDAY', 'SWAP', 'AWAY', 'NATO', 'LVMH', 'DREAMER', 'HIS', 'WNYC', 'DISTINCT', 'SUBURBAN', 'QI', 'WERE', 'SVU', 'SODA', 'SPOON', 'NT', 'PEN', 'NFL', 'SLIM', 'JULIAN', 'RAV', 'THE', 'LET', 'ABC', 'JAKARTA', 'AMERICA', 'GMA', 'IFC', 'IK', 'MAID', 'BMO', 'CBC', 'AUSTIN', 'SO', 'GOP', 'WVLNT', 'BUTCHER', 'KFC', 'GENOA', 'CASPER', 'CALL', 'NO', 'PCB', 'ADHD', 'MY', 'PERSON', 'LG', 'ELA', 'VII', 'ISIS', 'PATERSON', 'KKR', 'NBA', 'WME', 'VILLAIN', 'LEAST', 'EVERYTHING', 'RK', 'TK', 'FAR', 'HAL', 'FAN', 'BREAKING', 'EVERY', 'CSS', 'MISPRINTS', 'VMA', 'XVI', 'RED', 'SITE', 'HPV', 'EXCLUSIVE', 'FLIGHT', 'HABITACION', 'COUNTRY', 'FIE', 'WAS', 'KID', 'CONVICT', 'ZAPORIZHZHIA', 'KILLER', 'BTS', 'NARAL', 'OF', 'EEEEK', 'JAL', 'LESS', 'AP', 'INDIA', 'THOMAS', 'FEBRUARY', 'ISBN', 'NYTC', 'NS', 'RINO', 'MAKE', 'SCHOHARIE', 'DVD', 'TEDM', 'SAME', 'BBC', 'VACATION', 'ER', 'WUHAN', 'PRESENTED', 'NCIS', 'MOSUL', 'ASL', 'SURVIVE', 'CVS', 'BRAZILIAN', 'MORNING', 'CRISPR', 'TEL', 'NEARBY', 'SALIMA', 'PEOPLE', 'WTA', 'KRAMATORSK', 'VEGAS', 'GBU', 'NOTEBOOK', 'NOW', 'SMALL', 'LI', 'PROSPECTS', 'OR', 'MAKENI', 'TB', 'BEN', 'TARDIS', 'NOVEMBER', 'JAG', 'BRIGHT', 'WXY', 'CAR', 'ME', 'AARP', 'IMG', 'DIVINE', 'WIC', 'TLC', 'MONDAY', 'MOUNTAIN', 'CRT', 'QA', 'TLS', 'NINETEEN', 'NWEA', 'PG', 'WATCH', 'GK', 'ASAP', 'SWAT', 'GIRL', 'CONSONANT', 'MUST', 'HIGH', 'NY', 'JJ', 'XW', 'DMC', 'PFAS', 'DP', 'DMZ', 'LJ', 'OUT', 'NADA', 'MICHAEL', 'IJ', 'TBR', 'PAYMENT', 'TMZ', 'JONES', 'MOM', 'SISARIO', 'CRISP', 'NICU', 'MJ', 'POINTE', 'CPAP', 'LK', 'AARON', 'BLACKS', 'OWN', 'SOS', 'KJ', 'FROM', 'XCX', 'MOD', 'FS', 'CPR', 'WARRIOR', 'BLACKBIRD', 'BE', 'HAWAII', 'PIZZA', 'DON', 'FOMO', 'BLONDE', 'TSMC', 'GLORY', 'JAMES', 'LAST', 'DIAGRAMLESS', 'MANCHESTER', 'PEPFAR', 'DNA', 'ID', 'VOWEL', 'FURY', 'LICENSED', 'HOUSEWARES', 'STEFANO', 'ANAIS', 'NAACP', 'FIRE', 'JUST', 'LV', 'GPU', 'REACHED', 'INVISIBLE', 'ZX', 'CAC', 'NB', 'AFTER', 'ASYLUM', 'HEPA', 'MIDNIGHT', 'EUR', 'XOXO', 'HF', 'CRIMINAL', 'THURSDAY', 'SRW', 'LVIV', 'POLE', 'FLEE', 'MIG', 'CD', 'PBJ', 'GOOSE', 'THOUGH', 'JR', 'PABLO', 'QUIT', 'CBGB'}\n"
     ]
    }
   ],
   "source": [
    "tokenizer = RegexpTokenizer(r'[A-Z]{2,}')\n",
    "acronyms = []\n",
    "for s in list(df.abstract):\n",
    "    acronyms.extend(tokenizer.tokenize(s))\n",
    "for s in list(df.lead_paragraph):\n",
    "    acronyms.extend(tokenizer.tokenize(s))\n",
    "\n",
    "# Print the number of all found acronyms, both unique and not, and then take a look at them.\n",
    "print(len(acronyms))\n",
    "print(len(set(acronyms)))\n",
    "print(set(acronyms))"
   ]
  },
  {
   "cell_type": "markdown",
   "metadata": {},
   "source": [
    "It appears that a large number of uppercase words are not actually acronyms ('SOMEONE', 'FRANCISCO', 'SUBJECTS'...). Let us try again with abstracts and lead paragraphs separated."
   ]
  },
  {
   "cell_type": "code",
   "execution_count": 15,
   "metadata": {},
   "outputs": [
    {
     "name": "stdout",
     "output_type": "stream",
     "text": [
      "1827\n",
      "334\n",
      "{'NYU', 'ZIP', 'UEFA', 'PAC', 'ICBM', 'THC', 'KSI', 'RBD', 'RE', 'THIS', 'CHIPS', 'QVC', 'CAN', 'KP', 'GIF', 'JD', 'XIII', 'SCTV', 'PBS', 'COP', 'BF', 'BFF', 'WASHINGTON', 'TAG', 'NPR', 'BRICS', 'GPS', 'PJ', 'NLE', 'UNICEF', 'CUNY', 'FBI', 'DEI', 'MA', 'EDM', 'AFTRA', 'EZ', 'CH', 'LED', 'CZ', 'DJI', 'UNO', 'TCM', 'AT', 'WASP', 'BPH', 'IBM', 'CV', 'SPAC', 'MAGA', 'SMR', 'PATH', 'MISSING', 'HANK', 'ARK', 'XII', 'CATL', 'ROFL', 'YSL', 'SXSW', 'HEROES', 'EP', 'SB', 'MQBMBQ', 'SALT', 'EG', 'PGA', 'DK', 'GB', 'NASA', 'MOCAA', 'VO', 'DARPA', 'CC', 'ND', 'IX', 'WNBC', 'AAA', 'IV', 'VIII', 'AOL', 'AIDS', 'XL', 'FM', 'RMS', 'PTSD', 'BBQ', 'PETA', 'KTLA', 'HIROSHIMA', 'IAC', 'MFA', 'CAA', 'HUGE', 'LOL', 'OC', 'BRIC', 'BB', 'FX', 'QR', 'LACMA', 'SUNY', 'NBC', 'HBO', 'ATP', 'DC', 'ESPN', 'AEG', 'BMX', 'GLP', 'CBD', 'SS', 'WIN', 'ZAKA', 'XV', 'BASF', 'IMAX', 'DALL', 'RISC', 'BLAHODATNE', 'NOAA', 'ACT', 'HFZ', 'DHL', 'GLAAD', 'CA', 'OAN', 'ICP', 'UK', 'EMTALA', 'AMC', 'CT', 'CW', 'CBS', 'NYC', 'BATTLE', 'PS', 'OSHA', 'SFJ', 'LFW', 'NTS', 'ANU', 'VHS', 'FEMA', 'AC', 'USA', 'TCW', 'MTV', 'HGTV', 'TKTS', 'II', 'APOE', 'NGO', 'MNC', 'BYD', 'GNC', 'REC', 'AMD', 'ECPR', 'OSIRIS', 'DJ', 'BAFTA', 'BYOM', 'PDF', 'PTL', 'MLK', 'JPM', 'SZA', 'MI', 'WFAN', 'SFMOMA', 'REM', 'FKA', 'MRAP', 'WHP', 'NYT', 'XIX', 'CNBC', 'MSG', 'TV', 'OPEC', 'EV', 'LP', 'AWOL', 'FIFA', 'POOL', 'OS', 'TDI', 'USB', 'RFK', 'AIPAC', 'PRESENT', 'UV', 'UNRWA', 'AI', 'FTX', 'MSC', 'MCU', 'AR', 'CREW', 'ERIC', 'LNG', 'MSNBC', 'SAG', 'UPS', 'VI', 'GQ', 'XIV', 'ADIEU', 'GPT', 'MLB', 'ZP', 'CP', 'CFS', 'SEAL', 'JW', 'STEM', 'MSCHF', 'SPF', 'BAE', 'KIRAC', 'FAFSA', 'KGAY', 'JN', 'SK', 'OK', 'BP', 'NASCAR', 'ATACMS', 'SAVE', 'CNN', 'RNZ', 'TWA', 'UNESCO', 'WQXR', 'STAYC', 'SAT', 'REI', 'SAM', 'LIV', 'CPAC', 'BA', 'JBS', 'XRP', 'CMT', 'SARS', 'HEAT', 'III', 'MDMA', 'YIMBY', 'RV', 'IAG', 'RT', 'HUD', 'LULAC', 'DMX', 'JACK', 'JG', 'NATO', 'LVMH', 'WNYC', 'QI', 'SVU', 'PEN', 'NFL', 'SLIM', 'THE', 'ABC', 'GMA', 'IFC', 'IK', 'CBC', 'GOP', 'KFC', 'PCB', 'ADHD', 'VII', 'ISIS', 'KKR', 'NBA', 'WME', 'TK', 'CSS', 'XVI', 'SITE', 'BTS', 'NARAL', 'NYTC', 'NS', 'MAKE', 'DVD', 'BBC', 'NCIS', 'ASL', 'CVS', 'CRISPR', 'WTA', 'LI', 'OR', 'TB', 'TARDIS', 'CAR', 'ME', 'WIC', 'TLC', 'QA', 'PG', 'ASAP', 'SWAT', 'NY', 'JJ', 'DMC', 'PFAS', 'DP', 'DMZ', 'LJ', 'NADA', 'TBR', 'MJ', 'CPAP', 'OWN', 'SOS', 'KJ', 'XCX', 'CPR', 'TSMC', 'PEPFAR', 'DNA', 'ID', 'GPU', 'NB', 'EUR', 'XOXO', 'CD'}\n",
      "4342\n",
      "1016\n",
      "{'WELKOM', 'SOMNAMBULIST', 'API', 'GRIMOIRE', 'DAZN', 'TN', 'NYU', 'ZIP', 'HVAC', 'GOA', 'CORKY', 'ZANU', 'FATHER', 'DIALOGUE', 'SOMETIMES', 'PAC', 'SHORT', 'LAGOS', 'EASILY', 'THC', 'CLAWS', 'WHEN', 'AA', 'MONICA', 'LOVE', 'GREAT', 'TI', 'CABINET', 'HOA', 'RBD', 'RE', 'RIP', 'AREN', 'UP', 'TCL', 'THIS', 'CHIPS', 'KHERSON', 'BLOWBACK', 'QVC', 'EGOT', 'JOAN', 'CAN', 'PANDA', 'VIP', 'KP', 'GIF', 'DIRECTIONS', 'HQ', 'PARTY', 'GYN', 'ORACLE', 'LAS', 'HELP', 'SCORE', 'CLINTON', 'XIII', 'JD', 'SCTV', 'BMI', 'SECCHI', 'BEES', 'UPDATE', 'ASIAN', 'MUCH', 'PBS', 'SEA', 'MONTEVIDEO', 'VJ', 'UNEARTHED', 'MINNEAPOLIS', 'COP', 'DAY', 'BFF', 'BNSF', 'WASHINGTON', 'MIXED', 'TF', 'TAG', 'NPR', 'CORNWALL', 'BRICS', 'DURHAM', 'GPS', 'LANGUAGE', 'PF', 'LIVERPOOL', 'RNA', 'NAFTA', 'PJ', 'NIGHTS', 'MK', 'COMPANIONS', 'HELD', 'IF', 'MAGIC', 'BUSINESS', 'JAXA', 'UNICEF', 'ARTIST', 'CUNY', 'FBI', 'MGM', 'ELEW', 'PAST', 'ST', 'DZA', 'MM', 'ANTIQUITY', 'WINNING', 'THINK', 'SATIRIZING', 'PARIS', 'XT', 'MA', 'DESCENDS', 'CHRISTMASB', 'BONE', 'ENOUGH', 'DM', 'SUZA', 'NECESSARY', 'APOLOGY', 'EDM', 'TRAY', 'WB', 'ALL', 'DUBLIN', 'HEUER', 'AFTRA', 'IJBOL', 'MANDELA', 'MARCIO', 'EC', 'RUTHLESS', 'BEFORE', 'LED', 'SUMMER', 'ON', 'GOOD', 'PO', 'UNO', 'MYSELF', 'BECAME', 'MATHEMATICIAN', 'CHAIN', 'AT', 'WASP', 'ATHENS', 'SHOW', 'IBM', 'CV', 'TALLINN', 'CAIRO', 'MAGA', 'SMR', 'PRIZE', 'PATH', 'IUD', 'FIVE', 'DELHI', 'TIAA', 'LINK', 'JENNIE', 'SWAMP', 'MIAMI', 'THEM', 'FOR', 'VIRAL', 'ARE', 'XII', 'HA', 'HOW', 'CORE', 'WITH', 'DHC', 'ROFL', 'YSL', 'HELL', 'HEAR', 'FORTHCOMING', 'SAINT', 'DU', 'HEROES', 'BART', 'PITTSBURGH', 'SONNENALLEE', 'MONSTERS', 'EP', 'TWO', 'FOUNDER', 'SILVER', 'EG', 'PGA', 'POLISH', 'ADL', 'DK', 'XXX', 'GB', 'MRI', 'ECMWF', 'DREARY', 'NASA', 'MH', 'WILMINGTON', 'SEOUL', 'SKY', 'LUCKY', 'DOWN', 'CHILDHOOD', 'SHOTS', 'LEE', 'UPMC', 'SUM', 'XBB', 'NW', 'NBCU', 'QUANTUM', 'END', 'SEWANEE', 'VILNIUS', 'SUV', 'DANCE', 'VO', 'CC', 'KINGS', 'GDSWF', 'ND', 'IX', 'LOUIS', 'ANNA', 'AAA', 'LITTLEWICK', 'IV', 'VIII', 'CX', 'AOL', 'CCS', 'ART', 'JONAS', 'AIDS', 'ROCKY', 'WILMA', 'STARTED', 'FM', 'XL', 'NORTH', 'ACROSTIC', 'ROAD', 'GMC', 'FEEL', 'RMS', 'US', 'TOO', 'PR', 'PTSD', 'ANGELES', 'AMERICAN', 'HERE', 'REPO', 'BBQ', 'BROWNING', 'OMG', 'DURING', 'JAMA', 'FAYE', 'ELECTIONS', 'LINKS', 'MEN', 'KTLA', 'RAND', 'HIROSHIMA', 'SON', 'HUGE', 'DIES', 'TRAIN', 'WELLINGTON', 'AMONG', 'REGION', 'LOL', 'SUIT', 'LSD', 'OC', 'ANAGRAMS', 'BRIC', 'SOULS', 'BB', 'NASH', 'UVA', 'LM', 'DIM', 'FX', 'BLANK', 'ADIYAMAN', 'TRIGRAMS', 'IGF', 'INCREASE', 'CARES', 'QR', 'SPRING', 'SUNY', 'NBC', 'GOING', 'HBO', 'BOND', 'BOOK', 'SENDS', 'DC', 'ESPN', 'KIDNAPPED', 'LGBTQ', 'IN', 'NYPD', 'DISCUSSION', 'FEAST', 'WRECK', 'DR', 'GLP', 'CBD', 'ACCOUNT', 'URL', 'BOUFELFEL', 'ATN', 'SS', 'WIN', 'YORK', 'MAN', 'SOME', 'XV', 'AM', 'ROME', 'CAD', 'MC', 'VCR', 'KIND', 'NOTTINGHAM', 'OB', 'KO', 'MOSCOW', 'GILDED', 'CBNC', 'AF', 'NIGHT', 'IMAX', 'DALL', 'MUNICH', 'SITU', 'CROSSWORD', 'DL', 'CAIN', 'MGMT', 'XI', 'RM', 'BT', 'NASHVILLE', 'BLAHODATNE', 'HEIGHT', 'MCC', 'DIEGO', 'WABC', 'PV', 'VAUGHN', 'HERRINGTON', 'ACT', 'WATCHING', 'FIT', 'EVERYONE', 'TIME', 'IQA', 'TASTING', 'ROBERT', 'GARDEN', 'PET', 'BRUTALITIES', 'SPRINGS', 'UBQ', 'ANKARA', 'MARCHING', 'GROWING', 'STARLING', 'GO', 'DHL', 'BS', 'GLAAD', 'CEO', 'TD', 'SUBJECTS', 'JOHANNESBURG', 'IMELDA', 'VREELAND', 'PUSH', 'BELFAST', 'ICP', 'BOY', 'RZA', 'UK', 'STAID', 'BUCKLING', 'LL', 'BEST', 'EMTALA', 'HOPE', 'KC', 'ADAA', 'YOUR', 'AMC', 'YOU', 'ADRE', 'BMW', 'INSIDE', 'HOUSE', 'CT', 'CW', 'CSI', 'LLIT', 'PSL', 'CBS', 'KAL', 'NYC', 'TOWN', 'BATTLE', 'WELL', 'SE', 'AN', 'NICOLE', 'BABY', 'PS', 'BNY', 'QD', 'ADVERSARY', 'YES', 'DMV', 'VHS', 'APB', 'PAUL', 'NOTE', 'BLANKET', 'IVF', 'FEMA', 'RIVER', 'CHILDREN', 'WJLX', 'KFF', 'USA', 'TCW', 'GOPAC', 'MTV', 'KNOWS', 'BEACON', 'GREEN', 'IMAGINE', 'SUSPECT', 'LVIII', 'HGTV', 'NPC', 'PITTSFORD', 'TKTS', 'PAULSON', 'SMOKE', 'DOHA', 'MARCOS', 'II', 'JBF', 'SHADOW', 'BUFFALO', 'SPLIT', 'BEIJING', 'NIN', 'NGO', 'KELLEN', 'FATES', 'BYD', 'MARSHALL', 'TUESDAY', 'MG', 'AMD', 'REBECCA', 'LAKE', 'YEARS', 'FRANCISCO', 'MD', 'BERLIN', 'LAW', 'OSIRIS', 'DJ', 'ANOTHER', 'OVER', 'LINCOLN', 'BOSTON', 'ALLEN', 'AGO', 'BAFTA', 'ARCHITECTS', 'RESISTANCE', 'JFK', 'BYOM', 'CANNES', 'THAT', 'NKBA', 'FORGIVING', 'ILIS', 'DATE', 'REPULSIVE', 'BET', 'ODESA', 'UBS', 'AK', 'FIRST', 'EXORDIA', 'PDF', 'RICH', 'ROY', 'RJ', 'DIDN', 'NFT', 'KILL', 'THEY', 'KT', 'JPM', 'VASES', 'EMINENCE', 'TED', 'SZA', 'WHITELASH', 'MI', 'REYKJAVIK', 'CTL', 'SIMONSON', 'TKO', 'VW', 'KLOS', 'PCOS', 'NARS', 'VUITTON', 'WILD', 'FKA', 'FRIDAY', 'REMEMBER', 'SUNDAY', 'IMD', 'POOR', 'ZYN', 'SECRETS', 'WHP', 'LC', 'NYT', 'DARLING', 'JADE', 'CRYPTIC', 'SOUTH', 'LOWDOWN', 'PALACE', 'COTTER', 'GOFFSTOWN', 'JP', 'PARADISE', 'CNBC', 'EARLY', 'HALIFAX', 'TO', 'TV', 'ANTAKYA', 'OPEC', 'THERE', 'MSG', 'AVIV', 'EV', 'CAIR', 'STAR', 'SWAN', 'MAKERS', 'LP', 'ARTISTS', 'PUNS', 'LOS', 'FIFA', 'ISTANBUL', 'PUZZLE', 'JLL', 'OS', 'NEW', 'HURRICANE', 'DECISIONS', 'MCINTOSH', 'BUCHA', 'AMID', 'TRUFFLE', 'LATE', 'EDOUARD', 'WILL', 'WALL', 'OH', 'WISE', 'KMET', 'DEATH', 'WFMU', 'BEAUTY', 'ANY', 'MOCA', 'ATV', 'UV', 'AIPAC', 'ANTONIO', 'WHILE', 'HPV', 'UNRWA', 'DO', 'PURCHASE', 'DEET', 'SALVAGED', 'AS', 'GENEVA', 'RTE', 'AI', 'TJ', 'VOWS', 'PARTS', 'FTX', 'MSC', 'FIDE', 'BEIRUT', 'ALIVE', 'MCU', 'COUNTER', 'AR', 'TRUMP', 'NAIROBI', 'DIA', 'GEORGETOWN', 'SANTA', 'CHICAGO', 'NSO', 'SEE', 'TINY', 'NATIFS', 'RABAT', 'CARTAGENA', 'MSNBC', 'RAM', 'SAG', 'MX', 'WOODLANDS', 'MAHDAVI', 'DJT', 'OTHER', 'CRUISING', 'UPS', 'VI', 'VA', 'WEEKEND', 'CHANCES', 'SIDE', 'GQ', 'XIV', 'KERRY', 'GPT', 'MLB', 'UNDER', 'RIVALS', 'BANDS', 'BELGRADE', 'SAN', 'SEAL', 'STEM', 'JW', 'MSCHF', 'SPF', 'BAE', 'SCALP', 'FAFSA', 'RIDER', 'KGAY', 'WEDNESDAY', 'JN', 'SK', 'PER', 'OK', 'LIBOR', 'SUPREMACY', 'DAKAR', 'BP', 'ATLANTA', 'EXPO', 'FODMAP', 'NASCAR', 'FUTURE', 'PHOENIX', 'FOUR', 'ATACMS', 'KYIV', 'SUCCESS', 'AND', 'XO', 'CENTER', 'MURDER', 'GRP', 'GRAVE', 'WAVELENGTH', 'STREET', 'CNN', 'BHP', 'SOMEONE', 'LLC', 'STUNNING', 'UNESCO', 'WQXR', 'ECT', 'EXT', 'KWTX', 'HOC', 'SAT', 'MIND', 'FOREST', 'WE', 'ANYONE', 'FAQ', 'SPEAK', 'SHAKE', 'YAMHILL', 'RICO', 'JERUSALEM', 'GOAT', 'LIV', 'IT', 'LMAO', 'LOSSAN', 'ROAMING', 'SIT', 'FARC', 'JBS', 'BREED', 'HIRING', 'WHAT', 'TMNT', 'WARSAW', 'SINS', 'GHENT', 'HOLLAND', 'DCM', 'INDIANAPOLIS', 'NOT', 'JAPANESE', 'DANCES', 'EE', 'IS', 'XRP', 'FAMILIAR', 'HATE', 'PNC', 'LONDON', 'WUNSTORF', 'BIRDS', 'BOUND', 'SARS', 'ASCENT', 'SOAS', 'BAM', 'III', 'JANUARY', 'CALLED', 'DAVID', 'MDMA', 'DOORS', 'YFN', 'SWEDEN', 'PC', 'COMING', 'PLAY', 'LIVING', 'VENICE', 'MIT', 'BEGINNING', 'BRUSSELS', 'STORIES', 'OURSELVES', 'FOREVER', 'UTOPIA', 'FUTILE', 'SPIRAL', 'FREETOWN', 'BAD', 'GET', 'CREEP', 'MAD', 'PHILADELPHIA', 'READY', 'USP', 'JACK', 'DMX', 'SATURDAY', 'JG', 'SWAP', 'AWAY', 'NATO', 'LVMH', 'DREAMER', 'HIS', 'DISTINCT', 'WNYC', 'SUBURBAN', 'WERE', 'SODA', 'SPOON', 'SVU', 'NT', 'PEN', 'NFL', 'JULIAN', 'RAV', 'THE', 'LET', 'ABC', 'JAKARTA', 'AMERICA', 'IFC', 'IK', 'MAID', 'BMO', 'SO', 'AUSTIN', 'CBC', 'WVLNT', 'BUTCHER', 'GENOA', 'CASPER', 'CALL', 'NO', 'MY', 'ADHD', 'PERSON', 'LG', 'ELA', 'VII', 'PATERSON', 'ISIS', 'KKR', 'NBA', 'WME', 'VILLAIN', 'LEAST', 'EVERYTHING', 'RK', 'FAR', 'TK', 'HAL', 'FAN', 'BREAKING', 'EVERY', 'MISPRINTS', 'VMA', 'XVI', 'RED', 'EXCLUSIVE', 'FLIGHT', 'HABITACION', 'COUNTRY', 'FIE', 'WAS', 'KID', 'CONVICT', 'ZAPORIZHZHIA', 'KILLER', 'BTS', 'NARAL', 'OF', 'EEEEK', 'JAL', 'LESS', 'AP', 'INDIA', 'THOMAS', 'FEBRUARY', 'ISBN', 'RINO', 'NS', 'SCHOHARIE', 'DVD', 'TEDM', 'SAME', 'BBC', 'VACATION', 'ER', 'WUHAN', 'PRESENTED', 'NCIS', 'MOSUL', 'SURVIVE', 'CVS', 'BRAZILIAN', 'MORNING', 'TEL', 'CRISPR', 'NEARBY', 'SALIMA', 'PEOPLE', 'KRAMATORSK', 'VEGAS', 'GBU', 'NOTEBOOK', 'NOW', 'SMALL', 'LI', 'PROSPECTS', 'MAKENI', 'OR', 'BEN', 'NOVEMBER', 'JAG', 'BRIGHT', 'WXY', 'CAR', 'AARP', 'ME', 'IMG', 'DIVINE', 'MOUNTAIN', 'MONDAY', 'CRT', 'TLC', 'QA', 'TLS', 'NINETEEN', 'NWEA', 'WATCH', 'PG', 'GK', 'ASAP', 'MUST', 'GIRL', 'CONSONANT', 'SWAT', 'HIGH', 'NY', 'JJ', 'XW', 'DMZ', 'DMC', 'OUT', 'DP', 'LJ', 'MICHAEL', 'NADA', 'PFAS', 'IJ', 'PAYMENT', 'TMZ', 'JONES', 'MOM', 'SISARIO', 'CRISP', 'NICU', 'POINTE', 'MJ', 'CPAP', 'LK', 'AARON', 'BLACKS', 'SOS', 'FROM', 'KJ', 'XCX', 'MOD', 'FS', 'WARRIOR', 'CPR', 'BLACKBIRD', 'BE', 'HAWAII', 'PIZZA', 'DON', 'FOMO', 'BLONDE', 'GLORY', 'JAMES', 'LAST', 'DIAGRAMLESS', 'MANCHESTER', 'PEPFAR', 'DNA', 'ID', 'VOWEL', 'FURY', 'LICENSED', 'HOUSEWARES', 'STEFANO', 'ANAIS', 'NAACP', 'FIRE', 'JUST', 'LV', 'INVISIBLE', 'REACHED', 'GPU', 'ZX', 'CAC', 'AFTER', 'ASYLUM', 'HEPA', 'MIDNIGHT', 'EUR', 'HF', 'CRIMINAL', 'THURSDAY', 'SRW', 'LVIV', 'POLE', 'FLEE', 'MIG', 'CD', 'PBJ', 'GOOSE', 'THOUGH', 'JR', 'PABLO', 'QUIT', 'CBGB'}\n"
     ]
    }
   ],
   "source": [
    "acronyms = []\n",
    "for s in list(df.abstract):\n",
    "    acronyms.extend(tokenizer.tokenize(s))\n",
    "\n",
    "# Print the number of all found acronyms, both unique and not, and then take a look at them.\n",
    "print(len(acronyms))\n",
    "print(len(set(acronyms)))\n",
    "print(set(acronyms))\n",
    "\n",
    "acronyms = []\n",
    "for s in list(df.lead_paragraph):\n",
    "    acronyms.extend(tokenizer.tokenize(s))\n",
    "\n",
    "# Print the number of all found acronyms, both unique and not, and then take a look at them.\n",
    "print(len(acronyms))\n",
    "print(len(set(acronyms)))\n",
    "print(set(acronyms))"
   ]
  },
  {
   "cell_type": "markdown",
   "metadata": {},
   "source": [
    "It would appear that the vast majority of non-acronym uppercase words is coming from the `'lead_paragraph'` column. One simple way to solve this issue might be to \"trust\" that all acronyms from `'abstract'` and those appearing in the U.S.A. format as valid, group them into a set, and only accept uppercase words in `'lead_paragraph'` as acronyms if they can be found in the set."
   ]
  },
  {
   "cell_type": "code",
   "execution_count": 16,
   "metadata": {},
   "outputs": [
    {
     "name": "stdout",
     "output_type": "stream",
     "text": [
      "604\n",
      "{'PDF', 'FTC', 'PTL', 'RJ', 'VP', 'HIV', 'MLK', 'JROTC', 'WH', 'NYU', 'ZIP', 'JPM', 'UEFA', 'VS', 'SZA', 'MI', 'WFAN', 'CFDA', 'HIIT', 'BIS', 'PWHL', 'ALS', 'PAC', 'SFMOMA', 'ICBM', 'REM', 'RL', 'THC', 'AGI', 'KGB', 'UCS', 'KSI', 'USTA', 'FKA', 'EM', 'AA', 'MRAP', 'IOC', 'TI', 'WHP', 'RBD', 'NYT', 'RE', 'MVP', 'RIP', 'XIX', 'THIS', 'NH', 'CHIPS', 'QVC', 'WFP', 'JP', 'CNBC', 'MSG', 'CAN', 'TV', 'KP', 'OPEC', 'VIP', 'ATF', 'GIF', 'EV', 'GI', 'ACLU', 'UFC', 'UNLV', 'AO', 'BJP', 'LP', 'DA', 'HBCU', 'AWOL', 'FIFA', 'JD', 'XIII', 'POOL', 'SCTV', 'BMI', 'OS', 'GDP', 'FLDS', 'POV', 'SNP', 'TDI', 'JM', 'PBS', 'FDA', 'SAI', 'COP', 'BF', 'MS', 'DFMO', 'RR', 'USB', 'HR', 'UAE', 'RFK', 'AIPAC', 'BFF', 'PRESENT', 'SSRI', 'WASHINGTON', 'UV', 'PIF', 'AVOD', 'UNRWA', 'TAG', 'NPR', 'BRICS', 'GPS', 'DAP', 'PJ', 'AS', 'AD', 'AI', 'TJ', 'FTX', 'MSC', 'FL', 'RB', 'JRR', 'MCU', 'NLE', 'IBS', 'AR', 'CREW', 'ERIC', 'UNICEF', 'NYSE', 'CUNY', 'FBI', 'PDQ', 'WJ', 'SA', 'LNG', 'UTI', 'MSNBC', 'LBGTQ', 'FEC', 'SAG', 'AG', 'SEC', 'NEA', 'RTO', 'UPS', 'VI', 'VA', 'DEI', 'MA', 'GQ', 'SRO', 'NRA', 'XIV', 'EDM', 'ADIEU', 'GPT', 'WB', 'ANC', 'DOA', 'MLB', 'RA', 'NHS', 'APS', 'USC', 'VC', 'ZP', 'CP', 'AFTRA', 'EZ', 'CH', 'WEB', 'CFS', 'SEAL', 'JW', 'STEM', 'MSCHF', 'LED', 'SPF', 'IP', 'TH', 'BAE', 'CZ', 'HHS', 'KIRAC', 'FAFSA', 'KGAY', 'DJI', 'UNO', 'JN', 'YT', 'SK', 'TCM', 'AT', 'WASP', 'OK', 'IBM', 'CV', 'BPH', 'BP', 'SPAC', 'CIA', 'TGIF', 'LS', 'PT', 'MAGA', 'NASCAR', 'SMR', 'PATH', 'ATACMS', 'DHS', 'AFL', 'MISSING', 'NHL', 'SAVE', 'HANK', 'ARK', 'XII', 'NL', 'UAB', 'HA', 'CNN', 'RNZ', 'CATL', 'GM', 'PKK', 'ROFL', 'YSL', 'TWA', 'UNESCO', 'WQXR', 'SXSW', 'JC', 'EPA', 'CTE', 'STAYC', 'SAT', 'IH', 'SAD', 'REI', 'HEROES', 'PMI', 'DH', 'JT', 'UNCLE', 'EP', 'SB', 'MQBMBQ', 'SALT', 'EG', 'PGA', 'PCR', 'USSR', 'DOJ', 'SAM', 'DK', 'GB', 'MRI', 'ISS', 'RI', 'LIV', 'IT', 'CPAC', 'NYPL', 'BA', 'JBS', 'NIH', 'WGA', 'NASA', 'CPI', 'HG', 'UFO', 'OG', 'APJ', 'BI', 'IPA', 'YA', 'MOCAA', 'WNBA', 'XRP', 'CMT', 'MLS', 'CEA', 'VFW', 'SUV', 'VO', 'DARPA', 'CC', 'SARS', 'ND', 'IX', 'WNBC', 'ETF', 'HEAT', 'USFL', 'CIO', 'FSB', 'III', 'AAA', 'IV', 'POW', 'GROOVE', 'MDMA', 'VIII', 'AOL', 'ART', 'YIMBY', 'OJ', 'RSV', 'AIDS', 'IAG', 'RV', 'FAA', 'PTA', 'XL', 'RT', 'FM', 'AIG', 'MIT', 'CS', 'ICU', 'US', 'RMS', 'CR', 'PR', 'PTSD', 'RF', 'HUD', 'HC', 'CGI', 'BBQ', 'LULAC', 'UNC', 'CGM', 'UAW', 'IED', 'DMX', 'JACK', 'JG', 'NATO', 'LVMH', 'UN', 'PETA', 'KTLA', 'AK', 'AL', 'WNYC', 'KKK', 'HIROSHIMA', 'IAC', 'QI', 'MFA', 'CAA', 'SVU', 'AJ', 'PEN', 'NFL', 'SLIM', 'HUGE', 'RP', 'THE', 'ABC', 'LOL', 'GMA', 'IFC', 'FC', 'IK', 'OC', 'NWSL', 'RSVP', 'NM', 'CBC', 'BRIC', 'GOP', 'BB', 'KFC', 'LM', 'FX', 'BOB', 'PCB', 'ADHD', 'ELA', 'QR', 'VII', 'ISIS', 'LACMA', 'KKR', 'SUNY', 'NBC', 'NBA', 'HBO', 'ATP', 'WME', 'AW', 'DC', 'TK', 'ESPN', 'SNL', 'AEG', 'LGBTQ', 'NYPD', 'BMX', 'CSS', 'GLP', 'CBD', 'GW', 'XVI', 'SS', 'SITE', 'WIN', 'PLA', 'SD', 'ZAKA', 'COG', 'XV', 'WM', 'ROME', 'MC', 'LSU', 'JK', 'BASF', 'MTA', 'WWE', 'BTS', 'NARAL', 'IMAX', 'AP', 'DALL', 'BDSM', 'CDC', 'MO', 'NYTC', 'NS', 'RM', 'MAKE', 'RISC', 'BLAHODATNE', 'DVD', 'WW', 'NOAA', 'BBC', 'BIG', 'ESG', 'AH', 'DEA', 'EB', 'ER', 'NCIS', 'ACT', 'IQ', 'ASL', 'HW', 'CVS', 'MBA', 'BCE', 'FDR', 'CRISPR', 'EU', 'WTA', 'IRS', 'JB', 'HFZ', 'NJ', 'DHL', 'GLAAD', 'LI', 'CEO', 'OR', 'CA', 'TB', 'OMA', 'TARDIS', 'CAR', 'ME', 'OAN', 'ICP', 'IRA', 'JACE', 'WIC', 'TLC', 'UK', 'NAR', 'QA', 'EMTALA', 'SCI', 'LL', 'GK', 'PG', 'JGA', 'LGBTQIA', 'ASAP', 'SWAT', 'KC', 'AMC', 'UF', 'NY', 'JJ', 'WIV', 'CT', 'PFAS', 'DMC', 'DP', 'CW', 'LJ', 'NADA', 'DMZ', 'TBR', 'UC', 'CBS', 'NYC', 'IOU', 'BATTLE', 'SE', 'MJ', 'CPAP', 'AV', 'PS', 'OSHA', 'SFJ', 'LFW', 'NTS', 'ANU', 'RICE', 'BC', 'OWN', 'VHS', 'SOS', 'LA', 'KJ', 'DMV', 'XCX', 'UCLA', 'FEMA', 'CPR', 'USS', 'IVF', 'CSA', 'CE', 'LGBT', 'TSA', 'TSMC', 'AC', 'USA', 'SC', 'DIY', 'BJ', 'TCW', 'PA', 'MTV', 'IPO', 'WHO', 'PEPFAR', 'DNA', 'HGTV', 'ID', 'FAO', 'NPC', 'SW', 'TKTS', 'RO', 'NAACP', 'DB', 'MIA', 'II', 'STI', 'BG', 'WP', 'GPU', 'APOE', 'NGO', 'MNC', 'SOB', 'CB', 'BYD', 'NB', 'NCAA', 'FDIC', 'GNC', 'IDF', 'DW', 'REC', 'EUR', 'AMD', 'XOXO', 'DNC', 'TS', 'AFC', 'ECPR', 'ABA', 'OSIRIS', 'RNC', 'DJ', 'NC', 'BAFTA', 'ATM', 'UW', 'JFK', 'CJ', 'BYOM', 'JASA', 'CD', 'DUI', 'JR', 'LPGA', 'AME'}\n"
     ]
    }
   ],
   "source": [
    "import re\n",
    "\n",
    "acronyms = set([])\n",
    "\n",
    "# Add all the uppercase words from all abstracts.\n",
    "for s in list(df.abstract):\n",
    "    acronyms |= set(acr for acr in re.findall(r'[A-Z]{2,}', s))\n",
    "\n",
    "# Now we want to add the acronyms in the dot-separated format, from both abstracts and lead paragraphs.\n",
    "for s in list(df.abstract):\n",
    "    acronyms |= set(acr.replace('.', '') for acr in re.findall(r'(?:[A-Z]\\.){2,}', s))\n",
    "for s in list(df.lead_paragraph):\n",
    "    acronyms |= set(acr.replace('.', '') for acr in re.findall(r'(?:[A-Z]\\.){2,}', s))\n",
    "\n",
    "print(len(acronyms))\n",
    "print(acronyms)"
   ]
  },
  {
   "cell_type": "code",
   "execution_count": 17,
   "metadata": {},
   "outputs": [],
   "source": [
    "def clean_acronym(m: re.Match) -> str:\n",
    "    clean_string = m.group(0).replace('.', '')\n",
    "    return '>'+clean_string if clean_string in acronyms else m.group(0)"
   ]
  },
  {
   "cell_type": "code",
   "execution_count": 18,
   "metadata": {},
   "outputs": [
    {
     "data": {
      "text/plain": [
       "'\">TGIF\", said >JK Simmons after landing at >JFK.'"
      ]
     },
     "execution_count": 18,
     "metadata": {},
     "output_type": "execute_result"
    }
   ],
   "source": [
    "# Let us test the function we just defined.\n",
    "text = '\"T.G.I.F.\", said J.K. Simmons after landing at JFK.'\n",
    "\n",
    "re.sub(r'[A-Z]{2,}|(?:[A-Z]\\.){2,}', clean_acronym, text)"
   ]
  },
  {
   "cell_type": "code",
   "execution_count": 19,
   "metadata": {},
   "outputs": [
    {
     "data": {
      "text/plain": [
       "0                         Economic hardship, climate change, political instability and gang violence will continue to spur emigration from many corners of the world.\n",
       "1                                                                                                    It's election night in America. Stay away from the bodega sushi.\n",
       "2                                   Tom is stressed in dress shoes, Shiv hides beneath layers (of lies and a turtleneck), and Willa cosplays as a first lady hopeful.\n",
       "3                                                                                                           No corrections appeared in print on Monday, May 15, 2023.\n",
       "4                                                                                                                      Quotation of the Day for Monday, May 15, 2023.\n",
       "5                              The 19-year-old French basketball star is the most hyped >NBA prospect since LeBron James, but he says he isn't fazed by the pressure.\n",
       "6                  New York City students are struggling with reading, but principals are worried that the rollout of a new teaching method is happening too quickly.\n",
       "7                                                                                                                                       Results of Turkey's election.\n",
       "8                                                                                                  Shouldn't a protest movement led by unions be benefiting the left?\n",
       "9    A spy drama based on a decades-long manhunt comes to Showtime, and a new >FX documentary brings back former Hillsong pastors to reflect on the church's scandal.\n",
       "Name: abstract, dtype: object"
      ]
     },
     "execution_count": 19,
     "metadata": {},
     "output_type": "execute_result"
    }
   ],
   "source": [
    "df.abstract = df.abstract.apply(lambda x: re.sub(r'[A-Z]{2,}|(?:[A-Z]\\.){2,}', clean_acronym, x))\n",
    "df.abstract.head(10)"
   ]
  },
  {
   "cell_type": "markdown",
   "metadata": {},
   "source": [
    "#### Full tokenization\n",
    "\n",
    "We now create two new columns to store the tokenized versions of abstracts and lead paragraphs. We will include the following token formats:\n",
    "- Words, or rather any sequences of alphanumeric characters which are not exclusively digits;\n",
    "- Acronyms, i.e. strings formed by the character `'>'` followed by any sequence of alphabetic characers;\n",
    "- Years, i.e. sequences of exactly four digits led by `'19'` or `'20'`.\n",
    "\n",
    "Before we tokenize, we should also account for the fact that some words (notably names, such as O'Brien and D'Onofrio) may contain apostrophes. At the same time, we don't want to retain things like genitives, so we will eliminate those before extracting names containing apostrophes."
   ]
  },
  {
   "cell_type": "code",
   "execution_count": 20,
   "metadata": {},
   "outputs": [],
   "source": [
    "# As it stands, this will accept as tokens any string of digits that looks like a date, even if it occurs inside a longer number.\n",
    "tokenizer = RegexpTokenizer(r'[a-z]{2,}|>[a-z]*|[a-z]+\\'[a-z]+|19\\d{2}|20\\d{2}')"
   ]
  },
  {
   "cell_type": "code",
   "execution_count": 21,
   "metadata": {},
   "outputs": [
    {
     "data": {
      "text/plain": [
       "['on',\n",
       " 'august',\n",
       " 'th',\n",
       " '2016',\n",
       " 'the',\n",
       " '>nyt',\n",
       " 'sold',\n",
       " 'copies',\n",
       " 'according',\n",
       " 'to',\n",
       " 'conan',\n",
       " \"o'brien\"]"
      ]
     },
     "execution_count": 21,
     "metadata": {},
     "output_type": "execute_result"
    }
   ],
   "source": [
    "def tokenize(s: str) -> str:\n",
    "    s = s.lower()\n",
    "    s.replace('\\'s', '')\n",
    "    s = re.sub(r'\\d{5,}', '', s)\n",
    "    return tokenizer.tokenize(s)\n",
    "\n",
    "# Test; the following is FAKE NEWS!\n",
    "text = \"On August 7th, 2016, the >NYT sold 832000 copies, according to Conan O'Brien.\" # Fake news!!\n",
    "tokenize(text)"
   ]
  },
  {
   "cell_type": "code",
   "execution_count": 22,
   "metadata": {},
   "outputs": [],
   "source": [
    "df['tokenized_abstract'] = df.abstract.apply(tokenize)\n",
    "df['tokenized_lead_par'] = df.lead_paragraph.apply(tokenize)\n",
    "df.abstract = df.tokenized_abstract.apply(lambda x: ' '.join(x))\n",
    "df.lead_paragraph = df.tokenized_lead_par.apply(lambda x: ' '.join(x))"
   ]
  },
  {
   "cell_type": "code",
   "execution_count": 23,
   "metadata": {},
   "outputs": [
    {
     "data": {
      "text/html": [
       "<div>\n",
       "<style scoped>\n",
       "    .dataframe tbody tr th:only-of-type {\n",
       "        vertical-align: middle;\n",
       "    }\n",
       "\n",
       "    .dataframe tbody tr th {\n",
       "        vertical-align: top;\n",
       "    }\n",
       "\n",
       "    .dataframe thead th {\n",
       "        text-align: right;\n",
       "    }\n",
       "</style>\n",
       "<table border=\"1\" class=\"dataframe\">\n",
       "  <thead>\n",
       "    <tr style=\"text-align: right;\">\n",
       "      <th></th>\n",
       "      <th>abstract</th>\n",
       "      <th>lead_paragraph</th>\n",
       "      <th>tokenized_abstract</th>\n",
       "      <th>tokenized_lead_par</th>\n",
       "    </tr>\n",
       "  </thead>\n",
       "  <tbody>\n",
       "    <tr>\n",
       "      <th>0</th>\n",
       "      <td>economic hardship climate change political instability and gang violence will continue to spur emigration from many corners of the world</td>\n",
       "      <td>relative quiet has prevailed along the southern border since friday despite widespread fears that ending pandemic era policy to immediately expel most migrants even asylum seekers would set off stampede from mexico</td>\n",
       "      <td>[economic, hardship, climate, change, political, instability, and, gang, violence, will, continue, to, spur, emigration, from, many, corners, of, the, world]</td>\n",
       "      <td>[relative, quiet, has, prevailed, along, the, southern, border, since, friday, despite, widespread, fears, that, ending, pandemic, era, policy, to, immediately, expel, most, migrants, even, asylum, seekers, would, set, off, stampede, from, mexico]</td>\n",
       "    </tr>\n",
       "    <tr>\n",
       "      <th>1</th>\n",
       "      <td>it election night in america stay away from the bodega sushi</td>\n",
       "      <td>the day before logan roy died he delivered fiery call to arms to his atn staff letting them know what he expected from the network going forward the speech was an angrier variation of the populist spiel he had given many times before in which he insisted that the news should always be frank and unpretentious he wanted his anchors to tell their viewers truthful things they had never heard anyone say before on television he wanted atn to be in word spicy</td>\n",
       "      <td>[it, election, night, in, america, stay, away, from, the, bodega, sushi]</td>\n",
       "      <td>[the, day, before, logan, roy, died, he, delivered, fiery, call, to, arms, to, his, atn, staff, letting, them, know, what, he, expected, from, the, network, going, forward, the, speech, was, an, angrier, variation, of, the, populist, spiel, he, had, given, many, times, before, in, which, he, insisted, that, the, news, should, always, be, frank, and, unpretentious, he, wanted, his, anchors, to, tell, their, viewers, truthful, things, they, had, never, heard, anyone, say, before, on, television, he, wanted, atn, to, be, in, word, spicy]</td>\n",
       "    </tr>\n",
       "    <tr>\n",
       "      <th>2</th>\n",
       "      <td>tom is stressed in dress shoes shiv hides beneath layers of lies and turtleneck and willa cosplays as first lady hopeful</td>\n",
       "      <td>this article contains spoilers for episode of the final season of succession</td>\n",
       "      <td>[tom, is, stressed, in, dress, shoes, shiv, hides, beneath, layers, of, lies, and, turtleneck, and, willa, cosplays, as, first, lady, hopeful]</td>\n",
       "      <td>[this, article, contains, spoilers, for, episode, of, the, final, season, of, succession]</td>\n",
       "    </tr>\n",
       "    <tr>\n",
       "      <th>3</th>\n",
       "      <td>no corrections appeared in print on monday may 2023</td>\n",
       "      <td>errors are corrected during the press run whenever possible so some errors noted here may not have appeared in all editions</td>\n",
       "      <td>[no, corrections, appeared, in, print, on, monday, may, 2023]</td>\n",
       "      <td>[errors, are, corrected, during, the, press, run, whenever, possible, so, some, errors, noted, here, may, not, have, appeared, in, all, editions]</td>\n",
       "    </tr>\n",
       "    <tr>\n",
       "      <th>4</th>\n",
       "      <td>quotation of the day for monday may 2023</td>\n",
       "      <td>for me it was time to give back the love they gave me before</td>\n",
       "      <td>[quotation, of, the, day, for, monday, may, 2023]</td>\n",
       "      <td>[for, me, it, was, time, to, give, back, the, love, they, gave, me, before]</td>\n",
       "    </tr>\n",
       "    <tr>\n",
       "      <th>5</th>\n",
       "      <td>the year old french basketball star is the most hyped &gt;nba prospect since lebron james but he says he isn fazed by the pressure</td>\n",
       "      <td>boris diaw was passing through paris in late september and thought he would check out basketball game young player he had heard about for years was playing</td>\n",
       "      <td>[the, year, old, french, basketball, star, is, the, most, hyped, &gt;nba, prospect, since, lebron, james, but, he, says, he, isn, fazed, by, the, pressure]</td>\n",
       "      <td>[boris, diaw, was, passing, through, paris, in, late, september, and, thought, he, would, check, out, basketball, game, young, player, he, had, heard, about, for, years, was, playing]</td>\n",
       "    </tr>\n",
       "    <tr>\n",
       "      <th>6</th>\n",
       "      <td>new york city students are struggling with reading but principals are worried that the rollout of new teaching method is happening too quickly</td>\n",
       "      <td>good morning it monday we ll look at something so fundamental it the first of the three r's and why new york city is about to change the way it is taught in public schools</td>\n",
       "      <td>[new, york, city, students, are, struggling, with, reading, but, principals, are, worried, that, the, rollout, of, new, teaching, method, is, happening, too, quickly]</td>\n",
       "      <td>[good, morning, it, monday, we, ll, look, at, something, so, fundamental, it, the, first, of, the, three, r's, and, why, new, york, city, is, about, to, change, the, way, it, is, taught, in, public, schools]</td>\n",
       "    </tr>\n",
       "    <tr>\n",
       "      <th>7</th>\n",
       "      <td>results of turkey election</td>\n",
       "      <td>turkey presidential election appears to be destined for runoff after the incumbent recep tayyip erdogan failed to win majority of the vote in the toughest political challenge of his career</td>\n",
       "      <td>[results, of, turkey, election]</td>\n",
       "      <td>[turkey, presidential, election, appears, to, be, destined, for, runoff, after, the, incumbent, recep, tayyip, erdogan, failed, to, win, majority, of, the, vote, in, the, toughest, political, challenge, of, his, career]</td>\n",
       "    </tr>\n",
       "    <tr>\n",
       "      <th>8</th>\n",
       "      <td>shouldn protest movement led by unions be benefiting the left</td>\n",
       "      <td>for three months france has been in revolt demonstrators have marched railroad workers have blocked tracks barricades and buildings have been set aflame protesters have done battle in the street with police the most recent innovation has been tamer people have banged pots whenever the president has appeared the cause president emmanuel macron measure raising the retirement age from to</td>\n",
       "      <td>[shouldn, protest, movement, led, by, unions, be, benefiting, the, left]</td>\n",
       "      <td>[for, three, months, france, has, been, in, revolt, demonstrators, have, marched, railroad, workers, have, blocked, tracks, barricades, and, buildings, have, been, set, aflame, protesters, have, done, battle, in, the, street, with, police, the, most, recent, innovation, has, been, tamer, people, have, banged, pots, whenever, the, president, has, appeared, the, cause, president, emmanuel, macron, measure, raising, the, retirement, age, from, to]</td>\n",
       "    </tr>\n",
       "    <tr>\n",
       "      <th>9</th>\n",
       "      <td>spy drama based on decades long manhunt comes to showtime and new &gt;fx documentary brings back former hillsong pastors to reflect on the church scandal</td>\n",
       "      <td>between network cable and streaming the modern television landscape is vast one here are some of the shows specials and movies coming to tv this week may details and times are subject to change</td>\n",
       "      <td>[spy, drama, based, on, decades, long, manhunt, comes, to, showtime, and, new, &gt;fx, documentary, brings, back, former, hillsong, pastors, to, reflect, on, the, church, scandal]</td>\n",
       "      <td>[between, network, cable, and, streaming, the, modern, television, landscape, is, vast, one, here, are, some, of, the, shows, specials, and, movies, coming, to, tv, this, week, may, details, and, times, are, subject, to, change]</td>\n",
       "    </tr>\n",
       "  </tbody>\n",
       "</table>\n",
       "</div>"
      ],
      "text/plain": [
       "                                                                                                                                                 abstract  \\\n",
       "0                economic hardship climate change political instability and gang violence will continue to spur emigration from many corners of the world   \n",
       "1                                                                                            it election night in america stay away from the bodega sushi   \n",
       "2                                tom is stressed in dress shoes shiv hides beneath layers of lies and turtleneck and willa cosplays as first lady hopeful   \n",
       "3                                                                                                     no corrections appeared in print on monday may 2023   \n",
       "4                                                                                                                quotation of the day for monday may 2023   \n",
       "5                         the year old french basketball star is the most hyped >nba prospect since lebron james but he says he isn fazed by the pressure   \n",
       "6          new york city students are struggling with reading but principals are worried that the rollout of new teaching method is happening too quickly   \n",
       "7                                                                                                                              results of turkey election   \n",
       "8                                                                                           shouldn protest movement led by unions be benefiting the left   \n",
       "9  spy drama based on decades long manhunt comes to showtime and new >fx documentary brings back former hillsong pastors to reflect on the church scandal   \n",
       "\n",
       "                                                                                                                                                                                                                                                                                                                                                                                                                                                             lead_paragraph  \\\n",
       "0                                                                                                                                                                                                                                                    relative quiet has prevailed along the southern border since friday despite widespread fears that ending pandemic era policy to immediately expel most migrants even asylum seekers would set off stampede from mexico   \n",
       "1  the day before logan roy died he delivered fiery call to arms to his atn staff letting them know what he expected from the network going forward the speech was an angrier variation of the populist spiel he had given many times before in which he insisted that the news should always be frank and unpretentious he wanted his anchors to tell their viewers truthful things they had never heard anyone say before on television he wanted atn to be in word spicy   \n",
       "2                                                                                                                                                                                                                                                                                                                                                                                              this article contains spoilers for episode of the final season of succession   \n",
       "3                                                                                                                                                                                                                                                                                                                                               errors are corrected during the press run whenever possible so some errors noted here may not have appeared in all editions   \n",
       "4                                                                                                                                                                                                                                                                                                                                                                                                              for me it was time to give back the love they gave me before   \n",
       "5                                                                                                                                                                                                                                                                                                               boris diaw was passing through paris in late september and thought he would check out basketball game young player he had heard about for years was playing   \n",
       "6                                                                                                                                                                                                                                                                                               good morning it monday we ll look at something so fundamental it the first of the three r's and why new york city is about to change the way it is taught in public schools   \n",
       "7                                                                                                                                                                                                                                                                              turkey presidential election appears to be destined for runoff after the incumbent recep tayyip erdogan failed to win majority of the vote in the toughest political challenge of his career   \n",
       "8                                                                       for three months france has been in revolt demonstrators have marched railroad workers have blocked tracks barricades and buildings have been set aflame protesters have done battle in the street with police the most recent innovation has been tamer people have banged pots whenever the president has appeared the cause president emmanuel macron measure raising the retirement age from to   \n",
       "9                                                                                                                                                                                                                                                                         between network cable and streaming the modern television landscape is vast one here are some of the shows specials and movies coming to tv this week may details and times are subject to change   \n",
       "\n",
       "                                                                                                                                                                 tokenized_abstract  \\\n",
       "0                     [economic, hardship, climate, change, political, instability, and, gang, violence, will, continue, to, spur, emigration, from, many, corners, of, the, world]   \n",
       "1                                                                                                          [it, election, night, in, america, stay, away, from, the, bodega, sushi]   \n",
       "2                                    [tom, is, stressed, in, dress, shoes, shiv, hides, beneath, layers, of, lies, and, turtleneck, and, willa, cosplays, as, first, lady, hopeful]   \n",
       "3                                                                                                                     [no, corrections, appeared, in, print, on, monday, may, 2023]   \n",
       "4                                                                                                                                 [quotation, of, the, day, for, monday, may, 2023]   \n",
       "5                          [the, year, old, french, basketball, star, is, the, most, hyped, >nba, prospect, since, lebron, james, but, he, says, he, isn, fazed, by, the, pressure]   \n",
       "6            [new, york, city, students, are, struggling, with, reading, but, principals, are, worried, that, the, rollout, of, new, teaching, method, is, happening, too, quickly]   \n",
       "7                                                                                                                                                   [results, of, turkey, election]   \n",
       "8                                                                                                          [shouldn, protest, movement, led, by, unions, be, benefiting, the, left]   \n",
       "9  [spy, drama, based, on, decades, long, manhunt, comes, to, showtime, and, new, >fx, documentary, brings, back, former, hillsong, pastors, to, reflect, on, the, church, scandal]   \n",
       "\n",
       "                                                                                                                                                                                                                                                                                                                                                                                                                                                                                                                                             tokenized_lead_par  \n",
       "0                                                                                                                                                                                                                                                                                                       [relative, quiet, has, prevailed, along, the, southern, border, since, friday, despite, widespread, fears, that, ending, pandemic, era, policy, to, immediately, expel, most, migrants, even, asylum, seekers, would, set, off, stampede, from, mexico]  \n",
       "1  [the, day, before, logan, roy, died, he, delivered, fiery, call, to, arms, to, his, atn, staff, letting, them, know, what, he, expected, from, the, network, going, forward, the, speech, was, an, angrier, variation, of, the, populist, spiel, he, had, given, many, times, before, in, which, he, insisted, that, the, news, should, always, be, frank, and, unpretentious, he, wanted, his, anchors, to, tell, their, viewers, truthful, things, they, had, never, heard, anyone, say, before, on, television, he, wanted, atn, to, be, in, word, spicy]  \n",
       "2                                                                                                                                                                                                                                                                                                                                                                                                                                                                     [this, article, contains, spoilers, for, episode, of, the, final, season, of, succession]  \n",
       "3                                                                                                                                                                                                                                                                                                                                                                                                             [errors, are, corrected, during, the, press, run, whenever, possible, so, some, errors, noted, here, may, not, have, appeared, in, all, editions]  \n",
       "4                                                                                                                                                                                                                                                                                                                                                                                                                                                                                   [for, me, it, was, time, to, give, back, the, love, they, gave, me, before]  \n",
       "5                                                                                                                                                                                                                                                                                                                                                                       [boris, diaw, was, passing, through, paris, in, late, september, and, thought, he, would, check, out, basketball, game, young, player, he, had, heard, about, for, years, was, playing]  \n",
       "6                                                                                                                                                                                                                                                                                                                                               [good, morning, it, monday, we, ll, look, at, something, so, fundamental, it, the, first, of, the, three, r's, and, why, new, york, city, is, about, to, change, the, way, it, is, taught, in, public, schools]  \n",
       "7                                                                                                                                                                                                                                                                                                                                   [turkey, presidential, election, appears, to, be, destined, for, runoff, after, the, incumbent, recep, tayyip, erdogan, failed, to, win, majority, of, the, vote, in, the, toughest, political, challenge, of, his, career]  \n",
       "8                                                                                              [for, three, months, france, has, been, in, revolt, demonstrators, have, marched, railroad, workers, have, blocked, tracks, barricades, and, buildings, have, been, set, aflame, protesters, have, done, battle, in, the, street, with, police, the, most, recent, innovation, has, been, tamer, people, have, banged, pots, whenever, the, president, has, appeared, the, cause, president, emmanuel, macron, measure, raising, the, retirement, age, from, to]  \n",
       "9                                                                                                                                                                                                                                                                                                                          [between, network, cable, and, streaming, the, modern, television, landscape, is, vast, one, here, are, some, of, the, shows, specials, and, movies, coming, to, tv, this, week, may, details, and, times, are, subject, to, change]  "
      ]
     },
     "execution_count": 23,
     "metadata": {},
     "output_type": "execute_result"
    }
   ],
   "source": [
    "tokenized_columns = ['tokenized_abstract', 'tokenized_lead_par']\n",
    "df[columns+tokenized_columns].head(10)"
   ]
  },
  {
   "cell_type": "markdown",
   "metadata": {},
   "source": [
    "#### Plotting word counts"
   ]
  },
  {
   "cell_type": "markdown",
   "metadata": {},
   "source": [
    "Now let us create two new columns in the data frame counting words in the corresponding fields, plus one for the combined count."
   ]
  },
  {
   "cell_type": "code",
   "execution_count": 24,
   "metadata": {},
   "outputs": [
    {
     "data": {
      "text/html": [
       "<div>\n",
       "<style scoped>\n",
       "    .dataframe tbody tr th:only-of-type {\n",
       "        vertical-align: middle;\n",
       "    }\n",
       "\n",
       "    .dataframe tbody tr th {\n",
       "        vertical-align: top;\n",
       "    }\n",
       "\n",
       "    .dataframe thead th {\n",
       "        text-align: right;\n",
       "    }\n",
       "</style>\n",
       "<table border=\"1\" class=\"dataframe\">\n",
       "  <thead>\n",
       "    <tr style=\"text-align: right;\">\n",
       "      <th></th>\n",
       "      <th>abstract</th>\n",
       "      <th>lead_paragraph</th>\n",
       "      <th>abstract_ct</th>\n",
       "      <th>lead_par_ct</th>\n",
       "      <th>total_ct</th>\n",
       "    </tr>\n",
       "  </thead>\n",
       "  <tbody>\n",
       "    <tr>\n",
       "      <th>0</th>\n",
       "      <td>economic hardship climate change political instability and gang violence will continue to spur emigration from many corners of the world</td>\n",
       "      <td>relative quiet has prevailed along the southern border since friday despite widespread fears that ending pandemic era policy to immediately expel most migrants even asylum seekers would set off stampede from mexico</td>\n",
       "      <td>20</td>\n",
       "      <td>32</td>\n",
       "      <td>52</td>\n",
       "    </tr>\n",
       "    <tr>\n",
       "      <th>1</th>\n",
       "      <td>it election night in america stay away from the bodega sushi</td>\n",
       "      <td>the day before logan roy died he delivered fiery call to arms to his atn staff letting them know what he expected from the network going forward the speech was an angrier variation of the populist spiel he had given many times before in which he insisted that the news should always be frank and unpretentious he wanted his anchors to tell their viewers truthful things they had never heard anyone say before on television he wanted atn to be in word spicy</td>\n",
       "      <td>11</td>\n",
       "      <td>83</td>\n",
       "      <td>94</td>\n",
       "    </tr>\n",
       "    <tr>\n",
       "      <th>2</th>\n",
       "      <td>tom is stressed in dress shoes shiv hides beneath layers of lies and turtleneck and willa cosplays as first lady hopeful</td>\n",
       "      <td>this article contains spoilers for episode of the final season of succession</td>\n",
       "      <td>21</td>\n",
       "      <td>12</td>\n",
       "      <td>33</td>\n",
       "    </tr>\n",
       "    <tr>\n",
       "      <th>3</th>\n",
       "      <td>no corrections appeared in print on monday may 2023</td>\n",
       "      <td>errors are corrected during the press run whenever possible so some errors noted here may not have appeared in all editions</td>\n",
       "      <td>9</td>\n",
       "      <td>21</td>\n",
       "      <td>30</td>\n",
       "    </tr>\n",
       "    <tr>\n",
       "      <th>4</th>\n",
       "      <td>quotation of the day for monday may 2023</td>\n",
       "      <td>for me it was time to give back the love they gave me before</td>\n",
       "      <td>8</td>\n",
       "      <td>14</td>\n",
       "      <td>22</td>\n",
       "    </tr>\n",
       "    <tr>\n",
       "      <th>5</th>\n",
       "      <td>the year old french basketball star is the most hyped &gt;nba prospect since lebron james but he says he isn fazed by the pressure</td>\n",
       "      <td>boris diaw was passing through paris in late september and thought he would check out basketball game young player he had heard about for years was playing</td>\n",
       "      <td>24</td>\n",
       "      <td>27</td>\n",
       "      <td>51</td>\n",
       "    </tr>\n",
       "    <tr>\n",
       "      <th>6</th>\n",
       "      <td>new york city students are struggling with reading but principals are worried that the rollout of new teaching method is happening too quickly</td>\n",
       "      <td>good morning it monday we ll look at something so fundamental it the first of the three r's and why new york city is about to change the way it is taught in public schools</td>\n",
       "      <td>23</td>\n",
       "      <td>35</td>\n",
       "      <td>58</td>\n",
       "    </tr>\n",
       "    <tr>\n",
       "      <th>7</th>\n",
       "      <td>results of turkey election</td>\n",
       "      <td>turkey presidential election appears to be destined for runoff after the incumbent recep tayyip erdogan failed to win majority of the vote in the toughest political challenge of his career</td>\n",
       "      <td>4</td>\n",
       "      <td>30</td>\n",
       "      <td>34</td>\n",
       "    </tr>\n",
       "    <tr>\n",
       "      <th>8</th>\n",
       "      <td>shouldn protest movement led by unions be benefiting the left</td>\n",
       "      <td>for three months france has been in revolt demonstrators have marched railroad workers have blocked tracks barricades and buildings have been set aflame protesters have done battle in the street with police the most recent innovation has been tamer people have banged pots whenever the president has appeared the cause president emmanuel macron measure raising the retirement age from to</td>\n",
       "      <td>10</td>\n",
       "      <td>60</td>\n",
       "      <td>70</td>\n",
       "    </tr>\n",
       "    <tr>\n",
       "      <th>9</th>\n",
       "      <td>spy drama based on decades long manhunt comes to showtime and new &gt;fx documentary brings back former hillsong pastors to reflect on the church scandal</td>\n",
       "      <td>between network cable and streaming the modern television landscape is vast one here are some of the shows specials and movies coming to tv this week may details and times are subject to change</td>\n",
       "      <td>25</td>\n",
       "      <td>34</td>\n",
       "      <td>59</td>\n",
       "    </tr>\n",
       "  </tbody>\n",
       "</table>\n",
       "</div>"
      ],
      "text/plain": [
       "                                                                                                                                                 abstract  \\\n",
       "0                economic hardship climate change political instability and gang violence will continue to spur emigration from many corners of the world   \n",
       "1                                                                                            it election night in america stay away from the bodega sushi   \n",
       "2                                tom is stressed in dress shoes shiv hides beneath layers of lies and turtleneck and willa cosplays as first lady hopeful   \n",
       "3                                                                                                     no corrections appeared in print on monday may 2023   \n",
       "4                                                                                                                quotation of the day for monday may 2023   \n",
       "5                         the year old french basketball star is the most hyped >nba prospect since lebron james but he says he isn fazed by the pressure   \n",
       "6          new york city students are struggling with reading but principals are worried that the rollout of new teaching method is happening too quickly   \n",
       "7                                                                                                                              results of turkey election   \n",
       "8                                                                                           shouldn protest movement led by unions be benefiting the left   \n",
       "9  spy drama based on decades long manhunt comes to showtime and new >fx documentary brings back former hillsong pastors to reflect on the church scandal   \n",
       "\n",
       "                                                                                                                                                                                                                                                                                                                                                                                                                                                             lead_paragraph  \\\n",
       "0                                                                                                                                                                                                                                                    relative quiet has prevailed along the southern border since friday despite widespread fears that ending pandemic era policy to immediately expel most migrants even asylum seekers would set off stampede from mexico   \n",
       "1  the day before logan roy died he delivered fiery call to arms to his atn staff letting them know what he expected from the network going forward the speech was an angrier variation of the populist spiel he had given many times before in which he insisted that the news should always be frank and unpretentious he wanted his anchors to tell their viewers truthful things they had never heard anyone say before on television he wanted atn to be in word spicy   \n",
       "2                                                                                                                                                                                                                                                                                                                                                                                              this article contains spoilers for episode of the final season of succession   \n",
       "3                                                                                                                                                                                                                                                                                                                                               errors are corrected during the press run whenever possible so some errors noted here may not have appeared in all editions   \n",
       "4                                                                                                                                                                                                                                                                                                                                                                                                              for me it was time to give back the love they gave me before   \n",
       "5                                                                                                                                                                                                                                                                                                               boris diaw was passing through paris in late september and thought he would check out basketball game young player he had heard about for years was playing   \n",
       "6                                                                                                                                                                                                                                                                                               good morning it monday we ll look at something so fundamental it the first of the three r's and why new york city is about to change the way it is taught in public schools   \n",
       "7                                                                                                                                                                                                                                                                              turkey presidential election appears to be destined for runoff after the incumbent recep tayyip erdogan failed to win majority of the vote in the toughest political challenge of his career   \n",
       "8                                                                       for three months france has been in revolt demonstrators have marched railroad workers have blocked tracks barricades and buildings have been set aflame protesters have done battle in the street with police the most recent innovation has been tamer people have banged pots whenever the president has appeared the cause president emmanuel macron measure raising the retirement age from to   \n",
       "9                                                                                                                                                                                                                                                                         between network cable and streaming the modern television landscape is vast one here are some of the shows specials and movies coming to tv this week may details and times are subject to change   \n",
       "\n",
       "   abstract_ct  lead_par_ct  total_ct  \n",
       "0           20           32        52  \n",
       "1           11           83        94  \n",
       "2           21           12        33  \n",
       "3            9           21        30  \n",
       "4            8           14        22  \n",
       "5           24           27        51  \n",
       "6           23           35        58  \n",
       "7            4           30        34  \n",
       "8           10           60        70  \n",
       "9           25           34        59  "
      ]
     },
     "execution_count": 24,
     "metadata": {},
     "output_type": "execute_result"
    }
   ],
   "source": [
    "df['abstract_ct'] = df.tokenized_abstract.apply(len)\n",
    "df['lead_par_ct'] = df.tokenized_lead_par.apply(len)\n",
    "df['total_ct'] = df.abstract_ct + df.lead_par_ct\n",
    "ct_columns = ['abstract_ct', 'lead_par_ct', 'total_ct']\n",
    "df[columns+ct_columns].head(10)"
   ]
  },
  {
   "cell_type": "code",
   "execution_count": 25,
   "metadata": {},
   "outputs": [
    {
     "data": {
      "text/html": [
       "<div>\n",
       "<style scoped>\n",
       "    .dataframe tbody tr th:only-of-type {\n",
       "        vertical-align: middle;\n",
       "    }\n",
       "\n",
       "    .dataframe tbody tr th {\n",
       "        vertical-align: top;\n",
       "    }\n",
       "\n",
       "    .dataframe thead th {\n",
       "        text-align: right;\n",
       "    }\n",
       "</style>\n",
       "<table border=\"1\" class=\"dataframe\">\n",
       "  <thead>\n",
       "    <tr style=\"text-align: right;\">\n",
       "      <th></th>\n",
       "      <th>abstract_ct</th>\n",
       "      <th>lead_par_ct</th>\n",
       "      <th>total_ct</th>\n",
       "    </tr>\n",
       "  </thead>\n",
       "  <tbody>\n",
       "    <tr>\n",
       "      <th>count</th>\n",
       "      <td>42479.000000</td>\n",
       "      <td>42479.000000</td>\n",
       "      <td>42479.000000</td>\n",
       "    </tr>\n",
       "    <tr>\n",
       "      <th>mean</th>\n",
       "      <td>20.523977</td>\n",
       "      <td>41.924339</td>\n",
       "      <td>62.448316</td>\n",
       "    </tr>\n",
       "    <tr>\n",
       "      <th>std</th>\n",
       "      <td>6.939813</td>\n",
       "      <td>24.287083</td>\n",
       "      <td>25.069853</td>\n",
       "    </tr>\n",
       "    <tr>\n",
       "      <th>min</th>\n",
       "      <td>1.000000</td>\n",
       "      <td>0.000000</td>\n",
       "      <td>6.000000</td>\n",
       "    </tr>\n",
       "    <tr>\n",
       "      <th>25%</th>\n",
       "      <td>16.000000</td>\n",
       "      <td>29.000000</td>\n",
       "      <td>49.000000</td>\n",
       "    </tr>\n",
       "    <tr>\n",
       "      <th>50%</th>\n",
       "      <td>21.000000</td>\n",
       "      <td>38.000000</td>\n",
       "      <td>60.000000</td>\n",
       "    </tr>\n",
       "    <tr>\n",
       "      <th>75%</th>\n",
       "      <td>25.000000</td>\n",
       "      <td>50.000000</td>\n",
       "      <td>72.000000</td>\n",
       "    </tr>\n",
       "    <tr>\n",
       "      <th>max</th>\n",
       "      <td>104.000000</td>\n",
       "      <td>331.000000</td>\n",
       "      <td>357.000000</td>\n",
       "    </tr>\n",
       "  </tbody>\n",
       "</table>\n",
       "</div>"
      ],
      "text/plain": [
       "        abstract_ct   lead_par_ct      total_ct\n",
       "count  42479.000000  42479.000000  42479.000000\n",
       "mean      20.523977     41.924339     62.448316\n",
       "std        6.939813     24.287083     25.069853\n",
       "min        1.000000      0.000000      6.000000\n",
       "25%       16.000000     29.000000     49.000000\n",
       "50%       21.000000     38.000000     60.000000\n",
       "75%       25.000000     50.000000     72.000000\n",
       "max      104.000000    331.000000    357.000000"
      ]
     },
     "execution_count": 25,
     "metadata": {},
     "output_type": "execute_result"
    }
   ],
   "source": [
    "df[ct_columns].describe()"
   ]
  },
  {
   "cell_type": "markdown",
   "metadata": {},
   "source": [
    "This gives us some indication of the word count in each field. Let us plot histograms to get a better sense of how these word counts are distributed—note that these are truncated at 50, but there are rows with more words in both `'abstract'` and `'lead_paragraph'`."
   ]
  },
  {
   "cell_type": "code",
   "execution_count": 26,
   "metadata": {},
   "outputs": [
    {
     "data": {
      "image/png": "[encoded data removed]",
      "text/plain": [
       "<Figure size 1600x500 with 1 Axes>"
      ]
     },
     "metadata": {},
     "output_type": "display_data"
    },
    {
     "data": {
      "image/png": "[encoded data removed]",
      "text/plain": [
       "<Figure size 1600x500 with 1 Axes>"
      ]
     },
     "metadata": {},
     "output_type": "display_data"
    },
    {
     "data": {
      "image/png": "[encoded data removed]",
      "text/plain": [
       "<Figure size 1600x500 with 1 Axes>"
      ]
     },
     "metadata": {},
     "output_type": "display_data"
    }
   ],
   "source": [
    "import matplotlib.pyplot as plt\n",
    "\n",
    "for col in ct_columns:\n",
    "    plt.figure(figsize=(16,5))\n",
    "    plt.xlim(xmin=0, xmax=80)\n",
    "    plt.hist(df[col], bins=60)\n",
    "    plt.xticks(list(range(0,82,2)))\n",
    "    plt.title(col)\n",
    "    plt.show()"
   ]
  },
  {
   "cell_type": "markdown",
   "metadata": {},
   "source": [
    "Another potential indicator of how much data we have in each entry is the *unique* word count, so let us repeat the same process for that."
   ]
  },
  {
   "cell_type": "code",
   "execution_count": 27,
   "metadata": {},
   "outputs": [
    {
     "data": {
      "text/html": [
       "<div>\n",
       "<style scoped>\n",
       "    .dataframe tbody tr th:only-of-type {\n",
       "        vertical-align: middle;\n",
       "    }\n",
       "\n",
       "    .dataframe tbody tr th {\n",
       "        vertical-align: top;\n",
       "    }\n",
       "\n",
       "    .dataframe thead th {\n",
       "        text-align: right;\n",
       "    }\n",
       "</style>\n",
       "<table border=\"1\" class=\"dataframe\">\n",
       "  <thead>\n",
       "    <tr style=\"text-align: right;\">\n",
       "      <th></th>\n",
       "      <th>abstract</th>\n",
       "      <th>lead_paragraph</th>\n",
       "      <th>abstract_uct</th>\n",
       "      <th>lead_par_uct</th>\n",
       "      <th>total_uct</th>\n",
       "    </tr>\n",
       "  </thead>\n",
       "  <tbody>\n",
       "    <tr>\n",
       "      <th>0</th>\n",
       "      <td>economic hardship climate change political instability and gang violence will continue to spur emigration from many corners of the world</td>\n",
       "      <td>relative quiet has prevailed along the southern border since friday despite widespread fears that ending pandemic era policy to immediately expel most migrants even asylum seekers would set off stampede from mexico</td>\n",
       "      <td>20</td>\n",
       "      <td>32</td>\n",
       "      <td>52</td>\n",
       "    </tr>\n",
       "    <tr>\n",
       "      <th>1</th>\n",
       "      <td>it election night in america stay away from the bodega sushi</td>\n",
       "      <td>the day before logan roy died he delivered fiery call to arms to his atn staff letting them know what he expected from the network going forward the speech was an angrier variation of the populist spiel he had given many times before in which he insisted that the news should always be frank and unpretentious he wanted his anchors to tell their viewers truthful things they had never heard anyone say before on television he wanted atn to be in word spicy</td>\n",
       "      <td>11</td>\n",
       "      <td>63</td>\n",
       "      <td>74</td>\n",
       "    </tr>\n",
       "    <tr>\n",
       "      <th>2</th>\n",
       "      <td>tom is stressed in dress shoes shiv hides beneath layers of lies and turtleneck and willa cosplays as first lady hopeful</td>\n",
       "      <td>this article contains spoilers for episode of the final season of succession</td>\n",
       "      <td>20</td>\n",
       "      <td>11</td>\n",
       "      <td>31</td>\n",
       "    </tr>\n",
       "    <tr>\n",
       "      <th>3</th>\n",
       "      <td>no corrections appeared in print on monday may 2023</td>\n",
       "      <td>errors are corrected during the press run whenever possible so some errors noted here may not have appeared in all editions</td>\n",
       "      <td>9</td>\n",
       "      <td>20</td>\n",
       "      <td>29</td>\n",
       "    </tr>\n",
       "    <tr>\n",
       "      <th>4</th>\n",
       "      <td>quotation of the day for monday may 2023</td>\n",
       "      <td>for me it was time to give back the love they gave me before</td>\n",
       "      <td>8</td>\n",
       "      <td>13</td>\n",
       "      <td>21</td>\n",
       "    </tr>\n",
       "    <tr>\n",
       "      <th>5</th>\n",
       "      <td>the year old french basketball star is the most hyped &gt;nba prospect since lebron james but he says he isn fazed by the pressure</td>\n",
       "      <td>boris diaw was passing through paris in late september and thought he would check out basketball game young player he had heard about for years was playing</td>\n",
       "      <td>21</td>\n",
       "      <td>25</td>\n",
       "      <td>46</td>\n",
       "    </tr>\n",
       "    <tr>\n",
       "      <th>6</th>\n",
       "      <td>new york city students are struggling with reading but principals are worried that the rollout of new teaching method is happening too quickly</td>\n",
       "      <td>good morning it monday we ll look at something so fundamental it the first of the three r's and why new york city is about to change the way it is taught in public schools</td>\n",
       "      <td>21</td>\n",
       "      <td>30</td>\n",
       "      <td>51</td>\n",
       "    </tr>\n",
       "    <tr>\n",
       "      <th>7</th>\n",
       "      <td>results of turkey election</td>\n",
       "      <td>turkey presidential election appears to be destined for runoff after the incumbent recep tayyip erdogan failed to win majority of the vote in the toughest political challenge of his career</td>\n",
       "      <td>4</td>\n",
       "      <td>26</td>\n",
       "      <td>30</td>\n",
       "    </tr>\n",
       "    <tr>\n",
       "      <th>8</th>\n",
       "      <td>shouldn protest movement led by unions be benefiting the left</td>\n",
       "      <td>for three months france has been in revolt demonstrators have marched railroad workers have blocked tracks barricades and buildings have been set aflame protesters have done battle in the street with police the most recent innovation has been tamer people have banged pots whenever the president has appeared the cause president emmanuel macron measure raising the retirement age from to</td>\n",
       "      <td>10</td>\n",
       "      <td>46</td>\n",
       "      <td>56</td>\n",
       "    </tr>\n",
       "    <tr>\n",
       "      <th>9</th>\n",
       "      <td>spy drama based on decades long manhunt comes to showtime and new &gt;fx documentary brings back former hillsong pastors to reflect on the church scandal</td>\n",
       "      <td>between network cable and streaming the modern television landscape is vast one here are some of the shows specials and movies coming to tv this week may details and times are subject to change</td>\n",
       "      <td>23</td>\n",
       "      <td>29</td>\n",
       "      <td>52</td>\n",
       "    </tr>\n",
       "  </tbody>\n",
       "</table>\n",
       "</div>"
      ],
      "text/plain": [
       "                                                                                                                                                 abstract  \\\n",
       "0                economic hardship climate change political instability and gang violence will continue to spur emigration from many corners of the world   \n",
       "1                                                                                            it election night in america stay away from the bodega sushi   \n",
       "2                                tom is stressed in dress shoes shiv hides beneath layers of lies and turtleneck and willa cosplays as first lady hopeful   \n",
       "3                                                                                                     no corrections appeared in print on monday may 2023   \n",
       "4                                                                                                                quotation of the day for monday may 2023   \n",
       "5                         the year old french basketball star is the most hyped >nba prospect since lebron james but he says he isn fazed by the pressure   \n",
       "6          new york city students are struggling with reading but principals are worried that the rollout of new teaching method is happening too quickly   \n",
       "7                                                                                                                              results of turkey election   \n",
       "8                                                                                           shouldn protest movement led by unions be benefiting the left   \n",
       "9  spy drama based on decades long manhunt comes to showtime and new >fx documentary brings back former hillsong pastors to reflect on the church scandal   \n",
       "\n",
       "                                                                                                                                                                                                                                                                                                                                                                                                                                                             lead_paragraph  \\\n",
       "0                                                                                                                                                                                                                                                    relative quiet has prevailed along the southern border since friday despite widespread fears that ending pandemic era policy to immediately expel most migrants even asylum seekers would set off stampede from mexico   \n",
       "1  the day before logan roy died he delivered fiery call to arms to his atn staff letting them know what he expected from the network going forward the speech was an angrier variation of the populist spiel he had given many times before in which he insisted that the news should always be frank and unpretentious he wanted his anchors to tell their viewers truthful things they had never heard anyone say before on television he wanted atn to be in word spicy   \n",
       "2                                                                                                                                                                                                                                                                                                                                                                                              this article contains spoilers for episode of the final season of succession   \n",
       "3                                                                                                                                                                                                                                                                                                                                               errors are corrected during the press run whenever possible so some errors noted here may not have appeared in all editions   \n",
       "4                                                                                                                                                                                                                                                                                                                                                                                                              for me it was time to give back the love they gave me before   \n",
       "5                                                                                                                                                                                                                                                                                                               boris diaw was passing through paris in late september and thought he would check out basketball game young player he had heard about for years was playing   \n",
       "6                                                                                                                                                                                                                                                                                               good morning it monday we ll look at something so fundamental it the first of the three r's and why new york city is about to change the way it is taught in public schools   \n",
       "7                                                                                                                                                                                                                                                                              turkey presidential election appears to be destined for runoff after the incumbent recep tayyip erdogan failed to win majority of the vote in the toughest political challenge of his career   \n",
       "8                                                                       for three months france has been in revolt demonstrators have marched railroad workers have blocked tracks barricades and buildings have been set aflame protesters have done battle in the street with police the most recent innovation has been tamer people have banged pots whenever the president has appeared the cause president emmanuel macron measure raising the retirement age from to   \n",
       "9                                                                                                                                                                                                                                                                         between network cable and streaming the modern television landscape is vast one here are some of the shows specials and movies coming to tv this week may details and times are subject to change   \n",
       "\n",
       "   abstract_uct  lead_par_uct  total_uct  \n",
       "0            20            32         52  \n",
       "1            11            63         74  \n",
       "2            20            11         31  \n",
       "3             9            20         29  \n",
       "4             8            13         21  \n",
       "5            21            25         46  \n",
       "6            21            30         51  \n",
       "7             4            26         30  \n",
       "8            10            46         56  \n",
       "9            23            29         52  "
      ]
     },
     "execution_count": 27,
     "metadata": {},
     "output_type": "execute_result"
    }
   ],
   "source": [
    "df['abstract_uct'] = df.abstract.apply(lambda x: len(set([w for w in x.split(' ') if w != ''])))\n",
    "df['lead_par_uct'] = df.lead_paragraph.apply(lambda x: len(set([w for w in x.split(' ') if w != ''])))\n",
    "df['total_uct'] = df.abstract_uct + df.lead_par_uct\n",
    "uct_columns = ['abstract_uct', 'lead_par_uct', 'total_uct']\n",
    "df[columns+uct_columns].head(10)"
   ]
  },
  {
   "cell_type": "code",
   "execution_count": 28,
   "metadata": {},
   "outputs": [
    {
     "data": {
      "text/html": [
       "<div>\n",
       "<style scoped>\n",
       "    .dataframe tbody tr th:only-of-type {\n",
       "        vertical-align: middle;\n",
       "    }\n",
       "\n",
       "    .dataframe tbody tr th {\n",
       "        vertical-align: top;\n",
       "    }\n",
       "\n",
       "    .dataframe thead th {\n",
       "        text-align: right;\n",
       "    }\n",
       "</style>\n",
       "<table border=\"1\" class=\"dataframe\">\n",
       "  <thead>\n",
       "    <tr style=\"text-align: right;\">\n",
       "      <th></th>\n",
       "      <th>abstract_uct</th>\n",
       "      <th>lead_par_uct</th>\n",
       "      <th>total_uct</th>\n",
       "    </tr>\n",
       "  </thead>\n",
       "  <tbody>\n",
       "    <tr>\n",
       "      <th>count</th>\n",
       "      <td>42479.000000</td>\n",
       "      <td>42479.000000</td>\n",
       "      <td>42479.000000</td>\n",
       "    </tr>\n",
       "    <tr>\n",
       "      <th>mean</th>\n",
       "      <td>19.096518</td>\n",
       "      <td>35.709103</td>\n",
       "      <td>54.805622</td>\n",
       "    </tr>\n",
       "    <tr>\n",
       "      <th>std</th>\n",
       "      <td>6.089161</td>\n",
       "      <td>17.668097</td>\n",
       "      <td>18.639288</td>\n",
       "    </tr>\n",
       "    <tr>\n",
       "      <th>min</th>\n",
       "      <td>1.000000</td>\n",
       "      <td>0.000000</td>\n",
       "      <td>6.000000</td>\n",
       "    </tr>\n",
       "    <tr>\n",
       "      <th>25%</th>\n",
       "      <td>15.000000</td>\n",
       "      <td>26.000000</td>\n",
       "      <td>44.000000</td>\n",
       "    </tr>\n",
       "    <tr>\n",
       "      <th>50%</th>\n",
       "      <td>20.000000</td>\n",
       "      <td>34.000000</td>\n",
       "      <td>54.000000</td>\n",
       "    </tr>\n",
       "    <tr>\n",
       "      <th>75%</th>\n",
       "      <td>23.000000</td>\n",
       "      <td>42.000000</td>\n",
       "      <td>64.000000</td>\n",
       "    </tr>\n",
       "    <tr>\n",
       "      <th>max</th>\n",
       "      <td>78.000000</td>\n",
       "      <td>218.000000</td>\n",
       "      <td>242.000000</td>\n",
       "    </tr>\n",
       "  </tbody>\n",
       "</table>\n",
       "</div>"
      ],
      "text/plain": [
       "       abstract_uct  lead_par_uct     total_uct\n",
       "count  42479.000000  42479.000000  42479.000000\n",
       "mean      19.096518     35.709103     54.805622\n",
       "std        6.089161     17.668097     18.639288\n",
       "min        1.000000      0.000000      6.000000\n",
       "25%       15.000000     26.000000     44.000000\n",
       "50%       20.000000     34.000000     54.000000\n",
       "75%       23.000000     42.000000     64.000000\n",
       "max       78.000000    218.000000    242.000000"
      ]
     },
     "execution_count": 28,
     "metadata": {},
     "output_type": "execute_result"
    }
   ],
   "source": [
    "df[uct_columns].describe()"
   ]
  },
  {
   "cell_type": "code",
   "execution_count": 29,
   "metadata": {},
   "outputs": [
    {
     "data": {
      "image/png": "[encoded data removed]",
      "text/plain": [
       "<Figure size 1600x500 with 1 Axes>"
      ]
     },
     "metadata": {},
     "output_type": "display_data"
    },
    {
     "data": {
      "image/png": "[encoded data removed]",
      "text/plain": [
       "<Figure size 1600x500 with 1 Axes>"
      ]
     },
     "metadata": {},
     "output_type": "display_data"
    },
    {
     "data": {
      "image/png": "[encoded data removed]",
      "text/plain": [
       "<Figure size 1600x500 with 1 Axes>"
      ]
     },
     "metadata": {},
     "output_type": "display_data"
    }
   ],
   "source": [
    "for i in range(3):\n",
    "    plt.figure(figsize=(16,5))\n",
    "    plt.xlim(xmin=0, xmax=80)\n",
    "    plt.hist(df[ct_columns[i]], bins=60, alpha=.5, label='Non-unique')\n",
    "    plt.hist(df[uct_columns[i]], bins=60, alpha=.5, label='Unique')\n",
    "    plt.xticks(list(range(0,82,2)))\n",
    "    plt.title(f\"Word counts in {columns[i] if i<2 else 'both columns combined'}\")\n",
    "    plt.legend(loc='upper right')\n",
    "    plt.show()"
   ]
  },
  {
   "cell_type": "markdown",
   "metadata": {},
   "source": [
    "There seems to be no relevant difference."
   ]
  },
  {
   "cell_type": "markdown",
   "metadata": {},
   "source": [
    "### Garbage articles\n",
    "\n",
    "Looking through some data points we noticed that many of these are \"puzzle hints\" or \"quotations of the day\", both of which we might want to consider removing from the dataset if there are too many of them. Let us count them."
   ]
  },
  {
   "cell_type": "code",
   "execution_count": 30,
   "metadata": {},
   "outputs": [
    {
     "name": "stdout",
     "output_type": "stream",
     "text": [
      "There are a total of 1073 abstracts containding the word \"puzzle\", which amounts to 2.53% of all abstracts.\n",
      "There are a total of 362 abstracts containding the word \"quotation\", which amounts to 0.85% of all abstracts.\n"
     ]
    }
   ],
   "source": [
    "garbage_words = ['puzzle', 'quotation']\n",
    "\n",
    "for word in garbage_words:\n",
    "    n = df.abstract.loc[df.abstract.apply(lambda x: word in x)].count()\n",
    "    print(f'There are a total of {n} abstracts containding the word \"{word}\", which amounts to {(n*100/df.shape[0]):.2f}% of all abstracts.')\n",
    "\n",
    "# df.abstract.apply(lambda x: 1 if 'quotation' in x else 0).describe()"
   ]
  },
  {
   "cell_type": "code",
   "execution_count": 31,
   "metadata": {},
   "outputs": [
    {
     "data": {
      "text/plain": [
       "13                            feeling stuck on today puzzle we can help\n",
       "14       our columnist reviews the day puzzle warning contains spoilers\n",
       "132                           feeling stuck on today puzzle we can help\n",
       "133      our columnist reviews the day puzzle warning contains spoilers\n",
       "274                           feeling stuck on today puzzle we can help\n",
       "                                      ...                              \n",
       "42055                         feeling stuck on today puzzle we can help\n",
       "42213                         feeling stuck on today puzzle we can help\n",
       "42297                         feeling stuck on today puzzle we can help\n",
       "42360                         feeling stuck on today puzzle we can help\n",
       "42487                         feeling stuck on today puzzle we can help\n",
       "Name: abstract, Length: 1073, dtype: object"
      ]
     },
     "execution_count": 31,
     "metadata": {},
     "output_type": "execute_result"
    }
   ],
   "source": [
    "df.abstract.loc[df.abstract.apply(lambda x: 'puzzle' in x)]"
   ]
  },
  {
   "cell_type": "code",
   "execution_count": 32,
   "metadata": {},
   "outputs": [
    {
     "data": {
      "text/plain": [
       "4           quotation of the day for monday may 2023\n",
       "127        quotation of the day for tuesday may 2023\n",
       "282      quotation of the day for wednesday may 2023\n",
       "421       quotation of the day for thursday may 2023\n",
       "555         quotation of the day for friday may 2023\n",
       "                            ...                     \n",
       "42045       quotation of the day for friday may 2024\n",
       "42207     quotation of the day for saturday may 2024\n",
       "42283       quotation of the day for sunday may 2024\n",
       "42413       quotation of the day for monday may 2024\n",
       "42480      quotation of the day for tuesday may 2024\n",
       "Name: abstract, Length: 362, dtype: object"
      ]
     },
     "execution_count": 32,
     "metadata": {},
     "output_type": "execute_result"
    }
   ],
   "source": [
    "df.abstract.loc[df.abstract.apply(lambda x: 'quotation' in x)]"
   ]
  },
  {
   "cell_type": "markdown",
   "metadata": {},
   "source": [
    "Let's drop puzzles and quotations, and plot the histograms from above again to see if there is any significant change."
   ]
  },
  {
   "cell_type": "code",
   "execution_count": 33,
   "metadata": {},
   "outputs": [],
   "source": [
    "puzzle_indices_to_drop = list(df.abstract.loc[df.abstract.apply(lambda x: 'puzzle' in x)].index)\n",
    "quotation_indices_to_drop = list(df.abstract.loc[df.abstract.apply(lambda x: 'quotation' in x)].index)"
   ]
  },
  {
   "cell_type": "code",
   "execution_count": 34,
   "metadata": {},
   "outputs": [],
   "source": [
    "df = df.drop(puzzle_indices_to_drop + quotation_indices_to_drop)"
   ]
  },
  {
   "cell_type": "code",
   "execution_count": 35,
   "metadata": {},
   "outputs": [
    {
     "data": {
      "image/png": "[encoded data removed]",
      "text/plain": [
       "<Figure size 1600x500 with 1 Axes>"
      ]
     },
     "metadata": {},
     "output_type": "display_data"
    },
    {
     "data": {
      "image/png": "[encoded data removed]",
      "text/plain": [
       "<Figure size 1600x500 with 1 Axes>"
      ]
     },
     "metadata": {},
     "output_type": "display_data"
    },
    {
     "data": {
      "image/png": "[encoded data removed]",
      "text/plain": [
       "<Figure size 1600x500 with 1 Axes>"
      ]
     },
     "metadata": {},
     "output_type": "display_data"
    }
   ],
   "source": [
    "for i in range(3):\n",
    "    plt.figure(figsize=(16,5))\n",
    "    plt.xlim(xmin=0, xmax=80)\n",
    "    plt.hist(df[ct_columns[i]], bins=60, alpha=.5, label='Non-unique')\n",
    "    plt.hist(df[uct_columns[i]], bins=60, alpha=.5, label='Unique')\n",
    "    plt.xticks(list(range(0,82,2)))\n",
    "    plt.title(f\"Word counts in {columns[i] if i<2 else 'both columns combined'}\")\n",
    "    plt.legend(loc='upper right')\n",
    "    plt.show()"
   ]
  },
  {
   "cell_type": "markdown",
   "metadata": {},
   "source": [
    "There doesn't appear to be a big change so we could either take them out or leave them in. "
   ]
  },
  {
   "cell_type": "markdown",
   "metadata": {},
   "source": [
    "## Lemmatization\n",
    "\n",
    "\"Lemmatizing\" a corpus means replacing each word with the \"base\" version—for instance, \"being\", \"is\", and \"was\" would all be replaced by \"be\", while \"mice\" would be replaced by \"mouse\".  \n",
    "This operation can be perfomed using the `nltk` library, and particularly the `nltk` library and particularly the `WordNetLemmatizer` class."
   ]
  },
  {
   "cell_type": "code",
   "execution_count": null,
   "metadata": {},
   "outputs": [],
   "source": [
    "import nltk\n",
    "nltk.download('wordnet')\n",
    "from nltk.stem.wordnet import WordNetLemmatizer"
   ]
  },
  {
   "cell_type": "code",
   "execution_count": null,
   "metadata": {},
   "outputs": [],
   "source": [
    "lemmatizer = WordNetLemmatizer()\n",
    "def lemmatize(doc: str, tokenizer=tokenizer) -> list[str]:\n",
    "    tokens = tokenizer.tokenize(doc)\n",
    "    return [lemmatizer.lemmatize(token) for token in tokens]"
   ]
  },
  {
   "cell_type": "code",
   "execution_count": null,
   "metadata": {},
   "outputs": [],
   "source": [
    "df.abstract.apply(lemmatize).head()"
   ]
  },
  {
   "cell_type": "markdown",
   "metadata": {},
   "source": [
    "> **Note:** This lemmatizer does not seem to be doing great. We tested it on words like \"is\", \"was\", \"stressed\", \"went\", and \"being\", with disappointing results."
   ]
  },
  {
   "cell_type": "markdown",
   "metadata": {},
   "source": [
    "## Takeaways\n",
    "\n",
    "We have identified two columns, `'abstract'` and `'lead_paragraph'`, which seem to be of value for our classification problem. The field `'snippet'`, which seemed promising at first glance, later turned out to be either empty or a replica of `'abstract'`, and it was therefore disregarded.  \n",
    "We have seen that a relatively small portion of articles contain a low number of words, but it might still be a good idea to eliminate them from the corpus to ensure that they can all be identified.\n",
    "\n",
    "### Potential hyperparameters\n",
    "\n",
    "The following filters may potentially be tuned to decide exactly how to form our corpus.\n",
    "- Filter out all articles with fewer than a set word count;\n",
    "- Exclude \"Puzzle hint\" and \"Quotation of the day\" articles."
   ]
  }
 ],
 "metadata": {
  "kernelspec": {
   "display_name": "Python 3 (ipykernel)",
   "language": "python",
   "name": "python3"
  },
  "language_info": {
   "codemirror_mode": {
    "name": "ipython",
    "version": 3
   },
   "file_extension": ".py",
   "mimetype": "text/x-python",
   "name": "python",
   "nbconvert_exporter": "python",
   "pygments_lexer": "ipython3",
   "version": "3.9.12"
  }
 },
 "nbformat": 4,
 "nbformat_minor": 2
}
