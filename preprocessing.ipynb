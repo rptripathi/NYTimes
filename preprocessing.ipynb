{
 "cells": [
  {
   "cell_type": "markdown",
   "metadata": {},
   "source": [
    "# Exploratory data analysis, data preparation, and pre-processing"
   ]
  },
  {
   "cell_type": "markdown",
   "metadata": {},
   "source": [
    "We will be using the **[NYT Articles: 2.1M+ (2000-Present) Daily Updated](https://www.kaggle.com/datasets/aryansingh0909/nyt-articles-21m-2000-present/)** dataset, available on Kaggle and maintained by Aryan Singh. We downloaded the dataset and stored it in `data/nyt-metadata.csv`. Since the original file is rather large (over 4GB), we are only going to analyze articles from a shorter time window, say from May 1st, 2023 to April 30th, 2024. We will store the corresponding data in a separate `.csv` file for later convenience.  \n",
    "Note that dates are stored in the original `.csv` fiile as strings in the format `YYYY-MM-DD hh:mm:ss+hh:mm`. Since string comparison is built-in in python using lexicographic order, we can set the start and end date for our time interval as strings in the appropriate format."
   ]
  },
  {
   "cell_type": "code",
   "execution_count": 27,
   "metadata": {},
   "outputs": [],
   "source": [
    "import pandas as pd\n",
    "from os import listdir\n",
    "\n",
    "original_data_loc = 'data/nyt-metadata.csv'\n",
    "data_loc = 'data/nyt-metadata_trimmed.csv'\n",
    "\n",
    "def generate_short_csv(source:str=original_data_loc, dest:str=data_loc, start_date:str='2023-05-01', end_date: str='2024-05-01', chunksize=20000) -> None:\n",
    "    # If a file already exists at the destination, we should check with the user if they really want to run the process all over again.\n",
    "    execute = True\n",
    "    if dest.split('/')[-1] in listdir(''.join(dest.split('/')[:-1])):\n",
    "        execute = input(f'A file already exists at `{dest}`. Do you want to continue?').lower() in ['y', 'yes']\n",
    "\n",
    "    if execute:\n",
    "        df = pd.DataFrame(columns=pd.read_csv(source, nrows=1).columns)\n",
    "        df.head()\n",
    "        for chunk in pd.read_csv(source, chunksize=chunksize):\n",
    "            chunk = chunk.loc[chunk.pub_date >= start_date]\n",
    "            chunk = chunk.loc[chunk.pub_date < end_date]\n",
    "            if not chunk.empty:\n",
    "                df = pd.concat([df, chunk]) if not df.empty else chunk\n",
    "        \n",
    "        df.to_csv(dest)\n",
    "\n"
   ]
  },
  {
   "cell_type": "code",
   "execution_count": 28,
   "metadata": {},
   "outputs": [],
   "source": [
    "generate_short_csv()"
   ]
  },
  {
   "cell_type": "code",
   "execution_count": 36,
   "metadata": {},
   "outputs": [
    {
     "data": {
      "text/plain": [
       "array(['2023-05-01', '2023-05-02', '2023-05-03', '2023-05-04',\n",
       "       '2023-05-05', '2023-05-06', '2023-05-07', '2023-05-08',\n",
       "       '2023-05-09', '2023-05-10', '2023-05-11', '2023-05-12',\n",
       "       '2023-05-13', '2023-05-14', '2023-05-15', '2023-05-16',\n",
       "       '2023-05-17', '2023-05-18', '2023-05-19', '2023-05-20',\n",
       "       '2023-06-01', '2023-07-01', '2023-08-01', '2023-09-01',\n",
       "       '2023-10-01', '2023-11-01', '2023-12-01', '2023-12-02',\n",
       "       '2023-12-03', '2023-12-04', '2023-12-05', '2023-12-06',\n",
       "       '2023-12-07', '2023-12-08', '2023-12-09', '2023-12-10',\n",
       "       '2023-12-11', '2023-12-12', '2023-12-13', '2023-12-14',\n",
       "       '2023-12-15', '2023-12-16', '2023-12-17', '2023-12-18',\n",
       "       '2023-12-19', '2023-12-20', '2023-12-21', '2023-12-22',\n",
       "       '2023-12-23', '2023-12-24', '2023-12-25', '2023-12-26',\n",
       "       '2023-12-27', '2023-12-28', '2023-12-29', '2023-12-30',\n",
       "       '2023-12-31', '2024-01-01', '2024-02-01', '2024-03-01',\n",
       "       '2024-04-01'], dtype=object)"
      ]
     },
     "execution_count": 36,
     "metadata": {},
     "output_type": "execute_result"
    }
   ],
   "source": [
    "df = pd.read_csv(data_loc)\n",
    "df.pub_date.apply(lambda x: x[:10]).unique()"
   ]
  },
  {
   "cell_type": "code",
   "execution_count": null,
   "metadata": {},
   "outputs": [],
   "source": []
  }
 ],
 "metadata": {
  "kernelspec": {
   "display_name": "NYTimes",
   "language": "python",
   "name": "python3"
  },
  "language_info": {
   "codemirror_mode": {
    "name": "ipython",
    "version": 3
   },
   "file_extension": ".py",
   "mimetype": "text/x-python",
   "name": "python",
   "nbconvert_exporter": "python",
   "pygments_lexer": "ipython3",
   "version": "3.12.2"
  }
 },
 "nbformat": 4,
 "nbformat_minor": 2
}
