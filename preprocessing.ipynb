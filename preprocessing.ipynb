{
 "cells": [
  {
   "cell_type": "markdown",
   "metadata": {},
   "source": [
    "# Data scraping, preparation, exploration, and pre-processing"
   ]
  },
  {
   "cell_type": "markdown",
   "metadata": {},
   "source": [
    "## Data scraping\n",
    "\n",
    "We scrape article metadata using the New York Times API. For our project we will analyze articles published between May 15th, 2023 and May 14th, 2024. We start by importing a few libraries and setting up the API.  \n",
    "> **Note:** In order to run the following code you will need to create an account on (https://developer.nytimes.com) and obtain your own API key. You will then need to create a file `keys.py` in your local repo directory, and save your API key as a string under the variable name `NYT_API_KEY`.  "
   ]
  },
  {
   "cell_type": "code",
   "execution_count": 5,
   "metadata": {},
   "outputs": [],
   "source": [
    "import pandas as pd\n",
    "from pynytimes import NYTAPI\n",
    "from datetime import datetime\n",
    "from keys import NYT_API_KEY\n",
    "\n",
    "if NYT_API_KEY is not None:\n",
    "    nyt_api = NYTAPI(NYT_API_KEY, parse_dates=True)\n",
    "\n",
    "data_loc = 'data/nyt_metadata.csv'\n"
   ]
  },
  {
   "cell_type": "markdown",
   "metadata": {},
   "source": [
    "We then fetch the data one month at a time and store in a new `.csv` file. Note that the API has a limit of 5 calls per minute (see the API [FAQ's](https://developer.nytimes.com/faq#a11)), so we need to make sure to wait until 12 seconds between consecutive calls. Note that there is also a limit of 500 calls a day.  \n",
    "We wrap the process in a function so we can easily adjust the start and end date or change the path of the destination file. The function will also check whether the file already exists, and in that case give a warning before executing the procedure. This will help control the risk of restarting the relatively time-consuming process and limit unnecessary calls to the NYT servers.  \n",
    "Since we are only interested in articles, we also filter out all other document types during the process.  "
   ]
  },
  {
   "cell_type": "code",
   "execution_count": 7,
   "metadata": {},
   "outputs": [],
   "source": [
    "from os import listdir\n",
    "from dateutil.rrule import rrule, MONTHLY\n",
    "from time import sleep\n",
    "\n",
    "def scrape(start_date: datetime, end_date: datetime, dest: str=data_loc) -> None:\n",
    "    if NYT_API_KEY is not None:\n",
    "        # Avoid restarting the process if the .csv already exists...\n",
    "        execute = dest.split('/')[-1] not in listdir(''.join(dest.split('/')[:-1]))\n",
    "        # ...unless the user confirms otherwise.\n",
    "        if not execute:\n",
    "            execute = input(f'A file already exists at `{dest}`. Do you want to continue?').lower() in ['y', 'yes']\n",
    "\n",
    "        if execute:\n",
    "            df = pd.DataFrame()\n",
    "            for month in rrule(MONTHLY, dtstart=start_date, until=end_date):\n",
    "                print(f'Working on the month of {month}')\n",
    "                monthly_df = pd.DataFrame(nyt_api.archive_metadata(date=month))\n",
    "                monthly_df = monthly_df.loc[monthly_df.pub_date.apply(lambda x: str(x)) >= str(start_date)]\n",
    "                monthly_df = monthly_df.loc[monthly_df.pub_date.apply(lambda x: str(x)) < str(end_date)]\n",
    "                monthly_df = monthly_df.loc[monthly_df.document_type=='article']\n",
    "                if not monthly_df.empty:\n",
    "                    df = pd.concat([df, monthly_df]) if not df.empty else monthly_df\n",
    "                sleep(12)   # The NYT servers have a limit of 5 calls per minute.\n",
    "\n",
    "            df.to_csv(dest)\n",
    "    \n",
    "        else:\n",
    "            print('The file already exists. Scraping cancelled by the user.')\n",
    "    else:\n",
    "        print('This did not run because you do not have the API key.')"
   ]
  },
  {
   "cell_type": "code",
   "execution_count": 3,
   "metadata": {},
   "outputs": [
    {
     "name": "stdout",
     "output_type": "stream",
     "text": [
      "This did not run because you do not have the API key.\n"
     ]
    }
   ],
   "source": [
    "scrape(datetime(2023, 5, 15), datetime(2024, 5, 15))"
   ]
  },
  {
   "cell_type": "markdown",
   "metadata": {},
   "source": [
    "## Exploration\n",
    "\n",
    "Let us start by reading the dataframe created above and taking a look at general information. Some of the fields have the string `' '` as value, which pandas does not recognised as null by dafault."
   ]
  },
  {
   "cell_type": "code",
   "execution_count": 4,
   "metadata": {},
   "outputs": [
    {
     "name": "stdout",
     "output_type": "stream",
     "text": [
      "<class 'pandas.core.frame.DataFrame'>\n",
      "RangeIndex: 42625 entries, 0 to 42624\n",
      "Data columns (total 21 columns):\n",
      " #   Column            Non-Null Count  Dtype  \n",
      "---  ------            --------------  -----  \n",
      " 0   Unnamed: 0        42625 non-null  int64  \n",
      " 1   abstract          42623 non-null  object \n",
      " 2   web_url           42625 non-null  object \n",
      " 3   snippet           42462 non-null  object \n",
      " 4   lead_paragraph    42479 non-null  object \n",
      " 5   print_section     25726 non-null  object \n",
      " 6   print_page        25726 non-null  float64\n",
      " 7   source            42625 non-null  object \n",
      " 8   multimedia        42625 non-null  object \n",
      " 9   headline          42625 non-null  object \n",
      " 10  keywords          42625 non-null  object \n",
      " 11  pub_date          42625 non-null  object \n",
      " 12  document_type     42625 non-null  object \n",
      " 13  news_desk         42625 non-null  object \n",
      " 14  section_name      42619 non-null  object \n",
      " 15  subsection_name   16890 non-null  object \n",
      " 16  byline            42625 non-null  object \n",
      " 17  type_of_material  42625 non-null  object \n",
      " 18  _id               42625 non-null  object \n",
      " 19  word_count        42625 non-null  int64  \n",
      " 20  uri               42625 non-null  object \n",
      "dtypes: float64(1), int64(2), object(18)\n",
      "memory usage: 6.8+ MB\n"
     ]
    }
   ],
   "source": [
    "df = pd.read_csv(data_loc, na_values=[' '])\n",
    "df.info()"
   ]
  },
  {
   "cell_type": "markdown",
   "metadata": {},
   "source": [
    "We are interested in the columns `'abstract'`, `'snippet'`, and `'lead_paragraph'`. We see above that these columns contain null values, so let us check exactly how many."
   ]
  },
  {
   "cell_type": "code",
   "execution_count": 5,
   "metadata": {},
   "outputs": [
    {
     "name": "stdout",
     "output_type": "stream",
     "text": [
      "2\n",
      "163\n",
      "146\n"
     ]
    }
   ],
   "source": [
    "columns = ['abstract', 'snippet', 'lead_paragraph']\n",
    "\n",
    "for column in columns:\n",
    "    print(df.loc[df[column].isnull()].shape[0])"
   ]
  },
  {
   "cell_type": "markdown",
   "metadata": {},
   "source": [
    "We can see that the number of rows with null values for the columns of interest is well under 400, i.e. 1% of the total data set, so we may as well ignore those columns."
   ]
  },
  {
   "cell_type": "code",
   "execution_count": 6,
   "metadata": {},
   "outputs": [],
   "source": [
    "df = df.dropna(subset=columns)"
   ]
  },
  {
   "cell_type": "code",
   "execution_count": 7,
   "metadata": {},
   "outputs": [
    {
     "name": "stdout",
     "output_type": "stream",
     "text": [
      "<class 'pandas.core.frame.DataFrame'>\n",
      "Int64Index: 42318 entries, 0 to 42624\n",
      "Data columns (total 21 columns):\n",
      " #   Column            Non-Null Count  Dtype  \n",
      "---  ------            --------------  -----  \n",
      " 0   Unnamed: 0        42318 non-null  int64  \n",
      " 1   abstract          42318 non-null  object \n",
      " 2   web_url           42318 non-null  object \n",
      " 3   snippet           42318 non-null  object \n",
      " 4   lead_paragraph    42318 non-null  object \n",
      " 5   print_section     25638 non-null  object \n",
      " 6   print_page        25638 non-null  float64\n",
      " 7   source            42318 non-null  object \n",
      " 8   multimedia        42318 non-null  object \n",
      " 9   headline          42318 non-null  object \n",
      " 10  keywords          42318 non-null  object \n",
      " 11  pub_date          42318 non-null  object \n",
      " 12  document_type     42318 non-null  object \n",
      " 13  news_desk         42318 non-null  object \n",
      " 14  section_name      42312 non-null  object \n",
      " 15  subsection_name   16737 non-null  object \n",
      " 16  byline            42318 non-null  object \n",
      " 17  type_of_material  42318 non-null  object \n",
      " 18  _id               42318 non-null  object \n",
      " 19  word_count        42318 non-null  int64  \n",
      " 20  uri               42318 non-null  object \n",
      "dtypes: float64(1), int64(2), object(18)\n",
      "memory usage: 7.1+ MB\n"
     ]
    }
   ],
   "source": [
    "df.info()"
   ]
  },
  {
   "cell_type": "markdown",
   "metadata": {},
   "source": [
    "Now let us take a look at a few rows from the data frame, focusing on the three columns we care about."
   ]
  },
  {
   "cell_type": "code",
<<<<<<< Updated upstream
   "execution_count": 1,
   "metadata": {},
   "outputs": [
    {
     "ename": "NameError",
     "evalue": "name 'df' is not defined",
     "output_type": "error",
     "traceback": [
      "\u001b[0;31m---------------------------------------------------------------------------\u001b[0m",
      "\u001b[0;31mNameError\u001b[0m                                 Traceback (most recent call last)",
      "Input \u001b[0;32mIn [1]\u001b[0m, in \u001b[0;36m<cell line: 1>\u001b[0;34m()\u001b[0m\n\u001b[0;32m----> 1\u001b[0m \u001b[43mdf\u001b[49m[columns]\u001b[38;5;241m.\u001b[39mhead(\u001b[38;5;241m3\u001b[39m)\n",
      "\u001b[0;31mNameError\u001b[0m: name 'df' is not defined"
     ]
=======
   "execution_count": 8,
   "metadata": {},
   "outputs": [
    {
     "data": {
      "text/html": [
       "<div>\n",
       "<style scoped>\n",
       "    .dataframe tbody tr th:only-of-type {\n",
       "        vertical-align: middle;\n",
       "    }\n",
       "\n",
       "    .dataframe tbody tr th {\n",
       "        vertical-align: top;\n",
       "    }\n",
       "\n",
       "    .dataframe thead th {\n",
       "        text-align: right;\n",
       "    }\n",
       "</style>\n",
       "<table border=\"1\" class=\"dataframe\">\n",
       "  <thead>\n",
       "    <tr style=\"text-align: right;\">\n",
       "      <th></th>\n",
       "      <th>abstract</th>\n",
       "      <th>snippet</th>\n",
       "      <th>lead_paragraph</th>\n",
       "    </tr>\n",
       "  </thead>\n",
       "  <tbody>\n",
       "    <tr>\n",
       "      <th>0</th>\n",
       "      <td>Economic hardship, climate change, political instability and gang violence will continue to spur emigration from many corners of the world.</td>\n",
       "      <td>Economic hardship, climate change, political instability and gang violence will continue to spur emigration from many corners of the world.</td>\n",
       "      <td>Relative quiet has prevailed along the southern U.S. border since Friday, despite widespread fears that ending a pandemic-era policy to immediately expel most migrants, even asylum seekers, would set off a stampede from Mexico.</td>\n",
       "    </tr>\n",
       "    <tr>\n",
       "      <th>1</th>\n",
       "      <td>It’s election night in America. Stay away from the bodega sushi.</td>\n",
       "      <td>It’s election night in America. Stay away from the bodega sushi.</td>\n",
       "      <td>The day before Logan Roy died, he delivered a fiery call to arms to his ATN staff, letting them know what he expected from the network going forward. The speech was an angrier variation of the populist spiel he had given many times before, in which he insisted that the news should always be frank and unpretentious. He wanted his anchors to tell their viewers “truthful” things they had never heard anyone say before on television. He wanted ATN to be, in a word, “spicy.”</td>\n",
       "    </tr>\n",
       "    <tr>\n",
       "      <th>2</th>\n",
       "      <td>Tom is stressed in dress shoes, Shiv hides beneath layers (of lies and a turtleneck), and Willa cosplays as a first lady hopeful.</td>\n",
       "      <td>Tom is stressed in dress shoes, Shiv hides beneath layers (of lies and a turtleneck), and Willa cosplays as a first lady hopeful.</td>\n",
       "      <td>This article contains spoilers for Episode 8 of the final season of “Succession.”</td>\n",
       "    </tr>\n",
       "    <tr>\n",
       "      <th>3</th>\n",
       "      <td>No corrections appeared in print on Monday, May 15, 2023.</td>\n",
       "      <td>No corrections appeared in print on Monday, May 15, 2023.</td>\n",
       "      <td>Errors are corrected during the press run whenever possible, so some errors noted here may not have appeared in all editions.</td>\n",
       "    </tr>\n",
       "    <tr>\n",
       "      <th>4</th>\n",
       "      <td>Quotation of the Day for Monday, May 15, 2023.</td>\n",
       "      <td>Quotation of the Day for Monday, May 15, 2023.</td>\n",
       "      <td>“For me, it was time to give back the love they gave me before.”</td>\n",
       "    </tr>\n",
       "  </tbody>\n",
       "</table>\n",
       "</div>"
      ],
      "text/plain": [
       "                                                                                                                                      abstract  \\\n",
       "0  Economic hardship, climate change, political instability and gang violence will continue to spur emigration from many corners of the world.   \n",
       "1                                                                             It’s election night in America. Stay away from the bodega sushi.   \n",
       "2            Tom is stressed in dress shoes, Shiv hides beneath layers (of lies and a turtleneck), and Willa cosplays as a first lady hopeful.   \n",
       "3                                                                                    No corrections appeared in print on Monday, May 15, 2023.   \n",
       "4                                                                                               Quotation of the Day for Monday, May 15, 2023.   \n",
       "\n",
       "                                                                                                                                       snippet  \\\n",
       "0  Economic hardship, climate change, political instability and gang violence will continue to spur emigration from many corners of the world.   \n",
       "1                                                                             It’s election night in America. Stay away from the bodega sushi.   \n",
       "2            Tom is stressed in dress shoes, Shiv hides beneath layers (of lies and a turtleneck), and Willa cosplays as a first lady hopeful.   \n",
       "3                                                                                    No corrections appeared in print on Monday, May 15, 2023.   \n",
       "4                                                                                               Quotation of the Day for Monday, May 15, 2023.   \n",
       "\n",
       "                                                                                                                                                                                                                                                                                                                                                                                                                                                                              lead_paragraph  \n",
       "0                                                                                                                                                                                                                                                        Relative quiet has prevailed along the southern U.S. border since Friday, despite widespread fears that ending a pandemic-era policy to immediately expel most migrants, even asylum seekers, would set off a stampede from Mexico.  \n",
       "1  The day before Logan Roy died, he delivered a fiery call to arms to his ATN staff, letting them know what he expected from the network going forward. The speech was an angrier variation of the populist spiel he had given many times before, in which he insisted that the news should always be frank and unpretentious. He wanted his anchors to tell their viewers “truthful” things they had never heard anyone say before on television. He wanted ATN to be, in a word, “spicy.”  \n",
       "2                                                                                                                                                                                                                                                                                                                                                                                                          This article contains spoilers for Episode 8 of the final season of “Succession.”  \n",
       "3                                                                                                                                                                                                                                                                                                                                                              Errors are corrected during the press run whenever possible, so some errors noted here may not have appeared in all editions.  \n",
       "4                                                                                                                                                                                                                                                                                                                                                                                                                           “For me, it was time to give back the love they gave me before.”  "
      ]
     },
     "execution_count": 8,
     "metadata": {},
     "output_type": "execute_result"
>>>>>>> Stashed changes
    }
   ],
   "source": [
    "pd.set_option('display.max_colwidth', None)\n",
    "df[columns].head()"
   ]
  },
  {
   "cell_type": "markdown",
   "metadata": {},
   "source": [
    "There appears to be a strong overlapping between `'abstract'` and `'snippet'`. Let us check how often they actually coincide."
   ]
  },
  {
   "cell_type": "code",
   "execution_count": 9,
   "metadata": {},
   "outputs": [
    {
     "data": {
      "text/html": [
       "<div>\n",
       "<style scoped>\n",
       "    .dataframe tbody tr th:only-of-type {\n",
       "        vertical-align: middle;\n",
       "    }\n",
       "\n",
       "    .dataframe tbody tr th {\n",
       "        vertical-align: top;\n",
       "    }\n",
       "\n",
       "    .dataframe thead th {\n",
       "        text-align: right;\n",
       "    }\n",
       "</style>\n",
       "<table border=\"1\" class=\"dataframe\">\n",
       "  <thead>\n",
       "    <tr style=\"text-align: right;\">\n",
       "      <th></th>\n",
       "      <th>abstract</th>\n",
       "      <th>snippet</th>\n",
       "    </tr>\n",
       "  </thead>\n",
       "  <tbody>\n",
       "    <tr>\n",
       "      <th>793</th>\n",
       "      <td>Over 40 years, Dr. John R. Williams nurtured thousands of acorns, including some from Sherwood Forest and George Washington’s estate, into towering oak trees. His obsession had a singular goal: Transform the grounds of this year’s P.G.A. Championship.</td>\n",
       "      <td>Over 40 years, Dr. John R. Williams nurtured thousands of acorns, including some from Sherwood Forest and George Washington’s estate, into towering oak trees. His obsession had a singular goal: Transform the grounds of this year’s P.G.A. Champions...</td>\n",
       "    </tr>\n",
       "    <tr>\n",
       "      <th>854</th>\n",
       "      <td>A fire last week at a mosque in St. Paul, Minn., was at least the fifth such act of vandalism against Muslim houses of worship in the state so far this year, officials said. The suspect in the latest fire said he was Muslim and was protesting homelessness.</td>\n",
       "      <td>A fire last week at a mosque in St. Paul, Minn., was at least the fifth such act of vandalism against Muslim houses of worship in the state so far this year, officials said. The suspect in the latest fire said he was Muslim and was protesting home...</td>\n",
       "    </tr>\n",
       "    <tr>\n",
       "      <th>3030</th>\n",
       "      <td>The indictment said the former president had illegally kept documents concerning “United States nuclear programs; potential vulnerabilities of the United States and its allies to military attack; and plans for possible retaliation in response to a foreign attack.”</td>\n",
       "      <td>The indictment said the former president had illegally kept documents concerning “United States nuclear programs; potential vulnerabilities of the United States and its allies to military attack; and plans for possible retaliation in response to a...</td>\n",
       "    </tr>\n",
       "    <tr>\n",
       "      <th>3712</th>\n",
       "      <td>The former Treasury secretary, whose new book is “The Yellow Pad,” says that Ken Auletta’s “The Underclass” convinced him that “trying to break the cycle of poverty through policy and through private efforts is not just right for moral reasons, but is enormously in the interest of all.”</td>\n",
       "      <td>The former Treasury secretary, whose new book is “The Yellow Pad,” says that Ken Auletta’s “The Underclass” convinced him that “trying to break the cycle of poverty through policy and through private efforts is not just right for moral reasons, bu...</td>\n",
       "    </tr>\n",
       "    <tr>\n",
       "      <th>5236</th>\n",
       "      <td>Larry L. Householder, the former speaker of the Ohio House of Representatives, was sentenced on Thursday after being convicted in March of participating in a racketeering conspiracy that resulted in a bailout for two struggling nuclear power plants.</td>\n",
       "      <td>Larry L. Householder, the former speaker of the Ohio House of Representatives, was sentenced on Thursday after being convicted in March of participating in a racketeering conspiracy that resulted in a bailout for two struggling nuclear power plant...</td>\n",
       "    </tr>\n",
       "    <tr>\n",
       "      <th>5403</th>\n",
       "      <td>Even as civil rights groups suggest travelers should rethink trips to the state because of policies enacted by its Republican lawmakers, it remains a tourism juggernaut. And some visitors say their spending actually supports opposition to the new laws.</td>\n",
       "      <td>Even as civil rights groups suggest travelers should rethink trips to the state because of policies enacted by its Republican lawmakers, it remains a tourism juggernaut. And some visitors say their spending actually supports opposition to the new ...</td>\n",
       "    </tr>\n",
       "    <tr>\n",
       "      <th>8348</th>\n",
       "      <td>“My thinking is that reading will focus my mind, bring a hush over the chaos of the day so I can drift off,” says the author of the memoir “Educated,” one of the Book Review’s 10 Best Books of 2018. “But from time to time a book takes hold in that peculiar way that a book can, and I end up reading through the night. ... Books are both the best and worst thing for my sleep.”</td>\n",
       "      <td>“My thinking is that reading will focus my mind, bring a hush over the chaos of the day so I can drift off,” says the author of the memoir “Educated,” one of the Book Review’s 10 Best Books of 2018. “But from time to time a book takes hold in that...</td>\n",
       "    </tr>\n",
       "    <tr>\n",
       "      <th>8699</th>\n",
       "      <td>An explosion at a political rally on Sunday in northwest Pakistan killed dozens of people and injured 200 more, officials said, the latest sign of the deteriorating security situation in Pakistan, where some militant groups have become more active over the past two years.</td>\n",
       "      <td>An explosion at a political rally on Sunday in northwest Pakistan killed dozens of people and injured 200 more, officials said, the latest sign of the deteriorating security situation in Pakistan, where some militant groups have become more active...</td>\n",
       "    </tr>\n",
       "    <tr>\n",
       "      <th>9846</th>\n",
       "      <td>“I love great character growth and fresh plots that involve some sort of social justice,” says the author of the spy novel “Undercover Latina” and other thrillers. “However, if there’s too much violence or threatened violence against women or children, I move from a sense of thrill to a sense of dread.”</td>\n",
       "      <td>“I love great character growth and fresh plots that involve some sort of social justice,” says the author of the spy novel “Undercover Latina” and other thrillers. “However, if there’s too much violence or threatened violence against women or chil...</td>\n",
       "    </tr>\n",
       "    <tr>\n",
       "      <th>10859</th>\n",
       "      <td>While the former president’s name appeared nowhere in the communique issued by three leaders, one of the subtexts was the possibility that he could return to power in next year’s election and disrupt ties with America’s two closest allies in the Indo-Pacific region.</td>\n",
       "      <td>While the former president’s name appeared nowhere in the communique issued by three leaders, one of the subtexts was the possibility that he could return to power in next year’s election and disrupt ties with America’s two closest allies in the I...</td>\n",
       "    </tr>\n",
       "    <tr>\n",
       "      <th>11384</th>\n",
       "      <td>Cormac McCarthy’s “The Road” got to her: “Sure, it’s a novel full of unbelievable violence and apocalyptic nightmare stuff,” says the best-selling author of “Wonder,” “Pony” and “White Bird,” soon to be a feature film. “But the humanity and love is there right from the first line.”</td>\n",
       "      <td>Cormac McCarthy’s “The Road” got to her: “Sure, it’s a novel full of unbelievable violence and apocalyptic nightmare stuff,” says the best-selling author of “Wonder,” “Pony” and “White Bird,” soon to be a feature film. “But the humanity and love i...</td>\n",
       "    </tr>\n",
       "    <tr>\n",
       "      <th>12370</th>\n",
       "      <td>The Mexican police, military officers and others secretly colluded with a cartel that kidnapped 43 students, a case unsolved after nearly a decade. Wiretaps show just how much the authorities helped the cartel behind the mass abduction, and what led to it.</td>\n",
       "      <td>The Mexican police, military officers and others secretly colluded with a cartel that kidnapped 43 students, a case unsolved after nearly a decade. Wiretaps show just how much the authorities helped the cartel behind the mass abduction, and what l...</td>\n",
       "    </tr>\n",
       "    <tr>\n",
       "      <th>14398</th>\n",
       "      <td>Mr. Dolan, who controls the company that owns the Knicks and the Rangers, is set to open a behemoth arena in Las Vegas that he hopes will revolutionize live entertainment. Back home in New York, he is facing the wrath of lawyers, politicians and sports fans.</td>\n",
       "      <td>Mr. Dolan, who controls the company that owns the Knicks and the Rangers, is set to open a behemoth arena in Las Vegas that he hopes will revolutionize live entertainment. Back home in New York, he is facing the wrath of lawyers, politicians and s...</td>\n",
       "    </tr>\n",
       "    <tr>\n",
       "      <th>14558</th>\n",
       "      <td>“I often look back on a book I thought was wonderful and inspiring and found it to be maudlin and flowery or have some other defect of character I overlooked,” says the journalist, whose new book is the novel “Mr. Texas.” “It could be that literary fashions have changed or I’ve gotten older, and of course both are true.”</td>\n",
       "      <td>“I often look back on a book I thought was wonderful and inspiring and found it to be maudlin and flowery or have some other defect of character I overlooked,” says the journalist, whose new book is the novel “Mr. Texas.” “It could be that literar...</td>\n",
       "    </tr>\n",
       "    <tr>\n",
       "      <th>15408</th>\n",
       "      <td>“I acted Macbeth for exactly 365 days,” says the actor, whose new memoir is “Making It So.” “The role got into me so deeply it dominated my life at the time and caused me to drink too much alcohol after the performance was over. No other role I have played has affected me so profoundly.”</td>\n",
       "      <td>“I acted Macbeth for exactly 365 days,” says the actor, whose new memoir is “Making It So.” “The role got into me so deeply it dominated my life at the time and caused me to drink too much alcohol after the performance was over. No other role I ha...</td>\n",
       "    </tr>\n",
       "    <tr>\n",
       "      <th>17057</th>\n",
       "      <td>“My favorite author was Madeleine L’Engle,” says the National Book Award-winning historian, whose new book is “Wild Girls: How the Outdoors Shaped the Women Who Challenged a Nation.” “In middle school I would ride the city bus to the public library and check out L’Engle’s novels for teens.”</td>\n",
       "      <td>“My favorite author was Madeleine L’Engle,” says the National Book Award-winning historian, whose new book is “Wild Girls: How the Outdoors Shaped the Women Who Challenged a Nation.” “In middle school I would ride the city bus to the public librar...</td>\n",
       "    </tr>\n",
       "    <tr>\n",
       "      <th>18410</th>\n",
       "      <td>The Times’s initial accounts of the blast attributed the claim of Israeli responsibility to Palestinian officials, and noted that the Israeli military said it was investigating the blast. However, the early versions of the coverage relied too heavily on claims by Hamas.</td>\n",
       "      <td>The Times’s initial accounts of the blast attributed the claim of Israeli responsibility to Palestinian officials, and noted that the Israeli military said it was investigating the blast. However, the early versions of the coverage relied too heav...</td>\n",
       "    </tr>\n",
       "    <tr>\n",
       "      <th>18722</th>\n",
       "      <td>In the 19 days since Hamas attacked Israel, the Israeli military says it has struck more than 7,000 targets in Gaza. Palestinians accuse Israel of indiscriminately targeting civilians, but Israel officials say the strikes are aimed at eroding military infrastructure.</td>\n",
       "      <td>In the 19 days since Hamas attacked Israel, the Israeli military says it has struck more than 7,000 targets in Gaza. Palestinians accuse Israel of indiscriminately targeting civilians, but Israel officials say the strikes are aimed at eroding mili...</td>\n",
       "    </tr>\n",
       "    <tr>\n",
       "      <th>18876</th>\n",
       "      <td>Established to provide temporary relief for Palestinians who fled or were expelled from their homes during the 1948 Arab-Israeli war, the agency now mainly provides services and funding for those registered as Palestinian refugees across the Mideast.</td>\n",
       "      <td>Established to provide temporary relief for Palestinians who fled or were expelled from their homes during the 1948 Arab-Israeli war, the agency now mainly provides services and funding for those registered as Palestinian refugees across the Midea...</td>\n",
       "    </tr>\n",
       "    <tr>\n",
       "      <th>20088</th>\n",
       "      <td>Doctors say they are performing surgeries without anesthesia after weeks of Israeli bombings and siege left severe shortages of medicine, water, food and fuel. “We choose who gets ventilation by deciding who has the best chance of survival,” one doctor said.</td>\n",
       "      <td>Doctors say they are performing surgeries without anesthesia after weeks of Israeli bombings and siege left severe shortages of medicine, water, food and fuel. “We choose who gets ventilation by deciding who has the best chance of survival,” one d...</td>\n",
       "    </tr>\n",
       "    <tr>\n",
       "      <th>21323</th>\n",
       "      <td>“I have a lot of books on near-death experiences, psychic phenomena and past-life regression on my shelves,” says the two-time poet laureate, whose new book is the memoir “To Free the Captives.” “These kinds of books nudge me to remember our world is but one facet of an enormous continuity.”</td>\n",
       "      <td>“I have a lot of books on near-death experiences, psychic phenomena and past-life regression on my shelves,” says the two-time poet laureate, whose new book is the memoir “To Free the Captives.” “These kinds of books nudge me to remember our world...</td>\n",
       "    </tr>\n",
       "    <tr>\n",
       "      <th>23670</th>\n",
       "      <td>“A great story casts a spell,” says the author, whose new novel is “The Vulnerables.” “It can enthrall you so completely that you not only forget that you’re stuck between two manspreaders in a noisy, crowded, smelly subway car but miss your stop.”</td>\n",
       "      <td>“A great story casts a spell,” says the author, whose new novel is “The Vulnerables.” “It can enthrall you so completely that you not only forget that you’re stuck between two manspreaders in a noisy, crowded, smelly subway car but miss your stop....</td>\n",
       "    </tr>\n",
       "    <tr>\n",
       "      <th>24882</th>\n",
       "      <td>Six million have died, and more than six million are displaced after decades of fighting and the ensuing humanitarian crisis in the eastern region of the Democratic Republic of Congo, drawing in neighbors, mercenaries and militias. An upcoming election is inflaming tempers.</td>\n",
       "      <td>Six million have died, and more than six million are displaced after decades of fighting and the ensuing humanitarian crisis in the eastern region of the Democratic Republic of Congo, drawing in neighbors, mercenaries and militias. An upcoming ele...</td>\n",
       "    </tr>\n",
       "    <tr>\n",
       "      <th>24934</th>\n",
       "      <td>Amid wild cost fluctuations and extreme weather conditions, a small army of workers toiled for years at Wyckoff’s Christmas Tree Farm in Belvidere, N.J. The goal? Producing this year’s crop, including this seven-foot Norway Spruce, which is sold for $105.</td>\n",
       "      <td>Amid wild cost fluctuations and extreme weather conditions, a small army of workers toiled for years at Wyckoff’s Christmas Tree Farm in Belvidere, N.J. The goal? Producing this year’s crop, including this seven-foot Norway Spruce, which is sold f...</td>\n",
       "    </tr>\n",
       "    <tr>\n",
       "      <th>32760</th>\n",
       "      <td>Aaron Bushnell, an active-duty senior airman, repeatedly shouted, “Free Palestine!” as he filmed and livestreamed his protest against Israel’s deadly military actions in Gaza. He had been taken to a hospital on Sunday with life-threatening injuries.</td>\n",
       "      <td>Aaron Bushnell, an active-duty senior airman, repeatedly shouted, “Free Palestine!” as he filmed and livestreamed his protest against Israel’s deadly military actions in Gaza. He had been taken to a hospital on Sunday with life-threatening injurie...</td>\n",
       "    </tr>\n",
       "    <tr>\n",
       "      <th>38843</th>\n",
       "      <td>Lawmakers raising national security concerns and seeking to disconnect a major Chinese firm from U.S. pharmaceutical interests have rattled the biotech industry. The firm is deeply involved in development and manufacturing of crucial therapies for cancer, cystic fibrosis, H.I.V. and other illnesses.</td>\n",
       "      <td>Lawmakers raising national security concerns and seeking to disconnect a major Chinese firm from U.S. pharmaceutical interests have rattled the biotech industry. The firm is deeply involved in development and manufacturing of crucial therapies for...</td>\n",
       "    </tr>\n",
       "  </tbody>\n",
       "</table>\n",
       "</div>"
      ],
      "text/plain": [
       "                                                                                                                                                                                                                                                                                                                                                                                       abstract  \\\n",
       "793                                                                                                                                 Over 40 years, Dr. John R. Williams nurtured thousands of acorns, including some from Sherwood Forest and George Washington’s estate, into towering oak trees. His obsession had a singular goal: Transform the grounds of this year’s P.G.A. Championship.   \n",
       "854                                                                                                                            A fire last week at a mosque in St. Paul, Minn., was at least the fifth such act of vandalism against Muslim houses of worship in the state so far this year, officials said. The suspect in the latest fire said he was Muslim and was protesting homelessness.   \n",
       "3030                                                                                                                   The indictment said the former president had illegally kept documents concerning “United States nuclear programs; potential vulnerabilities of the United States and its allies to military attack; and plans for possible retaliation in response to a foreign attack.”   \n",
       "3712                                                                                            The former Treasury secretary, whose new book is “The Yellow Pad,” says that Ken Auletta’s “The Underclass” convinced him that “trying to break the cycle of poverty through policy and through private efforts is not just right for moral reasons, but is enormously in the interest of all.”   \n",
       "5236                                                                                                                                  Larry L. Householder, the former speaker of the Ohio House of Representatives, was sentenced on Thursday after being convicted in March of participating in a racketeering conspiracy that resulted in a bailout for two struggling nuclear power plants.   \n",
       "5403                                                                                                                               Even as civil rights groups suggest travelers should rethink trips to the state because of policies enacted by its Republican lawmakers, it remains a tourism juggernaut. And some visitors say their spending actually supports opposition to the new laws.   \n",
       "8348   “My thinking is that reading will focus my mind, bring a hush over the chaos of the day so I can drift off,” says the author of the memoir “Educated,” one of the Book Review’s 10 Best Books of 2018. “But from time to time a book takes hold in that peculiar way that a book can, and I end up reading through the night. ... Books are both the best and worst thing for my sleep.”   \n",
       "8699                                                                                                           An explosion at a political rally on Sunday in northwest Pakistan killed dozens of people and injured 200 more, officials said, the latest sign of the deteriorating security situation in Pakistan, where some militant groups have become more active over the past two years.   \n",
       "9846                                                                           “I love great character growth and fresh plots that involve some sort of social justice,” says the author of the spy novel “Undercover Latina” and other thrillers. “However, if there’s too much violence or threatened violence against women or children, I move from a sense of thrill to a sense of dread.”   \n",
       "10859                                                                                                                While the former president’s name appeared nowhere in the communique issued by three leaders, one of the subtexts was the possibility that he could return to power in next year’s election and disrupt ties with America’s two closest allies in the Indo-Pacific region.   \n",
       "11384                                                                                                Cormac McCarthy’s “The Road” got to her: “Sure, it’s a novel full of unbelievable violence and apocalyptic nightmare stuff,” says the best-selling author of “Wonder,” “Pony” and “White Bird,” soon to be a feature film. “But the humanity and love is there right from the first line.”   \n",
       "12370                                                                                                                          The Mexican police, military officers and others secretly colluded with a cartel that kidnapped 43 students, a case unsolved after nearly a decade. Wiretaps show just how much the authorities helped the cartel behind the mass abduction, and what led to it.   \n",
       "14398                                                                                                                        Mr. Dolan, who controls the company that owns the Knicks and the Rangers, is set to open a behemoth arena in Las Vegas that he hopes will revolutionize live entertainment. Back home in New York, he is facing the wrath of lawyers, politicians and sports fans.   \n",
       "14558                                                        “I often look back on a book I thought was wonderful and inspiring and found it to be maudlin and flowery or have some other defect of character I overlooked,” says the journalist, whose new book is the novel “Mr. Texas.” “It could be that literary fashions have changed or I’ve gotten older, and of course both are true.”   \n",
       "15408                                                                                          “I acted Macbeth for exactly 365 days,” says the actor, whose new memoir is “Making It So.” “The role got into me so deeply it dominated my life at the time and caused me to drink too much alcohol after the performance was over. No other role I have played has affected me so profoundly.”   \n",
       "17057                                                                                       “My favorite author was Madeleine L’Engle,” says the National Book Award-winning historian, whose new book is “Wild Girls: How the Outdoors Shaped the Women Who Challenged a Nation.” “In middle school I would ride the city bus to the public library and check out L’Engle’s novels for teens.”   \n",
       "18410                                                                                                            The Times’s initial accounts of the blast attributed the claim of Israeli responsibility to Palestinian officials, and noted that the Israeli military said it was investigating the blast. However, the early versions of the coverage relied too heavily on claims by Hamas.   \n",
       "18722                                                                                                               In the 19 days since Hamas attacked Israel, the Israeli military says it has struck more than 7,000 targets in Gaza. Palestinians accuse Israel of indiscriminately targeting civilians, but Israel officials say the strikes are aimed at eroding military infrastructure.   \n",
       "18876                                                                                                                                Established to provide temporary relief for Palestinians who fled or were expelled from their homes during the 1948 Arab-Israeli war, the agency now mainly provides services and funding for those registered as Palestinian refugees across the Mideast.   \n",
       "20088                                                                                                                        Doctors say they are performing surgeries without anesthesia after weeks of Israeli bombings and siege left severe shortages of medicine, water, food and fuel. “We choose who gets ventilation by deciding who has the best chance of survival,” one doctor said.   \n",
       "21323                                                                                      “I have a lot of books on near-death experiences, psychic phenomena and past-life regression on my shelves,” says the two-time poet laureate, whose new book is the memoir “To Free the Captives.” “These kinds of books nudge me to remember our world is but one facet of an enormous continuity.”   \n",
       "23670                                                                                                                                  “A great story casts a spell,” says the author, whose new novel is “The Vulnerables.” “It can enthrall you so completely that you not only forget that you’re stuck between two manspreaders in a noisy, crowded, smelly subway car but miss your stop.”   \n",
       "24882                                                                                                        Six million have died, and more than six million are displaced after decades of fighting and the ensuing humanitarian crisis in the eastern region of the Democratic Republic of Congo, drawing in neighbors, mercenaries and militias. An upcoming election is inflaming tempers.   \n",
       "24934                                                                                                                           Amid wild cost fluctuations and extreme weather conditions, a small army of workers toiled for years at Wyckoff’s Christmas Tree Farm in Belvidere, N.J. The goal? Producing this year’s crop, including this seven-foot Norway Spruce, which is sold for $105.   \n",
       "32760                                                                                                                                 Aaron Bushnell, an active-duty senior airman, repeatedly shouted, “Free Palestine!” as he filmed and livestreamed his protest against Israel’s deadly military actions in Gaza. He had been taken to a hospital on Sunday with life-threatening injuries.   \n",
       "38843                                                                              Lawmakers raising national security concerns and seeking to disconnect a major Chinese firm from U.S. pharmaceutical interests have rattled the biotech industry. The firm is deeply involved in development and manufacturing of crucial therapies for cancer, cystic fibrosis, H.I.V. and other illnesses.   \n",
       "\n",
       "                                                                                                                                                                                                                                                          snippet  \n",
       "793    Over 40 years, Dr. John R. Williams nurtured thousands of acorns, including some from Sherwood Forest and George Washington’s estate, into towering oak trees. His obsession had a singular goal: Transform the grounds of this year’s P.G.A. Champions...  \n",
       "854    A fire last week at a mosque in St. Paul, Minn., was at least the fifth such act of vandalism against Muslim houses of worship in the state so far this year, officials said. The suspect in the latest fire said he was Muslim and was protesting home...  \n",
       "3030   The indictment said the former president had illegally kept documents concerning “United States nuclear programs; potential vulnerabilities of the United States and its allies to military attack; and plans for possible retaliation in response to a...  \n",
       "3712   The former Treasury secretary, whose new book is “The Yellow Pad,” says that Ken Auletta’s “The Underclass” convinced him that “trying to break the cycle of poverty through policy and through private efforts is not just right for moral reasons, bu...  \n",
       "5236   Larry L. Householder, the former speaker of the Ohio House of Representatives, was sentenced on Thursday after being convicted in March of participating in a racketeering conspiracy that resulted in a bailout for two struggling nuclear power plant...  \n",
       "5403   Even as civil rights groups suggest travelers should rethink trips to the state because of policies enacted by its Republican lawmakers, it remains a tourism juggernaut. And some visitors say their spending actually supports opposition to the new ...  \n",
       "8348   “My thinking is that reading will focus my mind, bring a hush over the chaos of the day so I can drift off,” says the author of the memoir “Educated,” one of the Book Review’s 10 Best Books of 2018. “But from time to time a book takes hold in that...  \n",
       "8699   An explosion at a political rally on Sunday in northwest Pakistan killed dozens of people and injured 200 more, officials said, the latest sign of the deteriorating security situation in Pakistan, where some militant groups have become more active...  \n",
       "9846   “I love great character growth and fresh plots that involve some sort of social justice,” says the author of the spy novel “Undercover Latina” and other thrillers. “However, if there’s too much violence or threatened violence against women or chil...  \n",
       "10859  While the former president’s name appeared nowhere in the communique issued by three leaders, one of the subtexts was the possibility that he could return to power in next year’s election and disrupt ties with America’s two closest allies in the I...  \n",
       "11384  Cormac McCarthy’s “The Road” got to her: “Sure, it’s a novel full of unbelievable violence and apocalyptic nightmare stuff,” says the best-selling author of “Wonder,” “Pony” and “White Bird,” soon to be a feature film. “But the humanity and love i...  \n",
       "12370  The Mexican police, military officers and others secretly colluded with a cartel that kidnapped 43 students, a case unsolved after nearly a decade. Wiretaps show just how much the authorities helped the cartel behind the mass abduction, and what l...  \n",
       "14398  Mr. Dolan, who controls the company that owns the Knicks and the Rangers, is set to open a behemoth arena in Las Vegas that he hopes will revolutionize live entertainment. Back home in New York, he is facing the wrath of lawyers, politicians and s...  \n",
       "14558  “I often look back on a book I thought was wonderful and inspiring and found it to be maudlin and flowery or have some other defect of character I overlooked,” says the journalist, whose new book is the novel “Mr. Texas.” “It could be that literar...  \n",
       "15408  “I acted Macbeth for exactly 365 days,” says the actor, whose new memoir is “Making It So.” “The role got into me so deeply it dominated my life at the time and caused me to drink too much alcohol after the performance was over. No other role I ha...  \n",
       "17057  “My favorite author was Madeleine L’Engle,” says the National Book Award-winning historian, whose new book is “Wild Girls: How the Outdoors Shaped the Women Who Challenged a Nation.” “In middle school I would ride the city bus to the public librar...  \n",
       "18410  The Times’s initial accounts of the blast attributed the claim of Israeli responsibility to Palestinian officials, and noted that the Israeli military said it was investigating the blast. However, the early versions of the coverage relied too heav...  \n",
       "18722  In the 19 days since Hamas attacked Israel, the Israeli military says it has struck more than 7,000 targets in Gaza. Palestinians accuse Israel of indiscriminately targeting civilians, but Israel officials say the strikes are aimed at eroding mili...  \n",
       "18876  Established to provide temporary relief for Palestinians who fled or were expelled from their homes during the 1948 Arab-Israeli war, the agency now mainly provides services and funding for those registered as Palestinian refugees across the Midea...  \n",
       "20088  Doctors say they are performing surgeries without anesthesia after weeks of Israeli bombings and siege left severe shortages of medicine, water, food and fuel. “We choose who gets ventilation by deciding who has the best chance of survival,” one d...  \n",
       "21323  “I have a lot of books on near-death experiences, psychic phenomena and past-life regression on my shelves,” says the two-time poet laureate, whose new book is the memoir “To Free the Captives.” “These kinds of books nudge me to remember our world...  \n",
       "23670  “A great story casts a spell,” says the author, whose new novel is “The Vulnerables.” “It can enthrall you so completely that you not only forget that you’re stuck between two manspreaders in a noisy, crowded, smelly subway car but miss your stop....  \n",
       "24882  Six million have died, and more than six million are displaced after decades of fighting and the ensuing humanitarian crisis in the eastern region of the Democratic Republic of Congo, drawing in neighbors, mercenaries and militias. An upcoming ele...  \n",
       "24934  Amid wild cost fluctuations and extreme weather conditions, a small army of workers toiled for years at Wyckoff’s Christmas Tree Farm in Belvidere, N.J. The goal? Producing this year’s crop, including this seven-foot Norway Spruce, which is sold f...  \n",
       "32760  Aaron Bushnell, an active-duty senior airman, repeatedly shouted, “Free Palestine!” as he filmed and livestreamed his protest against Israel’s deadly military actions in Gaza. He had been taken to a hospital on Sunday with life-threatening injurie...  \n",
       "38843  Lawmakers raising national security concerns and seeking to disconnect a major Chinese firm from U.S. pharmaceutical interests have rattled the biotech industry. The firm is deeply involved in development and manufacturing of crucial therapies for...  "
      ]
     },
     "execution_count": 9,
     "metadata": {},
     "output_type": "execute_result"
    }
   ],
   "source": [
    "df.loc[df.abstract != df.snippet][['abstract', 'snippet']]"
   ]
  },
  {
   "cell_type": "markdown",
   "metadata": {},
   "source": [
    "Well that was disappointing. It appears the difference is not really significant, so we should discard one of the two columns. We will keep the column that had more non-null values in the original data frame, which is `'abstract'`. Before we start over and include the rows that we had previously dropped, let us check whether `'lead_paragraph'` has the same issue."
   ]
  },
  {
   "cell_type": "code",
   "execution_count": 10,
   "metadata": {},
   "outputs": [
    {
     "data": {
      "text/plain": [
       "15"
      ]
     },
     "execution_count": 10,
     "metadata": {},
     "output_type": "execute_result"
    }
   ],
   "source": [
    "df.loc[df.abstract == df.lead_paragraph].shape[0]"
   ]
  },
  {
   "cell_type": "markdown",
   "metadata": {},
   "source": [
    "So `'abstract'` and `'lead_paragraph'` are the same for 15 data points. We can probably ignore this, but let us still take a look at what those values are, just in case these are really null values that we did not expect."
   ]
  },
  {
   "cell_type": "code",
   "execution_count": 11,
   "metadata": {},
   "outputs": [
    {
     "data": {
      "text/html": [
       "<div>\n",
       "<style scoped>\n",
       "    .dataframe tbody tr th:only-of-type {\n",
       "        vertical-align: middle;\n",
       "    }\n",
       "\n",
       "    .dataframe tbody tr th {\n",
       "        vertical-align: top;\n",
       "    }\n",
       "\n",
       "    .dataframe thead th {\n",
       "        text-align: right;\n",
       "    }\n",
       "</style>\n",
       "<table border=\"1\" class=\"dataframe\">\n",
       "  <thead>\n",
       "    <tr style=\"text-align: right;\">\n",
       "      <th></th>\n",
       "      <th>abstract</th>\n",
       "      <th>lead_paragraph</th>\n",
       "    </tr>\n",
       "  </thead>\n",
       "  <tbody>\n",
       "    <tr>\n",
       "      <th>2025</th>\n",
       "      <td>There are a lot of unsettling signals coming from the world’s oceans right now.</td>\n",
       "      <td>There are a lot of unsettling signals coming from the world’s oceans right now.</td>\n",
       "    </tr>\n",
       "    <tr>\n",
       "      <th>8807</th>\n",
       "      <td>In theory, there is no branch in the American constitutional system that exists above or beyond the reach of the others.</td>\n",
       "      <td>In theory, there is no branch in the American constitutional system that exists above or beyond the reach of the others.</td>\n",
       "    </tr>\n",
       "    <tr>\n",
       "      <th>16586</th>\n",
       "      <td>We bring the movies to you.</td>\n",
       "      <td>We bring the movies to you.</td>\n",
       "    </tr>\n",
       "    <tr>\n",
       "      <th>20825</th>\n",
       "      <td>What happens when you realize the people in charge don’t have the answers.</td>\n",
       "      <td>What happens when you realize the people in charge don’t have the answers.</td>\n",
       "    </tr>\n",
       "    <tr>\n",
       "      <th>21647</th>\n",
       "      <td>Things our dads taught us, whether they intended to or not.</td>\n",
       "      <td>Things our dads taught us, whether they intended to or not.</td>\n",
       "    </tr>\n",
       "    <tr>\n",
       "      <th>22911</th>\n",
       "      <td>Want to see new art in New York this weekend? Check out a trove of South African art on the Upper East Side and Ed Atkins’s avatars in Chelsea. And don’t miss Kayode Ojo’s sleek sculptures in TriBeCa.</td>\n",
       "      <td>Want to see new art in New York this weekend? Check out a trove of South African art on the Upper East Side and Ed Atkins’s avatars in Chelsea. And don’t miss Kayode Ojo’s sleek sculptures in TriBeCa.</td>\n",
       "    </tr>\n",
       "    <tr>\n",
       "      <th>25565</th>\n",
       "      <td>A major political party in a major swing state bets on a new leader: a total political outsider. How does that work out?</td>\n",
       "      <td>A major political party in a major swing state bets on a new leader: a total political outsider. How does that work out?</td>\n",
       "    </tr>\n",
       "    <tr>\n",
       "      <th>26560</th>\n",
       "      <td>This week, Jillian Steinhauer covers Dara Birnbaum’s video art, an intergenerational group show of Atlanta-based artists and Nickola Pottinger’s painted pulp sculptures.</td>\n",
       "      <td>This week, Jillian Steinhauer covers Dara Birnbaum’s video art, an intergenerational group show of Atlanta-based artists and Nickola Pottinger’s painted pulp sculptures.</td>\n",
       "    </tr>\n",
       "    <tr>\n",
       "      <th>26748</th>\n",
       "      <td>There’s the thing you plan to do, and then there’s the thing you end up doing.</td>\n",
       "      <td>There’s the thing you plan to do, and then there’s the thing you end up doing.</td>\n",
       "    </tr>\n",
       "    <tr>\n",
       "      <th>30104</th>\n",
       "      <td>What we ask to find out what we really want to know.</td>\n",
       "      <td>What we ask to find out what we really want to know.</td>\n",
       "    </tr>\n",
       "    <tr>\n",
       "      <th>32660</th>\n",
       "      <td>Your mother and I have something we want to talk with you about.</td>\n",
       "      <td>Your mother and I have something we want to talk with you about.</td>\n",
       "    </tr>\n",
       "    <tr>\n",
       "      <th>36211</th>\n",
       "      <td>The things we break, and the ones we can’t fix.</td>\n",
       "      <td>The things we break, and the ones we can’t fix.</td>\n",
       "    </tr>\n",
       "    <tr>\n",
       "      <th>37108</th>\n",
       "      <td>It is fitting that the biggest movie in the world this year is the story of a messiah gone wrong.</td>\n",
       "      <td>It is fitting that the biggest movie in the world this year is the story of a messiah gone wrong.</td>\n",
       "    </tr>\n",
       "    <tr>\n",
       "      <th>37558</th>\n",
       "      <td>Political crisis has embroiled Panama’s May 5 presidential election, exacerbating uncertainty in a country dealing with drought and fallout from widespread protests.</td>\n",
       "      <td>Political crisis has embroiled Panama’s May 5 presidential election, exacerbating uncertainty in a country dealing with drought and fallout from widespread protests.</td>\n",
       "    </tr>\n",
       "    <tr>\n",
       "      <th>41777</th>\n",
       "      <td>Why is it that a substantial body of social science research finds that conservatives are happier than liberals?</td>\n",
       "      <td>Why is it that a substantial body of social science research finds that conservatives are happier than liberals?</td>\n",
       "    </tr>\n",
       "  </tbody>\n",
       "</table>\n",
       "</div>"
      ],
      "text/plain": [
       "                                                                                                                                                                                                       abstract  \\\n",
       "2025                                                                                                                            There are a lot of unsettling signals coming from the world’s oceans right now.   \n",
       "8807                                                                                   In theory, there is no branch in the American constitutional system that exists above or beyond the reach of the others.   \n",
       "16586                                                                                                                                                                               We bring the movies to you.   \n",
       "20825                                                                                                                                What happens when you realize the people in charge don’t have the answers.   \n",
       "21647                                                                                                                                               Things our dads taught us, whether they intended to or not.   \n",
       "22911  Want to see new art in New York this weekend? Check out a trove of South African art on the Upper East Side and Ed Atkins’s avatars in Chelsea. And don’t miss Kayode Ojo’s sleek sculptures in TriBeCa.   \n",
       "25565                                                                                  A major political party in a major swing state bets on a new leader: a total political outsider. How does that work out?   \n",
       "26560                                 This week, Jillian Steinhauer covers Dara Birnbaum’s video art, an intergenerational group show of Atlanta-based artists and Nickola Pottinger’s painted pulp sculptures.   \n",
       "26748                                                                                                                            There’s the thing you plan to do, and then there’s the thing you end up doing.   \n",
       "30104                                                                                                                                                      What we ask to find out what we really want to know.   \n",
       "32660                                                                                                                                          Your mother and I have something we want to talk with you about.   \n",
       "36211                                                                                                                                                           The things we break, and the ones we can’t fix.   \n",
       "37108                                                                                                         It is fitting that the biggest movie in the world this year is the story of a messiah gone wrong.   \n",
       "37558                                     Political crisis has embroiled Panama’s May 5 presidential election, exacerbating uncertainty in a country dealing with drought and fallout from widespread protests.   \n",
       "41777                                                                                          Why is it that a substantial body of social science research finds that conservatives are happier than liberals?   \n",
       "\n",
       "                                                                                                                                                                                                 lead_paragraph  \n",
       "2025                                                                                                                            There are a lot of unsettling signals coming from the world’s oceans right now.  \n",
       "8807                                                                                   In theory, there is no branch in the American constitutional system that exists above or beyond the reach of the others.  \n",
       "16586                                                                                                                                                                               We bring the movies to you.  \n",
       "20825                                                                                                                                What happens when you realize the people in charge don’t have the answers.  \n",
       "21647                                                                                                                                               Things our dads taught us, whether they intended to or not.  \n",
       "22911  Want to see new art in New York this weekend? Check out a trove of South African art on the Upper East Side and Ed Atkins’s avatars in Chelsea. And don’t miss Kayode Ojo’s sleek sculptures in TriBeCa.  \n",
       "25565                                                                                  A major political party in a major swing state bets on a new leader: a total political outsider. How does that work out?  \n",
       "26560                                 This week, Jillian Steinhauer covers Dara Birnbaum’s video art, an intergenerational group show of Atlanta-based artists and Nickola Pottinger’s painted pulp sculptures.  \n",
       "26748                                                                                                                            There’s the thing you plan to do, and then there’s the thing you end up doing.  \n",
       "30104                                                                                                                                                      What we ask to find out what we really want to know.  \n",
       "32660                                                                                                                                          Your mother and I have something we want to talk with you about.  \n",
       "36211                                                                                                                                                           The things we break, and the ones we can’t fix.  \n",
       "37108                                                                                                         It is fitting that the biggest movie in the world this year is the story of a messiah gone wrong.  \n",
       "37558                                     Political crisis has embroiled Panama’s May 5 presidential election, exacerbating uncertainty in a country dealing with drought and fallout from widespread protests.  \n",
       "41777                                                                                          Why is it that a substantial body of social science research finds that conservatives are happier than liberals?  "
      ]
     },
     "execution_count": 11,
     "metadata": {},
     "output_type": "execute_result"
    }
   ],
   "source": [
    "df.loc[df.abstract == df.lead_paragraph][['abstract', 'lead_paragraph']]"
   ]
  },
  {
   "cell_type": "markdown",
   "metadata": {},
   "source": [
    "These are all valid entries, so we might as well just keep them.  \n",
    "Let us start over then, and take a look at a larger set of values."
   ]
  },
  {
   "cell_type": "code",
   "execution_count": 12,
   "metadata": {},
   "outputs": [
    {
     "data": {
      "text/html": [
       "<div>\n",
       "<style scoped>\n",
       "    .dataframe tbody tr th:only-of-type {\n",
       "        vertical-align: middle;\n",
       "    }\n",
       "\n",
       "    .dataframe tbody tr th {\n",
       "        vertical-align: top;\n",
       "    }\n",
       "\n",
       "    .dataframe thead th {\n",
       "        text-align: right;\n",
       "    }\n",
       "</style>\n",
       "<table border=\"1\" class=\"dataframe\">\n",
       "  <thead>\n",
       "    <tr style=\"text-align: right;\">\n",
       "      <th></th>\n",
       "      <th>abstract</th>\n",
       "      <th>lead_paragraph</th>\n",
       "    </tr>\n",
       "  </thead>\n",
       "  <tbody>\n",
       "    <tr>\n",
       "      <th>0</th>\n",
       "      <td>Economic hardship, climate change, political instability and gang violence will continue to spur emigration from many corners of the world.</td>\n",
       "      <td>Relative quiet has prevailed along the southern U.S. border since Friday, despite widespread fears that ending a pandemic-era policy to immediately expel most migrants, even asylum seekers, would set off a stampede from Mexico.</td>\n",
       "    </tr>\n",
       "    <tr>\n",
       "      <th>1</th>\n",
       "      <td>It’s election night in America. Stay away from the bodega sushi.</td>\n",
       "      <td>The day before Logan Roy died, he delivered a fiery call to arms to his ATN staff, letting them know what he expected from the network going forward. The speech was an angrier variation of the populist spiel he had given many times before, in which he insisted that the news should always be frank and unpretentious. He wanted his anchors to tell their viewers “truthful” things they had never heard anyone say before on television. He wanted ATN to be, in a word, “spicy.”</td>\n",
       "    </tr>\n",
       "    <tr>\n",
       "      <th>2</th>\n",
       "      <td>Tom is stressed in dress shoes, Shiv hides beneath layers (of lies and a turtleneck), and Willa cosplays as a first lady hopeful.</td>\n",
       "      <td>This article contains spoilers for Episode 8 of the final season of “Succession.”</td>\n",
       "    </tr>\n",
       "    <tr>\n",
       "      <th>3</th>\n",
       "      <td>No corrections appeared in print on Monday, May 15, 2023.</td>\n",
       "      <td>Errors are corrected during the press run whenever possible, so some errors noted here may not have appeared in all editions.</td>\n",
       "    </tr>\n",
       "    <tr>\n",
       "      <th>4</th>\n",
       "      <td>Quotation of the Day for Monday, May 15, 2023.</td>\n",
       "      <td>“For me, it was time to give back the love they gave me before.”</td>\n",
       "    </tr>\n",
       "    <tr>\n",
       "      <th>5</th>\n",
       "      <td>The 19-year-old French basketball star is the most hyped N.B.A. prospect since LeBron James, but he says he isn’t fazed by the pressure.</td>\n",
       "      <td>Boris Diaw was passing through Paris in late September and thought he would check out a basketball game. A young player he had heard about for years was playing.</td>\n",
       "    </tr>\n",
       "    <tr>\n",
       "      <th>6</th>\n",
       "      <td>New York City students are struggling with reading, but principals are worried that the rollout of a new teaching method is happening too quickly.</td>\n",
       "      <td>Good morning. It’s Monday. We’ll look at something so fundamental it’s the first of the three R’s — and why New York City is about to change the way it is taught in public schools.</td>\n",
       "    </tr>\n",
       "    <tr>\n",
       "      <th>7</th>\n",
       "      <td>Results of Turkey’s election.</td>\n",
       "      <td>Turkey’s presidential election appears to be destined for a runoff after the incumbent, Recep Tayyip Erdogan, failed to win a majority of the vote, in the toughest political challenge of his career.</td>\n",
       "    </tr>\n",
       "    <tr>\n",
       "      <th>8</th>\n",
       "      <td>Shouldn’t a protest movement led by unions be benefiting the left?</td>\n",
       "      <td>For three months, France has been in revolt: Demonstrators have marched; railroad workers have blocked tracks; barricades and buildings have been set aflame; protesters have done battle in the street with police. The most recent innovation has been tamer: People have banged pots whenever the president has appeared. The cause? President Emmanuel Macron’s measure raising the retirement age from 62 to 64.</td>\n",
       "    </tr>\n",
       "    <tr>\n",
       "      <th>9</th>\n",
       "      <td>A spy drama based on a decades-long manhunt comes to Showtime, and a new FX documentary brings back former Hillsong pastors to reflect on the church’s scandal.</td>\n",
       "      <td>Between network, cable and streaming, the modern television landscape is a vast one. Here are some of the shows, specials and movies coming to TV this week, May 15-21. Details and times are subject to change.</td>\n",
       "    </tr>\n",
       "    <tr>\n",
       "      <th>10</th>\n",
       "      <td>Vice, which had wooed media giants, has struggled to adjust to the punishing realities of digital publishing. A group of creditors could buy Vice for $225 million.</td>\n",
       "      <td>Vice Media filed for bankruptcy on Monday, punctuating a yearslong descent from a new-media darling to a cautionary tale of the problems facing the digital publishing industry.</td>\n",
       "    </tr>\n",
       "    <tr>\n",
       "      <th>11</th>\n",
       "      <td>This word has appeared in 67 articles on NYTimes.com in the past year. Can you use it in a sentence?</td>\n",
       "      <td>The word dissipate has appeared in 67 articles on NYTimes.com in the past year, including on Feb. 18 in “In a Treacherous Corner of Washington, a Classroom With 40-Foot Waves” by Kirk Johnson:</td>\n",
       "    </tr>\n",
       "    <tr>\n",
       "      <th>12</th>\n",
       "      <td>While the battle for Bakhmut, a mostly ruined city where tens of thousands of soldiers are believed to have died, continues to rage after Ukraine made some gains for the first time in months, world leaders are planning several efforts in the coming days to find new diplomatic avenues for ending the war.</td>\n",
       "      <td>While the battle for Bakhmut, a mostly ruined city where tens of thousands of soldiers are believed to have died, continues to rage after Ukraine made some gains for the first time in months, world leaders are planning several efforts in the coming days to find new diplomatic avenues for ending the war.</td>\n",
       "    </tr>\n",
       "    <tr>\n",
       "      <th>13</th>\n",
       "      <td>Feeling stuck on today’s puzzle? We can help.</td>\n",
       "      <td>MONDAY — Hi busy bees! Welcome to today’s Spelling Bee forum. There are a number of terms that appear in both this article and other online discussions of the Spelling Bee; a glossary of those terms compiled by Monicat, a Times reader, can be found below. For more Spelling Bee conversation, check out Deb Amlen’s weekly humor column, “Diary of a Spelling Bee Fanatic.”</td>\n",
       "    </tr>\n",
       "    <tr>\n",
       "      <th>14</th>\n",
       "      <td>Our columnist reviews the day’s puzzle. Warning: Contains spoilers!</td>\n",
       "      <td>Welcome to The Wordle Review. Be warned: This article contains spoilers for today’s puzzle. Solve Wordle first, or scroll at your own risk.</td>\n",
       "    </tr>\n",
       "    <tr>\n",
       "      <th>15</th>\n",
       "      <td>Even as the leaders of Trinidad and Tobago double down on fossil fuels, climate change is bringing more extreme weather to the island nation.</td>\n",
       "      <td>Imtiaz Khan remembers the rains of his childhood as being light and providing welcome relief from the summer heat. A heavy shower, he said, would arrive only about once a month during the rainy season.</td>\n",
       "    </tr>\n",
       "    <tr>\n",
       "      <th>16</th>\n",
       "      <td>After the G.O.P.-led legislature passed a 12-week ban, the Democratic governor vetoed the bill. The Republicans could override it, if all their members stay unified.</td>\n",
       "      <td>North Carolina Gov. Roy Cooper, now in the waning years of his second term, has suddenly found himself back on a campaign trail.</td>\n",
       "    </tr>\n",
       "    <tr>\n",
       "      <th>17</th>\n",
       "      <td>Trinidad and Tobago is the No. 2 exporter of liquefied natural gas in the Americas. Its output has been falling, but it remains committed to fossil fuels.</td>\n",
       "      <td>Ribboned shovel in hand, Prime Minister Keith Rowley joined a ceremonial groundbreaking last month to celebrate Trinidad and Tobago’s first large solar farm project expected to generate power for 42,000 homes.</td>\n",
       "    </tr>\n",
       "    <tr>\n",
       "      <th>18</th>\n",
       "      <td>The massacre of nine workers in the Central African Republic and other recent attacks raise questions about China’s ability to protect its citizens overseas.</td>\n",
       "      <td>The Chinese embassy in the Central African Republic had a stark warning for its compatriots in the landlocked nation: Do not leave the capital city of Bangui. Kidnappings of foreigners were on the rise, and any Chinese person outside of Bangui was to leave those areas immediately.</td>\n",
       "    </tr>\n",
       "    <tr>\n",
       "      <th>19</th>\n",
       "      <td>A new study by a nonpartisan group tries to put a number on that important question.</td>\n",
       "      <td>Denying the results of the 2020 election and casting doubts about the nation’s voting system cost statewide Republican candidates 2.3 to 3.7 percentage points in the midterms last year, according to a new study from States United Action, a nonpartisan group that promotes fair elections.</td>\n",
       "    </tr>\n",
       "  </tbody>\n",
       "</table>\n",
       "</div>"
      ],
      "text/plain": [
       "                                                                                                                                                                                                                                                                                                            abstract  \\\n",
       "0                                                                                                                                                                        Economic hardship, climate change, political instability and gang violence will continue to spur emigration from many corners of the world.   \n",
       "1                                                                                                                                                                                                                                                   It’s election night in America. Stay away from the bodega sushi.   \n",
       "2                                                                                                                                                                                  Tom is stressed in dress shoes, Shiv hides beneath layers (of lies and a turtleneck), and Willa cosplays as a first lady hopeful.   \n",
       "3                                                                                                                                                                                                                                                          No corrections appeared in print on Monday, May 15, 2023.   \n",
       "4                                                                                                                                                                                                                                                                     Quotation of the Day for Monday, May 15, 2023.   \n",
       "5                                                                                                                                                                           The 19-year-old French basketball star is the most hyped N.B.A. prospect since LeBron James, but he says he isn’t fazed by the pressure.   \n",
       "6                                                                                                                                                                 New York City students are struggling with reading, but principals are worried that the rollout of a new teaching method is happening too quickly.   \n",
       "7                                                                                                                                                                                                                                                                                      Results of Turkey’s election.   \n",
       "8                                                                                                                                                                                                                                                 Shouldn’t a protest movement led by unions be benefiting the left?   \n",
       "9                                                                                                                                                    A spy drama based on a decades-long manhunt comes to Showtime, and a new FX documentary brings back former Hillsong pastors to reflect on the church’s scandal.   \n",
       "10                                                                                                                                               Vice, which had wooed media giants, has struggled to adjust to the punishing realities of digital publishing. A group of creditors could buy Vice for $225 million.   \n",
       "11                                                                                                                                                                                                              This word has appeared in 67 articles on NYTimes.com in the past year. Can you use it in a sentence?   \n",
       "12  While the battle for Bakhmut, a mostly ruined city where tens of thousands of soldiers are believed to have died, continues to rage after Ukraine made some gains for the first time in months, world leaders are planning several efforts in the coming days to find new diplomatic avenues for ending the war.   \n",
       "13                                                                                                                                                                                                                                                                     Feeling stuck on today’s puzzle? We can help.   \n",
       "14                                                                                                                                                                                                                                               Our columnist reviews the day’s puzzle. Warning: Contains spoilers!   \n",
       "15                                                                                                                                                                     Even as the leaders of Trinidad and Tobago double down on fossil fuels, climate change is bringing more extreme weather to the island nation.   \n",
       "16                                                                                                                                             After the G.O.P.-led legislature passed a 12-week ban, the Democratic governor vetoed the bill. The Republicans could override it, if all their members stay unified.   \n",
       "17                                                                                                                                                        Trinidad and Tobago is the No. 2 exporter of liquefied natural gas in the Americas. Its output has been falling, but it remains committed to fossil fuels.   \n",
       "18                                                                                                                                                     The massacre of nine workers in the Central African Republic and other recent attacks raise questions about China’s ability to protect its citizens overseas.   \n",
       "19                                                                                                                                                                                                                              A new study by a nonpartisan group tries to put a number on that important question.   \n",
       "\n",
       "                                                                                                                                                                                                                                                                                                                                                                                                                                                                               lead_paragraph  \n",
       "0                                                                                                                                                                                                                                                         Relative quiet has prevailed along the southern U.S. border since Friday, despite widespread fears that ending a pandemic-era policy to immediately expel most migrants, even asylum seekers, would set off a stampede from Mexico.  \n",
       "1   The day before Logan Roy died, he delivered a fiery call to arms to his ATN staff, letting them know what he expected from the network going forward. The speech was an angrier variation of the populist spiel he had given many times before, in which he insisted that the news should always be frank and unpretentious. He wanted his anchors to tell their viewers “truthful” things they had never heard anyone say before on television. He wanted ATN to be, in a word, “spicy.”  \n",
       "2                                                                                                                                                                                                                                                                                                                                                                                                           This article contains spoilers for Episode 8 of the final season of “Succession.”  \n",
       "3                                                                                                                                                                                                                                                                                                                                                               Errors are corrected during the press run whenever possible, so some errors noted here may not have appeared in all editions.  \n",
       "4                                                                                                                                                                                                                                                                                                                                                                                                                            “For me, it was time to give back the love they gave me before.”  \n",
       "5                                                                                                                                                                                                                                                                                                                           Boris Diaw was passing through Paris in late September and thought he would check out a basketball game. A young player he had heard about for years was playing.  \n",
       "6                                                                                                                                                                                                                                                                                                        Good morning. It’s Monday. We’ll look at something so fundamental it’s the first of the three R’s — and why New York City is about to change the way it is taught in public schools.  \n",
       "7                                                                                                                                                                                                                                                                                      Turkey’s presidential election appears to be destined for a runoff after the incumbent, Recep Tayyip Erdogan, failed to win a majority of the vote, in the toughest political challenge of his career.  \n",
       "8                                                                       For three months, France has been in revolt: Demonstrators have marched; railroad workers have blocked tracks; barricades and buildings have been set aflame; protesters have done battle in the street with police. The most recent innovation has been tamer: People have banged pots whenever the president has appeared. The cause? President Emmanuel Macron’s measure raising the retirement age from 62 to 64.  \n",
       "9                                                                                                                                                                                                                                                                            Between network, cable and streaming, the modern television landscape is a vast one. Here are some of the shows, specials and movies coming to TV this week, May 15-21. Details and times are subject to change.  \n",
       "10                                                                                                                                                                                                                                                                                                           Vice Media filed for bankruptcy on Monday, punctuating a yearslong descent from a new-media darling to a cautionary tale of the problems facing the digital publishing industry.  \n",
       "11                                                                                                                                                                                                                                                                                           The word dissipate has appeared in 67 articles on NYTimes.com in the past year, including on Feb. 18 in “In a Treacherous Corner of Washington, a Classroom With 40-Foot Waves” by Kirk Johnson:  \n",
       "12                                                                                                                                                                           While the battle for Bakhmut, a mostly ruined city where tens of thousands of soldiers are believed to have died, continues to rage after Ukraine made some gains for the first time in months, world leaders are planning several efforts in the coming days to find new diplomatic avenues for ending the war.  \n",
       "13                                                                                                          MONDAY — Hi busy bees! Welcome to today’s Spelling Bee forum. There are a number of terms that appear in both this article and other online discussions of the Spelling Bee; a glossary of those terms compiled by Monicat, a Times reader, can be found below. For more Spelling Bee conversation, check out Deb Amlen’s weekly humor column, “Diary of a Spelling Bee Fanatic.”  \n",
       "14                                                                                                                                                                                                                                                                                                                                                Welcome to The Wordle Review. Be warned: This article contains spoilers for today’s puzzle. Solve Wordle first, or scroll at your own risk.  \n",
       "15                                                                                                                                                                                                                                                                                  Imtiaz Khan remembers the rains of his childhood as being light and providing welcome relief from the summer heat. A heavy shower, he said, would arrive only about once a month during the rainy season.  \n",
       "16                                                                                                                                                                                                                                                                                                                                                           North Carolina Gov. Roy Cooper, now in the waning years of his second term, has suddenly found himself back on a campaign trail.  \n",
       "17                                                                                                                                                                                                                                                                          Ribboned shovel in hand, Prime Minister Keith Rowley joined a ceremonial groundbreaking last month to celebrate Trinidad and Tobago’s first large solar farm project expected to generate power for 42,000 homes.  \n",
       "18                                                                                                                                                                                                  The Chinese embassy in the Central African Republic had a stark warning for its compatriots in the landlocked nation: Do not leave the capital city of Bangui. Kidnappings of foreigners were on the rise, and any Chinese person outside of Bangui was to leave those areas immediately.  \n",
       "19                                                                                                                                                                                            Denying the results of the 2020 election and casting doubts about the nation’s voting system cost statewide Republican candidates 2.3 to 3.7 percentage points in the midterms last year, according to a new study from States United Action, a nonpartisan group that promotes fair elections.  "
      ]
     },
     "execution_count": 12,
     "metadata": {},
     "output_type": "execute_result"
    }
   ],
   "source": [
    "df = pd.read_csv(data_loc, na_values=[' '])\n",
    "\n",
    "columns = ['abstract', 'lead_paragraph']\n",
    "df = df.dropna(subset=columns)\n",
    "\n",
    "df[columns].head(20)"
   ]
  },
  {
   "cell_type": "code",
   "execution_count": 13,
   "metadata": {},
   "outputs": [
    {
     "name": "stdout",
     "output_type": "stream",
     "text": [
      "<class 'pandas.core.frame.DataFrame'>\n",
      "Int64Index: 42479 entries, 0 to 42624\n",
      "Data columns (total 21 columns):\n",
      " #   Column            Non-Null Count  Dtype  \n",
      "---  ------            --------------  -----  \n",
      " 0   Unnamed: 0        42479 non-null  int64  \n",
      " 1   abstract          42479 non-null  object \n",
      " 2   web_url           42479 non-null  object \n",
      " 3   snippet           42318 non-null  object \n",
      " 4   lead_paragraph    42479 non-null  object \n",
      " 5   print_section     25642 non-null  object \n",
      " 6   print_page        25642 non-null  float64\n",
      " 7   source            42479 non-null  object \n",
      " 8   multimedia        42479 non-null  object \n",
      " 9   headline          42479 non-null  object \n",
      " 10  keywords          42479 non-null  object \n",
      " 11  pub_date          42479 non-null  object \n",
      " 12  document_type     42479 non-null  object \n",
      " 13  news_desk         42479 non-null  object \n",
      " 14  section_name      42473 non-null  object \n",
      " 15  subsection_name   16867 non-null  object \n",
      " 16  byline            42479 non-null  object \n",
      " 17  type_of_material  42479 non-null  object \n",
      " 18  _id               42479 non-null  object \n",
      " 19  word_count        42479 non-null  int64  \n",
      " 20  uri               42479 non-null  object \n",
      "dtypes: float64(1), int64(2), object(18)\n",
      "memory usage: 7.1+ MB\n"
     ]
    }
   ],
   "source": [
    "df.info()"
   ]
  },
  {
   "cell_type": "markdown",
   "metadata": {},
   "source": [
    "### Some data cleaning and word count\n",
    "\n",
    "Now that we have selected which columns to work with and cleared out all invalid entries, we should take a closer look at the word count in each piece of text. Before we proceed to that, it might be a good time to do some cleaning, such as bringing all text to lower case and removing irrelevant characters."
   ]
  },
  {
   "cell_type": "code",
   "execution_count": 14,
   "metadata": {},
   "outputs": [],
   "source": [
    "def clean_string(s: str) -> str:\n",
    "    s = s.lower()\n",
    "    for char in ['\\'', '\\'s', '’s', ' - ', ' – ', ' — ', '-', '–', '—', '/', '’', '  ']:\n",
    "        s = s.replace(char, ' ')\n",
    "    for char in ['.', ',', ';', ':', '?', '!', '\\\"'] + [str(i) for i in range(10)]:\n",
    "        s = s.replace(char, '')\n",
    "    return s"
   ]
  },
  {
   "cell_type": "code",
   "execution_count": 15,
   "metadata": {},
   "outputs": [
    {
     "data": {
      "text/html": [
       "<div>\n",
       "<style scoped>\n",
       "    .dataframe tbody tr th:only-of-type {\n",
       "        vertical-align: middle;\n",
       "    }\n",
       "\n",
       "    .dataframe tbody tr th {\n",
       "        vertical-align: top;\n",
       "    }\n",
       "\n",
       "    .dataframe thead th {\n",
       "        text-align: right;\n",
       "    }\n",
       "</style>\n",
       "<table border=\"1\" class=\"dataframe\">\n",
       "  <thead>\n",
       "    <tr style=\"text-align: right;\">\n",
       "      <th></th>\n",
       "      <th>abstract</th>\n",
       "      <th>lead_paragraph</th>\n",
       "    </tr>\n",
       "  </thead>\n",
       "  <tbody>\n",
       "    <tr>\n",
       "      <th>0</th>\n",
       "      <td>economic hardship climate change political instability and gang violence will continue to spur emigration from many corners of the world</td>\n",
       "      <td>relative quiet has prevailed along the southern us border since friday despite widespread fears that ending a pandemic era policy to immediately expel most migrants even asylum seekers would set off a stampede from mexico</td>\n",
       "    </tr>\n",
       "    <tr>\n",
       "      <th>1</th>\n",
       "      <td>it election night in america stay away from the bodega sushi</td>\n",
       "      <td>the day before logan roy died he delivered a fiery call to arms to his atn staff letting them know what he expected from the network going forward the speech was an angrier variation of the populist spiel he had given many times before in which he insisted that the news should always be frank and unpretentious he wanted his anchors to tell their viewers “truthful” things they had never heard anyone say before on television he wanted atn to be in a word “spicy”</td>\n",
       "    </tr>\n",
       "    <tr>\n",
       "      <th>2</th>\n",
       "      <td>tom is stressed in dress shoes shiv hides beneath layers (of lies and a turtleneck) and willa cosplays as a first lady hopeful</td>\n",
       "      <td>this article contains spoilers for episode  of the final season of “succession”</td>\n",
       "    </tr>\n",
       "    <tr>\n",
       "      <th>3</th>\n",
       "      <td>no corrections appeared in print on monday may</td>\n",
       "      <td>errors are corrected during the press run whenever possible so some errors noted here may not have appeared in all editions</td>\n",
       "    </tr>\n",
       "    <tr>\n",
       "      <th>4</th>\n",
       "      <td>quotation of the day for monday may</td>\n",
       "      <td>“for me it was time to give back the love they gave me before”</td>\n",
       "    </tr>\n",
       "    <tr>\n",
       "      <th>5</th>\n",
       "      <td>the  year old french basketball star is the most hyped nba prospect since lebron james but he says he isn t fazed by the pressure</td>\n",
       "      <td>boris diaw was passing through paris in late september and thought he would check out a basketball game a young player he had heard about for years was playing</td>\n",
       "    </tr>\n",
       "    <tr>\n",
       "      <th>6</th>\n",
       "      <td>new york city students are struggling with reading but principals are worried that the rollout of a new teaching method is happening too quickly</td>\n",
       "      <td>good morning it monday we ll look at something so fundamental it the first of the three r and why new york city is about to change the way it is taught in public schools</td>\n",
       "    </tr>\n",
       "    <tr>\n",
       "      <th>7</th>\n",
       "      <td>results of turkey election</td>\n",
       "      <td>turkey presidential election appears to be destined for a runoff after the incumbent recep tayyip erdogan failed to win a majority of the vote in the toughest political challenge of his career</td>\n",
       "    </tr>\n",
       "    <tr>\n",
       "      <th>8</th>\n",
       "      <td>shouldn t a protest movement led by unions be benefiting the left</td>\n",
       "      <td>for three months france has been in revolt demonstrators have marched railroad workers have blocked tracks barricades and buildings have been set aflame protesters have done battle in the street with police the most recent innovation has been tamer people have banged pots whenever the president has appeared the cause president emmanuel macron measure raising the retirement age from  to</td>\n",
       "    </tr>\n",
       "    <tr>\n",
       "      <th>9</th>\n",
       "      <td>a spy drama based on a decades long manhunt comes to showtime and a new fx documentary brings back former hillsong pastors to reflect on the church scandal</td>\n",
       "      <td>between network cable and streaming the modern television landscape is a vast one here are some of the shows specials and movies coming to tv this week may   details and times are subject to change</td>\n",
       "    </tr>\n",
       "  </tbody>\n",
       "</table>\n",
       "</div>"
      ],
      "text/plain": [
       "                                                                                                                                                      abstract  \\\n",
       "0                     economic hardship climate change political instability and gang violence will continue to spur emigration from many corners of the world   \n",
       "1                                                                                                 it election night in america stay away from the bodega sushi   \n",
       "2                               tom is stressed in dress shoes shiv hides beneath layers (of lies and a turtleneck) and willa cosplays as a first lady hopeful   \n",
       "3                                                                                                             no corrections appeared in print on monday may     \n",
       "4                                                                                                                        quotation of the day for monday may     \n",
       "5                            the  year old french basketball star is the most hyped nba prospect since lebron james but he says he isn t fazed by the pressure   \n",
       "6             new york city students are struggling with reading but principals are worried that the rollout of a new teaching method is happening too quickly   \n",
       "7                                                                                                                                   results of turkey election   \n",
       "8                                                                                            shouldn t a protest movement led by unions be benefiting the left   \n",
       "9  a spy drama based on a decades long manhunt comes to showtime and a new fx documentary brings back former hillsong pastors to reflect on the church scandal   \n",
       "\n",
       "                                                                                                                                                                                                                                                                                                                                                                                                                                                                     lead_paragraph  \n",
       "0                                                                                                                                                                                                                                                     relative quiet has prevailed along the southern us border since friday despite widespread fears that ending a pandemic era policy to immediately expel most migrants even asylum seekers would set off a stampede from mexico  \n",
       "1  the day before logan roy died he delivered a fiery call to arms to his atn staff letting them know what he expected from the network going forward the speech was an angrier variation of the populist spiel he had given many times before in which he insisted that the news should always be frank and unpretentious he wanted his anchors to tell their viewers “truthful” things they had never heard anyone say before on television he wanted atn to be in a word “spicy”  \n",
       "2                                                                                                                                                                                                                                                                                                                                                                                                   this article contains spoilers for episode  of the final season of “succession”  \n",
       "3                                                                                                                                                                                                                                                                                                                                                       errors are corrected during the press run whenever possible so some errors noted here may not have appeared in all editions  \n",
       "4                                                                                                                                                                                                                                                                                                                                                                                                                    “for me it was time to give back the love they gave me before”  \n",
       "5                                                                                                                                                                                                                                                                                                                   boris diaw was passing through paris in late september and thought he would check out a basketball game a young player he had heard about for years was playing  \n",
       "6                                                                                                                                                                                                                                                                                                         good morning it monday we ll look at something so fundamental it the first of the three r and why new york city is about to change the way it is taught in public schools  \n",
       "7                                                                                                                                                                                                                                                                                  turkey presidential election appears to be destined for a runoff after the incumbent recep tayyip erdogan failed to win a majority of the vote in the toughest political challenge of his career  \n",
       "8                                                                             for three months france has been in revolt demonstrators have marched railroad workers have blocked tracks barricades and buildings have been set aflame protesters have done battle in the street with police the most recent innovation has been tamer people have banged pots whenever the president has appeared the cause president emmanuel macron measure raising the retirement age from  to   \n",
       "9                                                                                                                                                                                                                                                                             between network cable and streaming the modern television landscape is a vast one here are some of the shows specials and movies coming to tv this week may   details and times are subject to change  "
      ]
     },
     "execution_count": 15,
     "metadata": {},
     "output_type": "execute_result"
    }
   ],
   "source": [
    "df.abstract = df.abstract.apply(clean_string)\n",
    "df.lead_paragraph = df.lead_paragraph.apply(clean_string)\n",
    "df[columns].head(10)"
   ]
  },
  {
   "cell_type": "markdown",
   "metadata": {},
   "source": [
    "Now let us create two new columns in the data frame counting words in the corresponding fields, plus one for the combined count."
   ]
  },
  {
   "cell_type": "code",
   "execution_count": 16,
   "metadata": {},
   "outputs": [
    {
     "data": {
      "text/html": [
       "<div>\n",
       "<style scoped>\n",
       "    .dataframe tbody tr th:only-of-type {\n",
       "        vertical-align: middle;\n",
       "    }\n",
       "\n",
       "    .dataframe tbody tr th {\n",
       "        vertical-align: top;\n",
       "    }\n",
       "\n",
       "    .dataframe thead th {\n",
       "        text-align: right;\n",
       "    }\n",
       "</style>\n",
       "<table border=\"1\" class=\"dataframe\">\n",
       "  <thead>\n",
       "    <tr style=\"text-align: right;\">\n",
       "      <th></th>\n",
       "      <th>abstract</th>\n",
       "      <th>lead_paragraph</th>\n",
       "      <th>abstract_ct</th>\n",
       "      <th>lead_par_ct</th>\n",
       "      <th>total_ct</th>\n",
       "    </tr>\n",
       "  </thead>\n",
       "  <tbody>\n",
       "    <tr>\n",
       "      <th>0</th>\n",
       "      <td>economic hardship climate change political instability and gang violence will continue to spur emigration from many corners of the world</td>\n",
       "      <td>relative quiet has prevailed along the southern us border since friday despite widespread fears that ending a pandemic era policy to immediately expel most migrants even asylum seekers would set off a stampede from mexico</td>\n",
       "      <td>20</td>\n",
       "      <td>35</td>\n",
       "      <td>55</td>\n",
       "    </tr>\n",
       "    <tr>\n",
       "      <th>1</th>\n",
       "      <td>it election night in america stay away from the bodega sushi</td>\n",
       "      <td>the day before logan roy died he delivered a fiery call to arms to his atn staff letting them know what he expected from the network going forward the speech was an angrier variation of the populist spiel he had given many times before in which he insisted that the news should always be frank and unpretentious he wanted his anchors to tell their viewers “truthful” things they had never heard anyone say before on television he wanted atn to be in a word “spicy”</td>\n",
       "      <td>11</td>\n",
       "      <td>85</td>\n",
       "      <td>96</td>\n",
       "    </tr>\n",
       "    <tr>\n",
       "      <th>2</th>\n",
       "      <td>tom is stressed in dress shoes shiv hides beneath layers (of lies and a turtleneck) and willa cosplays as a first lady hopeful</td>\n",
       "      <td>this article contains spoilers for episode  of the final season of “succession”</td>\n",
       "      <td>23</td>\n",
       "      <td>12</td>\n",
       "      <td>35</td>\n",
       "    </tr>\n",
       "    <tr>\n",
       "      <th>3</th>\n",
       "      <td>no corrections appeared in print on monday may</td>\n",
       "      <td>errors are corrected during the press run whenever possible so some errors noted here may not have appeared in all editions</td>\n",
       "      <td>8</td>\n",
       "      <td>21</td>\n",
       "      <td>29</td>\n",
       "    </tr>\n",
       "    <tr>\n",
       "      <th>4</th>\n",
       "      <td>quotation of the day for monday may</td>\n",
       "      <td>“for me it was time to give back the love they gave me before”</td>\n",
       "      <td>7</td>\n",
       "      <td>14</td>\n",
       "      <td>21</td>\n",
       "    </tr>\n",
       "    <tr>\n",
       "      <th>5</th>\n",
       "      <td>the  year old french basketball star is the most hyped nba prospect since lebron james but he says he isn t fazed by the pressure</td>\n",
       "      <td>boris diaw was passing through paris in late september and thought he would check out a basketball game a young player he had heard about for years was playing</td>\n",
       "      <td>25</td>\n",
       "      <td>29</td>\n",
       "      <td>54</td>\n",
       "    </tr>\n",
       "    <tr>\n",
       "      <th>6</th>\n",
       "      <td>new york city students are struggling with reading but principals are worried that the rollout of a new teaching method is happening too quickly</td>\n",
       "      <td>good morning it monday we ll look at something so fundamental it the first of the three r and why new york city is about to change the way it is taught in public schools</td>\n",
       "      <td>24</td>\n",
       "      <td>35</td>\n",
       "      <td>59</td>\n",
       "    </tr>\n",
       "    <tr>\n",
       "      <th>7</th>\n",
       "      <td>results of turkey election</td>\n",
       "      <td>turkey presidential election appears to be destined for a runoff after the incumbent recep tayyip erdogan failed to win a majority of the vote in the toughest political challenge of his career</td>\n",
       "      <td>4</td>\n",
       "      <td>32</td>\n",
       "      <td>36</td>\n",
       "    </tr>\n",
       "    <tr>\n",
       "      <th>8</th>\n",
       "      <td>shouldn t a protest movement led by unions be benefiting the left</td>\n",
       "      <td>for three months france has been in revolt demonstrators have marched railroad workers have blocked tracks barricades and buildings have been set aflame protesters have done battle in the street with police the most recent innovation has been tamer people have banged pots whenever the president has appeared the cause president emmanuel macron measure raising the retirement age from  to</td>\n",
       "      <td>12</td>\n",
       "      <td>60</td>\n",
       "      <td>72</td>\n",
       "    </tr>\n",
       "    <tr>\n",
       "      <th>9</th>\n",
       "      <td>a spy drama based on a decades long manhunt comes to showtime and a new fx documentary brings back former hillsong pastors to reflect on the church scandal</td>\n",
       "      <td>between network cable and streaming the modern television landscape is a vast one here are some of the shows specials and movies coming to tv this week may   details and times are subject to change</td>\n",
       "      <td>28</td>\n",
       "      <td>35</td>\n",
       "      <td>63</td>\n",
       "    </tr>\n",
       "  </tbody>\n",
       "</table>\n",
       "</div>"
      ],
      "text/plain": [
       "                                                                                                                                                      abstract  \\\n",
       "0                     economic hardship climate change political instability and gang violence will continue to spur emigration from many corners of the world   \n",
       "1                                                                                                 it election night in america stay away from the bodega sushi   \n",
       "2                               tom is stressed in dress shoes shiv hides beneath layers (of lies and a turtleneck) and willa cosplays as a first lady hopeful   \n",
       "3                                                                                                             no corrections appeared in print on monday may     \n",
       "4                                                                                                                        quotation of the day for monday may     \n",
       "5                            the  year old french basketball star is the most hyped nba prospect since lebron james but he says he isn t fazed by the pressure   \n",
       "6             new york city students are struggling with reading but principals are worried that the rollout of a new teaching method is happening too quickly   \n",
       "7                                                                                                                                   results of turkey election   \n",
       "8                                                                                            shouldn t a protest movement led by unions be benefiting the left   \n",
       "9  a spy drama based on a decades long manhunt comes to showtime and a new fx documentary brings back former hillsong pastors to reflect on the church scandal   \n",
       "\n",
       "                                                                                                                                                                                                                                                                                                                                                                                                                                                                     lead_paragraph  \\\n",
       "0                                                                                                                                                                                                                                                     relative quiet has prevailed along the southern us border since friday despite widespread fears that ending a pandemic era policy to immediately expel most migrants even asylum seekers would set off a stampede from mexico   \n",
       "1  the day before logan roy died he delivered a fiery call to arms to his atn staff letting them know what he expected from the network going forward the speech was an angrier variation of the populist spiel he had given many times before in which he insisted that the news should always be frank and unpretentious he wanted his anchors to tell their viewers “truthful” things they had never heard anyone say before on television he wanted atn to be in a word “spicy”   \n",
       "2                                                                                                                                                                                                                                                                                                                                                                                                   this article contains spoilers for episode  of the final season of “succession”   \n",
       "3                                                                                                                                                                                                                                                                                                                                                       errors are corrected during the press run whenever possible so some errors noted here may not have appeared in all editions   \n",
       "4                                                                                                                                                                                                                                                                                                                                                                                                                    “for me it was time to give back the love they gave me before”   \n",
       "5                                                                                                                                                                                                                                                                                                                   boris diaw was passing through paris in late september and thought he would check out a basketball game a young player he had heard about for years was playing   \n",
       "6                                                                                                                                                                                                                                                                                                         good morning it monday we ll look at something so fundamental it the first of the three r and why new york city is about to change the way it is taught in public schools   \n",
       "7                                                                                                                                                                                                                                                                                  turkey presidential election appears to be destined for a runoff after the incumbent recep tayyip erdogan failed to win a majority of the vote in the toughest political challenge of his career   \n",
       "8                                                                             for three months france has been in revolt demonstrators have marched railroad workers have blocked tracks barricades and buildings have been set aflame protesters have done battle in the street with police the most recent innovation has been tamer people have banged pots whenever the president has appeared the cause president emmanuel macron measure raising the retirement age from  to    \n",
       "9                                                                                                                                                                                                                                                                             between network cable and streaming the modern television landscape is a vast one here are some of the shows specials and movies coming to tv this week may   details and times are subject to change   \n",
       "\n",
       "   abstract_ct  lead_par_ct  total_ct  \n",
       "0           20           35        55  \n",
       "1           11           85        96  \n",
       "2           23           12        35  \n",
       "3            8           21        29  \n",
       "4            7           14        21  \n",
       "5           25           29        54  \n",
       "6           24           35        59  \n",
       "7            4           32        36  \n",
       "8           12           60        72  \n",
       "9           28           35        63  "
      ]
     },
     "execution_count": 16,
     "metadata": {},
     "output_type": "execute_result"
    }
   ],
   "source": [
    "df['abstract_ct'] = df.abstract.apply(lambda x: len([w for w in x.split(' ') if w != '']))\n",
    "df['lead_par_ct'] = df.lead_paragraph.apply(lambda x: len([w for w in x.split(' ') if w != '']))\n",
    "df['total_ct'] = df.abstract_ct + df.lead_par_ct\n",
    "ct_columns = ['abstract_ct', 'lead_par_ct', 'total_ct']\n",
    "df[columns+ct_columns].head(10)"
   ]
  },
  {
   "cell_type": "code",
   "execution_count": 16,
   "metadata": {},
   "outputs": [
    {
     "data": {
      "text/html": [
       "<div>\n",
       "<style scoped>\n",
       "    .dataframe tbody tr th:only-of-type {\n",
       "        vertical-align: middle;\n",
       "    }\n",
       "\n",
       "    .dataframe tbody tr th {\n",
       "        vertical-align: top;\n",
       "    }\n",
       "\n",
       "    .dataframe thead th {\n",
       "        text-align: right;\n",
       "    }\n",
       "</style>\n",
       "<table border=\"1\" class=\"dataframe\">\n",
       "  <thead>\n",
       "    <tr style=\"text-align: right;\">\n",
       "      <th></th>\n",
       "      <th>abstract_ct</th>\n",
       "      <th>lead_par_ct</th>\n",
       "      <th>total_ct</th>\n",
       "    </tr>\n",
       "  </thead>\n",
       "  <tbody>\n",
       "    <tr>\n",
       "      <th>count</th>\n",
       "      <td>42479.000000</td>\n",
       "      <td>42479.000000</td>\n",
       "      <td>42479.000000</td>\n",
       "    </tr>\n",
       "    <tr>\n",
       "      <th>mean</th>\n",
       "      <td>21.255821</td>\n",
       "      <td>43.727748</td>\n",
       "      <td>64.983568</td>\n",
       "    </tr>\n",
       "    <tr>\n",
       "      <th>std</th>\n",
       "      <td>7.250375</td>\n",
       "      <td>25.407026</td>\n",
       "      <td>26.272048</td>\n",
       "    </tr>\n",
       "    <tr>\n",
       "      <th>min</th>\n",
       "      <td>1.000000</td>\n",
       "      <td>1.000000</td>\n",
       "      <td>6.000000</td>\n",
       "    </tr>\n",
       "    <tr>\n",
       "      <th>25%</th>\n",
       "      <td>17.000000</td>\n",
       "      <td>30.000000</td>\n",
       "      <td>50.000000</td>\n",
       "    </tr>\n",
       "    <tr>\n",
       "      <th>50%</th>\n",
       "      <td>22.000000</td>\n",
       "      <td>40.000000</td>\n",
       "      <td>63.000000</td>\n",
       "    </tr>\n",
       "    <tr>\n",
       "      <th>75%</th>\n",
       "      <td>26.000000</td>\n",
       "      <td>52.000000</td>\n",
       "      <td>75.000000</td>\n",
       "    </tr>\n",
       "    <tr>\n",
       "      <th>max</th>\n",
       "      <td>108.000000</td>\n",
       "      <td>340.000000</td>\n",
       "      <td>362.000000</td>\n",
       "    </tr>\n",
       "  </tbody>\n",
       "</table>\n",
       "</div>"
      ],
      "text/plain": [
       "        abstract_ct   lead_par_ct      total_ct\n",
       "count  42479.000000  42479.000000  42479.000000\n",
       "mean      21.255821     43.727748     64.983568\n",
       "std        7.250375     25.407026     26.272048\n",
       "min        1.000000      1.000000      6.000000\n",
       "25%       17.000000     30.000000     50.000000\n",
       "50%       22.000000     40.000000     63.000000\n",
       "75%       26.000000     52.000000     75.000000\n",
       "max      108.000000    340.000000    362.000000"
      ]
     },
     "execution_count": 16,
     "metadata": {},
     "output_type": "execute_result"
    }
   ],
   "source": [
    "df[ct_columns].describe()"
   ]
  },
  {
   "cell_type": "markdown",
   "metadata": {},
   "source": [
    "This gives us some indication of the word count in each field. Let us plot histograms to get a better sense of how these word counts are distributed—note that these are truncated at 50, but there are rows with more words in both `'abstract'` and `'lead_paragraph'`."
   ]
  },
  {
   "cell_type": "code",
   "execution_count": 17,
   "metadata": {},
   "outputs": [
    {
     "data": {
      "image/png": "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\n",
      "text/plain": [
       "<Figure size 1152x360 with 1 Axes>"
      ]
     },
     "metadata": {
      "needs_background": "light"
     },
     "output_type": "display_data"
    },
    {
     "data": {
      "image/png": "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\n",
      "text/plain": [
       "<Figure size 1152x360 with 1 Axes>"
      ]
     },
     "metadata": {
      "needs_background": "light"
     },
     "output_type": "display_data"
    },
    {
     "data": {
      "image/png": "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\n",
      "text/plain": [
       "<Figure size 1152x360 with 1 Axes>"
      ]
     },
     "metadata": {
      "needs_background": "light"
     },
     "output_type": "display_data"
    }
   ],
   "source": [
    "import matplotlib.pyplot as plt\n",
    "\n",
    "for col in ct_columns:\n",
    "    plt.figure(figsize=(16,5))\n",
    "    plt.xlim(xmin=0, xmax=80)\n",
    "    plt.hist(df[col], bins=60)\n",
    "    plt.xticks(list(range(0,82,2)))\n",
    "    plt.title(col)\n",
    "    plt.show()"
   ]
  },
  {
   "cell_type": "markdown",
   "metadata": {},
   "source": [
    "Another potential indicator of how much data we have in each entry is the *unique* word count, so let us repeat the same process for that."
   ]
  },
  {
   "cell_type": "code",
   "execution_count": 18,
   "metadata": {},
   "outputs": [
    {
     "data": {
      "text/html": [
       "<div>\n",
       "<style scoped>\n",
       "    .dataframe tbody tr th:only-of-type {\n",
       "        vertical-align: middle;\n",
       "    }\n",
       "\n",
       "    .dataframe tbody tr th {\n",
       "        vertical-align: top;\n",
       "    }\n",
       "\n",
       "    .dataframe thead th {\n",
       "        text-align: right;\n",
       "    }\n",
       "</style>\n",
       "<table border=\"1\" class=\"dataframe\">\n",
       "  <thead>\n",
       "    <tr style=\"text-align: right;\">\n",
       "      <th></th>\n",
       "      <th>abstract</th>\n",
       "      <th>lead_paragraph</th>\n",
       "      <th>abstract_uct</th>\n",
       "      <th>lead_par_uct</th>\n",
       "      <th>total_uct</th>\n",
       "    </tr>\n",
       "  </thead>\n",
       "  <tbody>\n",
       "    <tr>\n",
       "      <th>0</th>\n",
       "      <td>economic hardship climate change political instability and gang violence will continue to spur emigration from many corners of the world</td>\n",
       "      <td>relative quiet has prevailed along the southern us border since friday despite widespread fears that ending a pandemic era policy to immediately expel most migrants even asylum seekers would set off a stampede from mexico</td>\n",
       "      <td>20</td>\n",
       "      <td>34</td>\n",
       "      <td>54</td>\n",
       "    </tr>\n",
       "    <tr>\n",
       "      <th>1</th>\n",
       "      <td>it election night in america stay away from the bodega sushi</td>\n",
       "      <td>the day before logan roy died he delivered a fiery call to arms to his atn staff letting them know what he expected from the network going forward the speech was an angrier variation of the populist spiel he had given many times before in which he insisted that the news should always be frank and unpretentious he wanted his anchors to tell their viewers “truthful” things they had never heard anyone say before on television he wanted atn to be in a word “spicy”</td>\n",
       "      <td>11</td>\n",
       "      <td>64</td>\n",
       "      <td>75</td>\n",
       "    </tr>\n",
       "    <tr>\n",
       "      <th>2</th>\n",
       "      <td>tom is stressed in dress shoes shiv hides beneath layers (of lies and a turtleneck) and willa cosplays as a first lady hopeful</td>\n",
       "      <td>this article contains spoilers for episode  of the final season of “succession”</td>\n",
       "      <td>21</td>\n",
       "      <td>11</td>\n",
       "      <td>32</td>\n",
       "    </tr>\n",
       "    <tr>\n",
       "      <th>3</th>\n",
       "      <td>no corrections appeared in print on monday may</td>\n",
       "      <td>errors are corrected during the press run whenever possible so some errors noted here may not have appeared in all editions</td>\n",
       "      <td>8</td>\n",
       "      <td>20</td>\n",
       "      <td>28</td>\n",
       "    </tr>\n",
       "    <tr>\n",
       "      <th>4</th>\n",
       "      <td>quotation of the day for monday may</td>\n",
       "      <td>“for me it was time to give back the love they gave me before”</td>\n",
       "      <td>7</td>\n",
       "      <td>13</td>\n",
       "      <td>20</td>\n",
       "    </tr>\n",
       "    <tr>\n",
       "      <th>5</th>\n",
       "      <td>the  year old french basketball star is the most hyped nba prospect since lebron james but he says he isn t fazed by the pressure</td>\n",
       "      <td>boris diaw was passing through paris in late september and thought he would check out a basketball game a young player he had heard about for years was playing</td>\n",
       "      <td>22</td>\n",
       "      <td>26</td>\n",
       "      <td>48</td>\n",
       "    </tr>\n",
       "    <tr>\n",
       "      <th>6</th>\n",
       "      <td>new york city students are struggling with reading but principals are worried that the rollout of a new teaching method is happening too quickly</td>\n",
       "      <td>good morning it monday we ll look at something so fundamental it the first of the three r and why new york city is about to change the way it is taught in public schools</td>\n",
       "      <td>22</td>\n",
       "      <td>30</td>\n",
       "      <td>52</td>\n",
       "    </tr>\n",
       "    <tr>\n",
       "      <th>7</th>\n",
       "      <td>results of turkey election</td>\n",
       "      <td>turkey presidential election appears to be destined for a runoff after the incumbent recep tayyip erdogan failed to win a majority of the vote in the toughest political challenge of his career</td>\n",
       "      <td>4</td>\n",
       "      <td>27</td>\n",
       "      <td>31</td>\n",
       "    </tr>\n",
       "    <tr>\n",
       "      <th>8</th>\n",
       "      <td>shouldn t a protest movement led by unions be benefiting the left</td>\n",
       "      <td>for three months france has been in revolt demonstrators have marched railroad workers have blocked tracks barricades and buildings have been set aflame protesters have done battle in the street with police the most recent innovation has been tamer people have banged pots whenever the president has appeared the cause president emmanuel macron measure raising the retirement age from  to</td>\n",
       "      <td>12</td>\n",
       "      <td>46</td>\n",
       "      <td>58</td>\n",
       "    </tr>\n",
       "    <tr>\n",
       "      <th>9</th>\n",
       "      <td>a spy drama based on a decades long manhunt comes to showtime and a new fx documentary brings back former hillsong pastors to reflect on the church scandal</td>\n",
       "      <td>between network cable and streaming the modern television landscape is a vast one here are some of the shows specials and movies coming to tv this week may   details and times are subject to change</td>\n",
       "      <td>24</td>\n",
       "      <td>30</td>\n",
       "      <td>54</td>\n",
       "    </tr>\n",
       "  </tbody>\n",
       "</table>\n",
       "</div>"
      ],
      "text/plain": [
       "                                                                                                                                                      abstract  \\\n",
       "0                     economic hardship climate change political instability and gang violence will continue to spur emigration from many corners of the world   \n",
       "1                                                                                                 it election night in america stay away from the bodega sushi   \n",
       "2                               tom is stressed in dress shoes shiv hides beneath layers (of lies and a turtleneck) and willa cosplays as a first lady hopeful   \n",
       "3                                                                                                             no corrections appeared in print on monday may     \n",
       "4                                                                                                                        quotation of the day for monday may     \n",
       "5                            the  year old french basketball star is the most hyped nba prospect since lebron james but he says he isn t fazed by the pressure   \n",
       "6             new york city students are struggling with reading but principals are worried that the rollout of a new teaching method is happening too quickly   \n",
       "7                                                                                                                                   results of turkey election   \n",
       "8                                                                                            shouldn t a protest movement led by unions be benefiting the left   \n",
       "9  a spy drama based on a decades long manhunt comes to showtime and a new fx documentary brings back former hillsong pastors to reflect on the church scandal   \n",
       "\n",
       "                                                                                                                                                                                                                                                                                                                                                                                                                                                                     lead_paragraph  \\\n",
       "0                                                                                                                                                                                                                                                     relative quiet has prevailed along the southern us border since friday despite widespread fears that ending a pandemic era policy to immediately expel most migrants even asylum seekers would set off a stampede from mexico   \n",
       "1  the day before logan roy died he delivered a fiery call to arms to his atn staff letting them know what he expected from the network going forward the speech was an angrier variation of the populist spiel he had given many times before in which he insisted that the news should always be frank and unpretentious he wanted his anchors to tell their viewers “truthful” things they had never heard anyone say before on television he wanted atn to be in a word “spicy”   \n",
       "2                                                                                                                                                                                                                                                                                                                                                                                                   this article contains spoilers for episode  of the final season of “succession”   \n",
       "3                                                                                                                                                                                                                                                                                                                                                       errors are corrected during the press run whenever possible so some errors noted here may not have appeared in all editions   \n",
       "4                                                                                                                                                                                                                                                                                                                                                                                                                    “for me it was time to give back the love they gave me before”   \n",
       "5                                                                                                                                                                                                                                                                                                                   boris diaw was passing through paris in late september and thought he would check out a basketball game a young player he had heard about for years was playing   \n",
       "6                                                                                                                                                                                                                                                                                                         good morning it monday we ll look at something so fundamental it the first of the three r and why new york city is about to change the way it is taught in public schools   \n",
       "7                                                                                                                                                                                                                                                                                  turkey presidential election appears to be destined for a runoff after the incumbent recep tayyip erdogan failed to win a majority of the vote in the toughest political challenge of his career   \n",
       "8                                                                             for three months france has been in revolt demonstrators have marched railroad workers have blocked tracks barricades and buildings have been set aflame protesters have done battle in the street with police the most recent innovation has been tamer people have banged pots whenever the president has appeared the cause president emmanuel macron measure raising the retirement age from  to    \n",
       "9                                                                                                                                                                                                                                                                             between network cable and streaming the modern television landscape is a vast one here are some of the shows specials and movies coming to tv this week may   details and times are subject to change   \n",
       "\n",
       "   abstract_uct  lead_par_uct  total_uct  \n",
       "0            20            34         54  \n",
       "1            11            64         75  \n",
       "2            21            11         32  \n",
       "3             8            20         28  \n",
       "4             7            13         20  \n",
       "5            22            26         48  \n",
       "6            22            30         52  \n",
       "7             4            27         31  \n",
       "8            12            46         58  \n",
       "9            24            30         54  "
      ]
     },
     "execution_count": 18,
     "metadata": {},
     "output_type": "execute_result"
    }
   ],
   "source": [
    "df['abstract_uct'] = df.abstract.apply(lambda x: len(set([w for w in x.split(' ') if w != ''])))\n",
    "df['lead_par_uct'] = df.lead_paragraph.apply(lambda x: len(set([w for w in x.split(' ') if w != ''])))\n",
    "df['total_uct'] = df.abstract_uct + df.lead_par_uct\n",
    "uct_columns = ['abstract_uct', 'lead_par_uct', 'total_uct']\n",
    "df[columns+uct_columns].head(10)"
   ]
  },
  {
   "cell_type": "code",
   "execution_count": 19,
   "metadata": {},
   "outputs": [
    {
     "data": {
      "text/html": [
       "<div>\n",
       "<style scoped>\n",
       "    .dataframe tbody tr th:only-of-type {\n",
       "        vertical-align: middle;\n",
       "    }\n",
       "\n",
       "    .dataframe tbody tr th {\n",
       "        vertical-align: top;\n",
       "    }\n",
       "\n",
       "    .dataframe thead th {\n",
       "        text-align: right;\n",
       "    }\n",
       "</style>\n",
       "<table border=\"1\" class=\"dataframe\">\n",
       "  <thead>\n",
       "    <tr style=\"text-align: right;\">\n",
       "      <th></th>\n",
       "      <th>abstract_uct</th>\n",
       "      <th>lead_par_uct</th>\n",
       "      <th>total_uct</th>\n",
       "    </tr>\n",
       "  </thead>\n",
       "  <tbody>\n",
       "    <tr>\n",
       "      <th>count</th>\n",
       "      <td>42479.000000</td>\n",
       "      <td>42479.000000</td>\n",
       "      <td>42479.000000</td>\n",
       "    </tr>\n",
       "    <tr>\n",
       "      <th>mean</th>\n",
       "      <td>19.647732</td>\n",
       "      <td>36.753737</td>\n",
       "      <td>56.401469</td>\n",
       "    </tr>\n",
       "    <tr>\n",
       "      <th>std</th>\n",
       "      <td>6.303375</td>\n",
       "      <td>18.099461</td>\n",
       "      <td>19.153900</td>\n",
       "    </tr>\n",
       "    <tr>\n",
       "      <th>min</th>\n",
       "      <td>1.000000</td>\n",
       "      <td>1.000000</td>\n",
       "      <td>6.000000</td>\n",
       "    </tr>\n",
       "    <tr>\n",
       "      <th>25%</th>\n",
       "      <td>16.000000</td>\n",
       "      <td>27.000000</td>\n",
       "      <td>45.000000</td>\n",
       "    </tr>\n",
       "    <tr>\n",
       "      <th>50%</th>\n",
       "      <td>21.000000</td>\n",
       "      <td>35.000000</td>\n",
       "      <td>56.000000</td>\n",
       "    </tr>\n",
       "    <tr>\n",
       "      <th>75%</th>\n",
       "      <td>24.000000</td>\n",
       "      <td>44.000000</td>\n",
       "      <td>65.000000</td>\n",
       "    </tr>\n",
       "    <tr>\n",
       "      <th>max</th>\n",
       "      <td>79.000000</td>\n",
       "      <td>219.000000</td>\n",
       "      <td>241.000000</td>\n",
       "    </tr>\n",
       "  </tbody>\n",
       "</table>\n",
       "</div>"
      ],
      "text/plain": [
       "       abstract_uct  lead_par_uct     total_uct\n",
       "count  42479.000000  42479.000000  42479.000000\n",
       "mean      19.647732     36.753737     56.401469\n",
       "std        6.303375     18.099461     19.153900\n",
       "min        1.000000      1.000000      6.000000\n",
       "25%       16.000000     27.000000     45.000000\n",
       "50%       21.000000     35.000000     56.000000\n",
       "75%       24.000000     44.000000     65.000000\n",
       "max       79.000000    219.000000    241.000000"
      ]
     },
     "execution_count": 19,
     "metadata": {},
     "output_type": "execute_result"
    }
   ],
   "source": [
    "df[uct_columns].describe()"
   ]
  },
  {
   "cell_type": "code",
   "execution_count": 20,
   "metadata": {},
   "outputs": [
    {
     "data": {
      "image/png": "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\n",
      "text/plain": [
       "<Figure size 1152x360 with 1 Axes>"
      ]
     },
     "metadata": {
      "needs_background": "light"
     },
     "output_type": "display_data"
    },
    {
     "data": {
      "image/png": "iVBORw0KGgoAAAANSUhEUgAAA7EAAAE/CAYAAACQBkTYAAAAOXRFWHRTb2Z0d2FyZQBNYXRwbG90bGliIHZlcnNpb24zLjcuMCwgaHR0cHM6Ly9tYXRwbG90bGliLm9yZy88F64QAAAACXBIWXMAAAsTAAALEwEAmpwYAAAwP0lEQVR4nO3de5gdVZ3w++9PwkVBCZcMAiEmKoiggBhDUGAQXm7qmaAPIooSeNHMUZSBcV6F8RkDOo76yjsgzhk8jICgKAKDwsEbGeQiDrdEAnJPYEJIuCeAIAMS8zt/1Oq40+ndvbt39aWS7+d59tNVq6p+tXat3rvq17VqdWQmkiRJkiQ1wStGuwKSJEmSJHXKJFaSJEmS1BgmsZIkSZKkxjCJlSRJkiQ1hkmsJEmSJKkxTGIlSZIkSY1hEitJGhMi4pSI+P5o16MOEbF3RNw3xG2Pjogb6q5Tib0oIv7HcMRugoiYHBEZEeNGuy6SpKEziZUk9SkiTo6In/cqW9Cm7IiRrd3wi4h9I2LJULbNzF9n5pvqrpMkSTKJlSS1dz3wzohYDyAitgbWB97Wq+yNZd2OeSds3VB3O/t7I0kCk1hJUnu3UiWtu5X5vYFrgPt6lT2QmY9ExDYRcUVELI+IhRHxiZ5ApavwpRHx/Yj4PXB0REyJiOsi4rmImANs2V9lImJGRMyPiN9HxAMRcXAp72+/342If2yZX+3uaule+3cRcUdEPBsRP4qIjSJiY+DnwDYR8Xx5bRMR0yJibqnD4xHxz23q2tF+BmqAsu2OETGnvL/7IuLwlmXvjYjbSn0ejohTem37sYh4KCKWRcQXOtxfT1v9qLTNbyNi15blJ5Xj/1xE3B0R729ZdnRE/CYiTo+IZcApEfGGiPhVqcNTEXFhRIxv2Wb38h6ei4hLyn7/sfU4RsTnI+Ix4LyI2CwiroyIJyPi6TI9sSXetRHx1Yi4pRyXyyNi815v88iIWFzq09FxkSSNHSaxkqQ+ZeYfgZuBfUrRPsCvgRt6lfXchb0IWAJsAxwG/FNE7NcScgZwKTAeuBD4ATCPKnn9MjCzXV0iYhpwAfC/yvb7AIs63O9ADgcOBqYAuwBHZ+YfgEOARzJzk/J6BPgm8M3MfA3wBuDibvYz0AYlmZ5Ddaz+AjgC+NeI2Kms8gfgKKpj8l7gkxFxaNl2J+As4GNUx2YLYCKdmQFcAmxe9v2TiFi/LHuA6o8XmwKnAt+P6o58jz2AB4GtgK8AAXy11OHNwHbAKaWOGwA/Br5b9vVD4P2s7rVl2euAWVTXLueV+UnAfwP/0mubo4D/CWwNrADO7LV8L+BNwP7AFyPizR0cE0nSGGESK0nqz3X8OWHdmyqJ/XWvsusiYjvgXcDnM/PFzJwPfIcqmehxY2b+JDNXAhOAdwD/kJkvZeb1wP/XTz2OBc7NzDmZuTIzl2bmvR3udyBnZuYjmbm81GG3ftZ9GXhjRGyZmc9n5k3DtJ8e7wMWZeZ5mbkiM28D/h34IEBmXpuZvyvH5A6qJPAvy7aHAVdm5vWZ+RLwD8DKDus6LzMvzcyXgX8GNgKml31eUt7Hysz8EbAAmNay7SOZ+a1S3//OzIWl3V7KzCdLvJ46TgfGlWPzcmZeBtzSqy4rgdll+//OzGWZ+e+Z+UJmPkeVKP9lr22+l5l3lj9G/ANweJQu8MWpJdbtwO3ArkiSGsMkVpLUn+uBvUp3zAmZuQD4T6pnZTcH3lLW2QZYXpKKHg8B27bMP9wyvQ3wdEkyWtdvZzuqO4C9dbLfgTzWMv0CsEk/6x4L7ADcGxG3RsT7hmk/PV4H7BERz/S8gCOp7k4SEXtExDWla+2zwP/Nn7tlb0PLMS/HelmHdW3dbiV/vtNNRBwVVbfunvq8hdW7gre2MxGxVURcFBFLo+pK/v1edVyamdlue+DJzHyxJd6rIuL/Ld2kf0/1+ze+V5LaGuMhqm7xrXUcSltIksYIk1hJUn9upOo2+gngNwCZ+XvgkVL2SGb+V5nfPCJe3bLtJGBpy3xrovIosFnpLtu6fjsPU3Xf7W2g/f4BeFXLstf2s4/eco2CzAWZ+WGqrr1fBy7t9R7q9jBwXWaOb3ltkpmfLMt/AFwBbJeZmwLfpuq+C9Ux3q4nUES8iqpLcSdat3sFVTfkRyLidcC/AZ8GtsjM8cCdLfuENY/bP5Wyt5Zu2B/tVcdtI6J1++16bd873mepugLvUeL19ApoF2MS1R30p/p8p5KkxjGJlSS1lZn/DcwF/paqG3GPG0rZ9WW9h6nu0H41qoGRdqG6a9nn/33NzIdK3FMjYoOI2Av4v/qpyjnAMRGxf0S8IiK2jYgdO9jvfOA9EbF5RLwWOGEQb/9xYIuI2LSnICI+GhETyt3JZ0pxp110h+JKYIcyQNP65fWOlmc4X011J/rF8tzwR1q2vRR4X0TsVZ49/RKdn/ffHhEfiGo04BOAl4CbgI2pksonASLiGKo7sf15NfA88GxEbEv1XHOPG4E/AZ+OiHERMYPVuya3i/ffwDOlN8DsPtb5aETsVBL3LwGXZuafBogrSWoIk1hJ0kCuo7rzeENL2a9LWeu/1vkwMJnq7uiPqZ5j/I9+4n6EahCg5VSJyAXtVszMW4BjgNOBZ0udXtfBfr9H9czjIuAq4Ef91Kf3Pu+lesb0wdJ1dhuqgZnuiojnqQZ5OqIk+sOidJM+kGpAp0eousF+HdiwrPIp4EsR8RzwRVoGmsrMu4DjqO7WPgo8TdUtuBOXAx8q23wM+EB5ZvVu4P9QJZ+PA2+l3KHvx6nA7lTt9lPgspY6/hH4ANUfHp6hukt7JVXS3M4ZwCup7qzeBPyij3W+RzVY1GNUz/MeP0AdJUkNEqs/hiJJktZlUf2bnjdm5kdHaf83A9/OzPOGuP21wPcz8zu1VkySNGZ4J1aSJI2aiPjLiHht6U48k+rfD/V1d1WSJKAa1l6SJK1DIuLnVP8eqbd/Gum6UA3SdDHV87YPAodl5qOjUA9JUkPYnViSJEmS1Bh2J5YkSZIkNYZJrCRJkiSpMcb0M7FbbrllTp48ebSrIUmSJEkaBvPmzXsqMycMZpsxncROnjyZuXPnjnY1JEmSJEnDICIeGuw2A3Ynjog3RcT8ltfvI+KEiNg8IuZExILyc7OyfkTEmRGxMCLuiIjdW2LNLOsvKMPoS5IkSZLUsQGT2My8LzN3y8zdgLcDLwA/Bk4Crs7M7YGryzzAIcD25TULOAsgIjYHZgN7ANOA2T2JryRJkiRJnRjswE77Aw9k5kPADOD8Un4+cGiZngFckJWbgPERsTVwEDAnM5dn5tPAHODgbt+AJEmSJGndMdhnYo8Aflimt2r5Z+SPAVuV6W2Bh1u2WVLK2pVLkiRJ0oh5+eWXWbJkCS+++OJoV2WdsdFGGzFx4kTWX3/9rmN1nMRGxAbAXwEn916WmRkR2XVtqv3MouqGzKRJk+oIKUmSJEmrLFmyhFe/+tVMnjyZiBjt6qz1MpNly5axZMkSpkyZ0nW8wXQnPgT4bWY+XuYfL92EKT+fKOVLge1atptYytqVryYzz87MqZk5dcKEQY20LEmSJEkDevHFF9liiy1MYEdIRLDFFlvUdud7MEnsh/lzV2KAK4CeEYZnApe3lB9VRimeDjxbuh3/EjgwIjYrAzodWMokSZIkaUSZwI6sOo93R0lsRGwMHABc1lL8NeCAiFgA/I8yD/Az4EFgIfBvwKcAMnM58GXg1vL6UimTJEmSpHVKRPDZz3521fxpp53GKaecMmr1+fjHP87dd989avsfjI6eic3MPwBb9CpbRjVace91EziuTZxzgXMHX01JkiRJGh6nz7m/1ngnHrDDgOtsuOGGXHbZZZx88slsueWWte5/KL7zne+MdhU6Nth/sSNJkiRJ6tK4ceOYNWsWp59++hrLFi1axH777ccuu+zC/vvvz+LFiwE4+uijOf7443nnO9/J61//ei699NI+Yx999NGrLdtkk00AuPbaa9l333057LDD2HHHHTnyyCOp7kHCvvvuy9y5cwE477zz2GGHHZg2bRqf+MQn+PSnP91vXIBvfOMbvOMd72CXXXZh9uzZ3RyaAZnESpIkSdIoOO6447jwwgt59tlnVyv/zGc+w8yZM7njjjs48sgjOf7441cte/TRR7nhhhu48sorOemkkwa9z9tuu40zzjiDu+++mwcffJDf/OY3qy1/9NFHmT17Nr/5zW+44YYbOupifNVVV7FgwQJuueUW5s+fz7x587j++usHXbdODfb/xEqSNGrq7u7VJJ10TZMkNctrXvMajjrqKM4880xe+cpXriq/8cYbueyyajiij33sY3zuc59btezQQw/lFa94BTvttBOPP/74GjEHMm3aNCZOnAjAbrvtxqJFi9hrr71WLb/55pvZd9996flPMR/60Ie4//7+z79XXXUVV111FW9729sAeP7551mwYAH77LPPoOvXCZNYSZIkSRolJ5xwArvvvjvHHHNMR+tvuOGGq6Z7ugJ/4Qtf4Kc//SkA8+fPZ9y4caxcuRKAlStX8sc//rHP7ddbbz1WrFjRcV3bxc1MTj75ZP76r/+641jdsDuxJEmSJI2SzTffnMMPP5xzzjlnVdk73/lOLrroIgAuvPBC9t57735jfOUrX2H+/PnMnz8fgMmTJzNv3jwArrjiCl5++eWO67PHHntw3XXXsWzZMl5++WUuueSSVcvaxT3ooIM499xzef755wFYunQpTzzxRMf7HCyTWEmSJEkaRZ/97Gd56qmnVs1/61vf4rzzzmOXXXbhe9/7Ht/85jcHFe8Tn/gE1113Hbvuuis33ngjG2+8ccfbbr311pxyyinsueeevOtd7+LNb37zgHEPPPBAPvKRj7Dnnnvy1re+lcMOO4znnntuUHUejOi5BT0WTZ06NXtGyJIkyWdiJUl1uOeee1ZLztTed7/7XebOncu//Mu/dB2rr+MeEfMyc+pg4ngnVpIkSZLUGA7sJEmSJEnq09FHH83RRx892tVYjXdiJUmSJEmNYRIrSZIkSWoMk1hJkiRJUmOYxEqSJEmSGsMkVpIkSZJG2KJFi3jLW96yWtkpp5zCaaed1nabuXPncvzxxw931cY8RyeWJEmStG675qv1xnv3yfXGK6ZOncrUqYP6l6prJe/ESpIkSdIYsu+++/L5z3+eadOmscMOO/DrX/8agGuvvZb3ve99ACxbtowDDzyQnXfemY9//OO87nWv46mnnlrjDu9pp53GKaecAsADDzzAwQcfzNvf/nb23ntv7r333hF/b3UwiZUkSZKkMWbFihXccsstnHHGGZx66qlrLD/11FPZa6+9uOuuu3j/+9/P4sWLB4w5a9YsvvWtbzFv3jxOO+00PvWpTw1H1Yed3YklSZIkaYRFRL/lH/jABwB4+9vfzqJFi9ZY7/rrr+eyyy4D4L3vfS+bbbZZv/t7/vnn+c///E8++MEPrip76aWXhlL1UWcSK0mSJEkjbIsttuDpp59erWz58uVMmTIFgA033BCA9dZbjxUrVnQcd9y4caxcuXLV/IsvvgjAypUrGT9+PPPnz++y5qPP7sSSJEmSNMI22WQTtt56a371q18BVQL7i1/8gr322quj7ffZZx9+8IMfAPDzn/98VUK81VZb8cQTT7Bs2TJeeuklrrzySgBe85rXMGXKFC655BIAMpPbb7+97rc1IkxiJUmSJGkUXHDBBXz5y19mt912Y7/99mP27Nm84Q1v6Gjb2bNnc/3117Pzzjtz2WWXMWnSJADWX399vvjFLzJt2jQOOOAAdtxxx1XbXHjhhZxzzjnsuuuu7Lzzzlx++eXD8r6GW2TmaNehralTp+bcuXNHuxqSpDHi9Dn3j3YVRs2JB+ww2lWQpLXGPffcw5vf/ObRrkatJk+ezNy5c9lyyy1Huypt9XXcI2JeZg7q/wZ5J1aSJEmS1BgO7CRJkiRJDdfXCMZrK+/ESpIkSZIawyRWkiRJ0jpnLI8NtDaq83ibxEqSJElap2y00UYsW7bMRHaEZCbLli1jo402qiWez8RKkiRJWqdMnDiRJUuW8OSTT452VdYZG220ERMnTqwllkmsJEmSpHXK+uuvz5QpU0a7GhqijroTR8T4iLg0Iu6NiHsiYs+I2Dwi5kTEgvJzs7JuRMSZEbEwIu6IiN1b4sws6y+IiJnD9aYkSZIkSWunTu/EfhP4RWYeFhEbAK8C/h64OjO/FhEnAScBnwcOAbYvrz2As4A9ImJzYDYwFUhgXkRckZlP1/qOJElaC50+5/7RrsKoOfGAHUa7CpKkMWTAO7ERsSmwD3AOQGb+MTOfAWYA55fVzgcOLdMzgAuychMwPiK2Bg4C5mTm8pK4zgEOrvG9SJIkSZLWcp10J54CPAmcFxG3RcR3ImJjYKvMfLSs8xiwVZneFni4ZfslpaxduSRJkiRJHekkiR0H7A6clZlvA/5A1XV4lazGpq5lfOqImBURcyNirqOFSZIkSZJadZLELgGWZObNZf5SqqT28dJNmPLzibJ8KbBdy/YTS1m78tVk5tmZOTUzp06YMGEw70WSJEmStJYbMInNzMeAhyPiTaVof+Bu4AqgZ4ThmcDlZfoK4KgySvF04NnS7fiXwIERsVkZyfjAUiZJkiRJUkc6HZ34M8CFZWTiB4FjqBLgiyPiWOAh4PCy7s+A9wALgRfKumTm8oj4MnBrWe9Lmbm8lnchSWqWa746pM2mL15Wc0Xau2nSrBHblyRJ6lxHSWxmzqf61zi97d/Hugkc1ybOucC5g6ifJEmSJEmrdPJMrCRJkiRJY4JJrCRJkiSpMUxiJUmSJEmNYRIrSZIkSWoMk1hJkiRJUmOYxEqSJEmSGsMkVpIkSZLUGCaxkiRJkqTGMImVJEmSJDWGSawkSZIkqTFMYiVJkiRJjWESK0mSJElqDJNYSZIkSVJjmMRKkiRJkhrDJFaSJEmS1BgmsZIkSZKkxjCJlSRJkiQ1hkmsJEmSJKkxTGIlSZIkSY1hEitJkiRJagyTWEmSJElSY5jESpIkSZIawyRWkiRJktQYJrGSJEmSpMYwiZUkSZIkNYZJrCRJkiSpMUxiJUmSJEmNYRIrSZIkSWoMk1hJkiRJUmN0lMRGxKKI+F1EzI+IuaVs84iYExELys/NSnlExJkRsTAi7oiI3VvizCzrL4iImcPzliRJkiRJa6vB3Il9d2bulplTy/xJwNWZuT1wdZkHOATYvrxmAWdBlfQCs4E9gGnA7J7EV5IkSZKkTnTTnXgGcH6ZPh84tKX8gqzcBIyPiK2Bg4A5mbk8M58G5gAHd7F/SZIkSdI6ptMkNoGrImJeRMwqZVtl5qNl+jFgqzK9LfBwy7ZLSlm7ckmSJEmSOjKuw/X2ysylEfEXwJyIuLd1YWZmRGQdFSpJ8iyASZMm1RFSkiRJkrSW6OhObGYuLT+fAH5M9Uzr46WbMOXnE2X1pcB2LZtPLGXtynvv6+zMnJqZUydMmDC4dyNJkiRJWqsNmMRGxMYR8eqeaeBA4E7gCqBnhOGZwOVl+grgqDJK8XTg2dLt+JfAgRGxWRnQ6cBSJkmSJElSRzrpTrwV8OOI6Fn/B5n5i4i4Fbg4Io4FHgIOL+v/DHgPsBB4ATgGIDOXR8SXgVvLel/KzOW1vRNJkiRJ0lpvwCQ2Mx8Edu2jfBmwfx/lCRzXJta5wLmDr6YkSZIkSZ0P7CRJGiNOn3P/aFeha9MXLxvtKkiSpIbq5v/ESpIkSZI0okxiJUmSJEmNYXdiSRqsa746qrvvpCvuTZNmjUBNJEmSRp53YiVJkiRJjWESK0mSJElqDJNYSZIkSVJjmMRKkiRJkhrDJFaSJEmS1BgmsZIkSZKkxjCJlSRJkiQ1hkmsJEmSJKkxTGIlSZIkSY1hEitJkiRJagyTWEmSJElSY5jESpIkSZIawyRWkiRJktQYJrGSJEmSpMYwiZUkSZIkNYZJrCRJkiSpMUxiJUmSJEmNYRIrSZIkSWoMk1hJkiRJUmOYxEqSJEmSGmPcaFdAklS/6YvPHu0qSJIkDQvvxEqSJEmSGsMkVpIkSZLUGCaxkiRJkqTGMImVJEmSJDVGx0lsRKwXEbdFxJVlfkpE3BwRCyPiRxGxQSnfsMwvLMsnt8Q4uZTfFxEH1f5uJEmSJElrtcGMTvw3wD3Aa8r814HTM/OiiPg2cCxwVvn5dGa+MSKOKOt9KCJ2Ao4Adga2Af4jInbIzD/V9F4krUNOn3P/qO17+uJlo7ZvSZKkdV1Hd2IjYiLwXuA7ZT6A/YBLyyrnA4eW6RllnrJ8/7L+DOCizHwpM/8LWAhMq+E9SJIkSZLWEZ12Jz4D+BywssxvATyTmSvK/BJg2zK9LfAwQFn+bFl/VXkf20iSJEmSNKABk9iIeB/wRGbOG4H6EBGzImJuRMx98sknR2KXkiRJkqSG6ORO7LuAv4qIRcBFVN2IvwmMj4ieZ2onAkvL9FJgO4CyfFNgWWt5H9uskplnZ+bUzJw6YcKEQb8hSZIkSdLaa8AkNjNPzsyJmTmZamCmX2XmkcA1wGFltZnA5WX6ijJPWf6rzMxSfkQZvXgKsD1wS23vRJIkSZK01hvM6MS9fR64KCL+EbgNOKeUnwN8LyIWAsupEl8y866IuBi4G1gBHOfIxJIkSZKkwRhUEpuZ1wLXlukH6WN04cx8Efhgm+2/AnxlsJWUJEmSJAk6H51YkiRJkqRRZxIrSZIkSWoMk1hJkiRJUmOYxEqSJEmSGsMkVpIkSZLUGCaxkiRJkqTGMImVJEmSJDWGSawkSZIkqTFMYiVJkiRJjTFutCsgSdJYNH3x2aNdhQHdNGnWaFdBkqQRZxIrSVJDjfVE2yRbkjQcTGIlSdKYdvqc+0e7CqPmxAN2GO0qSNKY4zOxkiRJkqTGMImVJEmSJDWGSawkSZIkqTF8JlbS2HPNVwdcZfriZSNQEUmSJI013omVJEmSJDWGSawkSZIkqTFMYiVJkiRJjWESK0mSJElqDJNYSZIkSVJjmMRKkiRJkhrDJFaSJEmS1BgmsZIkSZKkxjCJlSRJkiQ1hkmsJEmSJKkxTGIlSZIkSY1hEitJkiRJagyTWEmSJElSYwyYxEbERhFxS0TcHhF3RcSppXxKRNwcEQsj4kcRsUEp37DMLyzLJ7fEOrmU3xcRBw3bu5IkSZIkrZU6uRP7ErBfZu4K7AYcHBHTga8Dp2fmG4GngWPL+scCT5fy08t6RMROwBHAzsDBwL9GxHo1vhdJkiRJ0lpuwCQ2K8+X2fXLK4H9gEtL+fnAoWV6RpmnLN8/IqKUX5SZL2XmfwELgWl1vAlJkiRJ0rqho2diI2K9iJgPPAHMAR4AnsnMFWWVJcC2ZXpb4GGAsvxZYIvW8j62kSRJkiRpQB0lsZn5p8zcDZhIdfd0x+GqUETMioi5ETH3ySefHK7dSJIkSZIaaFCjE2fmM8A1wJ7A+IgYVxZNBJaW6aXAdgBl+abAstbyPrZp3cfZmTk1M6dOmDBhMNWTJEmSJK3lOhmdeEJEjC/TrwQOAO6hSmYPK6vNBC4v01eUecryX2VmlvIjyujFU4DtgVtqeh+SJEmSpHXAuIFXYWvg/DKS8CuAizPzyoi4G7goIv4RuA04p6x/DvC9iFgILKcakZjMvCsiLgbuBlYAx2Xmn+p9O5IkSZKktdmASWxm3gG8rY/yB+ljdOHMfBH4YJtYXwG+MvhqSpIkSZLU2Z1YSZIkjYLT59w/2lUYNScesMNoV0HSGDWogZ0kSZIkSRpNJrGSJEmSpMawO7HUYGtrN7Ppi5eNdhUkSZI0RnknVpIkSZLUGCaxkiRJkqTGMImVJEmSJDWGSawkSZIkqTFMYiVJkiRJjWESK0mSJElqDJNYSZIkSVJjmMRKkiRJkhrDJFaSJEmS1BgmsZIkSZKkxhg32hWQJElrp+mLzx7tKgzopkmzRrsKkqRB8k6sJEmSJKkxTGIlSZIkSY1hEitJkiRJagyTWEmSJElSY5jESpIkSZIawyRWkiRJktQYJrGSJEmSpMYwiZUkSZIkNYZJrCRJkiSpMUxiJUmSJEmNYRIrSZIkSWoMk1hJkiRJUmOYxEqSJEmSGsMkVpIkSZLUGAMmsRGxXURcExF3R8RdEfE3pXzziJgTEQvKz81KeUTEmRGxMCLuiIjdW2LNLOsviIiZw/e2JEmSJElro07uxK4APpuZOwHTgeMiYifgJODqzNweuLrMAxwCbF9es4CzoEp6gdnAHsA0YHZP4itJkiRJUifGDbRCZj4KPFqmn4uIe4BtgRnAvmW184Frgc+X8gsyM4GbImJ8RGxd1p2TmcsBImIOcDDwwxrfj6QBTF989mhXQZIkSRqyQT0TGxGTgbcBNwNblQQX4DFgqzK9LfBwy2ZLSlm7ckmSJEmSOjLgndgeEbEJ8O/ACZn5+4hYtSwzMyKyjgpFxCyqbshMmjSpjpCSJElqmNPn3D/aVRg1Jx6ww2hXQRrTOroTGxHrUyWwF2bmZaX48dJNmPLziVK+FNiuZfOJpaxd+Woy8+zMnJqZUydMmDCY9yJJkiRJWst1MjpxAOcA92TmP7csugLoGWF4JnB5S/lRZZTi6cCzpdvxL4EDI2KzMqDTgaVMkiRJkqSOdNKd+F3Ax4DfRcT8Uvb3wNeAiyPiWOAh4PCy7GfAe4CFwAvAMQCZuTwivgzcWtb7Us8gT5IkSZIkdaKT0YlvAKLN4v37WD+B49rEOhc4dzAVlCRJkiSpx6BGJ5YkSZIkaTSZxEqSJEmSGsMkVpIkSZLUGCaxkiRJkqTGMImVJEmSJDWGSawkSZIkqTFMYiVJkiRJjWESK0mSJElqDJNYSZIkSVJjmMRKkiRJkhrDJFaSJEmS1BgmsZIkSZKkxhg32hVQPU6fc/9oV2HUnHjADqNdhdVd89UR29X0xctGbF+SJEnSWOCdWEmSJElSY5jESpIkSZIawyRWkiRJktQYJrGSJEmSpMZwYCdJkrTOmr747NGuQr9umjRrtKsgSWOOd2IlSZIkSY1hEitJkiRJagy7E0uSJI1RY727M9jlWdLI806sJEmSJKkxTGIlSZIkSY1hEitJkiRJagyTWEmSJElSY5jESpIkSZIaw9GJ1Xinz7l/tKuwmumLl412FSRJkqS1lkmsJEmSNIaMtT/Qj6QTD9hhtKugBrA7sSRJkiSpMQZMYiPi3Ih4IiLubCnbPCLmRMSC8nOzUh4RcWZELIyIOyJi95ZtZpb1F0TEzOF5O5IkSZKktVknd2K/Cxzcq+wk4OrM3B64uswDHAJsX16zgLOgSnqB2cAewDRgdk/iK0mSJElSpwZMYjPzemB5r+IZwPll+nzg0JbyC7JyEzA+IrYGDgLmZObyzHwamMOaibEkSZIkSf0a6sBOW2Xmo2X6MWCrMr0t8HDLektKWbtyaVCmLz57tKsgSZIkaRR1PTpxZmZEZB2VAYiIWVRdkZk0aVJdYSVJkjQMxvofmG+aNGu0q6BBcGRmdWKooxM/XroJU34+UcqXAtu1rDexlLUrX0Nmnp2ZUzNz6oQJE4ZYPUmSJEnS2mioSewVQM8IwzOBy1vKjyqjFE8Hni3djn8JHBgRm5UBnQ4sZZIkSZIkdWzA7sQR8UNgX2DLiFhCNcrw14CLI+JY4CHg8LL6z4D3AAuBF4BjADJzeUR8Gbi1rPelzOw9WJQkSZIkSf0aMInNzA+3WbR/H+smcFybOOcC5w6qdoOwLveflyRJkqR1xVC7E0uSJEmSNOK6Hp1YnRvro/eBI/hJkiRJGtu8EytJkiRJagzvxEqSJEnSKHOMn86ZxGo1TejyLEmSJGndZXdiSZIkSVJjrDV3Yr2DKEmSJElrP+/ESpIkSZIaY625EytJkiQ10VjvUei/YNRY451YSZIkSVJjmMRKkiRJkhrDJFaSJEmS1Bg+EytJkqS11lh/3lTS4HknVpIkSZLUGN6JlSRJktRWE+5mO4LyusU7sZIkSZKkxjCJlSRJkiQ1hkmsJEmSJKkxTGIlSZIkSY1hEitJkiRJagxHJ5YkSZKkYeQIz/UyiZUkSZLUaE1IElUfuxNLkiRJkhrDJFaSJEmS1BgmsZIkSZKkxvCZWEmSJElaxzXpuWLvxEqSJEmSGsMkVpIkSZLUGCaxkiRJkqTGGPEkNiIOjoj7ImJhRJw00vuXJEmSJDXXiCaxEbEe8P8AhwA7AR+OiJ1Gsg6SJEmSpOYa6Tux04CFmflgZv4RuAiYMcJ1kCRJkiQ11EgnsdsCD7fMLyllkiRJkiQNaMz9n9iImAXMKrMvRcSdw7SrLYGnjDussZsWdzhjNy3ucMY27vDHblrc4YzdtLjDGbtpcYczdtPiDmfspsUdzthNizucsZsWdzhjG3f4Y79psBuMdBK7FNiuZX5iKVslM88GzgaIiLmZOXU4KjJcsZsWdzhjNy3ucMZuWtzhjG3c4Y/dtLjDGbtpcYczdtPiDmfspsUdzthNizucsZsWdzhjNy3ucMY27vDHjoi5g91mpLsT3wpsHxFTImID4AjgihGugyRJkiSpoUb0TmxmroiITwO/BNYDzs3Mu0ayDpIkSZKk5hrxZ2Iz82fAzzpc/exhrMpwxW5a3OGM3bS4wxm7aXGHM7Zxhz920+IOZ+ymxR3O2E2LO5yxmxZ3OGM3Le5wxm5a3OGM3bS4wxnbuMMfe9BxIzOHoyKSJEmSJNVupJ+JlSRJkiRpyMZsEhsRB0fEfRGxMCJOqinmdhFxTUTcHRF3RcTf1BG3Jf56EXFbRFxZc9zxEXFpRNwbEfdExJ41xT2xHIc7I+KHEbFRF7HOjYgnWv8lUkRsHhFzImJB+blZTXG/UY7FHRHx44gYX0fclmWfjYiMiC0HG7e/2BHxmVLvuyLif9cRNyJ2i4ibImJ+RMyNiGlDiNvn56Lb9usnbh3t1+9neaht2F/cbtqvn2NRR/ttFBG3RMTtJfappXxKRNxcvkN/VAbTqyPuheW7+c7yO7l+HXFblp8ZEc8PJmYHdY6I+EpE3B/Vd+jxNcXdPyJ+W9rvhoh44xDrvdq5o9u26yduV23XX+yW8iG3X5s6d9V2/cStq+0WRcTvej7DpayOc19fcev47lwjbsuybs99fcaO7s99fR2LOr4717i2qqPt+oldR/u1vR7spv3axe227drF7rb9IuJNZdue1+8j4oRu26+fuHW0XZ+xW5YP9bqlbdxu2q+fY1HHZ+/E6JV/xFDOe5k55l5Ugz49ALwe2AC4HdiphrhbA7uX6VcD99cRtyX+3wI/AK6s+XicD3y8TG8AjK8h5rbAfwGvLPMXA0d3EW8fYHfgzpay/w2cVKZPAr5eU9wDgXFl+ut1xS3l21ENPPYQsGWNx+LdwH8AG5b5v6gp7lXAIWX6PcC1Q4jb5+ei2/brJ24d7df2s9xNG/ZT567ar5+4dbRfAJuU6fWBm4Hp5TN9RCn/NvDJmuK+pywL4Id1xS3zU4HvAc8P9jgMUOdjgAuAVwyx/drFvR94cyn/FPDdIdZ7tXNHt23XT9yu2q6/2HW0X5s6d9V2/cStq+0W0et7hnrOfX3FreO7c424pbyOc19fda7j3NdX3Dq+O9e4tqqj7fqJXUf79Xk92G37talv123XT+yu268l/nrAY8Dr6mq/PuJ23XbtYtfRfm3qXEv79RG3q7ajTf7BEM57Y/VO7DRgYWY+mJl/BC4CZnQbNDMfzczflunngHuoDmbXImIi8F7gO3XEa4m7KVXycg5AZv4xM5+pKfw44JURMQ54FfDIUANl5vXA8l7FM6i+vCg/D60jbmZelZkryuxNVP9vuOu4xenA54AhPyzeJvYnga9l5ktlnSdqipvAa8r0pgyhDfv5XHTVfu3i1tR+/X2Wh9yG/cTtqv36iVtH+2Vm9tz5Wr+8EtgPuLSUD6X9+oybmT8ryxK4hUG2X7u4EbEe8A2qthuSfo7FJ4EvZebKst5g269d3K7br/e5IyKCLtuur7jlfXTVdv3FrqP92pxHu2q7fuJ23Xb96Prc15c6vjv70fW5r42uz31tdNV+/Vxbdd127WJ3234DXA8Ouf36idt12/UTu87P3/7AA5n5EPV+9lbFHYbPXmudob7PX2vcOj97rXHraLve+cejDOG8N1aT2G2Bh1vml1BTstkjIiYDb6P6i3odzqD6BVxZU7weU4AngfOi6gr1nYjYuNugmbkUOA1YTPXL82xmXtVt3F62ysxHy/RjwFY1xwf4n8DP6wgUETOApZl5ex3xetkB2Lt0lbguIt5RU9wTgG9ExMNU7XlyN8F6fS5qa79+Pm9dt19r7DrbsFeda2u/XnFPoIb2i6qr5HzgCWAOVU+WZ1pOukP6Du0dNzNvblm2PvAx4Bc1xf00cEXL79yQtIn9BuBDpevTzyNi+5rifhz4WUQsoToWXxtClc9g9XPHFtTQdn3EXaWbtusndh3t11fcrtuuTdw62g6qC7qrImJeRMwqZXV8d/YVt9VQvzvXiFvj92Zfda7ju7OvuCfQ3Xdnu2urOtquk+u2obRfn3FraL929a2j7drFPoH6rl2OoOpZAvVed7bGbVXHdeeq2DVfe7bWuc7rzta4J9BF2/WVfwDzGMJ5b6wmscMqIjYB/h04ITN/X0O89wFPZOa8riu3pnFUXUjPysy3AX+g6iLRlaieE5hB9QWzDbBxRHy027jtlL/81/oX3oj4ArACuLCGWK8C/h74Yrex2hgHbE7VBfF/AReXOy7d+iRwYmZuB5xI+WvnUPT3ueim/drFraP9WmOXWLW0YR91rqX9+ohbS/tl5p8yczeqvw5PA3YcSpyB4kbEW1oW/ytwfWb+uoa4+wAfBL41THXeEHgxM6cC/wacW1PcE4H3ZOZE4DzgnwcTc7jOHR3EHXLb9RU7Irahy/brp85dtV0/cbtquxZ7ZebuwCHAceV3eZUuvjvbxu3yu7OvuHWd+/qKXcd3Z19xu/3uHPDaqou26zd2F+3XV9xT6L792tW3jrZrF7uWc19Uz03+FXBJ72VdXrf0Gbem65ZVseu89uyjznVdt/SO21Xb9ZV/AAcPtl7AmH0mdk/gly3zJwMn1xR7fap+539bY32/SvVXg0VUf/l5Afh+TbFfCyxqmd8b+GkNcT8InNMyfxTwr13GnMzqz2veB2xdprcG7qsjbik7GrgReFUd9QXeSnWHZVF5raD6K9FrazoWvwDe3TL/ADChhrjPwqp/lRXA74dY3zU+F3W0X7vPW03tt1rsutqwzbHouv3axK2l/Xrt54tUJ6yn+PMzPKt9p3YR9+/K9GzgJ5TnFGuIO5vqu7On7VZSPVJSR+y/A+4FprQc52drOsYPtJRNAu4eZJy+zh0Xdtt2beJ+v462axP76W7br12du227NnF/2m3btdnXKeX3rZZzX++4Zfpouvzu7BX3H6jx3NfHsajl3NdH3K6+O2lzbVVH27WL3W37tYl7dbft18+xqOO81y52XdcuM4CrWubruu5cLW63bdcuNjVee/ZxLOq67uwdt9vPXl/5x1kM4bw3Vu/E3gpsH9VIVRtQ3ca+otug5S8Q5wD3ZOZQ/+q6hsw8OTMnZuZkqrr+KjNruauZmY8BD0fEm0rR/sDdNYReDEyPiFeV47I/1XN6dboCmFmmZwKX1xE0Ig6m6hr2V5n5Qh0xM/N3mfkXmTm5tOMSqoF4HqsjPtVF47sBImIHqsENnqoh7iPAX5bp/YAFgw3Qz+eiq/ZrF7eO9usrdh1t2M+x+AldtF8/cetovwlRRkqMiFcCB1B9lq8BDiurDaX9+op7b0R8HDgI+HCW5xRriDsvM1/b0nYvZOagR4ttV2da2o/qeN9fQ9x7gE3L7wMtZR1rc+44ki7brt05qdu26yf2Zt22Xz/n0Z/QRdv1FZfqoqyrtgMoXTlf3TNNNfjLnXT/3dln3G6/O9vEvbWOc18/x+IndPfd2S5uV9+d/VxbdX3d0i52t+3XJu5vu22/fo7FT+jyuqWf2F2f+4oPs3qX37quO1eLW/N156rYNV979j4WP6Ge687ecbttu77yj7sZynlvsBn5SL2oRry6n+ovB1+oKeZeVF0L7gDml9d7aq73vtQ/OvFuwNxS758Am9UU91SqC7w7qUaU3LCLWD+k6tv+MtWH8FiqZ7uuLr/g/wFsXlPchVTPTPe04bfriNtr+SKGPkJjX3XegOquwp3Ab4H9aoq7F9WzBLdTPWP59iHE7fNz0W379RO3jvYb8LM8lDbsp85dtV8/cetov12A20rsO4EvlvLXUw3es5CqG9CgPt/9xF1B9b3c8z6+WEfcXusMdXTidnUeT/XX/99R/SV915rivr/EvB24Fnj9UOpdYu3Ln0fO7art+onbVdv1F7uO9mtT567arp+4Xbddaafby+suyrUK3X93tovb1Xdnu7i91lnE0Ea3bVfnbr8728Wt47tzN3pdW3XbdgPEruPct0bcmtqvr/p2fd3ST+w62m9jYBmwaUtZHdedfcXtuu3axa6p/fqqcx3XnX3FraPt1sg/GMJ5r+d2sCRJkiRJY95Y7U4sSZIkSdIaTGIlSZIkSY1hEitJkiRJagyTWEmSJElSY5jESpIkSZIawyRWkiRJktQYJrGSJEmSpMYwiZUkSZIkNcb/D1KNcfqlL2qWAAAAAElFTkSuQmCC\n",
      "text/plain": [
       "<Figure size 1152x360 with 1 Axes>"
      ]
     },
     "metadata": {
      "needs_background": "light"
     },
     "output_type": "display_data"
    },
    {
     "data": {
      "image/png": "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\n",
      "text/plain": [
       "<Figure size 1152x360 with 1 Axes>"
      ]
     },
     "metadata": {
      "needs_background": "light"
     },
     "output_type": "display_data"
    }
   ],
   "source": [
    "for i in range(3):\n",
    "    plt.figure(figsize=(16,5))\n",
    "    plt.xlim(xmin=0, xmax=80)\n",
    "    plt.hist(df[ct_columns[i]], bins=60, alpha=.5, label='Non-unique')\n",
    "    plt.hist(df[uct_columns[i]], bins=60, alpha=.5, label='Unique')\n",
    "    plt.xticks(list(range(0,82,2)))\n",
    "    plt.title(f\"Word counts in {columns[i] if i<2 else 'both columns combined'}\")\n",
    "    plt.legend(loc='upper right')\n",
    "    plt.show()"
   ]
  },
  {
   "cell_type": "markdown",
   "metadata": {},
   "source": [
    "There seems to be no relevant difference."
   ]
  },
  {
   "cell_type": "markdown",
   "metadata": {},
   "source": [
    "### Garbage articles\n",
    "\n",
    "Looking through some data points we noticed that many of these are \"puzzle hints\" or \"quotations of the day\", both of which we might want to consider removing from the dataset if there are too many of them. Let us count them."
   ]
  },
  {
   "cell_type": "code",
   "execution_count": 21,
   "metadata": {},
   "outputs": [
    {
     "data": {
      "text/plain": [
       "13                            feeling stuck on today puzzle we can help\n",
       "14       our columnist reviews the day puzzle warning contains spoilers\n",
       "132                           feeling stuck on today puzzle we can help\n",
       "133      our columnist reviews the day puzzle warning contains spoilers\n",
       "274                           feeling stuck on today puzzle we can help\n",
       "                                      ...                              \n",
       "42055                         feeling stuck on today puzzle we can help\n",
       "42213                         feeling stuck on today puzzle we can help\n",
       "42297                         feeling stuck on today puzzle we can help\n",
       "42360                         feeling stuck on today puzzle we can help\n",
       "42487                         feeling stuck on today puzzle we can help\n",
       "Name: abstract, Length: 1073, dtype: object"
      ]
     },
     "execution_count": 21,
     "metadata": {},
     "output_type": "execute_result"
    }
   ],
   "source": [
    "df.abstract.loc[df.abstract.apply(lambda x: 'puzzle' in x)]"
   ]
  },
  {
   "cell_type": "code",
   "execution_count": 22,
   "metadata": {},
   "outputs": [
    {
     "data": {
      "text/plain": [
       "4           quotation of the day for monday may  \n",
       "127        quotation of the day for tuesday may  \n",
       "282      quotation of the day for wednesday may  \n",
       "421       quotation of the day for thursday may  \n",
       "555         quotation of the day for friday may  \n",
       "                           ...                   \n",
       "42045       quotation of the day for friday may  \n",
       "42207     quotation of the day for saturday may  \n",
       "42283       quotation of the day for sunday may  \n",
       "42413       quotation of the day for monday may  \n",
       "42480      quotation of the day for tuesday may  \n",
       "Name: abstract, Length: 362, dtype: object"
      ]
     },
     "execution_count": 22,
     "metadata": {},
     "output_type": "execute_result"
    }
   ],
   "source": [
    "df.abstract.loc[df.abstract.apply(lambda x: 'quotation' in x)]"
   ]
  },
  {
   "cell_type": "code",
   "execution_count": 23,
   "metadata": {},
   "outputs": [
    {
     "name": "stdout",
     "output_type": "stream",
     "text": [
      "There are a total of 1073 abstracts containding the word \"puzzle\", which amounts to 2.53% of all abstracts.\n",
      "There are a total of 362 abstracts containding the word \"quotation\", which amounts to 0.85% of all abstracts.\n"
     ]
    }
   ],
   "source": [
    "garbage_words = ['puzzle', 'quotation']\n",
    "\n",
    "for word in garbage_words:\n",
    "    n = df.abstract.loc[df.abstract.apply(lambda x: word in x)].count()\n",
    "    print(f'There are a total of {n} abstracts containding the word \"{word}\", which amounts to {(n*100/df.shape[0]):.2f}% of all abstracts.')\n",
    "\n",
    "# df.abstract.apply(lambda x: 1 if 'quotation' in x else 0).describe()"
   ]
  },
  {
   "cell_type": "markdown",
   "metadata": {},
   "source": [
<<<<<<< Updated upstream
    "Zumpappero"
=======
    "There are not too many of these so let's remove them. "
   ]
  },
  {
   "cell_type": "code",
   "execution_count": 24,
   "metadata": {},
   "outputs": [
    {
     "name": "stdout",
     "output_type": "stream",
     "text": [
      "<class 'pandas.core.frame.DataFrame'>\n",
      "Int64Index: 42479 entries, 0 to 42624\n",
      "Data columns (total 27 columns):\n",
      " #   Column            Non-Null Count  Dtype  \n",
      "---  ------            --------------  -----  \n",
      " 0   Unnamed: 0        42479 non-null  int64  \n",
      " 1   abstract          42479 non-null  object \n",
      " 2   web_url           42479 non-null  object \n",
      " 3   snippet           42318 non-null  object \n",
      " 4   lead_paragraph    42479 non-null  object \n",
      " 5   print_section     25642 non-null  object \n",
      " 6   print_page        25642 non-null  float64\n",
      " 7   source            42479 non-null  object \n",
      " 8   multimedia        42479 non-null  object \n",
      " 9   headline          42479 non-null  object \n",
      " 10  keywords          42479 non-null  object \n",
      " 11  pub_date          42479 non-null  object \n",
      " 12  document_type     42479 non-null  object \n",
      " 13  news_desk         42479 non-null  object \n",
      " 14  section_name      42473 non-null  object \n",
      " 15  subsection_name   16867 non-null  object \n",
      " 16  byline            42479 non-null  object \n",
      " 17  type_of_material  42479 non-null  object \n",
      " 18  _id               42479 non-null  object \n",
      " 19  word_count        42479 non-null  int64  \n",
      " 20  uri               42479 non-null  object \n",
      " 21  abstract_ct       42479 non-null  int64  \n",
      " 22  lead_par_ct       42479 non-null  int64  \n",
      " 23  total_ct          42479 non-null  int64  \n",
      " 24  abstract_uct      42479 non-null  int64  \n",
      " 25  lead_par_uct      42479 non-null  int64  \n",
      " 26  total_uct         42479 non-null  int64  \n",
      "dtypes: float64(1), int64(8), object(18)\n",
      "memory usage: 9.1+ MB\n"
     ]
    }
   ],
   "source": [
    "df.info()"
   ]
  },
  {
   "cell_type": "code",
   "execution_count": 50,
   "metadata": {},
   "outputs": [],
   "source": [
    "#df = df.dropna(subset=columns)\n",
    "\n",
    "puzzle_indices_to_drop = list(df.abstract.loc[df.abstract.apply(lambda x: 'puzzle' in x)].index)\n",
    "quotation_indices_to_drop = list(df.abstract.loc[df.abstract.apply(lambda x: 'quotation' in x)].index)\n",
    "\n",
    "df = df.drop(puzzle_indices_to_drop + quotation_indices_to_drop)"
   ]
  },
  {
   "cell_type": "code",
   "execution_count": 51,
   "metadata": {},
   "outputs": [
    {
     "name": "stdout",
     "output_type": "stream",
     "text": [
      "<class 'pandas.core.frame.DataFrame'>\n",
      "Int64Index: 41045 entries, 0 to 42624\n",
      "Data columns (total 27 columns):\n",
      " #   Column            Non-Null Count  Dtype  \n",
      "---  ------            --------------  -----  \n",
      " 0   Unnamed: 0        41045 non-null  int64  \n",
      " 1   abstract          41045 non-null  object \n",
      " 2   web_url           41045 non-null  object \n",
      " 3   snippet           40884 non-null  object \n",
      " 4   lead_paragraph    41045 non-null  object \n",
      " 5   print_section     25265 non-null  object \n",
      " 6   print_page        25265 non-null  float64\n",
      " 7   source            41045 non-null  object \n",
      " 8   multimedia        41045 non-null  object \n",
      " 9   headline          41045 non-null  object \n",
      " 10  keywords          41045 non-null  object \n",
      " 11  pub_date          41045 non-null  object \n",
      " 12  document_type     41045 non-null  object \n",
      " 13  news_desk         41045 non-null  object \n",
      " 14  section_name      41039 non-null  object \n",
      " 15  subsection_name   16860 non-null  object \n",
      " 16  byline            41045 non-null  object \n",
      " 17  type_of_material  41045 non-null  object \n",
      " 18  _id               41045 non-null  object \n",
      " 19  word_count        41045 non-null  int64  \n",
      " 20  uri               41045 non-null  object \n",
      " 21  abstract_ct       41045 non-null  int64  \n",
      " 22  lead_par_ct       41045 non-null  int64  \n",
      " 23  total_ct          41045 non-null  int64  \n",
      " 24  abstract_uct      41045 non-null  int64  \n",
      " 25  lead_par_uct      41045 non-null  int64  \n",
      " 26  total_uct         41045 non-null  int64  \n",
      "dtypes: float64(1), int64(8), object(18)\n",
      "memory usage: 8.8+ MB\n"
     ]
    }
   ],
   "source": [
    "df.info()"
>>>>>>> Stashed changes
   ]
  },
  {
   "cell_type": "markdown",
<<<<<<< Updated upstream
=======
   "metadata": {},
   "source": [
    "Let's plot the histograms from above again to see if there is any significant change. "
   ]
  },
  {
   "cell_type": "code",
   "execution_count": 53,
   "metadata": {},
   "outputs": [
    {
     "data": {
      "image/png": "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\n",
      "text/plain": [
       "<Figure size 1152x360 with 1 Axes>"
      ]
     },
     "metadata": {
      "needs_background": "light"
     },
     "output_type": "display_data"
    },
    {
     "data": {
      "image/png": "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\n",
      "text/plain": [
       "<Figure size 1152x360 with 1 Axes>"
      ]
     },
     "metadata": {
      "needs_background": "light"
     },
     "output_type": "display_data"
    },
    {
     "data": {
      "image/png": "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\n",
      "text/plain": [
       "<Figure size 1152x360 with 1 Axes>"
      ]
     },
     "metadata": {
      "needs_background": "light"
     },
     "output_type": "display_data"
    }
   ],
   "source": [
    "for i in range(3):\n",
    "    plt.figure(figsize=(16,5))\n",
    "    plt.xlim(xmin=0, xmax=80)\n",
    "    plt.hist(df[ct_columns[i]], bins=60, alpha=.5, label='Non-unique')\n",
    "    plt.hist(df[uct_columns[i]], bins=60, alpha=.5, label='Unique')\n",
    "    plt.xticks(list(range(0,82,2)))\n",
    "    plt.title(f\"Word counts in {columns[i] if i<2 else 'both columns combined'}\")\n",
    "    plt.legend(loc='upper right')\n",
    "    plt.show()"
   ]
  },
  {
   "cell_type": "markdown",
   "metadata": {},
   "source": [
    "There does not seem to be much of a change so we may as well leave puzzles and quotations out of the dataset. "
   ]
  },
  {
   "cell_type": "code",
   "execution_count": null,
>>>>>>> Stashed changes
   "metadata": {},
   "outputs": [],
   "source": [
    "# Test test test"
   ]
  }
 ],
 "metadata": {
  "kernelspec": {
   "display_name": "Python 3 (ipykernel)",
   "language": "python",
   "name": "python3"
  },
  "language_info": {
   "codemirror_mode": {
    "name": "ipython",
    "version": 3
   },
   "file_extension": ".py",
   "mimetype": "text/x-python",
   "name": "python",
   "nbconvert_exporter": "python",
   "pygments_lexer": "ipython3",
   "version": "3.9.12"
  }
 },
 "nbformat": 4,
 "nbformat_minor": 2
}
